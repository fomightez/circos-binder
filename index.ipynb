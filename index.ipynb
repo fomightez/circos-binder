{
 "cells": [
  {
   "cell_type": "markdown",
   "metadata": {},
   "source": [
    "# Circos running in Binder"
   ]
  },
  {
   "cell_type": "markdown",
   "metadata": {},
   "source": [
    "Run the first step in this notebook to install Circos.  \n",
    "Run the second and third step to run a demo to verify it is installed."
   ]
  },
  {
   "cell_type": "code",
   "execution_count": null,
   "metadata": {},
   "outputs": [],
   "source": [
    "%%bash\n",
    "curl -O http://circos.ca/distribution/circos-0.69-6.tgz\n",
    "tar xvfz circos-0.69-6.tgz\n",
    "rm circos-0.69-6.tgz"
   ]
  },
  {
   "cell_type": "markdown",
   "metadata": {},
   "source": [
    "### Demonstrate it works by running example code"
   ]
  },
  {
   "cell_type": "code",
   "execution_count": null,
   "metadata": {},
   "outputs": [],
   "source": [
    "%%bash\n",
    "cd circos-0.69-6/example\n",
    "./run"
   ]
  },
  {
   "cell_type": "markdown",
   "metadata": {},
   "source": [
    "### View generated demo image"
   ]
  },
  {
   "cell_type": "code",
   "execution_count": null,
   "metadata": {},
   "outputs": [],
   "source": [
    "from IPython.display import Image\n",
    "Image(\"circos-0.69-6/example/circos.png\")"
   ]
  },
  {
   "cell_type": "markdown",
   "metadata": {},
   "source": [
    "Once it is verified working, use it to develop Circos plots. (Should `!cd circos-0.69-6` first.)  \n",
    "However, does below mean some things will not work. Or just failed because I didn't point to a `.conf` file? I have a feeling since the complicated demo file worked that it is a misleading error report or not as dire as stated, maybe? (I thought no error when trying to make the SVG file indicated it had worked but when I tried downloading and using the SVG, it failed as it seemed truncated at line 1552, but that may be due to a computational output error or ran out of space in Binder?) At least, it is good to keep in mind there may be some issues."
   ]
  },
  {
   "cell_type": "code",
   "execution_count": 33,
   "metadata": {},
   "outputs": [
    {
     "name": "stdout",
     "output_type": "stream",
     "text": [
      "\n",
      "*** REQUIRED MODULE(S) MISSING OR OUT-OF-DATE ***\n",
      "\n",
      "You are missing one or more Perl modules, require newer versions, or some modules failed to load. Use CPAN to install it as described in this tutorial\n",
      "\n",
      "http://www.circos.ca/documentation/tutorials/configuration/perl_and_modules\n",
      "\n",
      "missing Font::TTF::Font\n",
      "  error Can't locate Font/TTF/Font.pm in @INC (you may need to install the Font::TTF::Font module) (@INC contains: /home/jovyan/circos-0.69-6/bin/lib /home/jovyan/circos-0.69-6/bin/../lib /home/jovyan/circos-0.69-6/bin /etc/perl /usr/local/lib/x86_64-linux-gnu/perl/5.26.0 /usr/local/share/perl/5.26.0 /usr/lib/x86_64-linux-gnu/perl5/5.26 /usr/share/perl5 /usr/lib/x86_64-linux-gnu/perl/5.26 /usr/share/perl/5.26 /usr/local/lib/site_perl /usr/lib/x86_64-linux-gnu/perl-base) at (eval 22) line 1.\n",
      "missing Config::General\n",
      "  error Can't locate Config/General.pm in @INC (you may need to install the Config::General module) (@INC contains: /home/jovyan/circos-0.69-6/bin/lib /home/jovyan/circos-0.69-6/bin/../lib /home/jovyan/circos-0.69-6/bin /etc/perl /usr/local/lib/x86_64-linux-gnu/perl/5.26.0 /usr/local/share/perl/5.26.0 /usr/lib/x86_64-linux-gnu/perl5/5.26 /usr/share/perl5 /usr/lib/x86_64-linux-gnu/perl/5.26 /usr/share/perl/5.26 /usr/local/lib/site_perl /usr/lib/x86_64-linux-gnu/perl-base) at (eval 7) line 1.\n",
      "missing Clone\n",
      "  error Can't locate Clone.pm in @INC (you may need to install the Clone module) (@INC contains: /home/jovyan/circos-0.69-6/bin/lib /home/jovyan/circos-0.69-6/bin/../lib /home/jovyan/circos-0.69-6/bin /etc/perl /usr/local/lib/x86_64-linux-gnu/perl/5.26.0 /usr/local/share/perl/5.26.0 /usr/lib/x86_64-linux-gnu/perl5/5.26 /usr/share/perl5 /usr/lib/x86_64-linux-gnu/perl/5.26 /usr/share/perl/5.26 /usr/local/lib/site_perl /usr/lib/x86_64-linux-gnu/perl-base) at (eval 6) line 1.\n",
      "missing Math::Bezier\n",
      "  error Can't locate Math/Bezier.pm in @INC (you may need to install the Math::Bezier module) (@INC contains: /home/jovyan/circos-0.69-6/bin/lib /home/jovyan/circos-0.69-6/bin/../lib /home/jovyan/circos-0.69-6/bin /etc/perl /usr/local/lib/x86_64-linux-gnu/perl/5.26.0 /usr/local/share/perl/5.26.0 /usr/lib/x86_64-linux-gnu/perl5/5.26 /usr/share/perl5 /usr/lib/x86_64-linux-gnu/perl/5.26 /usr/share/perl/5.26 /usr/local/lib/site_perl /usr/lib/x86_64-linux-gnu/perl-base) at (eval 29) line 1.\n",
      "missing GD\n",
      "  error Can't locate GD.pm in @INC (you may need to install the GD module) (@INC contains: /home/jovyan/circos-0.69-6/bin/lib /home/jovyan/circos-0.69-6/bin/../lib /home/jovyan/circos-0.69-6/bin /etc/perl /usr/local/lib/x86_64-linux-gnu/perl/5.26.0 /usr/local/share/perl/5.26.0 /usr/lib/x86_64-linux-gnu/perl5/5.26 /usr/share/perl5 /usr/lib/x86_64-linux-gnu/perl/5.26 /usr/share/perl/5.26 /usr/local/lib/site_perl /usr/lib/x86_64-linux-gnu/perl-base) at (eval 23) line 1.\n",
      "missing List::MoreUtils\n",
      "  error Can't locate List/MoreUtils.pm in @INC (you may need to install the List::MoreUtils module) (@INC contains: /home/jovyan/circos-0.69-6/bin/lib /home/jovyan/circos-0.69-6/bin/../lib /home/jovyan/circos-0.69-6/bin /etc/perl /usr/local/lib/x86_64-linux-gnu/perl/5.26.0 /usr/local/share/perl/5.26.0 /usr/lib/x86_64-linux-gnu/perl5/5.26 /usr/share/perl5 /usr/lib/x86_64-linux-gnu/perl/5.26 /usr/share/perl/5.26 /usr/local/lib/site_perl /usr/lib/x86_64-linux-gnu/perl-base) at (eval 27) line 1.\n",
      "missing GD::Polyline\n",
      "  error Can't locate GD/Polyline.pm in @INC (you may need to install the GD::Polyline module) (@INC contains: /home/jovyan/circos-0.69-6/bin/lib /home/jovyan/circos-0.69-6/bin/../lib /home/jovyan/circos-0.69-6/bin /etc/perl /usr/local/lib/x86_64-linux-gnu/perl/5.26.0 /usr/local/share/perl/5.26.0 /usr/lib/x86_64-linux-gnu/perl5/5.26 /usr/share/perl5 /usr/lib/x86_64-linux-gnu/perl/5.26 /usr/share/perl/5.26 /usr/local/lib/site_perl /usr/lib/x86_64-linux-gnu/perl-base) at (eval 24) line 1.\n",
      "missing Regexp::Common\n",
      "  error Can't locate Regexp/Common.pm in @INC (you may need to install the Regexp::Common module) (@INC contains: /home/jovyan/circos-0.69-6/bin/lib /home/jovyan/circos-0.69-6/bin/../lib /home/jovyan/circos-0.69-6/bin /etc/perl /usr/local/lib/x86_64-linux-gnu/perl/5.26.0 /usr/local/share/perl/5.26.0 /usr/lib/x86_64-linux-gnu/perl5/5.26 /usr/share/perl5 /usr/lib/x86_64-linux-gnu/perl/5.26 /usr/share/perl/5.26 /usr/local/lib/site_perl /usr/lib/x86_64-linux-gnu/perl-base) at (eval 40) line 1.\n",
      "missing Math::Round\n",
      "  error Can't locate Math/Round.pm in @INC (you may need to install the Math::Round module) (@INC contains: /home/jovyan/circos-0.69-6/bin/lib /home/jovyan/circos-0.69-6/bin/../lib /home/jovyan/circos-0.69-6/bin /etc/perl /usr/local/lib/x86_64-linux-gnu/perl/5.26.0 /usr/local/share/perl/5.26.0 /usr/lib/x86_64-linux-gnu/perl5/5.26 /usr/share/perl5 /usr/lib/x86_64-linux-gnu/perl/5.26 /usr/share/perl/5.26 /usr/local/lib/site_perl /usr/lib/x86_64-linux-gnu/perl-base) at (eval 32) line 1.\n",
      "missing Math::VecStat\n",
      "  error Can't locate Math/VecStat.pm in @INC (you may need to install the Math::VecStat module) (@INC contains: /home/jovyan/circos-0.69-6/bin/lib /home/jovyan/circos-0.69-6/bin/../lib /home/jovyan/circos-0.69-6/bin /etc/perl /usr/local/lib/x86_64-linux-gnu/perl/5.26.0 /usr/local/share/perl/5.26.0 /usr/lib/x86_64-linux-gnu/perl5/5.26 /usr/share/perl5 /usr/lib/x86_64-linux-gnu/perl/5.26 /usr/share/perl/5.26 /usr/local/lib/site_perl /usr/lib/x86_64-linux-gnu/perl-base) at (eval 33) line 1.\n",
      "missing Readonly\n",
      "  error Can't locate Readonly.pm in @INC (you may need to install the Readonly module) (@INC contains: /home/jovyan/circos-0.69-6/bin/lib /home/jovyan/circos-0.69-6/bin/../lib /home/jovyan/circos-0.69-6/bin /etc/perl /usr/local/lib/x86_64-linux-gnu/perl/5.26.0 /usr/local/share/perl/5.26.0 /usr/lib/x86_64-linux-gnu/perl5/5.26 /usr/share/perl5 /usr/lib/x86_64-linux-gnu/perl/5.26 /usr/share/perl/5.26 /usr/local/lib/site_perl /usr/lib/x86_64-linux-gnu/perl-base) at (eval 39) line 1.\n",
      "missing Params::Validate\n",
      "  error Can't locate Params/Validate.pm in @INC (you may need to install the Params::Validate module) (@INC contains: /home/jovyan/circos-0.69-6/bin/lib /home/jovyan/circos-0.69-6/bin/../lib /home/jovyan/circos-0.69-6/bin /etc/perl /usr/local/lib/x86_64-linux-gnu/perl/5.26.0 /usr/local/share/perl/5.26.0 /usr/lib/x86_64-linux-gnu/perl5/5.26 /usr/share/perl5 /usr/lib/x86_64-linux-gnu/perl/5.26 /usr/share/perl/5.26 /usr/local/lib/site_perl /usr/lib/x86_64-linux-gnu/perl-base) at (eval 37) line 1.\n",
      "missing Text::Format\n",
      "  error Can't locate Text/Format.pm in @INC (you may need to install the Text::Format module) (@INC contains: /home/jovyan/circos-0.69-6/bin/lib /home/jovyan/circos-0.69-6/bin/../lib /home/jovyan/circos-0.69-6/bin /etc/perl /usr/local/lib/x86_64-linux-gnu/perl/5.26.0 /usr/local/share/perl/5.26.0 /usr/lib/x86_64-linux-gnu/perl5/5.26 /usr/share/perl5 /usr/lib/x86_64-linux-gnu/perl/5.26 /usr/share/perl/5.26 /usr/local/lib/site_perl /usr/lib/x86_64-linux-gnu/perl-base) at (eval 48) line 1.\n",
      "missing Set::IntSpan\n",
      "  error Can't locate Set/IntSpan.pm in @INC (you may need to install the Set::IntSpan module) (@INC contains: /home/jovyan/circos-0.69-6/bin/lib /home/jovyan/circos-0.69-6/bin/../lib /home/jovyan/circos-0.69-6/bin /etc/perl /usr/local/lib/x86_64-linux-gnu/perl/5.26.0 /usr/local/share/perl/5.26.0 /usr/lib/x86_64-linux-gnu/perl5/5.26 /usr/share/perl5 /usr/lib/x86_64-linux-gnu/perl/5.26 /usr/share/perl/5.26 /usr/local/lib/site_perl /usr/lib/x86_64-linux-gnu/perl-base) at (eval 41) line 1.\n",
      "missing SVG\n",
      "  error Can't locate SVG.pm in @INC (you may need to install the SVG module) (@INC contains: /home/jovyan/circos-0.69-6/bin/lib /home/jovyan/circos-0.69-6/bin/../lib /home/jovyan/circos-0.69-6/bin /etc/perl /usr/local/lib/x86_64-linux-gnu/perl/5.26.0 /usr/local/share/perl/5.26.0 /usr/lib/x86_64-linux-gnu/perl5/5.26 /usr/share/perl5 /usr/lib/x86_64-linux-gnu/perl/5.26 /usr/share/perl/5.26 /usr/local/lib/site_perl /usr/lib/x86_64-linux-gnu/perl-base) at (eval 44) line 1.\n",
      "missing Statistics::Basic\n",
      "  error Can't locate Statistics/Basic.pm in @INC (you may need to install the Statistics::Basic module) (@INC contains: /home/jovyan/circos-0.69-6/bin/lib /home/jovyan/circos-0.69-6/bin/../lib /home/jovyan/circos-0.69-6/bin /etc/perl /usr/local/lib/x86_64-linux-gnu/perl/5.26.0 /usr/local/share/perl/5.26.0 /usr/lib/x86_64-linux-gnu/perl5/5.26 /usr/share/perl5 /usr/lib/x86_64-linux-gnu/perl/5.26 /usr/share/perl/5.26 /usr/local/lib/site_perl /usr/lib/x86_64-linux-gnu/perl-base) at (eval 42) line 1.\n"
     ]
    }
   ],
   "source": [
    "%%bash\n",
    "cd circos-0.69-6/example\n",
    "../bin/circos"
   ]
  },
  {
   "cell_type": "code",
   "execution_count": null,
   "metadata": {},
   "outputs": [],
   "source": [
    "%%bash\n",
    "cd circos-0.69-6/example\n",
    "ls\n",
    "head -25 run\n",
    "cd etc\n",
    "ls\n",
    "head circos.conf"
   ]
  },
  {
   "cell_type": "code",
   "execution_count": null,
   "metadata": {},
   "outputs": [],
   "source": []
  }
 ],
 "metadata": {
  "kernelspec": {
   "display_name": "Python 3",
   "language": "python",
   "name": "python3"
  },
  "language_info": {
   "codemirror_mode": {
    "name": "ipython",
    "version": 3
   },
   "file_extension": ".py",
   "mimetype": "text/x-python",
   "name": "python",
   "nbconvert_exporter": "python",
   "pygments_lexer": "ipython3",
   "version": "3.6.3"
  }
 },
 "nbformat": 4,
 "nbformat_minor": 1
}
