{
 "cells": [
  {
   "cell_type": "markdown",
   "metadata": {
    "collapsed": true
   },
   "source": [
    "# Circos on Jupyter: Circos in your browser via Binder\n",
    "\n",
    "Welcome. Select a notebook below to get started.  \n",
    "The arrangement is meant to mirror the documentation on the Circos site. If in doubt, start with the one at the top and work down.\n",
    "\n",
    "## Notebooks\n",
    "[Getting Circos Up and Running](Getting_Circos_Up_and_Running.ipynb)\n",
    "\n",
    "### 1. Quick Guide tutorials\n",
    "\n",
    "[Quick Start: Part 1: Hello World](notebooks/Quick_Start_Part1.ipynb)  \n",
    "[Quick Start: Part 2: Ticks & Labels](notebooks/Quick_Start_Part2.ipynb)  \n",
    "[Quick Start: Part 3: Ideogram Selection, Scale, Color & Orientation](notebooks/Quick_Start_Part3.ipynb)  \n",
    "[Quick Start: Part 4: Links & Rules](notebooks/Quick_Start_Part4.ipynb)  \n",
    "[Quick Start: Part 5: Histograms](notebooks/Quick_Start_Part5.ipynb)  \n",
    "[Quick Start: Part 6: Axes & Backgrounds](notebooks/Quick_Start_Part6.ipynb)  \n",
    "[Quick Start: Part 7: Heat Maps & Colors](notebooks/Quick_Start_Part7.ipynb)  \n",
    "[Quick Start: Part 8: Text](notebooks/Quick_Start_Part8.ipynb)  \n",
    "[Quick Start: Part 9: Automation & Macros](notebooks/Quick_Start_Part9.ipynb)  \n",
    "``` \n",
    "\n",
    "\n",
    "### 2. Drawing Ideograms tutorials\n",
    "\n",
    "[Drawing Ideograms: Part 1: Ideograms](notebooks/Drawing_ideograms_Part1.ipynb)  \n",
    "[Drawing Ideograms: Part 2: Karyotypes](notebooks/Drawing_ideograms_Part2.ipynb)  \n",
    "[Drawing Ideograms: Part 3: Filtering](notebooks/Drawing_ideograms_Part3.ipynb)  \n",
    "[Drawing Ideograms: Part 4: Ordering](notebooks/Drawing_ideograms_Part4.ipynb)  \n",
    "[Drawing Ideograms: Part 5: Cropping](notebooks/Drawing_ideograms_Part5.ipynb)  \n",
    "[Drawing Ideograms: Part 6: Spacing and Axis Breaks](notebooks/Drawing_ideograms_Part6.ipynb)  \n",
    "[Drawing Ideograms: Part 7: Tags](notebooks/Drawing_ideograms_Part7.ipynb)  \n",
    "[Drawing Ideograms: Part 8: Variable Radius](notebooks/Drawing_ideograms_Part8.ipynb)  \n",
    "[Drawing Ideograms: Part 9: Labels](notebooks/Drawing_ideograms_Part9.ipynb)  \n",
    "[Drawing Ideograms: Part 9: Progression and Orientation](notebooks/Drawing_ideograms_Part10.ipynb)  \n",
    "```"
   ]
  },
  {
   "cell_type": "code",
   "execution_count": null,
   "metadata": {},
   "outputs": [],
   "source": []
  }
 ],
 "metadata": {
  "anaconda-cloud": {},
  "kernelspec": {
   "display_name": "Python 3",
   "language": "python",
   "name": "python3"
  },
  "language_info": {
   "codemirror_mode": {
    "name": "ipython",
    "version": 3
   },
   "file_extension": ".py",
   "mimetype": "text/x-python",
   "name": "python",
   "nbconvert_exporter": "python",
   "pygments_lexer": "ipython3",
   "version": "3.6.7"
  }
 },
 "nbformat": 4,
 "nbformat_minor": 1
}
