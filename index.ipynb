{
 "cells": [
  {
   "cell_type": "markdown",
   "metadata": {
    "collapsed": true
   },
   "source": [
    "# Circos-binder: Circos in your browser\n",
    "\n",
    "Welcome. Select a notebook below to get started.  \n",
    "The arrangement is meant to mirror the documentation on the Circos site. If in doubt, start with the one at top and work down.\n",
    "\n",
    "## Notebooks\n",
    "[Getting Circos Up and Running](Getting_Circos_Up_and_Running.ipynb)\n",
    "\n",
    "### Quick Guide tutorials\n",
    "\n",
    "[Quick Start: Part 1: Hello World](notebooks/Quick_Start_Part1.ipynb)\n"
   ]
  },
  {
   "cell_type": "code",
   "execution_count": null,
   "metadata": {
    "collapsed": true
   },
   "outputs": [],
   "source": []
  }
 ],
 "metadata": {
  "anaconda-cloud": {},
  "kernelspec": {
   "display_name": "Python 3",
   "language": "python",
   "name": "python3"
  },
  "language_info": {
   "codemirror_mode": {
    "name": "ipython",
    "version": 3
   },
   "file_extension": ".py",
   "mimetype": "text/x-python",
   "name": "python",
   "nbconvert_exporter": "python",
   "pygments_lexer": "ipython3",
   "version": "3.6.4"
  }
 },
 "nbformat": 4,
 "nbformat_minor": 1
}
