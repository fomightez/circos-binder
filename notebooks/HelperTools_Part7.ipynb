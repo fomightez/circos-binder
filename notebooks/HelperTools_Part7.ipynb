{
 "cells": [
  {
   "cell_type": "code",
   "execution_count": null,
   "metadata": {
    "hide_input": true,
    "inputHidden": true
   },
   "outputs": [
    {
     "data": {
      "text/html": [
       "<span style=\"color:red; font-family:Helvetica Neue, Helvetica, Arial, sans-serif; font-size:2em;\">An Exception was encountered at 'In [5]'.</span>"
      ]
     },
     "metadata": {},
     "output_type": "display_data"
    }
   ],
   "source": [
    "%%html\n",
    "<span style=\"color:red; font-family:Helvetica Neue, Helvetica, Arial, sans-serif; font-size:2em;\">An Exception was encountered at 'In [5]'.</span>"
   ]
  },
  {
   "cell_type": "code",
   "execution_count": 1,
   "metadata": {
    "papermill": {
     "duration": 0.019522,
     "end_time": "2019-04-08T02:49:31.191228",
     "exception": false,
     "start_time": "2019-04-08T02:49:31.171706",
     "status": "completed"
    },
    "tags": [
     "parameters"
    ]
   },
   "outputs": [],
   "source": [
    "#This cell is tagged parameters for running this template using Papermill to inject values to overwrite these.\n",
    "markdown = \"\"\n",
    "section = 99\n",
    "sub_pg = 99\n",
    "end_nb = False\n",
    "next_nb = \"\"\n"
   ]
  },
  {
   "cell_type": "code",
   "execution_count": 2,
   "metadata": {
    "papermill": {
     "duration": 0.015101,
     "end_time": "2019-04-08T02:49:31.212815",
     "exception": false,
     "start_time": "2019-04-08T02:49:31.197714",
     "status": "completed"
    },
    "tags": [
     "injected-parameters"
    ]
   },
   "outputs": [],
   "source": [
    "# Parameters\n",
    "markdown = \"\\n# Part 7 of Helper Tools: Visualizing Categorical Data\\n\\nThis page is primarily based on the following page at the Circos documentation site:\\n\\n\\n\\n- [7. Visualizing Categorical Data](????????????)\\n\\n\\n\\nThat page is found as part number 4 of the ??? part ['Helper Tools' section](http://circos.ca/documentation/tutorials/quick_start/) of [the larger set of Circos tutorials](http://circos.ca/documentation/tutorials/).\\n\\n\\n\\nGo back to Part 6 by clicking [here &#8592;](HelperTools_Part6.ipynb).\\n\\n\\n\\n----\\n\\n\\n\\n9 --- Helper Tools\\n==================\\n\\n7. Visualizing Categorical Data\\n-------------------------------\\n\\n::: {#menu4}\\n[[Lesson](/documentation/tutorials/utilities/categorical_data/lesson){.clean}]{.active}\\n[Images](/documentation/tutorials/utilities/categorical_data/images){.normal}\\n:::\\n\\nscript location\\n---------------\\n\\n    tools/categoryviewer\\n\\nscript usage\\n------------\\n\\n    > cd tools/categoryviewer\\n    # use canned data\\n    > ./makeimage\\n    # which runs\\n    > cat data/individuals.txt | bin/parse-category -conf etc/parse-category.conf > data/links.txt 2> data/karyotype.txt\\n    > ../../bin/circos -conf etc/circos.conf\\n\\nThe input data must be tab delimited. The individuals.txt file is an\\nexample of a randomly generated set of eye color, hair color, height and\\nsex of 1000 individuals.\\n\\nThe output of parse-category is the link file, sent to STDOUT (redirect\\nwith \\\\>), and the karyotype file, sent to STDERR (redirect with 2\\\\>).\\n\\ndetails\\n-------\\n\\nThis utility tool is similar to the table viewer ([Tutorial\\n9.5](http://mkweb.bcgsc.ca/circos/?tutorials&id=9&section=5)\\ntools/tableviewer), but instead of tabular data (stored as a matrix of\\nrows and columns), this tool generates images of categorical data which\\nis supplied as one record per line. This utility tool is useful in\\nanalyzing survey data, relationship between multiple choice answers, and\\nany data in which a record is associated with two or more partitioned\\nvalues (partitions can be categories, codes, or intervals).\\n\\n### sample data set\\n\\nFor the example data set, I have randomly generated a putative survey\\nresponses of 1000 individuals that asked questions about sex, hair\\ncolor, eye color and height. Each record corresponds to a respondent\\\\'s\\nanswers.\\n\\n    0       female  f       red     3       green   2       165\\n    1       female  f       blonde  0       blue    1       156\\n    2       female  f       brown   1       grey    3       157\\n    3       male    m       brown   1       green   2       165\\n    4       female  f       black   2       blue    1       164\\n    5       female  f       brown   1       green   2       158\\n    ...\\n    996     male    m       red     3       grey    3       179\\n    997     female  f       red     3       green   2       163\\n    998     female  f       black   2       brown   0       161\\n    999     female  f       brown   1       brown   0       160\\n\\nEach responses is given in full (e.g. green) as well as a code. The\\ncodes for hair are blonde=0, brown=1, black=2 and red=3. The codes for\\neyes are brown=0, blue=1, green=2 and grey=3. Height is in centimeters.\\n\\nThe data were geneated using a probability model in which used the\\nfrequency of hair color in the population and the probabilistic\\nrelationship between hair and eye color. This is a primitive model with\\nmanufactured parameters, but serves to illustrate the benefits of Circos\\nvisualizations of categorical data.\\n\\n### hair and eye color\\n\\nThe first sample configuration file, etc/parse-category.conf, generates\\nan image that compares hair and eye color. The start of the links are\\ndefined by column 4 (0-index). This is the column that contains the hair\\ncode (0-3). The color parameter defines the color of the segments from\\nwhich the links will start.\\n\\n    <link_start>\\n    id  = hair\\n    col = 4\\n    min = 0\\n    max = 3\\n    rx  = \\\\d\\n    color = orange\\n    </link_start>\\n\\nLink ends are defined by the eye color code, found in column 6. Eye\\ncolor segments will be green.\\n\\n    <link_start>\\n    id  = eye\\n    col = 6\\n    min = 0\\n    max = 3\\n    rx  = \\\\d\\n    color = green\\n    </link_start>\\n\\nOnce the categories for the start and end of the links are defined, the\\ndata file is parsed and turned into a format that Circos can use. One\\nset of segments will correspond to hair color, with a segment for each\\ndistinct hair color code (value found in column 4). Another set of\\nsegments will correspond to eye color. Links between them will encode\\nthe number of records with a given hair/eye color combination.\\n\\nIn the first example image, the color of the links is determined by the\\nvalue in column 2, which contains either \\\\\\\"m\\\\\\\" (male) or \\\\\\\"f\\\\\\\" (female).\\nThe values block defines the link format values for each value in this\\ncolumn.\\n\\n    <link_coding sex>\\n    order = 2\\n    use   = yes\\n    col   = 2\\n    <values>\\n    m = color=black_a4\\n    f = color=black_a8\\n    </values>\\n    </link_coding>\\n\\nYou can add more coding blocks, which are evaluated in order of the\\nvalue of the order parameter. For example,\\n\\n    <link_coding height>\\n    order = 1\\n    use   = yes\\n    col   = 7\\n    <values>\\n    158 = stroke_color=green,stroke_thickness=3p\\n    159 = stroke_color=green,stroke_thickness=3p\\n    160 = stroke_color=green,stroke_thickness=3p\\n    161 = stroke_color=green,stroke_thickness=3p\\n    162 = stroke_color=green,stroke_thickness=3p\\n    168 = stroke_color=red,stroke_thickness=3p\\n    169 = stroke_color=red,stroke_thickness=3p\\n    170 = stroke_color=red,stroke_thickness=3p\\n    171 = stroke_color=red,stroke_thickness=3p\\n    172 = stroke_color=red,stroke_thickness=3p\\n    </values>\\n    </link_coding>\\n\\nThe rules for link formatting are simple: (1) rules triggered later\\n(based on order parameter) overwrite any formatting set by previous\\nrules, and (2) records with the same formatting form independent\\nribbons. The consequence of (2) is that you can subdivide a group of\\nrecords for a given start/end category value (e.g. blonde hair/blue eye)\\ninto smaller groups based on other values (e.g. blonde/blue males and\\nfemales, or blonde/blue males 170cm and blonde/blue females 160cm).\\n\\n### ribbon order\\n\\nThe order of the start and end of the ribbons on each segment is\\ncontrolled by the \\\\<link\\\\_order\\\\> blocks. The following ways of ordering\\nribbons are supported\\n\\n-   by size - ribbons are placed in decreasing order of thickness\\n    (number of records)\\n-   by coding - ribbons are placed in alphanumeric order of the code\\n    used to determine their format characteristics through the\\n    \\\\<link\\\\_coding\\\\> blocks\\n-   by other end - ribbons are placed to limit the number of crossing\\n    ribbons, and this order scheme can only be used for one of the two\\n    ends\\n-   by radius - ribbons are placed in increasing order of the radius of\\n    their end\\n\\nRibbon order is defined in the \\\\<link\\\\_order\\\\> block and specified for\\nthe start and end of the ribbon. For example,\\n\\n    <link_order>\\n    start = otherend\\n    end   = size\\n    </link_order>\\n\\n### ribbon radius\\n\\nThe radial position of a ribbon can be adjusted based on any column\\nvalue. This is done using \\\\<radius\\\\> blocks within the \\\\<link\\\\_start\\\\>\\nand \\\\<link\\\\_end\\\\> blocks. The radius of the ribbon is mapped onto radius\\nmin-max range (rmin-rmax) based on the value of a column (possibly\\nremapped) and a range of acceptable values (min-max).\\n\\nFor example, the block\\n\\n    <link_start>\\n    ...\\n    <radius>\\n    use   = yes\\n    col   = 7\\n    remap = int((190-int(x))/5)\\n    min   = 0\\n    max   = 10\\n    rmin  = 0.7\\n    rmax  = 0.98\\n    </radius>\\n    </link_start>\\n\\nwill place the start of the ribbon at a radius proportional to a\\nremapped height value. The height value is sampled from column 7 and\\nremapped according to the remap parameter. The effect of the remap\\nparameter as shown here is to map the height values, which range\\n144-189, to a range 0-9.\\n\\nJust like for formatting, radial values are used to split the record\\nset. If you have a large number of possible radial values, you will wind\\nup with a large number of thin ribbons, since it\\\\'s likely that no more\\nthan a few records will have the same radial value. It is therefore a\\ngood idea to bin adjacent radial values together to reduce the number of\\nribbons and avoid having a busy, uninterpretable figure.\\n\\n\"\n",
    "section = 9\n",
    "sub_pg = 7\n",
    "end_nb = False\n",
    "next_nb = \"ImageMaps_Part1.ipynb\"\n"
   ]
  },
  {
   "cell_type": "code",
   "execution_count": 3,
   "metadata": {
    "papermill": {
     "duration": 0.013733,
     "end_time": "2019-04-08T02:49:31.233170",
     "exception": false,
     "start_time": "2019-04-08T02:49:31.219437",
     "status": "completed"
    },
    "tags": []
   },
   "outputs": [
    {
     "name": "stdout",
     "output_type": "stream",
     "text": [
      "\n",
      "# Part 7 of Helper Tools: Visualizing Categorical Data\n",
      "\n",
      "This page is primarily based on the following page at the Circos documentation site:\n",
      "\n",
      "\n",
      "\n",
      "- [7. Visualizing Categorical Data](????????????)\n",
      "\n",
      "\n",
      "\n",
      "That page is found as part number 4 of the ??? part ['Helper Tools' section](http://circos.ca/documentation/tutorials/quick_start/) of [the larger set of Circos tutorials](http://circos.ca/documentation/tutorials/).\n",
      "\n",
      "\n",
      "\n",
      "Go back to Part 6 by clicking [here &#8592;](HelperTools_Part6.ipynb).\n",
      "\n",
      "\n",
      "\n",
      "----\n",
      "\n",
      "\n",
      "\n",
      "9 --- Helper Tools\n",
      "==================\n",
      "\n",
      "7. Visualizing Categorical Data\n",
      "-------------------------------\n",
      "\n",
      "::: {#menu4}\n",
      "[[Lesson](/documentation/tutorials/utilities/categorical_data/lesson){.clean}]{.active}\n",
      "[Images](/documentation/tutorials/utilities/categorical_data/images){.normal}\n",
      ":::\n",
      "\n",
      "script location\n",
      "---------------\n",
      "\n",
      "    tools/categoryviewer\n",
      "\n",
      "script usage\n",
      "------------\n",
      "\n",
      "    > cd tools/categoryviewer\n",
      "    # use canned data\n",
      "    > ./makeimage\n",
      "    # which runs\n",
      "    > cat data/individuals.txt | bin/parse-category -conf etc/parse-category.conf > data/links.txt 2> data/karyotype.txt\n",
      "    > ../../bin/circos -conf etc/circos.conf\n",
      "\n",
      "The input data must be tab delimited. The individuals.txt file is an\n",
      "example of a randomly generated set of eye color, hair color, height and\n",
      "sex of 1000 individuals.\n",
      "\n",
      "The output of parse-category is the link file, sent to STDOUT (redirect\n",
      "with \\>), and the karyotype file, sent to STDERR (redirect with 2\\>).\n",
      "\n",
      "details\n",
      "-------\n",
      "\n",
      "This utility tool is similar to the table viewer ([Tutorial\n",
      "9.5](http://mkweb.bcgsc.ca/circos/?tutorials&id=9&section=5)\n",
      "tools/tableviewer), but instead of tabular data (stored as a matrix of\n",
      "rows and columns), this tool generates images of categorical data which\n",
      "is supplied as one record per line. This utility tool is useful in\n",
      "analyzing survey data, relationship between multiple choice answers, and\n",
      "any data in which a record is associated with two or more partitioned\n",
      "values (partitions can be categories, codes, or intervals).\n",
      "\n",
      "### sample data set\n",
      "\n",
      "For the example data set, I have randomly generated a putative survey\n",
      "responses of 1000 individuals that asked questions about sex, hair\n",
      "color, eye color and height. Each record corresponds to a respondent\\'s\n",
      "answers.\n",
      "\n",
      "    0       female  f       red     3       green   2       165\n",
      "    1       female  f       blonde  0       blue    1       156\n",
      "    2       female  f       brown   1       grey    3       157\n",
      "    3       male    m       brown   1       green   2       165\n",
      "    4       female  f       black   2       blue    1       164\n",
      "    5       female  f       brown   1       green   2       158\n",
      "    ...\n",
      "    996     male    m       red     3       grey    3       179\n",
      "    997     female  f       red     3       green   2       163\n",
      "    998     female  f       black   2       brown   0       161\n",
      "    999     female  f       brown   1       brown   0       160\n",
      "\n",
      "Each responses is given in full (e.g. green) as well as a code. The\n",
      "codes for hair are blonde=0, brown=1, black=2 and red=3. The codes for\n",
      "eyes are brown=0, blue=1, green=2 and grey=3. Height is in centimeters.\n",
      "\n",
      "The data were geneated using a probability model in which used the\n",
      "frequency of hair color in the population and the probabilistic\n",
      "relationship between hair and eye color. This is a primitive model with\n",
      "manufactured parameters, but serves to illustrate the benefits of Circos\n",
      "visualizations of categorical data.\n",
      "\n",
      "### hair and eye color\n",
      "\n",
      "The first sample configuration file, etc/parse-category.conf, generates\n",
      "an image that compares hair and eye color. The start of the links are\n",
      "defined by column 4 (0-index). This is the column that contains the hair\n",
      "code (0-3). The color parameter defines the color of the segments from\n",
      "which the links will start.\n",
      "\n",
      "    <link_start>\n",
      "    id  = hair\n",
      "    col = 4\n",
      "    min = 0\n",
      "    max = 3\n",
      "    rx  = \\d\n",
      "    color = orange\n",
      "    </link_start>\n",
      "\n",
      "Link ends are defined by the eye color code, found in column 6. Eye\n",
      "color segments will be green.\n",
      "\n",
      "    <link_start>\n",
      "    id  = eye\n",
      "    col = 6\n",
      "    min = 0\n",
      "    max = 3\n",
      "    rx  = \\d\n",
      "    color = green\n",
      "    </link_start>\n",
      "\n",
      "Once the categories for the start and end of the links are defined, the\n",
      "data file is parsed and turned into a format that Circos can use. One\n",
      "set of segments will correspond to hair color, with a segment for each\n",
      "distinct hair color code (value found in column 4). Another set of\n",
      "segments will correspond to eye color. Links between them will encode\n",
      "the number of records with a given hair/eye color combination.\n",
      "\n",
      "In the first example image, the color of the links is determined by the\n",
      "value in column 2, which contains either \\\"m\\\" (male) or \\\"f\\\" (female).\n",
      "The values block defines the link format values for each value in this\n",
      "column.\n",
      "\n",
      "    <link_coding sex>\n",
      "    order = 2\n",
      "    use   = yes\n",
      "    col   = 2\n",
      "    <values>\n",
      "    m = color=black_a4\n",
      "    f = color=black_a8\n",
      "    </values>\n",
      "    </link_coding>\n",
      "\n",
      "You can add more coding blocks, which are evaluated in order of the\n",
      "value of the order parameter. For example,\n",
      "\n",
      "    <link_coding height>\n",
      "    order = 1\n",
      "    use   = yes\n",
      "    col   = 7\n",
      "    <values>\n",
      "    158 = stroke_color=green,stroke_thickness=3p\n",
      "    159 = stroke_color=green,stroke_thickness=3p\n",
      "    160 = stroke_color=green,stroke_thickness=3p\n",
      "    161 = stroke_color=green,stroke_thickness=3p\n",
      "    162 = stroke_color=green,stroke_thickness=3p\n",
      "    168 = stroke_color=red,stroke_thickness=3p\n",
      "    169 = stroke_color=red,stroke_thickness=3p\n",
      "    170 = stroke_color=red,stroke_thickness=3p\n",
      "    171 = stroke_color=red,stroke_thickness=3p\n",
      "    172 = stroke_color=red,stroke_thickness=3p\n",
      "    </values>\n",
      "    </link_coding>\n",
      "\n",
      "The rules for link formatting are simple: (1) rules triggered later\n",
      "(based on order parameter) overwrite any formatting set by previous\n",
      "rules, and (2) records with the same formatting form independent\n",
      "ribbons. The consequence of (2) is that you can subdivide a group of\n",
      "records for a given start/end category value (e.g. blonde hair/blue eye)\n",
      "into smaller groups based on other values (e.g. blonde/blue males and\n",
      "females, or blonde/blue males 170cm and blonde/blue females 160cm).\n",
      "\n",
      "### ribbon order\n",
      "\n",
      "The order of the start and end of the ribbons on each segment is\n",
      "controlled by the \\<link\\_order\\> blocks. The following ways of ordering\n",
      "ribbons are supported\n",
      "\n",
      "-   by size - ribbons are placed in decreasing order of thickness\n",
      "    (number of records)\n",
      "-   by coding - ribbons are placed in alphanumeric order of the code\n",
      "    used to determine their format characteristics through the\n",
      "    \\<link\\_coding\\> blocks\n",
      "-   by other end - ribbons are placed to limit the number of crossing\n",
      "    ribbons, and this order scheme can only be used for one of the two\n",
      "    ends\n",
      "-   by radius - ribbons are placed in increasing order of the radius of\n",
      "    their end\n",
      "\n",
      "Ribbon order is defined in the \\<link\\_order\\> block and specified for\n",
      "the start and end of the ribbon. For example,\n",
      "\n",
      "    <link_order>\n",
      "    start = otherend\n",
      "    end   = size\n",
      "    </link_order>\n",
      "\n",
      "### ribbon radius\n",
      "\n",
      "The radial position of a ribbon can be adjusted based on any column\n",
      "value. This is done using \\<radius\\> blocks within the \\<link\\_start\\>\n",
      "and \\<link\\_end\\> blocks. The radius of the ribbon is mapped onto radius\n",
      "min-max range (rmin-rmax) based on the value of a column (possibly\n",
      "remapped) and a range of acceptable values (min-max).\n",
      "\n",
      "For example, the block\n",
      "\n",
      "    <link_start>\n",
      "    ...\n",
      "    <radius>\n",
      "    use   = yes\n",
      "    col   = 7\n",
      "    remap = int((190-int(x))/5)\n",
      "    min   = 0\n",
      "    max   = 10\n",
      "    rmin  = 0.7\n",
      "    rmax  = 0.98\n",
      "    </radius>\n",
      "    </link_start>\n",
      "\n",
      "will place the start of the ribbon at a radius proportional to a\n",
      "remapped height value. The height value is sampled from column 7 and\n",
      "remapped according to the remap parameter. The effect of the remap\n",
      "parameter as shown here is to map the height values, which range\n",
      "144-189, to a range 0-9.\n",
      "\n",
      "Just like for formatting, radial values are used to split the record\n",
      "set. If you have a large number of possible radial values, you will wind\n",
      "up with a large number of thin ribbons, since it\\'s likely that no more\n",
      "than a few records will have the same radial value. It is therefore a\n",
      "good idea to bin adjacent radial values together to reduce the number of\n",
      "ribbons and avoid having a busy, uninterpretable figure.\n",
      "\n",
      "\n"
     ]
    }
   ],
   "source": [
    "'''from IPython.display import Markdown, display\n",
    "def printmd(string):\n",
    "    display(Markdown(string))\n",
    "printmd(markdown)'''\n",
    "print(markdown) #use this because want to be able to edit the markdown and rendering it with `printmd` diables that"
   ]
  },
  {
   "cell_type": "markdown",
   "metadata": {
    "papermill": {
     "duration": 0.006262,
     "end_time": "2019-04-08T02:49:31.245790",
     "exception": false,
     "start_time": "2019-04-08T02:49:31.239528",
     "status": "completed"
    },
    "tags": []
   },
   "source": [
    "\n",
    "\n",
    "----"
   ]
  },
  {
   "cell_type": "markdown",
   "metadata": {
    "papermill": {
     "duration": 0.008518,
     "end_time": "2019-04-08T02:49:31.262130",
     "exception": false,
     "start_time": "2019-04-08T02:49:31.253612",
     "status": "completed"
    },
    "tags": []
   },
   "source": [
    "### Generating the plot produced by this example code\n",
    "\n",
    "The following two cells will generate the plot. The first cell adjusts the current working directory."
   ]
  },
  {
   "cell_type": "code",
   "execution_count": 4,
   "metadata": {
    "papermill": {
     "duration": 0.017164,
     "end_time": "2019-04-08T02:49:31.285925",
     "exception": false,
     "start_time": "2019-04-08T02:49:31.268761",
     "status": "completed"
    },
    "tags": []
   },
   "outputs": [
    {
     "name": "stdout",
     "output_type": "stream",
     "text": [
      "/home/jovyan/circos-tutorials-0.67/tutorials/9/7\n"
     ]
    }
   ],
   "source": [
    "%cd ../circos-tutorials-0.67/tutorials/{section}/{sub_pg}/"
   ]
  },
  {
   "cell_type": "code",
   "execution_count": 5,
   "metadata": {
    "papermill": {
     "duration": 0.677786,
     "end_time": "2019-04-08T02:49:31.970208",
     "exception": true,
     "start_time": "2019-04-08T02:49:31.292422",
     "status": "failed"
    },
    "tags": []
   },
   "outputs": [
    {
     "name": "stdout",
     "output_type": "stream",
     "text": [
      "debuggroup summary 0.21s welcome to circos v0.69-6 31 July 2017 on Perl 5.022000\n",
      "debuggroup summary 0.21s current working directory /home/jovyan/circos-tutorials-0.67/tutorials/9/7\n",
      "debuggroup summary 0.21s command ../../../../circos-0.69-6/bin/circos -conf circos.conf\n",
      "debuggroup summary 0.21s loading configuration from file circos.conf\n",
      "\n",
      "  *** CIRCOS ERROR ***\n",
      "\n",
      "      cwd: /home/jovyan/circos-tutorials-0.67/tutorials/9/7\n",
      "\n",
      "      command: ../../../../circos-0.69-6/bin/circos -conf circos.conf\n",
      "\n",
      "  CONFIGURATION FILE ERROR\n",
      "\n",
      "  Circos could not find the configuration file [circos.conf]. To run Circos, you\n",
      "  need to specify this file using the -conf flag. The configuration file\n",
      "  contains all the parameters that define the image, including input files,\n",
      "  image size, formatting, etc.\n",
      "\n",
      "  If you do not use the -conf flag, Circos will attempt to look for a file\n",
      "  circos.conf in several reasonable places such as . etc/ ../etc\n",
      "\n",
      "  To see where Circos looks for the file, use\n",
      "\n",
      "      circos -debug_flag io\n",
      "\n",
      "  To see how configuration files work, create the example image, whose\n",
      "  configuration and data are found in example/. From the Circos distribution\n",
      "  directory,\n",
      "\n",
      "      cd example\n",
      "\n",
      "      ../bin/circos -conf ./circos.conf\n",
      "\n",
      "  or use the 'run' script (UNIX only).\n",
      "\n",
      "  Configuration files are described here\n",
      "\n",
      "      http://circos.ca/tutorials/lessons/configuration/configuration_files/\n",
      "\n",
      "  and the use of command-line flags, such as -conf, is described here\n",
      "\n",
      "      http://circos.ca/tutorials/lessons/configuration/runtime_parameters/\n",
      "\n",
      "  Windows users unfamiliar with Perl should read\n",
      "\n",
      "      http://circos.ca/tutorials/lessons/configuration/unix_vs_windows/\n",
      "\n",
      "  This error can also be produced if supporting configuration files, such as\n",
      "  track defaults, cannot be read.\n",
      "\n",
      "  If you are having trouble debugging this error, first read the best practices\n",
      "  tutorial for helpful tips that address many common problems\n",
      "\n",
      "      http://www.circos.ca/documentation/tutorials/reference/best_practices\n",
      "\n",
      "  The debugging facility is helpful to figure out what's happening under the\n",
      "  hood\n",
      "\n",
      "      http://www.circos.ca/documentation/tutorials/configuration/debugging\n",
      "\n",
      "  If you're still stumped, get support in the Circos Google Group.\n",
      "\n",
      "      http://groups.google.com/group/circos-data-visualization\n",
      "\n",
      "  Please include this error, all your configuration, data files and the version\n",
      "  of Circos you're running (circos -v).Do not email me directly -- please use\n",
      "  the group.\n",
      "\n",
      "  Stack trace:\n"
     ]
    },
    {
     "name": "stderr",
     "output_type": "stream",
     "text": [
      "Use of uninitialized value in subroutine entry at /home/jovyan/circos-0.69-6/bin/../lib/Circos/Configuration.pm line 781.\n",
      " at /home/jovyan/circos-0.69-6/bin/../lib/Circos/Error.pm line 425.\n",
      "\tCircos::Error::fatal_error(\"configuration\", \"missing\", \"circos.conf\") called at /home/jovyan/circos-0.69-6/bin/../lib/Circos/Configuration.pm line 796\n",
      "\tCircos::Configuration::loadconfiguration(\"circos.conf\") called at /home/jovyan/circos-0.69-6/bin/../lib/Circos.pm line 148\n",
      "\tCircos::run(\"Circos\", \"configfile\", \"circos.conf\", \"_argv\", \"-conf circos.conf\", \"_cwd\", \"/home/jovyan/circos-tutorials-0.67/tutorials/9/7\") called at ../../../../circos-0.69-6/bin/circos line 536\n"
     ]
    },
    {
     "ename": "CalledProcessError",
     "evalue": "Command 'b'../../../../circos-0.69-6/bin/circos -conf circos.conf\\n'' returned non-zero exit status 255.",
     "output_type": "error",
     "traceback": [
      "\u001b[0;31m---------------------------------------------------------------------------\u001b[0m",
      "\u001b[0;31mCalledProcessError\u001b[0m                        Traceback (most recent call last)",
      "\u001b[0;32m<ipython-input-5-2ec00319581d>\u001b[0m in \u001b[0;36m<module>\u001b[0;34m\u001b[0m\n\u001b[0;32m----> 1\u001b[0;31m \u001b[0mget_ipython\u001b[0m\u001b[0;34m(\u001b[0m\u001b[0;34m)\u001b[0m\u001b[0;34m.\u001b[0m\u001b[0mrun_cell_magic\u001b[0m\u001b[0;34m(\u001b[0m\u001b[0;34m'bash'\u001b[0m\u001b[0;34m,\u001b[0m \u001b[0;34m''\u001b[0m\u001b[0;34m,\u001b[0m \u001b[0;34m'../../../../circos-0.69-6/bin/circos -conf circos.conf\\n'\u001b[0m\u001b[0;34m)\u001b[0m\u001b[0;34m\u001b[0m\u001b[0;34m\u001b[0m\u001b[0m\n\u001b[0m",
      "\u001b[0;32m/srv/conda/lib/python3.7/site-packages/IPython/core/interactiveshell.py\u001b[0m in \u001b[0;36mrun_cell_magic\u001b[0;34m(self, magic_name, line, cell)\u001b[0m\n\u001b[1;32m   2350\u001b[0m             \u001b[0;32mwith\u001b[0m \u001b[0mself\u001b[0m\u001b[0;34m.\u001b[0m\u001b[0mbuiltin_trap\u001b[0m\u001b[0;34m:\u001b[0m\u001b[0;34m\u001b[0m\u001b[0;34m\u001b[0m\u001b[0m\n\u001b[1;32m   2351\u001b[0m                 \u001b[0margs\u001b[0m \u001b[0;34m=\u001b[0m \u001b[0;34m(\u001b[0m\u001b[0mmagic_arg_s\u001b[0m\u001b[0;34m,\u001b[0m \u001b[0mcell\u001b[0m\u001b[0;34m)\u001b[0m\u001b[0;34m\u001b[0m\u001b[0;34m\u001b[0m\u001b[0m\n\u001b[0;32m-> 2352\u001b[0;31m                 \u001b[0mresult\u001b[0m \u001b[0;34m=\u001b[0m \u001b[0mfn\u001b[0m\u001b[0;34m(\u001b[0m\u001b[0;34m*\u001b[0m\u001b[0margs\u001b[0m\u001b[0;34m,\u001b[0m \u001b[0;34m**\u001b[0m\u001b[0mkwargs\u001b[0m\u001b[0;34m)\u001b[0m\u001b[0;34m\u001b[0m\u001b[0;34m\u001b[0m\u001b[0m\n\u001b[0m\u001b[1;32m   2353\u001b[0m             \u001b[0;32mreturn\u001b[0m \u001b[0mresult\u001b[0m\u001b[0;34m\u001b[0m\u001b[0;34m\u001b[0m\u001b[0m\n\u001b[1;32m   2354\u001b[0m \u001b[0;34m\u001b[0m\u001b[0m\n",
      "\u001b[0;32m/srv/conda/lib/python3.7/site-packages/IPython/core/magics/script.py\u001b[0m in \u001b[0;36mnamed_script_magic\u001b[0;34m(line, cell)\u001b[0m\n\u001b[1;32m    140\u001b[0m             \u001b[0;32melse\u001b[0m\u001b[0;34m:\u001b[0m\u001b[0;34m\u001b[0m\u001b[0;34m\u001b[0m\u001b[0m\n\u001b[1;32m    141\u001b[0m                 \u001b[0mline\u001b[0m \u001b[0;34m=\u001b[0m \u001b[0mscript\u001b[0m\u001b[0;34m\u001b[0m\u001b[0;34m\u001b[0m\u001b[0m\n\u001b[0;32m--> 142\u001b[0;31m             \u001b[0;32mreturn\u001b[0m \u001b[0mself\u001b[0m\u001b[0;34m.\u001b[0m\u001b[0mshebang\u001b[0m\u001b[0;34m(\u001b[0m\u001b[0mline\u001b[0m\u001b[0;34m,\u001b[0m \u001b[0mcell\u001b[0m\u001b[0;34m)\u001b[0m\u001b[0;34m\u001b[0m\u001b[0;34m\u001b[0m\u001b[0m\n\u001b[0m\u001b[1;32m    143\u001b[0m \u001b[0;34m\u001b[0m\u001b[0m\n\u001b[1;32m    144\u001b[0m         \u001b[0;31m# write a basic docstring:\u001b[0m\u001b[0;34m\u001b[0m\u001b[0;34m\u001b[0m\u001b[0;34m\u001b[0m\u001b[0m\n",
      "\u001b[0;32m</srv/conda/lib/python3.7/site-packages/decorator.py:decorator-gen-110>\u001b[0m in \u001b[0;36mshebang\u001b[0;34m(self, line, cell)\u001b[0m\n",
      "\u001b[0;32m/srv/conda/lib/python3.7/site-packages/IPython/core/magic.py\u001b[0m in \u001b[0;36m<lambda>\u001b[0;34m(f, *a, **k)\u001b[0m\n\u001b[1;32m    185\u001b[0m     \u001b[0;31m# but it's overkill for just that one bit of state.\u001b[0m\u001b[0;34m\u001b[0m\u001b[0;34m\u001b[0m\u001b[0;34m\u001b[0m\u001b[0m\n\u001b[1;32m    186\u001b[0m     \u001b[0;32mdef\u001b[0m \u001b[0mmagic_deco\u001b[0m\u001b[0;34m(\u001b[0m\u001b[0marg\u001b[0m\u001b[0;34m)\u001b[0m\u001b[0;34m:\u001b[0m\u001b[0;34m\u001b[0m\u001b[0;34m\u001b[0m\u001b[0m\n\u001b[0;32m--> 187\u001b[0;31m         \u001b[0mcall\u001b[0m \u001b[0;34m=\u001b[0m \u001b[0;32mlambda\u001b[0m \u001b[0mf\u001b[0m\u001b[0;34m,\u001b[0m \u001b[0;34m*\u001b[0m\u001b[0ma\u001b[0m\u001b[0;34m,\u001b[0m \u001b[0;34m**\u001b[0m\u001b[0mk\u001b[0m\u001b[0;34m:\u001b[0m \u001b[0mf\u001b[0m\u001b[0;34m(\u001b[0m\u001b[0;34m*\u001b[0m\u001b[0ma\u001b[0m\u001b[0;34m,\u001b[0m \u001b[0;34m**\u001b[0m\u001b[0mk\u001b[0m\u001b[0;34m)\u001b[0m\u001b[0;34m\u001b[0m\u001b[0;34m\u001b[0m\u001b[0m\n\u001b[0m\u001b[1;32m    188\u001b[0m \u001b[0;34m\u001b[0m\u001b[0m\n\u001b[1;32m    189\u001b[0m         \u001b[0;32mif\u001b[0m \u001b[0mcallable\u001b[0m\u001b[0;34m(\u001b[0m\u001b[0marg\u001b[0m\u001b[0;34m)\u001b[0m\u001b[0;34m:\u001b[0m\u001b[0;34m\u001b[0m\u001b[0;34m\u001b[0m\u001b[0m\n",
      "\u001b[0;32m/srv/conda/lib/python3.7/site-packages/IPython/core/magics/script.py\u001b[0m in \u001b[0;36mshebang\u001b[0;34m(self, line, cell)\u001b[0m\n\u001b[1;32m    243\u001b[0m             \u001b[0msys\u001b[0m\u001b[0;34m.\u001b[0m\u001b[0mstderr\u001b[0m\u001b[0;34m.\u001b[0m\u001b[0mflush\u001b[0m\u001b[0;34m(\u001b[0m\u001b[0;34m)\u001b[0m\u001b[0;34m\u001b[0m\u001b[0;34m\u001b[0m\u001b[0m\n\u001b[1;32m    244\u001b[0m         \u001b[0;32mif\u001b[0m \u001b[0margs\u001b[0m\u001b[0;34m.\u001b[0m\u001b[0mraise_error\u001b[0m \u001b[0;32mand\u001b[0m \u001b[0mp\u001b[0m\u001b[0;34m.\u001b[0m\u001b[0mreturncode\u001b[0m\u001b[0;34m!=\u001b[0m\u001b[0;36m0\u001b[0m\u001b[0;34m:\u001b[0m\u001b[0;34m\u001b[0m\u001b[0;34m\u001b[0m\u001b[0m\n\u001b[0;32m--> 245\u001b[0;31m             \u001b[0;32mraise\u001b[0m \u001b[0mCalledProcessError\u001b[0m\u001b[0;34m(\u001b[0m\u001b[0mp\u001b[0m\u001b[0;34m.\u001b[0m\u001b[0mreturncode\u001b[0m\u001b[0;34m,\u001b[0m \u001b[0mcell\u001b[0m\u001b[0;34m,\u001b[0m \u001b[0moutput\u001b[0m\u001b[0;34m=\u001b[0m\u001b[0mout\u001b[0m\u001b[0;34m,\u001b[0m \u001b[0mstderr\u001b[0m\u001b[0;34m=\u001b[0m\u001b[0merr\u001b[0m\u001b[0;34m)\u001b[0m\u001b[0;34m\u001b[0m\u001b[0;34m\u001b[0m\u001b[0m\n\u001b[0m\u001b[1;32m    246\u001b[0m \u001b[0;34m\u001b[0m\u001b[0m\n\u001b[1;32m    247\u001b[0m     \u001b[0;32mdef\u001b[0m \u001b[0m_run_script\u001b[0m\u001b[0;34m(\u001b[0m\u001b[0mself\u001b[0m\u001b[0;34m,\u001b[0m \u001b[0mp\u001b[0m\u001b[0;34m,\u001b[0m \u001b[0mcell\u001b[0m\u001b[0;34m,\u001b[0m \u001b[0mto_close\u001b[0m\u001b[0;34m)\u001b[0m\u001b[0;34m:\u001b[0m\u001b[0;34m\u001b[0m\u001b[0;34m\u001b[0m\u001b[0m\n",
      "\u001b[0;31mCalledProcessError\u001b[0m: Command 'b'../../../../circos-0.69-6/bin/circos -conf circos.conf\\n'' returned non-zero exit status 255."
     ]
    }
   ],
   "source": [
    "%%bash\n",
    "../../../../circos-0.69-6/bin/circos -conf circos.conf"
   ]
  },
  {
   "cell_type": "markdown",
   "metadata": {
    "papermill": {
     "duration": null,
     "end_time": null,
     "exception": null,
     "start_time": null,
     "status": "pending"
    },
    "tags": []
   },
   "source": [
    "View the plot in this page using the following cell."
   ]
  },
  {
   "cell_type": "code",
   "execution_count": null,
   "metadata": {
    "papermill": {
     "duration": null,
     "end_time": null,
     "exception": null,
     "start_time": null,
     "status": "pending"
    },
    "tags": []
   },
   "outputs": [],
   "source": [
    "from IPython.display import Image\n",
    "Image(\"circos.png\")"
   ]
  },
  {
   "cell_type": "markdown",
   "metadata": {
    "papermill": {
     "duration": null,
     "end_time": null,
     "exception": null,
     "start_time": null,
     "status": "pending"
    },
    "tags": []
   },
   "source": [
    "----"
   ]
  },
  {
   "cell_type": "code",
   "execution_count": null,
   "metadata": {
    "papermill": {
     "duration": null,
     "end_time": null,
     "exception": null,
     "start_time": null,
     "status": "pending"
    },
    "tags": []
   },
   "outputs": [],
   "source": [
    "next_md = (\"Continue on to the next part of the Quick Start series by clicking [here &#10145;]({})</font>.\".format(next_nb))\n",
    "if end_nb:\n",
    "    next_md = (\"End of tutorials.\")\n",
    "#printmd(next_md)\n",
    "print(next_md) #use this because want to be able to edit the markdown and rendering it with `printmd` diables that"
   ]
  },
  {
   "cell_type": "markdown",
   "metadata": {
    "papermill": {
     "duration": null,
     "end_time": null,
     "exception": null,
     "start_time": null,
     "status": "pending"
    },
    "tags": []
   },
   "source": [
    "----"
   ]
  }
 ],
 "metadata": {
  "celltoolbar": "Tags",
  "kernelspec": {
   "display_name": "Python 3",
   "language": "python",
   "name": "python3"
  },
  "language_info": {
   "codemirror_mode": {
    "name": "ipython",
    "version": 3
   },
   "file_extension": ".py",
   "mimetype": "text/x-python",
   "name": "python",
   "nbconvert_exporter": "python",
   "pygments_lexer": "ipython3",
   "version": "3.7.2"
  },
  "papermill": {
   "duration": 3.392046,
   "end_time": "2019-04-08T02:49:32.487092",
   "environment_variables": {},
   "exception": true,
   "input_path": "Papermill Template for Circos later tutorial notebooks.ipynb",
   "output_path": "HelperTools_Part7.ipynb",
   "parameters": {
    "end_nb": false,
    "markdown": "\n# Part 7 of Helper Tools: Visualizing Categorical Data\n\nThis page is primarily based on the following page at the Circos documentation site:\n\n\n\n- [7. Visualizing Categorical Data](????????????)\n\n\n\nThat page is found as part number 4 of the ??? part ['Helper Tools' section](http://circos.ca/documentation/tutorials/quick_start/) of [the larger set of Circos tutorials](http://circos.ca/documentation/tutorials/).\n\n\n\nGo back to Part 6 by clicking [here &#8592;](HelperTools_Part6.ipynb).\n\n\n\n----\n\n\n\n9 --- Helper Tools\n==================\n\n7. Visualizing Categorical Data\n-------------------------------\n\n::: {#menu4}\n[[Lesson](/documentation/tutorials/utilities/categorical_data/lesson){.clean}]{.active}\n[Images](/documentation/tutorials/utilities/categorical_data/images){.normal}\n:::\n\nscript location\n---------------\n\n    tools/categoryviewer\n\nscript usage\n------------\n\n    > cd tools/categoryviewer\n    # use canned data\n    > ./makeimage\n    # which runs\n    > cat data/individuals.txt | bin/parse-category -conf etc/parse-category.conf > data/links.txt 2> data/karyotype.txt\n    > ../../bin/circos -conf etc/circos.conf\n\nThe input data must be tab delimited. The individuals.txt file is an\nexample of a randomly generated set of eye color, hair color, height and\nsex of 1000 individuals.\n\nThe output of parse-category is the link file, sent to STDOUT (redirect\nwith \\>), and the karyotype file, sent to STDERR (redirect with 2\\>).\n\ndetails\n-------\n\nThis utility tool is similar to the table viewer ([Tutorial\n9.5](http://mkweb.bcgsc.ca/circos/?tutorials&id=9&section=5)\ntools/tableviewer), but instead of tabular data (stored as a matrix of\nrows and columns), this tool generates images of categorical data which\nis supplied as one record per line. This utility tool is useful in\nanalyzing survey data, relationship between multiple choice answers, and\nany data in which a record is associated with two or more partitioned\nvalues (partitions can be categories, codes, or intervals).\n\n### sample data set\n\nFor the example data set, I have randomly generated a putative survey\nresponses of 1000 individuals that asked questions about sex, hair\ncolor, eye color and height. Each record corresponds to a respondent\\'s\nanswers.\n\n    0       female  f       red     3       green   2       165\n    1       female  f       blonde  0       blue    1       156\n    2       female  f       brown   1       grey    3       157\n    3       male    m       brown   1       green   2       165\n    4       female  f       black   2       blue    1       164\n    5       female  f       brown   1       green   2       158\n    ...\n    996     male    m       red     3       grey    3       179\n    997     female  f       red     3       green   2       163\n    998     female  f       black   2       brown   0       161\n    999     female  f       brown   1       brown   0       160\n\nEach responses is given in full (e.g. green) as well as a code. The\ncodes for hair are blonde=0, brown=1, black=2 and red=3. The codes for\neyes are brown=0, blue=1, green=2 and grey=3. Height is in centimeters.\n\nThe data were geneated using a probability model in which used the\nfrequency of hair color in the population and the probabilistic\nrelationship between hair and eye color. This is a primitive model with\nmanufactured parameters, but serves to illustrate the benefits of Circos\nvisualizations of categorical data.\n\n### hair and eye color\n\nThe first sample configuration file, etc/parse-category.conf, generates\nan image that compares hair and eye color. The start of the links are\ndefined by column 4 (0-index). This is the column that contains the hair\ncode (0-3). The color parameter defines the color of the segments from\nwhich the links will start.\n\n    <link_start>\n    id  = hair\n    col = 4\n    min = 0\n    max = 3\n    rx  = \\d\n    color = orange\n    </link_start>\n\nLink ends are defined by the eye color code, found in column 6. Eye\ncolor segments will be green.\n\n    <link_start>\n    id  = eye\n    col = 6\n    min = 0\n    max = 3\n    rx  = \\d\n    color = green\n    </link_start>\n\nOnce the categories for the start and end of the links are defined, the\ndata file is parsed and turned into a format that Circos can use. One\nset of segments will correspond to hair color, with a segment for each\ndistinct hair color code (value found in column 4). Another set of\nsegments will correspond to eye color. Links between them will encode\nthe number of records with a given hair/eye color combination.\n\nIn the first example image, the color of the links is determined by the\nvalue in column 2, which contains either \\\"m\\\" (male) or \\\"f\\\" (female).\nThe values block defines the link format values for each value in this\ncolumn.\n\n    <link_coding sex>\n    order = 2\n    use   = yes\n    col   = 2\n    <values>\n    m = color=black_a4\n    f = color=black_a8\n    </values>\n    </link_coding>\n\nYou can add more coding blocks, which are evaluated in order of the\nvalue of the order parameter. For example,\n\n    <link_coding height>\n    order = 1\n    use   = yes\n    col   = 7\n    <values>\n    158 = stroke_color=green,stroke_thickness=3p\n    159 = stroke_color=green,stroke_thickness=3p\n    160 = stroke_color=green,stroke_thickness=3p\n    161 = stroke_color=green,stroke_thickness=3p\n    162 = stroke_color=green,stroke_thickness=3p\n    168 = stroke_color=red,stroke_thickness=3p\n    169 = stroke_color=red,stroke_thickness=3p\n    170 = stroke_color=red,stroke_thickness=3p\n    171 = stroke_color=red,stroke_thickness=3p\n    172 = stroke_color=red,stroke_thickness=3p\n    </values>\n    </link_coding>\n\nThe rules for link formatting are simple: (1) rules triggered later\n(based on order parameter) overwrite any formatting set by previous\nrules, and (2) records with the same formatting form independent\nribbons. The consequence of (2) is that you can subdivide a group of\nrecords for a given start/end category value (e.g. blonde hair/blue eye)\ninto smaller groups based on other values (e.g. blonde/blue males and\nfemales, or blonde/blue males 170cm and blonde/blue females 160cm).\n\n### ribbon order\n\nThe order of the start and end of the ribbons on each segment is\ncontrolled by the \\<link\\_order\\> blocks. The following ways of ordering\nribbons are supported\n\n-   by size - ribbons are placed in decreasing order of thickness\n    (number of records)\n-   by coding - ribbons are placed in alphanumeric order of the code\n    used to determine their format characteristics through the\n    \\<link\\_coding\\> blocks\n-   by other end - ribbons are placed to limit the number of crossing\n    ribbons, and this order scheme can only be used for one of the two\n    ends\n-   by radius - ribbons are placed in increasing order of the radius of\n    their end\n\nRibbon order is defined in the \\<link\\_order\\> block and specified for\nthe start and end of the ribbon. For example,\n\n    <link_order>\n    start = otherend\n    end   = size\n    </link_order>\n\n### ribbon radius\n\nThe radial position of a ribbon can be adjusted based on any column\nvalue. This is done using \\<radius\\> blocks within the \\<link\\_start\\>\nand \\<link\\_end\\> blocks. The radius of the ribbon is mapped onto radius\nmin-max range (rmin-rmax) based on the value of a column (possibly\nremapped) and a range of acceptable values (min-max).\n\nFor example, the block\n\n    <link_start>\n    ...\n    <radius>\n    use   = yes\n    col   = 7\n    remap = int((190-int(x))/5)\n    min   = 0\n    max   = 10\n    rmin  = 0.7\n    rmax  = 0.98\n    </radius>\n    </link_start>\n\nwill place the start of the ribbon at a radius proportional to a\nremapped height value. The height value is sampled from column 7 and\nremapped according to the remap parameter. The effect of the remap\nparameter as shown here is to map the height values, which range\n144-189, to a range 0-9.\n\nJust like for formatting, radial values are used to split the record\nset. If you have a large number of possible radial values, you will wind\nup with a large number of thin ribbons, since it\\'s likely that no more\nthan a few records will have the same radial value. It is therefore a\ngood idea to bin adjacent radial values together to reduce the number of\nribbons and avoid having a busy, uninterpretable figure.\n\n",
    "next_nb": "ImageMaps_Part1.ipynb",
    "section": 9,
    "sub_pg": 7
   },
   "start_time": "2019-04-08T02:49:29.095046",
   "version": "0.19.0"
  }
 },
 "nbformat": 4,
 "nbformat_minor": 2
}