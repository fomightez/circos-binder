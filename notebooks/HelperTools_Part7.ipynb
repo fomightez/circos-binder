{
 "cells": [
  {
   "cell_type": "markdown",
   "metadata": {},
   "source": [
    "# Part 7 of Helper Tools: Visualizing Categorical Data\n",
    "\n",
    "This page is primarily based on the following page at the Circos documentation site:\n",
    "\n",
    "\n",
    "\n",
    "- [7. Visualizing Categorical Data](????????????)\n",
    "\n",
    "\n",
    "\n",
    "That page is found as part number 4 of the ??? part ['Helper Tools' section](http://circos.ca/documentation/tutorials/quick_start/) of [the larger set of Circos tutorials](http://circos.ca/documentation/tutorials/).\n",
    "\n",
    "\n",
    "\n",
    "Go back to Part 6 by clicking [here &#8592;](HelperTools_Part6.ipynb).\n",
    "\n",
    "\n",
    "\n",
    "----\n",
    "\n",
    "\n",
    "\n",
    "9 --- Helper Tools\n",
    "==================\n",
    "\n",
    "7. Visualizing Categorical Data\n",
    "-------------------------------\n",
    "\n",
    "::: {#menu4}\n",
    "[[Lesson](/documentation/tutorials/utilities/categorical_data/lesson){.clean}]{.active}\n",
    "[Images](/documentation/tutorials/utilities/categorical_data/images){.normal}\n",
    ":::\n",
    "\n",
    "script location\n",
    "---------------"
   ]
  },
  {
   "cell_type": "markdown",
   "metadata": {},
   "source": [
    "```ini\n",
    "tools/categoryviewer\n",
    "```\n"
   ]
  },
  {
   "cell_type": "markdown",
   "metadata": {},
   "source": [
    "script usage\n",
    "------------"
   ]
  },
  {
   "cell_type": "markdown",
   "metadata": {},
   "source": [
    "```ini\n",
    "> cd tools/categoryviewer\n",
    "# use canned data\n",
    "> ./makeimage\n",
    "# which runs\n",
    "> cat data/individuals.txt | bin/parse-category -conf etc/parse-category.conf > data/links.txt 2> data/karyotype.txt\n",
    "> ../../bin/circos -conf etc/circos.conf\n",
    "```\n"
   ]
  },
  {
   "cell_type": "markdown",
   "metadata": {},
   "source": [
    "The input data must be tab delimited. The individuals.txt file is an\n",
    "example of a randomly generated set of eye color, hair color, height and\n",
    "sex of 1000 individuals.\n",
    "\n",
    "The output of parse-category is the link file, sent to STDOUT (redirect\n",
    "with \\>), and the karyotype file, sent to STDERR (redirect with 2\\>).\n",
    "\n",
    "details\n",
    "-------\n",
    "\n",
    "This utility tool is similar to the table viewer ([Tutorial\n",
    "9.5](http://mkweb.bcgsc.ca/circos/?tutorials&id=9&section=5)\n",
    "tools/tableviewer), but instead of tabular data (stored as a matrix of\n",
    "rows and columns), this tool generates images of categorical data which\n",
    "is supplied as one record per line. This utility tool is useful in\n",
    "analyzing survey data, relationship between multiple choice answers, and\n",
    "any data in which a record is associated with two or more partitioned\n",
    "values (partitions can be categories, codes, or intervals).\n",
    "\n",
    "### sample data set\n",
    "\n",
    "For the example data set, I have randomly generated a putative survey\n",
    "responses of 1000 individuals that asked questions about sex, hair\n",
    "color, eye color and height. Each record corresponds to a respondent\\'s\n",
    "answers."
   ]
  },
  {
   "cell_type": "markdown",
   "metadata": {},
   "source": [
    "```ini\n",
    "0       female  f       red     3       green   2       165\n",
    "1       female  f       blonde  0       blue    1       156\n",
    "2       female  f       brown   1       grey    3       157\n",
    "3       male    m       brown   1       green   2       165\n",
    "4       female  f       black   2       blue    1       164\n",
    "5       female  f       brown   1       green   2       158\n",
    "...\n",
    "996     male    m       red     3       grey    3       179\n",
    "997     female  f       red     3       green   2       163\n",
    "998     female  f       black   2       brown   0       161\n",
    "999     female  f       brown   1       brown   0       160\n",
    "```\n"
   ]
  },
  {
   "cell_type": "markdown",
   "metadata": {},
   "source": [
    "Each responses is given in full (e.g. green) as well as a code. The\n",
    "codes for hair are blonde=0, brown=1, black=2 and red=3. The codes for\n",
    "eyes are brown=0, blue=1, green=2 and grey=3. Height is in centimeters.\n",
    "\n",
    "The data were geneated using a probability model in which used the\n",
    "frequency of hair color in the population and the probabilistic\n",
    "relationship between hair and eye color. This is a primitive model with\n",
    "manufactured parameters, but serves to illustrate the benefits of Circos\n",
    "visualizations of categorical data.\n",
    "\n",
    "### hair and eye color\n",
    "\n",
    "The first sample configuration file, etc/parse-category.conf, generates\n",
    "an image that compares hair and eye color. The start of the links are\n",
    "defined by column 4 (0-index). This is the column that contains the hair\n",
    "code (0-3). The color parameter defines the color of the segments from\n",
    "which the links will start."
   ]
  },
  {
   "cell_type": "markdown",
   "metadata": {},
   "source": [
    "```ini\n",
    "<link_start>\n",
    "id  = hair\n",
    "col = 4\n",
    "min = 0\n",
    "max = 3\n",
    "rx  = \\d\n",
    "color = orange\n",
    "</link_start>\n",
    "```\n"
   ]
  },
  {
   "cell_type": "markdown",
   "metadata": {},
   "source": [
    "Link ends are defined by the eye color code, found in column 6. Eye\n",
    "color segments will be green."
   ]
  },
  {
   "cell_type": "markdown",
   "metadata": {},
   "source": [
    "```ini\n",
    "<link_start>\n",
    "id  = eye\n",
    "col = 6\n",
    "min = 0\n",
    "max = 3\n",
    "rx  = \\d\n",
    "color = green\n",
    "</link_start>\n",
    "```\n"
   ]
  },
  {
   "cell_type": "markdown",
   "metadata": {},
   "source": [
    "Once the categories for the start and end of the links are defined, the\n",
    "data file is parsed and turned into a format that Circos can use. One\n",
    "set of segments will correspond to hair color, with a segment for each\n",
    "distinct hair color code (value found in column 4). Another set of\n",
    "segments will correspond to eye color. Links between them will encode\n",
    "the number of records with a given hair/eye color combination.\n",
    "\n",
    "In the first example image, the color of the links is determined by the\n",
    "value in column 2, which contains either \\\"m\\\" (male) or \\\"f\\\" (female).\n",
    "The values block defines the link format values for each value in this\n",
    "column."
   ]
  },
  {
   "cell_type": "markdown",
   "metadata": {},
   "source": [
    "```ini\n",
    "<link_coding sex>\n",
    "order = 2\n",
    "use   = yes\n",
    "col   = 2\n",
    "<values>\n",
    "m = color=black_a4\n",
    "f = color=black_a8\n",
    "</values>\n",
    "</link_coding>\n",
    "```\n"
   ]
  },
  {
   "cell_type": "markdown",
   "metadata": {},
   "source": [
    "You can add more coding blocks, which are evaluated in order of the\n",
    "value of the order parameter. For example,"
   ]
  },
  {
   "cell_type": "markdown",
   "metadata": {},
   "source": [
    "```ini\n",
    "<link_coding height>\n",
    "order = 1\n",
    "use   = yes\n",
    "col   = 7\n",
    "<values>\n",
    "158 = stroke_color=green,stroke_thickness=3p\n",
    "159 = stroke_color=green,stroke_thickness=3p\n",
    "160 = stroke_color=green,stroke_thickness=3p\n",
    "161 = stroke_color=green,stroke_thickness=3p\n",
    "162 = stroke_color=green,stroke_thickness=3p\n",
    "168 = stroke_color=red,stroke_thickness=3p\n",
    "169 = stroke_color=red,stroke_thickness=3p\n",
    "170 = stroke_color=red,stroke_thickness=3p\n",
    "171 = stroke_color=red,stroke_thickness=3p\n",
    "172 = stroke_color=red,stroke_thickness=3p\n",
    "</values>\n",
    "</link_coding>\n",
    "```\n"
   ]
  },
  {
   "cell_type": "markdown",
   "metadata": {},
   "source": [
    "The rules for link formatting are simple: (1) rules triggered later\n",
    "(based on order parameter) overwrite any formatting set by previous\n",
    "rules, and (2) records with the same formatting form independent\n",
    "ribbons. The consequence of (2) is that you can subdivide a group of\n",
    "records for a given start/end category value (e.g. blonde hair/blue eye)\n",
    "into smaller groups based on other values (e.g. blonde/blue males and\n",
    "females, or blonde/blue males 170cm and blonde/blue females 160cm).\n",
    "\n",
    "### ribbon order\n",
    "\n",
    "The order of the start and end of the ribbons on each segment is\n",
    "controlled by the \\<link\\_order\\> blocks. The following ways of ordering\n",
    "ribbons are supported\n",
    "\n",
    "-   by size - ribbons are placed in decreasing order of thickness"
   ]
  },
  {
   "cell_type": "markdown",
   "metadata": {},
   "source": [
    "```ini\n",
    "(number of records)\n",
    "```\n"
   ]
  },
  {
   "cell_type": "markdown",
   "metadata": {},
   "source": [
    "-   by coding - ribbons are placed in alphanumeric order of the code"
   ]
  },
  {
   "cell_type": "markdown",
   "metadata": {},
   "source": [
    "```ini\n",
    "used to determine their format characteristics through the\n",
    "\\<link\\_coding\\> blocks\n",
    "```\n"
   ]
  },
  {
   "cell_type": "markdown",
   "metadata": {},
   "source": [
    "-   by other end - ribbons are placed to limit the number of crossing"
   ]
  },
  {
   "cell_type": "markdown",
   "metadata": {},
   "source": [
    "```ini\n",
    "ribbons, and this order scheme can only be used for one of the two\n",
    "ends\n",
    "```\n"
   ]
  },
  {
   "cell_type": "markdown",
   "metadata": {},
   "source": [
    "-   by radius - ribbons are placed in increasing order of the radius of"
   ]
  },
  {
   "cell_type": "markdown",
   "metadata": {},
   "source": [
    "```ini\n",
    "their end\n",
    "```\n"
   ]
  },
  {
   "cell_type": "markdown",
   "metadata": {},
   "source": [
    "Ribbon order is defined in the \\<link\\_order\\> block and specified for\n",
    "the start and end of the ribbon. For example,"
   ]
  },
  {
   "cell_type": "markdown",
   "metadata": {},
   "source": [
    "```ini\n",
    "<link_order>\n",
    "start = otherend\n",
    "end   = size\n",
    "</link_order>\n",
    "```\n"
   ]
  },
  {
   "cell_type": "markdown",
   "metadata": {},
   "source": [
    "### ribbon radius\n",
    "\n",
    "The radial position of a ribbon can be adjusted based on any column\n",
    "value. This is done using \\<radius\\> blocks within the \\<link\\_start\\>\n",
    "and \\<link\\_end\\> blocks. The radius of the ribbon is mapped onto radius\n",
    "min-max range (rmin-rmax) based on the value of a column (possibly\n",
    "remapped) and a range of acceptable values (min-max).\n",
    "\n",
    "For example, the block"
   ]
  },
  {
   "cell_type": "markdown",
   "metadata": {},
   "source": [
    "```ini\n",
    "<link_start>\n",
    "...\n",
    "<radius>\n",
    "use   = yes\n",
    "col   = 7\n",
    "remap = int((190-int(x))/5)\n",
    "min   = 0\n",
    "max   = 10\n",
    "rmin  = 0.7\n",
    "rmax  = 0.98\n",
    "</radius>\n",
    "</link_start>\n",
    "```\n"
   ]
  },
  {
   "cell_type": "markdown",
   "metadata": {},
   "source": [
    "will place the start of the ribbon at a radius proportional to a\n",
    "remapped height value. The height value is sampled from column 7 and\n",
    "remapped according to the remap parameter. The effect of the remap\n",
    "parameter as shown here is to map the height values, which range\n",
    "144-189, to a range 0-9.\n",
    "\n",
    "Just like for formatting, radial values are used to split the record\n",
    "set. If you have a large number of possible radial values, you will wind\n",
    "up with a large number of thin ribbons, since it\\'s likely that no more\n",
    "than a few records will have the same radial value. It is therefore a\n",
    "good idea to bin adjacent radial values together to reduce the number of\n",
    "ribbons and avoid having a busy, uninterpretable figure.\n",
    "\n",
    "\n",
    "\n",
    "\n",
    "----\n",
    "\n",
    "### Generating the plot produced by this example code\n",
    "\n",
    "\n",
    "The following two cells will generate the plot. The first cell adjusts the current working directory."
   ]
  },
  {
   "cell_type": "code",
   "execution_count": null,
   "metadata": {},
   "outputs": [],
   "source": [
    "%cd ../circos-tutorials-0.67/tutorials/9/7/"
   ]
  },
  {
   "cell_type": "code",
   "execution_count": null,
   "metadata": {},
   "outputs": [],
   "source": [
    "%%bash\n",
    "../../../../circos-0.69-6/bin/circos -conf circos.conf"
   ]
  },
  {
   "cell_type": "markdown",
   "metadata": {},
   "source": [
    "View the plot in this page using the following cell."
   ]
  },
  {
   "cell_type": "code",
   "execution_count": null,
   "metadata": {},
   "outputs": [],
   "source": [
    "from IPython.display import Image\n",
    "Image(\"circos.png\")"
   ]
  },
  {
   "cell_type": "markdown",
   "metadata": {},
   "source": [
    "----\n",
    "\n",
    "Continue on to the next part of the Helper Tools series by clicking [here &#10145;](ImageMaps_Part1.ipynb).\n",
    "\n",
    "----"
   ]
  }
 ],
 "metadata": {},
 "nbformat": 4,
 "nbformat_minor": 2
}
