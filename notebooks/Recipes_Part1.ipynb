{
 "cells": [
  {
   "cell_type": "markdown",
   "metadata": {},
   "source": [
    "# Part 1 of Recipes: Microbial Genome\n",
    "\n",
    "This page is primarily based on the following page at the Circos documentation site:\n",
    "\n",
    "\n",
    "\n",
    "- [1. Microbial Genome](????????????)\n",
    "\n",
    "\n",
    "\n",
    "That page is the first part of the ??? part ['Recipes' section](http://circos.ca/documentation/tutorials/quick_start/) of [the larger set of Circos tutorials](http://circos.ca/documentation/tutorials/).\n",
    "\n",
    "\n",
    "\n",
    "Go back to the end of the previous section by clicking [here &#8592;](AxisScaling_Part8.ipynb).\n",
    "\n",
    "\n",
    "\n",
    "----\n",
    "\n",
    "\n",
    "\n",
    "8 --- Recipes\n",
    "=============\n",
    "\n",
    "1. Microbial Genome\n",
    "-------------------\n",
    "\n",
    "::: {#menu4}\n",
    "[[Lesson](/documentation/tutorials/recipes/microbial_genomes/lesson){.clean}]{.active}\n",
    "[Images](/documentation/tutorials/recipes/microbial_genomes/images){.normal}\n",
    "[Configuration](/documentation/tutorials/recipes/microbial_genomes/configuration){.normal}\n",
    ":::\n",
    "\n",
    "Circos is suitable for creating images of genomes that only have one\n",
    "chromosome, such as circular bacterial genomes. This example mentions a\n",
    "few tips in creating such images.\n",
    "\n",
    "### structures crossing origin\n",
    "\n",
    "First, and perhaps ironically, Circos doesn\\'t actually understand the\n",
    "concept of a circular chromosome. In other words, a chromosome, which is\n",
    "represented by one or more ideograms, must have a beginning and an end\n",
    "which are explicitly defined.\n",
    "\n",
    "This means that on circular chromosomes, structures (e.g. clone, gene)\n",
    "that cross the origin must be defined by two entries. For example, if\n",
    "you have a 1 Mb genome, and wish to have a highlight from `950,000` to\n",
    "`50,000` you must define two highlights: `950,000-1,000,000` and then\n",
    "another `1-50,000`.\n",
    "\n",
    "### ideogram breaks\n",
    "\n",
    "To achieve an image with an ideogram that appears circular, set the\n",
    "ideogram spacing values to `0`. This is done in the\n",
    "[\\<ideogram\\>]{.syn-block}[\\<spacing\\>]{.syn-block} found in the\n",
    "`ideogram.conf`{.syn-include} file (which is linked to the main\n",
    "`circos.conf`{.syn-include} file via the `<<include ideogram.conf>>`\n",
    "directive."
   ]
  },
  {
   "cell_type": "markdown",
   "metadata": {},
   "source": [
    "```ini\n",
    "<ideogram>\n",
    "<spacing>\n",
    "default = 0u\n",
    "break   = 0u\n",
    "</ideogram>\n",
    "</spacing>\n",
    "```\n"
   ]
  },
  {
   "cell_type": "markdown",
   "metadata": {},
   "source": [
    "If you would like to decompose the chromosome into multiple ideograms,\n",
    "you still need to maintain a zero-separation between the ideograms\n",
    "containing the end and beginning of the chromosome. One of the images in\n",
    "this example shows how to introduce three axis breaks into the image in\n",
    "this manner, using the [\\<pairwise\\>]{.syn-block} block.\n",
    "\n",
    "\n",
    "\n",
    "\n",
    "----\n",
    "\n",
    "### Generating the plot produced by this example code\n",
    "\n",
    "\n",
    "The following two cells will generate the plot. The first cell adjusts the current working directory."
   ]
  },
  {
   "cell_type": "code",
   "execution_count": null,
   "metadata": {},
   "outputs": [],
   "source": [
    "%cd ../circos-tutorials-0.67/tutorials/8/1/"
   ]
  },
  {
   "cell_type": "code",
   "execution_count": null,
   "metadata": {},
   "outputs": [],
   "source": [
    "%%bash\n",
    "../../../../circos-0.69-6/bin/circos -conf circos.conf"
   ]
  },
  {
   "cell_type": "markdown",
   "metadata": {},
   "source": [
    "View the plot in this page using the following cell."
   ]
  },
  {
   "cell_type": "code",
   "execution_count": null,
   "metadata": {},
   "outputs": [],
   "source": [
    "from IPython.display import Image\n",
    "Image(\"circos.png\")"
   ]
  },
  {
   "cell_type": "markdown",
   "metadata": {},
   "source": [
    "----\n",
    "\n",
    "Continue on to the next part of the Recipes series by clicking [here &#10145;](Recipes_Part2.ipynb).\n",
    "\n",
    "----"
   ]
  }
 ],
 "metadata": {},
 "nbformat": 4,
 "nbformat_minor": 2
}
