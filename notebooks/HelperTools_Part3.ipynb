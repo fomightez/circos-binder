{
 "cells": [
  {
   "cell_type": "markdown",
   "metadata": {},
   "source": [
    "# Part 2 of Helper Tools: Bundling Links\n",
    "\n",
    "This page is primarily based on the following page at the Circos documentation site:\n",
    "\n",
    "\n",
    "\n",
    "- [3. Bundling Links](????????????)\n",
    "\n",
    "\n",
    "\n",
    "That page is found as part number 4 of the ??? part ['Helper Tools' section](http://circos.ca/documentation/tutorials/quick_start/) of [the larger set of Circos tutorials](http://circos.ca/documentation/tutorials/).\n",
    "\n",
    "\n",
    "\n",
    "Go back to Part 2 by clicking [here &#8592;](HelperTools_Part2.ipynb).\n",
    "\n",
    "\n",
    "\n",
    "----\n",
    "\n",
    "\n",
    "\n",
    "9 --- Helper Tools\n",
    "==================\n",
    "\n",
    "3. Bundling Links\n",
    "-----------------\n",
    "\n",
    "::: {#menu4}\n",
    "[[Lesson](/documentation/tutorials/utilities/bundling_links/lesson){.clean}]{.active}\n",
    "[Images](/documentation/tutorials/utilities/bundling_links/images){.normal}\n",
    ":::\n",
    "\n",
    "script location\n",
    "---------------"
   ]
  },
  {
   "cell_type": "markdown",
   "metadata": {},
   "source": [
    "```ini\n",
    "tools/bundlelinks\n",
    "```\n"
   ]
  },
  {
   "cell_type": "markdown",
   "metadata": {},
   "source": [
    "script usage\n",
    "------------"
   ]
  },
  {
   "cell_type": "markdown",
   "metadata": {},
   "source": [
    "```ini\n",
    "> cd tools/bundlelinks\n",
    "> ./run\n",
    "num_links 39978\n",
    "num_links_in_init_bundles 39839\n",
    "num_init_bundles 524\n",
    "num_passed_bundles 277 (52.86%)\n",
    "num_links_in_passed_bundles 36732 (92.20%)\n",
    "```\n"
   ]
  },
  {
   "cell_type": "markdown",
   "metadata": {},
   "source": [
    "The script sends a new links file to STDOUT and the report shown above\n",
    "to STDERR.\n",
    "\n",
    "To get the full manpage, use -man."
   ]
  },
  {
   "cell_type": "markdown",
   "metadata": {},
   "source": [
    "```ini\n",
    "> cd tools/bundlelinks\n",
    "> bin/bundlelinks -man\n",
    "```\n"
   ]
  },
  {
   "cell_type": "markdown",
   "metadata": {},
   "source": [
    "Adjust the configuration file etc/bundlelinks.conf to suit your needs.\n",
    "\n",
    "details\n",
    "-------\n",
    "\n",
    "The purpose of the bundlelinks tool is to reduce the number of links in\n",
    "a dataset by merging (or bundling) adjacent links together. By merging\n",
    "links, you can distill a visually complex representation into one which\n",
    "effectively summarizes the link structure of your data. A bundle is\n",
    "encoded as a new link with a single start and end position, which are\n",
    "formed by the boundaries of the merged links. Bundles are best shown\n",
    "using the ribbon feature.\n",
    "\n",
    "I will use an example data set to motivate the need for bundlelinks and\n",
    "to show how effective it can be to glean patterns. I will be using the\n",
    "synteny data that relates the dog and human genomes. This data set has\n",
    "nearly 40,000 links which represent individual syntenic relationships\n",
    "between the dog and human genomes (bundlelinks/data/dog.vs.human.txt).\n",
    "\n",
    "### merging adjacent links and the -max\\_gap parameter\n",
    "\n",
    "The [first image](#img1) of this tutorial shows the complexity of an\n",
    "image that has 40,000 links. There are certain patterns that are obvious\n",
    "(e.g., high similarity beween all of human chrX and dog chrX, as well\n",
    "as, to a lesser extent, human chr14 and dog chr8), but these patterns\n",
    "are visible due to the fact that individual link lines are thick enough\n",
    "for adjacent links to merge together in the final image. The bundlelinks\n",
    "tool attempts to encode these patterns in a new link data set.\n",
    "\n",
    "I will bundle the dog-vs-human links with progressively looser grouping,\n",
    "to reduce the number of links. First, let\\'s try a very strict bundling,\n",
    "which merges links that are within 1Mb of one another (-max\\_gap\n",
    "1000000). The bundle report for this merging shows that 2,720 bundles\n",
    "were created. In effect, the number of links has dropped to 7% of its\n",
    "original number."
   ]
  },
  {
   "cell_type": "markdown",
   "metadata": {},
   "source": [
    "```ini\n",
    "# -max_gap 1e6 \n",
    "num_links 39978\n",
    "num_links_in_init_bundles 39978\n",
    "num_init_bundles 2720\n",
    "num_passed_bundles 2720 (100.00%)\n",
    "num_links_in_passed_bundles 39978 (100.00%)\n",
    "```\n"
   ]
  },
  {
   "cell_type": "markdown",
   "metadata": {},
   "source": [
    "The [second image](#img2) in this tutorial shows these bundles. Note\n",
    "that these bundles are now drawn as ribbon links since their start and\n",
    "end spans can be large.\n",
    "\n",
    "Note that bundles may overlap at one end - this is a result of the fact\n",
    "that when links are merged, a given region can give rise to multiple\n",
    "bundles with different end points.\n",
    "\n",
    "### bundling with -strict\n",
    "\n",
    "By using the -strict setting, any one-link bundles are rejected and\n",
    "about 200 such bundles are removed."
   ]
  },
  {
   "cell_type": "markdown",
   "metadata": {},
   "source": [
    "```ini\n",
    "# -strict -max_gap 1e6 \n",
    "num_links 39978\n",
    "num_links_in_init_bundles 39788\n",
    "num_init_bundles 2530\n",
    "num_passed_bundles 2530 (100.00%)\n",
    "num_links_in_passed_bundles 39788 (100.00%)\n",
    "```\n"
   ]
  },
  {
   "cell_type": "markdown",
   "metadata": {},
   "source": [
    "### filtering small bundles\n",
    "\n",
    "This is still a lot of bundles, however, and the image, though less\n",
    "complex than before, is still looking very busy. At this point, you can\n",
    "reduce the number of bundles by either (a) increasing the gap\\_size, and\n",
    "thereby merging more distant links together, (b) making the bundle\n",
    "minimum size and membership filter more aggressive, or (c) both.\n",
    "\n",
    "For example, by adding a minimum size filter using -min\\_bundle\\_size\n",
    "200000, filters bundles down to 478 ([example](#img3))."
   ]
  },
  {
   "cell_type": "markdown",
   "metadata": {},
   "source": [
    "```ini\n",
    "# -strict -max_gap 1e6 -min_bundle_size 2e5\n",
    "num_links 39978\n",
    "num_links_in_init_bundles 39788\n",
    "num_init_bundles 2530\n",
    "num_passed_bundles 478 (18.89%)\n",
    "num_links_in_passed_bundles 11875 (29.85%)\n",
    "```\n"
   ]
  },
  {
   "cell_type": "markdown",
   "metadata": {},
   "source": [
    "Tightening the filter further, only 13 bundles are passed if the minimum\n",
    "bundle size is 1Mb. In this case, these 13 bundles represent the largest\n",
    "regions of the respective genomes that harboured tightly (within 1Mb)\n",
    "spaced links.\n",
    "\n",
    "If size of links is less important than the number of links in a bundle,\n",
    "you can filter bundles based on the number of links they comprise using\n",
    "-min\\_bundle\\_membership ([example](#img5)).\n",
    "\n",
    "### filtering gappy bundles\n",
    "\n",
    "On the other hand, by loosening the maximum gap parameter, links which\n",
    "were previously in different bundles (or unbundled) because their ends\n",
    "were not sufficiently close to another link, are now brought into the\n",
    "same bundle. As you grow the gap parameter, bundles become more gappy.\n",
    "That is, the spatial relationship between bundled links grows weaker\n",
    "because more distant links are accepted into the bundle. To avoid\n",
    "excessively gappy bundles, use -min\\_bundle\\_identity, which filters\n",
    "bundles based on the size of their links relative to the extent of the\n",
    "bundle.\n",
    "\n",
    "For example, with a maximum gap of 10Mb and a min\\_bundle\\_identity of\n",
    "0.25, there are 81 bundles that are passed ([example](#img4))."
   ]
  },
  {
   "cell_type": "markdown",
   "metadata": {},
   "source": [
    "```ini\n",
    "num_links 39978\n",
    "num_links_in_init_bundles 39839\n",
    "num_init_bundles 524\n",
    "num_passed_bundles 81 (15.46%)\n",
    "num_links_in_passed_bundles 2194 (5.51%)\n",
    "```\n"
   ]
  },
  {
   "cell_type": "markdown",
   "metadata": {},
   "source": [
    "### bundlelinks and orderchr\n",
    "\n",
    "The bundlelinks script is very useful when you want to use orderchr to\n",
    "optimize chromosome order, but have such a large data set that the\n",
    "optimization takes a very long time.\n",
    "\n",
    "First, use bundlelinks to merge links together and then run orderchr on\n",
    "the bundled data set. By reducing the number of links to 1,000-2,000 the\n",
    "orderchr optimization can proceed relatively quickly. After you\\'ve\n",
    "refined the order, you can use the new chromosome arrangement on the\n",
    "original, unbundled dataset ([example](#img6)).\n",
    "\n",
    "bundlelinks manpage\n",
    "-------------------\n",
    "\n",
    "-   [NAME](#NAME)\n",
    "-   [SYNOPSIS](#SYNOPSIS)\n",
    "-   [DESCRIPTION](#DESCRIPTION)\n",
    "-   [OUTPUT](#OUTPUT)\n",
    "-   [OPTIONS](#OPTIONS)"
   ]
  },
  {
   "cell_type": "markdown",
   "metadata": {},
   "source": [
    "```ini\n",
    "-   [-max\\_gap](#_max_gap)\n",
    "-   [-min\\_bundle\\_membership,\n",
    "-strict](#_min_bundle_membership_strict)\n",
    "-   [-min\\_bundle\\_size](#_min_bundle_size)\n",
    "-   [-min\\_bundle\\_identity](#_min_bundle_identity)\n",
    "```\n"
   ]
  },
  {
   "cell_type": "markdown",
   "metadata": {},
   "source": [
    "-   [HISTORY](#HISTORY)\n",
    "-   [BUGS](#BUGS)\n",
    "-   [AUTHOR](#AUTHOR)\n",
    "-   [CONTACT](#CONTACT)\n",
    "\n",
    "------------------------------------------------------------------------\n",
    "\n",
    "------------------------------------------------------------------------\n",
    "\n",
    "[NAME]{#NAME}\n",
    "=============\n",
    "\n",
    "bundlelinks - bundle neighbouring links together in an effort to reduce\n",
    "complexity of link structure\n",
    "\n",
    "------------------------------------------------------------------------\n",
    "\n",
    "[SYNOPSIS]{#SYNOPSIS}\n",
    "====================="
   ]
  },
  {
   "cell_type": "markdown",
   "metadata": {},
   "source": [
    "```ini\n",
    "bundlelinks -links linkfile.txt -max_gap NUM\n",
    "{-min_bundle_membership NUM | -strict }\n",
    "{-min_bundle_size NUM}\n",
    "{-min_bundle_identity FRACTION}\n",
    "```\n"
   ]
  },
  {
   "cell_type": "markdown",
   "metadata": {},
   "source": [
    "```ini\n",
    "bundlelinks -links data/dog.vs.human.all.txt > data/dog.vs.human.bundles.txt\n",
    "```\n"
   ]
  },
  {
   "cell_type": "markdown",
   "metadata": {},
   "source": [
    "------------------------------------------------------------------------\n",
    "\n",
    "[DESCRIPTION]{#DESCRIPTION}\n",
    "===========================\n",
    "\n",
    "The purpose of this script is to turn a large set of links into a\n",
    "smaller one by merging neighbouring links.\n",
    "\n",
    "------------------------------------------------------------------------\n",
    "\n",
    "[OUTPUT]{#OUTPUT}\n",
    "=================\n",
    "\n",
    "The script produces a new link file to STDOUT.\n",
    "\n",
    "A tally is sent to STDERR that lists the following"
   ]
  },
  {
   "cell_type": "markdown",
   "metadata": {},
   "source": [
    "```ini\n",
    "# total number of links read in\n",
    "num_links 39978\n",
    "# number of links in initial bundles (filtered for membership)\n",
    "num_links_in_init_bundles 39839\n",
    "# total number of initial bundles\n",
    "num_init_bundles 524\n",
    "# number of accepted bundles (filtered for both size and membership)\n",
    "num_passed_bundles 277 (52.86%)\n",
    "# number of links in accepted bundles\n",
    "num_links_in_passed_bundles 36732 (92.20%)\n",
    "```\n"
   ]
  },
  {
   "cell_type": "markdown",
   "metadata": {},
   "source": [
    "------------------------------------------------------------------------\n",
    "\n",
    "[OPTIONS]{#OPTIONS}\n",
    "===================\n",
    "\n",
    "------------------------------------------------------------------------\n",
    "\n",
    "[-max\\_gap]{#_max_gap}\n",
    "----------------------\n",
    "\n",
    "Adjacent links are merged into bundles if their start/end coordinates\n",
    "are sufficiently close. Given two links L1 and L2, they are merged into\n",
    "a bundle if"
   ]
  },
  {
   "cell_type": "markdown",
   "metadata": {},
   "source": [
    "```ini\n",
    "chr( start(L1) ) == chr( start(L2) )\n",
    "chr( end(L1) ) == chr( end(L2) )\n",
    "```\n"
   ]
  },
  {
   "cell_type": "markdown",
   "metadata": {},
   "source": [
    "```ini\n",
    "distance( start(L1), start(L2) ) <= MAX_GAP\n",
    "distance( end(L1), end(L2) ) <= MAX_GAP\n",
    "```\n"
   ]
  },
  {
   "cell_type": "markdown",
   "metadata": {},
   "source": [
    "If a link does not have any acceptable adjacent neighbouring links, it\n",
    "forms a single-link bundle.\n",
    "\n",
    "------------------------------------------------------------------------\n",
    "\n",
    "[-min\\_bundle\\_membership, -strict]{#_min_bundle_membership_strict}\n",
    "-------------------------------------------------------------------\n",
    "\n",
    "These parameters filter bundles with few links. You can set the minimum\n",
    "number of links required in a bundle for the bundle to be accepted\n",
    "(-min\\_bundle\\_membership).\n",
    "\n",
    "The -strict option is equivalent to -min\\_bundle\\_membership 2.\n",
    "\n",
    "------------------------------------------------------------------------\n",
    "\n",
    "[-min\\_bundle\\_size]{#_min_bundle_size}\n",
    "---------------------------------------\n",
    "\n",
    "In addition to, or in place of, filtering bundles based on the number of\n",
    "links they comprise, you can accept bundles based on the size of the\n",
    "links in the bundle.\n",
    "\n",
    "The minimum size parameter is applied independently to both ends of all\n",
    "links in a bundle.\n",
    "\n",
    "------------------------------------------------------------------------\n",
    "\n",
    "[-min\\_bundle\\_identity]{#_min_bundle_identity}\n",
    "-----------------------------------------------\n",
    "\n",
    "This parameter filters bundles based on the bundle identity, which is\n",
    "defined as"
   ]
  },
  {
   "cell_type": "markdown",
   "metadata": {},
   "source": [
    "```ini\n",
    "identity = size(merged links) / extent(merged links)\n",
    "```\n"
   ]
  },
  {
   "cell_type": "markdown",
   "metadata": {},
   "source": [
    "Both ends of the bundle are evaluated independently.\n",
    "\n",
    "------------------------------------------------------------------------\n",
    "\n",
    "[HISTORY]{#HISTORY}\n",
    "===================\n",
    "\n",
    "-   **[16 July 2008]{#item_16}**"
   ]
  },
  {
   "cell_type": "markdown",
   "metadata": {},
   "source": [
    "```ini\n",
    "Started and versioned.\n",
    "```\n"
   ]
  },
  {
   "cell_type": "markdown",
   "metadata": {},
   "source": [
    "------------------------------------------------------------------------\n",
    "\n",
    "[BUGS]{#BUGS}\n",
    "=============\n",
    "\n",
    "------------------------------------------------------------------------\n",
    "\n",
    "[AUTHOR]{#AUTHOR}\n",
    "=================\n",
    "\n",
    "Martin Krzywinski\n",
    "\n",
    "------------------------------------------------------------------------\n",
    "\n",
    "[CONTACT]{#CONTACT}\n",
    "==================="
   ]
  },
  {
   "cell_type": "markdown",
   "metadata": {},
   "source": [
    "```ini\n",
    "Martin Krzywinski\n",
    "Genome Sciences Centre\n",
    "Vancouver BC Canada\n",
    "www.bcgsc.ca\n",
    "martink@bcgsc.ca\n",
    "```\n"
   ]
  },
  {
   "cell_type": "markdown",
   "metadata": {},
   "source": [
    "----\n",
    "\n",
    "### Generating the plot produced by this example code\n",
    "\n",
    "\n",
    "The following two cells will generate the plot. The first cell adjusts the current working directory."
   ]
  },
  {
   "cell_type": "code",
   "execution_count": null,
   "metadata": {},
   "outputs": [],
   "source": [
    "%cd ../circos-tutorials-0.67/tutorials/9/3/"
   ]
  },
  {
   "cell_type": "code",
   "execution_count": null,
   "metadata": {},
   "outputs": [],
   "source": [
    "%%bash\n",
    "../../../../circos-0.69-6/bin/circos -conf circos.conf"
   ]
  },
  {
   "cell_type": "markdown",
   "metadata": {},
   "source": [
    "View the plot in this page using the following cell."
   ]
  },
  {
   "cell_type": "code",
   "execution_count": null,
   "metadata": {},
   "outputs": [],
   "source": [
    "from IPython.display import Image\n",
    "Image(\"circos.png\")"
   ]
  },
  {
   "cell_type": "markdown",
   "metadata": {},
   "source": [
    "----\n",
    "\n",
    "Continue on to the next part of the Helper Tools series by clicking [here &#10145;](HelperTools_Part4.ipynb).\n",
    "\n",
    "----"
   ]
  }
 ],
 "metadata": {},
 "nbformat": 4,
 "nbformat_minor": 2
}
