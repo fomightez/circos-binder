{
 "cells": [
  {
   "cell_type": "markdown",
   "metadata": {},
   "source": [
    "# Part 9 of 2D Data Tracks: Glyphs --- Part I\n",
    "\n",
    "This page is primarily based on the following page at the Circos documentation site:\n",
    "\n",
    "\n",
    "\n",
    "- [9. Glyphs --- Part I](????????????)\n",
    "\n",
    "\n",
    "\n",
    "That page is found as part number 4 of the ??? part ['2D Data Tracks' section](http://circos.ca/documentation/tutorials/quick_start/) of [the larger set of Circos tutorials](http://circos.ca/documentation/tutorials/).\n",
    "\n",
    "\n",
    "\n",
    "Go back to Part 8 by clicking [here &#8592;](2d_data_tracks_Part8.ipynb).\n",
    "\n",
    "\n",
    "\n",
    "----\n",
    "\n",
    "\n",
    "\n",
    "6 --- 2D Data Tracks\n",
    "====================\n",
    "\n",
    "9. Glyphs --- Part I\n",
    "--------------------\n",
    "\n",
    "::: {#menu4}\n",
    "[[Lesson](/documentation/tutorials/2d_tracks/glyphs_1/lesson){.clean}]{.active}\n",
    "[Images](/documentation/tutorials/2d_tracks/glyphs_1/images){.normal}\n",
    "[Configuration](/documentation/tutorials/2d_tracks/glyphs_1/configuration){.normal}\n",
    ":::\n",
    "\n",
    "Rules can be used to adjust the text of the label. This is done by\n",
    "setting the `value` parameter in the rule. The rule below sets all\n",
    "labels to `X`, regardless of their original text."
   ]
  },
  {
   "cell_type": "markdown",
   "metadata": {},
   "source": [
    "```ini\n",
    "<rule>\n",
    "condition  = 1\n",
    "value      = X\n",
    "</rule>\n",
    "```\n"
   ]
  },
  {
   "cell_type": "markdown",
   "metadata": {},
   "source": [
    "You can combine this with other rules. For example, if the text is\n",
    "sequence, you can set the color of the character based on its identity\n",
    "and then change it to another value. The color rules must have\n",
    "`flow=continue` to allow the downstream label-changing rule to also be\n",
    "evaluated (recall that without this `flow=continue statement`, triggered\n",
    "rules terminate the rule chain)."
   ]
  },
  {
   "cell_type": "markdown",
   "metadata": {},
   "source": [
    "```ini\n",
    "# first change color\n",
    "<rule>\n",
    "condition  = var(value) eq \"A\"\n",
    "color      = red\n",
    "flow       = continue\n",
    "</rule>\n",
    "```\n"
   ]
  },
  {
   "cell_type": "markdown",
   "metadata": {},
   "source": [
    "```ini\n",
    "<rule>\n",
    "condition  = var(value) eq \"T\"\n",
    "color      = blue\n",
    "flow       = continue\n",
    "</rule>\n",
    "```\n"
   ]
  },
  {
   "cell_type": "markdown",
   "metadata": {},
   "source": [
    "```ini\n",
    "<rule>\n",
    "condition  = var(value) eq \"C\"\n",
    "color      = green\n",
    "flow       = continue\n",
    "</rule>\n",
    "```\n"
   ]
  },
  {
   "cell_type": "markdown",
   "metadata": {},
   "source": [
    "```ini\n",
    "# change label text, for all data points\n",
    "<rule>\n",
    "condition  = 1\n",
    "value      = X\n",
    "</rule>\n",
    "```\n"
   ]
  },
  {
   "cell_type": "markdown",
   "metadata": {},
   "source": [
    "You can turn a text track into a glyph track by changing the font and\n",
    "adjusting the text label to the desired glyph. For example, using the\n",
    "symbol font (fonts/symbols/symbols.ttf, defined under the font name\n",
    "`glyph` in `etc/fonts.conf`{.syn-include}), you can obtain square glyphs\n",
    "like so"
   ]
  },
  {
   "cell_type": "markdown",
   "metadata": {},
   "source": [
    "```ini\n",
    "<plot>\n",
    "label_font = glyph\n",
    "```\n"
   ]
  },
  {
   "cell_type": "markdown",
   "metadata": {},
   "source": [
    "```ini\n",
    "<rules>\n",
    "...\n",
    "<rule>\n",
    "condition = 1\n",
    "value     = m\n",
    "</rule>\n",
    "...\n",
    "</rules>\n",
    "```\n"
   ]
  },
  {
   "cell_type": "markdown",
   "metadata": {},
   "source": [
    "The symbols font defines the following characters"
   ]
  },
  {
   "cell_type": "markdown",
   "metadata": {},
   "source": [
    "```ini\n",
    "small\n",
    "| medium\n",
    "| | large\n",
    "| | |\n",
    "a b c   square\n",
    "d e f   rhombus\n",
    "g h i   triangle up\n",
    "j k l   triangle down\n",
    "m n o   circle\n",
    "```\n"
   ]
  },
  {
   "cell_type": "markdown",
   "metadata": {},
   "source": [
    "```ini\n",
    "upper case - solid\n",
    "lower case - hollow\n",
    "```\n"
   ]
  },
  {
   "cell_type": "markdown",
   "metadata": {},
   "source": [
    "By adjusting the padding more tightly, you can pack the square glyphs to\n",
    "touch. By adjusting the color and glyph shape, you can create attractive\n",
    "tracks.\n",
    "\n",
    "\n",
    "\n",
    "\n",
    "----\n",
    "\n",
    "### Generating the plot produced by this example code\n",
    "\n",
    "\n",
    "The following two cells will generate the plot. The first cell adjusts the current working directory."
   ]
  },
  {
   "cell_type": "code",
   "execution_count": null,
   "metadata": {},
   "outputs": [],
   "source": [
    "%cd ../circos-tutorials-0.67/tutorials/6/9/"
   ]
  },
  {
   "cell_type": "code",
   "execution_count": null,
   "metadata": {},
   "outputs": [],
   "source": [
    "%%bash\n",
    "../../../../circos-0.69-6/bin/circos -conf circos.conf"
   ]
  },
  {
   "cell_type": "markdown",
   "metadata": {},
   "source": [
    "View the plot in this page using the following cell."
   ]
  },
  {
   "cell_type": "code",
   "execution_count": null,
   "metadata": {},
   "outputs": [],
   "source": [
    "from IPython.display import Image\n",
    "Image(\"circos.png\")"
   ]
  },
  {
   "cell_type": "markdown",
   "metadata": {},
   "source": [
    "----\n",
    "\n",
    "Continue on to the next part of the 2D Data Tracks series by clicking [here &#10145;](2d_data_tracks_Part10.ipynb).\n",
    "\n",
    "----"
   ]
  }
 ],
 "metadata": {},
 "nbformat": 4,
 "nbformat_minor": 2
}
