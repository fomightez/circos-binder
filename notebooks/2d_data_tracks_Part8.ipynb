{
 "cells": [
  {
   "cell_type": "markdown",
   "metadata": {},
   "source": [
    "# Part 8 of 2D Data Tracks: Text---Rules\n",
    "\n",
    "This page is primarily based on the following page at the Circos documentation site:\n",
    "\n",
    "\n",
    "\n",
    "- [8. Text---Rules](????????????)\n",
    "\n",
    "\n",
    "\n",
    "That page is found as part number 4 of the ??? part ['2D Data Tracks' section](http://circos.ca/documentation/tutorials/quick_start/) of [the larger set of Circos tutorials](http://circos.ca/documentation/tutorials/).\n",
    "\n",
    "\n",
    "\n",
    "Go back to Part 7 by clicking [here &#8592;](2d_data_tracks_Part7.ipynb).\n",
    "\n",
    "\n",
    "\n",
    "----\n",
    "\n",
    "\n",
    "\n",
    "6 --- 2D Data Tracks\n",
    "====================\n",
    "\n",
    "8. Text---Rules\n",
    "---------------\n",
    "\n",
    "::: {#menu4}\n",
    "[[Lesson](/documentation/tutorials/2d_tracks/text_3/lesson){.clean}]{.active}\n",
    "[Images](/documentation/tutorials/2d_tracks/text_3/images){.normal}\n",
    "[Configuration](/documentation/tutorials/2d_tracks/text_3/configuration){.normal}\n",
    ":::\n",
    "\n",
    "This tutorial shows you how to use rules with the text track. All tracks\n",
    "allow for rules and using rules works the same way for each track. The\n",
    "[previous tutorial](/documentation/tutorials/2d_tracks/text_2) used\n",
    "rules to color text.\n",
    "\n",
    "We\\'ll draw some sequence on the image and color the base pairs. We\\'ll\n",
    "use a monospaced font using"
   ]
  },
  {
   "cell_type": "markdown",
   "metadata": {},
   "source": [
    "```ini\n",
    "label_font = mono\n",
    "```\n"
   ]
  },
  {
   "cell_type": "markdown",
   "metadata": {},
   "source": [
    "There are two data files used in this example,\n",
    "`data/6/sequence.txt`{.syn-include} (20,000 entries)"
   ]
  },
  {
   "cell_type": "markdown",
   "metadata": {},
   "source": [
    "```ini\n",
    "# sequence.txt\n",
    "...\n",
    "hs1 2 2 C\n",
    "hs1 3 3 A\n",
    "hs1 4 4 A\n",
    "...\n",
    "```\n"
   ]
  },
  {
   "cell_type": "markdown",
   "metadata": {},
   "source": [
    "and `data/6/sequence.long.txt`{.syn-include} (100,000 entries)."
   ]
  },
  {
   "cell_type": "markdown",
   "metadata": {},
   "source": [
    "```ini\n",
    "# sequence.long.txt\n",
    "...\n",
    "hs1 1 1 A\n",
    "hs1 1 1 C\n",
    "hs1 1 1 A\n",
    "hs1 1 1 G\n",
    "hs1 2 2 T\n",
    "hs1 2 2 A\n",
    "hs1 2 2 C\n",
    "hs1 2 2 T\n",
    "...\n",
    "```\n"
   ]
  },
  {
   "cell_type": "markdown",
   "metadata": {},
   "source": [
    "The ideogram in the image is `hs1:0-20kb`, but it\\'s a good idea to\n",
    "start with a smaller interval to see how things work, e.g. `hs1:0-1`. A\n",
    "track with 100,000 bases can take a very long time to draw---the code\n",
    "that determines the character layout has not been optimized.\n",
    "\n",
    "### applying text rules\n",
    "\n",
    "A good way to include rules is using the [\\<\\<include \\...\n",
    "\\>\\>]{.syn-include} directive to read them from another file. This keeps\n",
    "the configuration file tidy and allows you to reuse the same rules for\n",
    "other tracks."
   ]
  },
  {
   "cell_type": "markdown",
   "metadata": {},
   "source": [
    "```ini\n",
    "<plots>\n",
    "```\n"
   ]
  },
  {
   "cell_type": "markdown",
   "metadata": {},
   "source": [
    "```ini\n",
    "# default values for all <plot> blocks\n",
    "type       = text\n",
    "color      = black\n",
    "label_font = mono\n",
    "label_size = 32\n",
    "# radial padding\n",
    "rpadding   = 0.2r\n",
    "```\n"
   ]
  },
  {
   "cell_type": "markdown",
   "metadata": {},
   "source": [
    "```ini\n",
    "<plot>\n",
    "```\n"
   ]
  },
  {
   "cell_type": "markdown",
   "metadata": {},
   "source": [
    "```ini\n",
    "file       = data/6/sequence.txt\n",
    "r1         = 0.9r\n",
    "r0         = 0.3r\n",
    "label_size = 16\n",
    "# angular padding\n",
    "padding    = -0.25r \n",
    "```\n"
   ]
  },
  {
   "cell_type": "markdown",
   "metadata": {},
   "source": [
    "```ini\n",
    "<rules>\n",
    "<<include rule.textcolor.conf>>\n",
    "</rules>\n",
    "```\n"
   ]
  },
  {
   "cell_type": "markdown",
   "metadata": {},
   "source": [
    "```ini\n",
    "</plot>\n",
    "```\n"
   ]
  },
  {
   "cell_type": "markdown",
   "metadata": {},
   "source": [
    "```ini\n",
    "</plots>\n",
    "```\n"
   ]
  },
  {
   "cell_type": "markdown",
   "metadata": {},
   "source": [
    "The `rule.textcolor.conf`{.syn-include} file is"
   ]
  },
  {
   "cell_type": "markdown",
   "metadata": {},
   "source": [
    "```ini\n",
    "<rule>\n",
    "condition = var(value) eq \"A\"\n",
    "color     = red\n",
    "</rule>\n",
    "<rule>\n",
    "```\n"
   ]
  },
  {
   "cell_type": "markdown",
   "metadata": {},
   "source": [
    "```ini\n",
    "condition = var(value) eq \"T\"\n",
    "color     = blue\n",
    "</rule>\n",
    "<rule>\n",
    "```\n"
   ]
  },
  {
   "cell_type": "markdown",
   "metadata": {},
   "source": [
    "```ini\n",
    "condition = var(value) eq \"C\"\n",
    "color     = green\n",
    "</rule>\n",
    "```\n"
   ]
  },
  {
   "cell_type": "markdown",
   "metadata": {},
   "source": [
    "The text label is referenced using `var(value)` and the conditions check\n",
    "whether the text is `A`, `T` or `C`. The default track coloring assumes\n",
    "the label is `G`, so we don\\'t have to check for this condition.\n",
    "\n",
    "### adjusting text size\n",
    "\n",
    "With rules, you can adjust any attribute of the text characters. For\n",
    "example, you can adjust the size of the letters in the label by setting\n",
    "`label_size`. This is done in the tracks immediately inside and outside\n",
    "the circle."
   ]
  },
  {
   "cell_type": "markdown",
   "metadata": {},
   "source": [
    "```ini\n",
    "<rule>\n",
    "# If the text is not A, then hide it. When this rule triggers,\n",
    "# other rules are not evaluated.\n",
    "condition  = var(value) ne \"A\"\n",
    "show       = no\n",
    "</rule>\n",
    "```\n"
   ]
  },
  {
   "cell_type": "markdown",
   "metadata": {},
   "source": [
    "```ini\n",
    "# This rule is applied to any text that didn't pass the previous\n",
    "# rule (i.e. only A). The label is set to a random value between\n",
    "# 12 and 48. The rand() function returns a uniformly sampled\n",
    "# random value in the interval [0,1).\n",
    "```\n"
   ]
  },
  {
   "cell_type": "markdown",
   "metadata": {},
   "source": [
    "```ini\n",
    "<rule>\n",
    "condition  = 1\n",
    "label_size = eval(12+32*rand())\n",
    "</rule>\n",
    "```\n"
   ]
  },
  {
   "cell_type": "markdown",
   "metadata": {},
   "source": [
    "----\n",
    "\n",
    "### Generating the plot produced by this example code\n",
    "\n",
    "\n",
    "The following two cells will generate the plot. The first cell adjusts the current working directory."
   ]
  },
  {
   "cell_type": "code",
   "execution_count": null,
   "metadata": {},
   "outputs": [],
   "source": [
    "%cd ../circos-tutorials-0.67/tutorials/6/8/"
   ]
  },
  {
   "cell_type": "code",
   "execution_count": null,
   "metadata": {},
   "outputs": [],
   "source": [
    "%%bash\n",
    "../../../../circos-0.69-6/bin/circos -conf circos.conf"
   ]
  },
  {
   "cell_type": "markdown",
   "metadata": {},
   "source": [
    "View the plot in this page using the following cell."
   ]
  },
  {
   "cell_type": "code",
   "execution_count": null,
   "metadata": {},
   "outputs": [],
   "source": [
    "from IPython.display import Image\n",
    "Image(\"circos.png\")"
   ]
  },
  {
   "cell_type": "markdown",
   "metadata": {},
   "source": [
    "----\n",
    "\n",
    "Continue on to the next part of the 2D Data Tracks series by clicking [here &#10145;](2d_data_tracks_Part9.ipynb).\n",
    "\n",
    "----"
   ]
  }
 ],
 "metadata": {},
 "nbformat": 4,
 "nbformat_minor": 2
}
