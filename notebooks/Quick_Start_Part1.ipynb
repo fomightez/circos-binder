{
 "cells": [
  {
   "cell_type": "markdown",
   "metadata": {},
   "source": [
    "# Circos running in Binder"
   ]
  },
  {
   "cell_type": "markdown",
   "metadata": {},
   "source": [
    "NOT READY YET. CONTENTS BELOW MOVED ELSEWEHERE. WON'T WORK.\n",
    "Run the first step in this notebook to install Circos.  \n",
    "Run the second and third step to run a demo to verify it is installed."
   ]
  },
  {
   "cell_type": "code",
   "execution_count": null,
   "metadata": {},
   "outputs": [],
   "source": [
    "%%bash\n",
    "curl -O http://circos.ca/distribution/circos-0.69-6.tgz\n",
    "tar xvfz circos-0.69-6.tgz\n",
    "rm circos-0.69-6.tgz"
   ]
  },
  {
   "cell_type": "markdown",
   "metadata": {},
   "source": [
    "### Demonstrate it works by running example code"
   ]
  },
  {
   "cell_type": "code",
   "execution_count": null,
   "metadata": {},
   "outputs": [],
   "source": [
    "%%bash\n",
    "cd circos-0.69-6/example\n",
    "./run"
   ]
  },
  {
   "cell_type": "markdown",
   "metadata": {},
   "source": [
    "### View generated demo image"
   ]
  },
  {
   "cell_type": "code",
   "execution_count": null,
   "metadata": {},
   "outputs": [],
   "source": [
    "from IPython.display import Image\n",
    "Image(\"circos-0.69-6/example/circos.png\")"
   ]
  },
  {
   "cell_type": "markdown",
   "metadata": {},
   "source": [
    "Once it is verified working, use it to develop Circos plots. (Should `!cd circos-0.69-6` first.)  \n",
    "\n",
    "WAITTT... that won't test it is working because image already there when unpacked?!?! IF you check `Run.out` in the example directory, you'll see a report like below because things are presently missing.\n",
    "(Maybe to test when I fix things, I delete the `circos.png` file in exampe before the demo run?? That would really test.)"
   ]
  },
  {
   "cell_type": "code",
   "execution_count": 33,
   "metadata": {},
   "outputs": [
    {
     "name": "stdout",
     "output_type": "stream",
     "text": [
      "\n",
      "*** REQUIRED MODULE(S) MISSING OR OUT-OF-DATE ***\n",
      "\n",
      "You are missing one or more Perl modules, require newer versions, or some modules failed to load. Use CPAN to install it as described in this tutorial\n",
      "\n",
      "http://www.circos.ca/documentation/tutorials/configuration/perl_and_modules\n",
      "\n",
      "missing Font::TTF::Font\n",
      "  error Can't locate Font/TTF/Font.pm in @INC (you may need to install the Font::TTF::Font module) (@INC contains: /home/jovyan/circos-0.69-6/bin/lib /home/jovyan/circos-0.69-6/bin/../lib /home/jovyan/circos-0.69-6/bin /etc/perl /usr/local/lib/x86_64-linux-gnu/perl/5.26.0 /usr/local/share/perl/5.26.0 /usr/lib/x86_64-linux-gnu/perl5/5.26 /usr/share/perl5 /usr/lib/x86_64-linux-gnu/perl/5.26 /usr/share/perl/5.26 /usr/local/lib/site_perl /usr/lib/x86_64-linux-gnu/perl-base) at (eval 22) line 1.\n",
      "missing Config::General\n",
      "  error Can't locate Config/General.pm in @INC (you may need to install the Config::General module) (@INC contains: /home/jovyan/circos-0.69-6/bin/lib /home/jovyan/circos-0.69-6/bin/../lib /home/jovyan/circos-0.69-6/bin /etc/perl /usr/local/lib/x86_64-linux-gnu/perl/5.26.0 /usr/local/share/perl/5.26.0 /usr/lib/x86_64-linux-gnu/perl5/5.26 /usr/share/perl5 /usr/lib/x86_64-linux-gnu/perl/5.26 /usr/share/perl/5.26 /usr/local/lib/site_perl /usr/lib/x86_64-linux-gnu/perl-base) at (eval 7) line 1.\n",
      "missing Clone\n",
      "  error Can't locate Clone.pm in @INC (you may need to install the Clone module) (@INC contains: /home/jovyan/circos-0.69-6/bin/lib /home/jovyan/circos-0.69-6/bin/../lib /home/jovyan/circos-0.69-6/bin /etc/perl /usr/local/lib/x86_64-linux-gnu/perl/5.26.0 /usr/local/share/perl/5.26.0 /usr/lib/x86_64-linux-gnu/perl5/5.26 /usr/share/perl5 /usr/lib/x86_64-linux-gnu/perl/5.26 /usr/share/perl/5.26 /usr/local/lib/site_perl /usr/lib/x86_64-linux-gnu/perl-base) at (eval 6) line 1.\n",
      "missing Math::Bezier\n",
      "  error Can't locate Math/Bezier.pm in @INC (you may need to install the Math::Bezier module) (@INC contains: /home/jovyan/circos-0.69-6/bin/lib /home/jovyan/circos-0.69-6/bin/../lib /home/jovyan/circos-0.69-6/bin /etc/perl /usr/local/lib/x86_64-linux-gnu/perl/5.26.0 /usr/local/share/perl/5.26.0 /usr/lib/x86_64-linux-gnu/perl5/5.26 /usr/share/perl5 /usr/lib/x86_64-linux-gnu/perl/5.26 /usr/share/perl/5.26 /usr/local/lib/site_perl /usr/lib/x86_64-linux-gnu/perl-base) at (eval 29) line 1.\n",
      "missing GD\n",
      "  error Can't locate GD.pm in @INC (you may need to install the GD module) (@INC contains: /home/jovyan/circos-0.69-6/bin/lib /home/jovyan/circos-0.69-6/bin/../lib /home/jovyan/circos-0.69-6/bin /etc/perl /usr/local/lib/x86_64-linux-gnu/perl/5.26.0 /usr/local/share/perl/5.26.0 /usr/lib/x86_64-linux-gnu/perl5/5.26 /usr/share/perl5 /usr/lib/x86_64-linux-gnu/perl/5.26 /usr/share/perl/5.26 /usr/local/lib/site_perl /usr/lib/x86_64-linux-gnu/perl-base) at (eval 23) line 1.\n",
      "missing List::MoreUtils\n",
      "  error Can't locate List/MoreUtils.pm in @INC (you may need to install the List::MoreUtils module) (@INC contains: /home/jovyan/circos-0.69-6/bin/lib /home/jovyan/circos-0.69-6/bin/../lib /home/jovyan/circos-0.69-6/bin /etc/perl /usr/local/lib/x86_64-linux-gnu/perl/5.26.0 /usr/local/share/perl/5.26.0 /usr/lib/x86_64-linux-gnu/perl5/5.26 /usr/share/perl5 /usr/lib/x86_64-linux-gnu/perl/5.26 /usr/share/perl/5.26 /usr/local/lib/site_perl /usr/lib/x86_64-linux-gnu/perl-base) at (eval 27) line 1.\n",
      "missing GD::Polyline\n",
      "  error Can't locate GD/Polyline.pm in @INC (you may need to install the GD::Polyline module) (@INC contains: /home/jovyan/circos-0.69-6/bin/lib /home/jovyan/circos-0.69-6/bin/../lib /home/jovyan/circos-0.69-6/bin /etc/perl /usr/local/lib/x86_64-linux-gnu/perl/5.26.0 /usr/local/share/perl/5.26.0 /usr/lib/x86_64-linux-gnu/perl5/5.26 /usr/share/perl5 /usr/lib/x86_64-linux-gnu/perl/5.26 /usr/share/perl/5.26 /usr/local/lib/site_perl /usr/lib/x86_64-linux-gnu/perl-base) at (eval 24) line 1.\n",
      "missing Regexp::Common\n",
      "  error Can't locate Regexp/Common.pm in @INC (you may need to install the Regexp::Common module) (@INC contains: /home/jovyan/circos-0.69-6/bin/lib /home/jovyan/circos-0.69-6/bin/../lib /home/jovyan/circos-0.69-6/bin /etc/perl /usr/local/lib/x86_64-linux-gnu/perl/5.26.0 /usr/local/share/perl/5.26.0 /usr/lib/x86_64-linux-gnu/perl5/5.26 /usr/share/perl5 /usr/lib/x86_64-linux-gnu/perl/5.26 /usr/share/perl/5.26 /usr/local/lib/site_perl /usr/lib/x86_64-linux-gnu/perl-base) at (eval 40) line 1.\n",
      "missing Math::Round\n",
      "  error Can't locate Math/Round.pm in @INC (you may need to install the Math::Round module) (@INC contains: /home/jovyan/circos-0.69-6/bin/lib /home/jovyan/circos-0.69-6/bin/../lib /home/jovyan/circos-0.69-6/bin /etc/perl /usr/local/lib/x86_64-linux-gnu/perl/5.26.0 /usr/local/share/perl/5.26.0 /usr/lib/x86_64-linux-gnu/perl5/5.26 /usr/share/perl5 /usr/lib/x86_64-linux-gnu/perl/5.26 /usr/share/perl/5.26 /usr/local/lib/site_perl /usr/lib/x86_64-linux-gnu/perl-base) at (eval 32) line 1.\n",
      "missing Math::VecStat\n",
      "  error Can't locate Math/VecStat.pm in @INC (you may need to install the Math::VecStat module) (@INC contains: /home/jovyan/circos-0.69-6/bin/lib /home/jovyan/circos-0.69-6/bin/../lib /home/jovyan/circos-0.69-6/bin /etc/perl /usr/local/lib/x86_64-linux-gnu/perl/5.26.0 /usr/local/share/perl/5.26.0 /usr/lib/x86_64-linux-gnu/perl5/5.26 /usr/share/perl5 /usr/lib/x86_64-linux-gnu/perl/5.26 /usr/share/perl/5.26 /usr/local/lib/site_perl /usr/lib/x86_64-linux-gnu/perl-base) at (eval 33) line 1.\n",
      "missing Readonly\n",
      "  error Can't locate Readonly.pm in @INC (you may need to install the Readonly module) (@INC contains: /home/jovyan/circos-0.69-6/bin/lib /home/jovyan/circos-0.69-6/bin/../lib /home/jovyan/circos-0.69-6/bin /etc/perl /usr/local/lib/x86_64-linux-gnu/perl/5.26.0 /usr/local/share/perl/5.26.0 /usr/lib/x86_64-linux-gnu/perl5/5.26 /usr/share/perl5 /usr/lib/x86_64-linux-gnu/perl/5.26 /usr/share/perl/5.26 /usr/local/lib/site_perl /usr/lib/x86_64-linux-gnu/perl-base) at (eval 39) line 1.\n",
      "missing Params::Validate\n",
      "  error Can't locate Params/Validate.pm in @INC (you may need to install the Params::Validate module) (@INC contains: /home/jovyan/circos-0.69-6/bin/lib /home/jovyan/circos-0.69-6/bin/../lib /home/jovyan/circos-0.69-6/bin /etc/perl /usr/local/lib/x86_64-linux-gnu/perl/5.26.0 /usr/local/share/perl/5.26.0 /usr/lib/x86_64-linux-gnu/perl5/5.26 /usr/share/perl5 /usr/lib/x86_64-linux-gnu/perl/5.26 /usr/share/perl/5.26 /usr/local/lib/site_perl /usr/lib/x86_64-linux-gnu/perl-base) at (eval 37) line 1.\n",
      "missing Text::Format\n",
      "  error Can't locate Text/Format.pm in @INC (you may need to install the Text::Format module) (@INC contains: /home/jovyan/circos-0.69-6/bin/lib /home/jovyan/circos-0.69-6/bin/../lib /home/jovyan/circos-0.69-6/bin /etc/perl /usr/local/lib/x86_64-linux-gnu/perl/5.26.0 /usr/local/share/perl/5.26.0 /usr/lib/x86_64-linux-gnu/perl5/5.26 /usr/share/perl5 /usr/lib/x86_64-linux-gnu/perl/5.26 /usr/share/perl/5.26 /usr/local/lib/site_perl /usr/lib/x86_64-linux-gnu/perl-base) at (eval 48) line 1.\n",
      "missing Set::IntSpan\n",
      "  error Can't locate Set/IntSpan.pm in @INC (you may need to install the Set::IntSpan module) (@INC contains: /home/jovyan/circos-0.69-6/bin/lib /home/jovyan/circos-0.69-6/bin/../lib /home/jovyan/circos-0.69-6/bin /etc/perl /usr/local/lib/x86_64-linux-gnu/perl/5.26.0 /usr/local/share/perl/5.26.0 /usr/lib/x86_64-linux-gnu/perl5/5.26 /usr/share/perl5 /usr/lib/x86_64-linux-gnu/perl/5.26 /usr/share/perl/5.26 /usr/local/lib/site_perl /usr/lib/x86_64-linux-gnu/perl-base) at (eval 41) line 1.\n",
      "missing SVG\n",
      "  error Can't locate SVG.pm in @INC (you may need to install the SVG module) (@INC contains: /home/jovyan/circos-0.69-6/bin/lib /home/jovyan/circos-0.69-6/bin/../lib /home/jovyan/circos-0.69-6/bin /etc/perl /usr/local/lib/x86_64-linux-gnu/perl/5.26.0 /usr/local/share/perl/5.26.0 /usr/lib/x86_64-linux-gnu/perl5/5.26 /usr/share/perl5 /usr/lib/x86_64-linux-gnu/perl/5.26 /usr/share/perl/5.26 /usr/local/lib/site_perl /usr/lib/x86_64-linux-gnu/perl-base) at (eval 44) line 1.\n",
      "missing Statistics::Basic\n",
      "  error Can't locate Statistics/Basic.pm in @INC (you may need to install the Statistics::Basic module) (@INC contains: /home/jovyan/circos-0.69-6/bin/lib /home/jovyan/circos-0.69-6/bin/../lib /home/jovyan/circos-0.69-6/bin /etc/perl /usr/local/lib/x86_64-linux-gnu/perl/5.26.0 /usr/local/share/perl/5.26.0 /usr/lib/x86_64-linux-gnu/perl5/5.26 /usr/share/perl5 /usr/lib/x86_64-linux-gnu/perl/5.26 /usr/share/perl/5.26 /usr/local/lib/site_perl /usr/lib/x86_64-linux-gnu/perl-base) at (eval 42) line 1.\n"
     ]
    }
   ],
   "source": [
    "%%bash\n",
    "cd circos-0.69-6/example\n",
    "../bin/circos"
   ]
  },
  {
   "cell_type": "markdown",
   "metadata": {},
   "source": [
    "So there are a bunch missing. I just followed instructions [here](http://circos.ca/tutorials/lessons/configuration/distribution_and_installation/) to see what was missing and I got:"
   ]
  },
  {
   "cell_type": "code",
   "execution_count": 5,
   "metadata": {},
   "outputs": [
    {
     "name": "stdout",
     "output_type": "stream",
     "text": [
      "ok       1.42 Carp\n",
      "missing            Clone\n",
      "missing            Config::General\n",
      "ok       3.67 Cwd\n",
      "ok      2.167 Data::Dumper\n",
      "ok       2.55 Digest::MD5\n",
      "ok       2.85 File::Basename\n",
      "ok       3.67 File::Spec::Functions\n",
      "ok     0.2304 File::Temp\n",
      "ok       1.51 FindBin\n",
      "missing            Font::TTF::Font\n",
      "missing            GD\n",
      "missing            GD::Polyline\n",
      "ok       2.49 Getopt::Long\n",
      "ok       1.16 IO::File\n",
      "missing            List::MoreUtils\n",
      "ok     1.4602 List::Util\n",
      "missing            Math::Bezier\n",
      "ok   1.999806 Math::BigFloat\n",
      "missing            Math::Round\n",
      "missing            Math::VecStat\n",
      "ok    1.03_01 Memoize\n",
      "ok       1.76 POSIX\n",
      "missing            Params::Validate\n",
      "ok       1.69 Pod::Usage\n",
      "missing            Readonly\n",
      "missing            Regexp::Common\n",
      "missing            SVG\n",
      "missing            Set::IntSpan\n",
      "missing            Statistics::Basic\n",
      "ok       2.62 Storable\n",
      "ok       1.20 Sys::Hostname\n",
      "ok       2.03 Text::Balanced\n",
      "missing            Text::Format\n",
      "ok     1.9741 Time::HiRes\n"
     ]
    }
   ],
   "source": [
    "%%bash\n",
    "cd circos-0.69-6/example\n",
    "../bin/circos -modules"
   ]
  },
  {
   "cell_type": "code",
   "execution_count": null,
   "metadata": {},
   "outputs": [],
   "source": []
  }
 ],
 "metadata": {
  "kernelspec": {
   "display_name": "Python 3",
   "language": "python",
   "name": "python3"
  },
  "language_info": {
   "codemirror_mode": {
    "name": "ipython",
    "version": 3
   },
   "file_extension": ".py",
   "mimetype": "text/x-python",
   "name": "python",
   "nbconvert_exporter": "python",
   "pygments_lexer": "ipython3",
   "version": "3.6.3"
  }
 },
 "nbformat": 4,
 "nbformat_minor": 1
}