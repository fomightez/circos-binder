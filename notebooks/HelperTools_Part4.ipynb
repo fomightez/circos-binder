{
 "cells": [
  {
   "cell_type": "markdown",
   "metadata": {},
   "source": [
    "# Part 4 of Helper Tools: Filtering Links\n",
    "\n",
    "This page is primarily based on the following page at the Circos documentation site:\n",
    "\n",
    "\n",
    "\n",
    "- [4. Filtering Links](????????????)\n",
    "\n",
    "\n",
    "\n",
    "That page is found as part number 4 of the ??? part ['Helper Tools' section](http://circos.ca/documentation/tutorials/quick_start/) of [the larger set of Circos tutorials](http://circos.ca/documentation/tutorials/).\n",
    "\n",
    "\n",
    "\n",
    "Go back to Part 3 by clicking [here &#8592;](HelperTools_Part3.ipynb).\n",
    "\n",
    "\n",
    "\n",
    "----\n",
    "\n",
    "\n",
    "\n",
    "9 --- Helper Tools\n",
    "==================\n",
    "\n",
    "4. Filtering Links\n",
    "------------------\n",
    "\n",
    "script location\n",
    "---------------"
   ]
  },
  {
   "cell_type": "markdown",
   "metadata": {},
   "source": [
    "```ini\n",
    "tools/filterlinks\n",
    "```\n"
   ]
  },
  {
   "cell_type": "markdown",
   "metadata": {},
   "source": [
    "script usage\n",
    "------------"
   ]
  },
  {
   "cell_type": "markdown",
   "metadata": {},
   "source": [
    "```ini\n",
    "> cd tools/filterlinks\n",
    "> ./run\n",
    "Processing data/dog.vs.human.subset.txt\n",
    "Now look in data/dog.vs.human.subset.filtered.txt\n",
    "```\n"
   ]
  },
  {
   "cell_type": "markdown",
   "metadata": {},
   "source": [
    "The script sends a new links file to STDOUT and the report shown above\n",
    "to STDERR.\n",
    "\n",
    "To get the full manpage, use -man."
   ]
  },
  {
   "cell_type": "markdown",
   "metadata": {},
   "source": [
    "```ini\n",
    "> cd tools/filterlinks\n",
    "> bin/filterlinks -man\n",
    "```\n"
   ]
  },
  {
   "cell_type": "markdown",
   "metadata": {},
   "source": [
    "Adjust the configuration file etc/filterlinks.conf to suit your needs.\n",
    "\n",
    "details\n",
    "-------\n",
    "\n",
    "This script is used to generate a new link file, composed of links that\n",
    "pass certain rules.\n",
    "\n",
    "Although Circos supports rules in its configuration file, which you can\n",
    "use to alter data formatting on the fly, you may find that creating a\n",
    "new link file is more convenient.\n",
    "\n",
    "For example, if you are using Circos in an interactive web page, you\n",
    "want to generate the image as quickly as possible. Since Circos\\'\n",
    "built-in rule engine is slower than this script, filterlinks is handy\n",
    "way to eliminated unwanted data upstream of Circos.\n",
    "\n",
    "Another situation in which filterlinks is useful is to generate an input\n",
    "file to orderchr, which minimizes crossing of links by shuffling\n",
    "chromosomes around the image circle. Since the speed of orderchr\n",
    "proportional (in a nasty way) to the number of links, it\\'s important to\n",
    "pass it as many links as you need to get the job done, but no more than\n",
    "that.\n",
    "\n",
    "You filter on any property of the link with filterlinks:\n",
    "\n",
    "-   link id\n",
    "-   chromosome\n",
    "-   start and end position\n",
    "-   size\n",
    "-   span (intersect with genomic region)\n",
    "-   format options (color, thickness, z, etc)\n",
    "\n",
    "and any property can be tested with one of these rules\n",
    "\n",
    "-   regular expression (e.g. chr1 matches \\\"x\\\")\n",
    "-   exact string match (e.g. chr1 is \\\"hs1\\\")\n",
    "-   smaller and greater than (numerical or string order) (e.g. start \\<"
   ]
  },
  {
   "cell_type": "markdown",
   "metadata": {},
   "source": [
    "```ini\n",
    "10Mb)\n",
    "```\n"
   ]
  },
  {
   "cell_type": "markdown",
   "metadata": {},
   "source": [
    "-   integer span (e.g. link span intersects 10-20Mb)\n",
    "\n",
    "Briefly (read the manpage below for all the details), the results of\n",
    "each rule test are all OR\\'ed together. Thus, it is sufficient for one\n",
    "rule to pass to pass the link.\n",
    "\n",
    "Thus, if you have three rules, the link will be passed if"
   ]
  },
  {
   "cell_type": "markdown",
   "metadata": {},
   "source": [
    "```ini\n",
    "RULE1 or RULE2 or RULE3\n",
    "```\n"
   ]
  },
  {
   "cell_type": "markdown",
   "metadata": {},
   "source": [
    "By assigning IDs to sets of rules, you can group rules together to build\n",
    "up a complex filter which includes AND. In the example below, rules 1-3\n",
    "have been assigned a distinct ID (0) and rules 4-5 were given ID 1.\n",
    "These IDs control how rule results are combined: intra-ID rules are\n",
    "AND\\'ed and inter-ID rules are OR\\'ed."
   ]
  },
  {
   "cell_type": "markdown",
   "metadata": {},
   "source": [
    "```ini\n",
    "( RULE1 and RULE2 and RULE3 ) OR ( RULE4 and RULE5 )\n",
    "_________________________        _______________\n",
    "^ rule set 1 (e.g. ID=0)         ^ rule set 2 (e.g. ID=1)\n",
    "```\n"
   ]
  },
  {
   "cell_type": "markdown",
   "metadata": {},
   "source": [
    "filterlinks manpage\n",
    "-------------------\n",
    "\n",
    "-   [NAME](#NAME)\n",
    "-   [SYNOPSIS](#SYNOPSIS)\n",
    "-   [DESCRIPTION](#DESCRIPTION)\n",
    "-   [RULES](#RULES)"
   ]
  },
  {
   "cell_type": "markdown",
   "metadata": {},
   "source": [
    "```ini\n",
    "-   [Link Parameters](#Link_Parameters)\n",
    "-   [Conditions](#Conditions)\n",
    "```\n"
   ]
  },
  {
   "cell_type": "markdown",
   "metadata": {},
   "source": [
    "-   [EXAMPLES](#EXAMPLES)"
   ]
  },
  {
   "cell_type": "markdown",
   "metadata": {},
   "source": [
    "```ini\n",
    "-   [Filtering by Chromosomes](#Filtering_by_Chromosomes)\n",
    "-   [Filtering by Position](#Filtering_by_Position)\n",
    "-   [Filtering by Link Options](#Filtering_by_Link_Options)\n",
    "-   [Mixing Conditions and IDs](#Mixing_Conditions_and_IDs)\n",
    "```\n"
   ]
  },
  {
   "cell_type": "markdown",
   "metadata": {},
   "source": [
    "-   [HISTORY](#HISTORY)\n",
    "-   [BUGS](#BUGS)\n",
    "-   [AUTHOR](#AUTHOR)\n",
    "-   [CONTACT](#CONTACT)\n",
    "\n",
    "------------------------------------------------------------------------\n",
    "\n",
    "------------------------------------------------------------------------\n",
    "\n",
    "[NAME]{#NAME}\n",
    "=============\n",
    "\n",
    "filterlinks - filter the link file based on link parameters\n",
    "\n",
    "------------------------------------------------------------------------\n",
    "\n",
    "[SYNOPSIS]{#SYNOPSIS}\n",
    "====================="
   ]
  },
  {
   "cell_type": "markdown",
   "metadata": {},
   "source": [
    "```ini\n",
    "filterlinks -links linkfile.txt [-nointer] [-nointra] [-debug]\n",
    "```\n"
   ]
  },
  {
   "cell_type": "markdown",
   "metadata": {},
   "source": [
    "------------------------------------------------------------------------\n",
    "\n",
    "[DESCRIPTION]{#DESCRIPTION}\n",
    "===========================\n",
    "\n",
    "------------------------------------------------------------------------\n",
    "\n",
    "[RULES]{#RULES}\n",
    "===============\n",
    "\n",
    "A filter rules contains two parts: the link parameter which is tested\n",
    "and a list of acceptable conditions.\n",
    "\n",
    "The two exceptions are the -nointer and -nointra flags. These can be\n",
    "used to filter out inter-chromosomal links (ends of link are on\n",
    "different chromosomes) and intra-chromosomal links (ends of link are on\n",
    "the same chromosome). These two rules are strict, meaning that if a link\n",
    "does not pass them, no other rules are tested and the link is\n",
    "immediately rejected.\n",
    "\n",
    "------------------------------------------------------------------------\n",
    "\n",
    "[Link Parameters]{#Link_Parameters}\n",
    "-----------------------------------"
   ]
  },
  {
   "cell_type": "markdown",
   "metadata": {},
   "source": [
    "```ini\n",
    "link_param = condition1,condition2,...\n",
    "```\n"
   ]
  },
  {
   "cell_type": "markdown",
   "metadata": {},
   "source": [
    "Because each link has two ends, each link parameter may give rise to\n",
    "three distinct rules"
   ]
  },
  {
   "cell_type": "markdown",
   "metadata": {},
   "source": [
    "```ini\n",
    "link_param   = condition1,condition2,...\n",
    "link_param_1 = condition1,condition2,...\n",
    "link_param_2 = condition1,condition2,...\n",
    "```\n"
   ]
  },
  {
   "cell_type": "markdown",
   "metadata": {},
   "source": [
    "which test, respectively, both ends with the condition (both ends must\n",
    "pass), the first end, and the second end. The first end of the link\n",
    "corresponds to the first line of the link line pair. For example, given\n",
    "the link \\... link018136 cf12 9800000 9900000 link018136 hs6 37914056\n",
    "37916509 \\...\n",
    "\n",
    "the first end is cf12:9800000-9900000 and the second end is\n",
    "hs6:37914056-37916509.\n",
    "\n",
    "-   **[chr]{#item_chr}**"
   ]
  },
  {
   "cell_type": "markdown",
   "metadata": {},
   "source": [
    "```ini\n",
    "Applies the condition to the chromosome of the link.\n",
    "```\n"
   ]
  },
  {
   "cell_type": "markdown",
   "metadata": {},
   "source": [
    "```ini\n",
    "chr   = 1\n",
    "chr_2 = x\n",
    "```\n"
   ]
  },
  {
   "cell_type": "markdown",
   "metadata": {},
   "source": [
    "-   **[start, end, size]{#item_start}**"
   ]
  },
  {
   "cell_type": "markdown",
   "metadata": {},
   "source": [
    "```ini\n",
    "Applies the condition to the start, end or size of the link. The\n",
    "link size is end-start+1.\n",
    "```\n"
   ]
  },
  {
   "cell_type": "markdown",
   "metadata": {},
   "source": [
    "```ini\n",
    "start = [?<]10000000\n",
    "end   = [?>]50000000\n",
    "```\n"
   ]
  },
  {
   "cell_type": "markdown",
   "metadata": {},
   "source": [
    "-   **[span]{#item_span}**"
   ]
  },
  {
   "cell_type": "markdown",
   "metadata": {},
   "source": [
    "```ini\n",
    "Applies the condition to the span of the link and should be used\n",
    "with the \\`\\`s\\'\\' condition TYPE.\n",
    "```\n"
   ]
  },
  {
   "cell_type": "markdown",
   "metadata": {},
   "source": [
    "```ini\n",
    "span = [?i]1000-2000\n",
    "```\n"
   ]
  },
  {
   "cell_type": "markdown",
   "metadata": {},
   "source": [
    "-   **[id]{#item_id}**"
   ]
  },
  {
   "cell_type": "markdown",
   "metadata": {},
   "source": [
    "```ini\n",
    "Applies the condition to the id of the link.\n",
    "```\n"
   ]
  },
  {
   "cell_type": "markdown",
   "metadata": {},
   "source": [
    "-   **[color, thickness, z, etc.]{#item_color}**"
   ]
  },
  {
   "cell_type": "markdown",
   "metadata": {},
   "source": [
    "```ini\n",
    "Any condition that is not one of id, chr, start, end, size, span is\n",
    "assumed to be a link option and is applied to the option of the\n",
    "link. For example, options include color, thickness, and z.\n",
    "```\n"
   ]
  },
  {
   "cell_type": "markdown",
   "metadata": {},
   "source": [
    "```ini\n",
    "color = [?e]chr12\n",
    "z = [?>]10\n",
    "```\n"
   ]
  },
  {
   "cell_type": "markdown",
   "metadata": {},
   "source": [
    "------------------------------------------------------------------------\n",
    "\n",
    "[Conditions]{#Conditions}\n",
    "-------------------------\n",
    "\n",
    "A condition has the following format"
   ]
  },
  {
   "cell_type": "markdown",
   "metadata": {},
   "source": [
    "```ini\n",
    "{ [?TYPE {ID} {!} ] } CONDITION\n",
    "```\n"
   ]
  },
  {
   "cell_type": "markdown",
   "metadata": {},
   "source": [
    "where elements in { } are optional. Briefly, TYPE is used to indicate\n",
    "how the CONDITION text should be applied (e.g. regular expression,\n",
    "integer range, exact match, etc). The ID is used to combine rules so\n",
    "that their match status is AND\\'ed together to determine whether the\n",
    "link passes. The trailing \\`\\`!\\'\\' is used to negate the rule (i.e. for\n",
    "the link to pass, the rule must fail).\n",
    "\n",
    "-   **[Default Condition is a Regular Expression]{#item_Default}**"
   ]
  },
  {
   "cell_type": "markdown",
   "metadata": {},
   "source": [
    "```ini\n",
    "If no optional elements in the condition are specified, it is\n",
    "treated as a regular expression. For example,\n",
    "```\n"
   ]
  },
  {
   "cell_type": "markdown",
   "metadata": {},
   "source": [
    "```ini\n",
    "LINK_PARAM = 12\n",
    "```\n"
   ]
  },
  {
   "cell_type": "markdown",
   "metadata": {},
   "source": [
    "```ini\n",
    "would apply the regular expression \\`\\`12\\'\\' to the link parameter.\n",
    "You can provide a list of conditions with ;; as a delimiter (you can\n",
    "adjust the delimiter in the configuration file).\n",
    "```\n"
   ]
  },
  {
   "cell_type": "markdown",
   "metadata": {},
   "source": [
    "```ini\n",
    "LINK_PARAM = 12;;x;;y\n",
    "```\n"
   ]
  },
  {
   "cell_type": "markdown",
   "metadata": {},
   "source": [
    "```ini\n",
    "which are interpreted as a series of regular expressions used to\n",
    "test the link parameter. The link will be passed if ANY condition\n",
    "matches (i.e. match results are OR\\'ed). If you want match results\n",
    "to be AND\\'ed (i.e. multiple rules must match for the link to pass,\n",
    "read below).\n",
    "```\n"
   ]
  },
  {
   "cell_type": "markdown",
   "metadata": {},
   "source": [
    "```ini\n",
    "The regular expression is case-insensitive.\n",
    "```\n"
   ]
  },
  {
   "cell_type": "markdown",
   "metadata": {},
   "source": [
    "-   **[Adjusting Condition Type]{#item_Adjusting}**"
   ]
  },
  {
   "cell_type": "markdown",
   "metadata": {},
   "source": [
    "```ini\n",
    "The following conditions types are possible\n",
    "```\n"
   ]
  },
  {
   "cell_type": "markdown",
   "metadata": {},
   "source": [
    "```ini\n",
    "-   **[r - regular expression (default)]{#item_r}**\n",
    "```\n"
   ]
  },
  {
   "cell_type": "markdown",
   "metadata": {},
   "source": [
    "```ini\n",
    "LINK_PARAM = 12\n",
    "LINK_PARAM = 12;;x;;y\n",
    "```\n"
   ]
  },
  {
   "cell_type": "markdown",
   "metadata": {},
   "source": [
    "```ini\n",
    "You can specify the type as a regular expression explicitly with\n",
    "\\[?r\\] but this is not necessary because that is the default.\n",
    "```\n"
   ]
  },
  {
   "cell_type": "markdown",
   "metadata": {},
   "source": [
    "```ini\n",
    "LINK_PARAM = [?r]12;;[?r]x;;[?r]y\n",
    "```\n"
   ]
  },
  {
   "cell_type": "markdown",
   "metadata": {},
   "source": [
    "```ini\n",
    "-   **[s - integer span]{#item_s}**\n",
    "```\n"
   ]
  },
  {
   "cell_type": "markdown",
   "metadata": {},
   "source": [
    "```ini\n",
    "The syntax of the integer range is any string supported by\n",
    "Set::IntSpan.\n",
    "```\n"
   ]
  },
  {
   "cell_type": "markdown",
   "metadata": {},
   "source": [
    "```ini\n",
    "LINK_PARAM = [?s]1000-2000\n",
    "LINK_PARAM = [?s]1000-2000,3000-4000\n",
    "LINK_PARAM = [?s]1000-2000,3000-)\n",
    "LINK_PARAM = [?s](-1000,2000,3000-)\n",
    "LINK_PARAM = [?s](-1000,2000,3000-4000,5000-)\n",
    "```\n"
   ]
  },
  {
   "cell_type": "markdown",
   "metadata": {},
   "source": [
    "```ini\n",
    "-   **[e - exact match]{#item_e}**\n",
    "```\n"
   ]
  },
  {
   "cell_type": "markdown",
   "metadata": {},
   "source": [
    "```ini\n",
    "The exact match is useful for matching chromosome names in cases\n",
    "where regular expressions might match other chromosomes (and you\n",
    "don\\'t want to include anchors in your regular expression).\n",
    "```\n"
   ]
  },
  {
   "cell_type": "markdown",
   "metadata": {},
   "source": [
    "```ini\n",
    "LINK_PARAM = [?e]chr1\n",
    "LINK_PARAM = [?e]chr1;;[?e]chr2\n",
    "```\n"
   ]
  },
  {
   "cell_type": "markdown",
   "metadata": {},
   "source": [
    "```ini\n",
    "Note that the condition type must be prefixed to each individual\n",
    "condition, if a list of conditions is supplied.\n",
    "```\n"
   ]
  },
  {
   "cell_type": "markdown",
   "metadata": {},
   "source": [
    "```ini\n",
    "The exact match is not case-sensitive.\n",
    "```\n"
   ]
  },
  {
   "cell_type": "markdown",
   "metadata": {},
   "source": [
    "```ini\n",
    "-   **[\\< - less than]{#item__less_than}**\n",
    "```\n"
   ]
  },
  {
   "cell_type": "markdown",
   "metadata": {},
   "source": [
    "```ini\n",
    "If the value is a number, numerical \\< is used, otherwise the\n",
    "values are compared based on asciibetic order (e.g. le).\n",
    "```\n"
   ]
  },
  {
   "cell_type": "markdown",
   "metadata": {},
   "source": [
    "```ini\n",
    "# LINK_PARAM must be less than 100\n",
    "LINK_PARAM = [?<]100\n",
    "```\n"
   ]
  },
  {
   "cell_type": "markdown",
   "metadata": {},
   "source": [
    "```ini\n",
    "# LINK_PARAM must be less (in the asciibetic sense) than chr20 (e.g. chr1, chr11, chr111, chr19, etc)\n",
    "LINK_PARAM = [?<]chr20\n",
    "```\n"
   ]
  },
  {
   "cell_type": "markdown",
   "metadata": {},
   "source": [
    "```ini\n",
    "-   **[\\> - greater than]{#item__greater_than}**\n",
    "Works just like the less than condition \\[?\\<\\].\n",
    "-   **[mixing condition types]{#item_mixing}**\n",
    "```\n"
   ]
  },
  {
   "cell_type": "markdown",
   "metadata": {},
   "source": [
    "```ini\n",
    "You can have multiple condition types for a parameter. Remember\n",
    "that results of each condition will be OR\\'ed together.\n",
    "```\n"
   ]
  },
  {
   "cell_type": "markdown",
   "metadata": {},
   "source": [
    "```ini\n",
    "LINK_PARAM = 1,[?e]chr5,[?e]chr22\n",
    "```\n"
   ]
  },
  {
   "cell_type": "markdown",
   "metadata": {},
   "source": [
    "```ini\n",
    "The first condition is a regular expression (by default). The\n",
    "second and third conditions are exact text matches for chr5 and\n",
    "chr22. Thus, the LINK\\_PARAM will pass if (a) it contains a\n",
    "\\`\\`1\\'\\', or (b) it is \\`\\`chr5\\'\\' or (c) it is \\`\\`chr22\\'\\'.\n",
    "```\n"
   ]
  },
  {
   "cell_type": "markdown",
   "metadata": {},
   "source": [
    "-   **[Negating a Condition]{#item_Negating}**"
   ]
  },
  {
   "cell_type": "markdown",
   "metadata": {},
   "source": [
    "```ini\n",
    "In order to negate a condition, use \\`\\`!\\'\\'. When \\`\\`!\\'\\' is\n",
    "used, the condition must fail for the result to be acceptable.\n",
    "```\n"
   ]
  },
  {
   "cell_type": "markdown",
   "metadata": {},
   "source": [
    "```ini\n",
    "# must not match regular expression \"1\"\n",
    "LINK_PARAM = [?r!]1\n",
    "```\n"
   ]
  },
  {
   "cell_type": "markdown",
   "metadata": {},
   "source": [
    "```ini\n",
    "# must not be \"chr12\"\n",
    "LINK_PARAM = [?e!]chr12\n",
    "```\n"
   ]
  },
  {
   "cell_type": "markdown",
   "metadata": {},
   "source": [
    "```ini\n",
    "# must not be within the range 1000-2000\n",
    "LINK_PARAM = [?i!]1000-2000\n",
    "```\n"
   ]
  },
  {
   "cell_type": "markdown",
   "metadata": {},
   "source": [
    "```ini\n",
    "In order to combine negated conditions with positive ones, you will\n",
    "need to group conditions so that their results are AND\\'ed.\n",
    "```\n"
   ]
  },
  {
   "cell_type": "markdown",
   "metadata": {},
   "source": [
    "-   **[Grouping Conditions]{#item_Grouping}**"
   ]
  },
  {
   "cell_type": "markdown",
   "metadata": {},
   "source": [
    "```ini\n",
    "So far, all condition results were evaluated with OR. In other\n",
    "words, if you had a list of conditions, the successful pass of any\n",
    "of the conditions resulted in the link being passed. This is useful\n",
    "if you want to accept multiple values\n",
    "```\n"
   ]
  },
  {
   "cell_type": "markdown",
   "metadata": {},
   "source": [
    "```ini\n",
    "# chr12 or chr14 \n",
    "LINK_PARAM = [?e]chr12;;[?e]chr14\n",
    "```\n"
   ]
  },
  {
   "cell_type": "markdown",
   "metadata": {},
   "source": [
    "```ini\n",
    "However, what if you wanted to match regular expression \\`\\`1\\'\\'\n",
    "but not chr14. Here\\'s where the ID field comes in. By tagging\n",
    "multiple conditions with the same ID field the results of each of\n",
    "these conditions is AND\\'ed together to determine whether the link\n",
    "passes.\n",
    "```\n"
   ]
  },
  {
   "cell_type": "markdown",
   "metadata": {},
   "source": [
    "```ini\n",
    "# ID=0 \n",
    "# match regular expression \"1\" AND not be \"chr14\"\n",
    "LINK_PARAM = [?r0]1;;[?e0!]chr14\n",
    "```\n"
   ]
  },
  {
   "cell_type": "markdown",
   "metadata": {},
   "source": [
    "------------------------------------------------------------------------\n",
    "\n",
    "[EXAMPLES]{#EXAMPLES}\n",
    "=====================\n",
    "\n",
    "Below are some examples to get you started. Note the interplay between\n",
    "conditions with IDs and condition without IDs. The former collate\n",
    "conditions into AND\\'ed sets, which are then in turn OR\\'ed with other\n",
    "sets and with conditions without IDs.\n",
    "\n",
    "------------------------------------------------------------------------\n",
    "\n",
    "[Filtering by Chromosomes]{#Filtering_by_Chromosomes}\n",
    "-----------------------------------------------------\n",
    "\n",
    "To select links in which both ends match regular expression \\`\\`1\\'\\'"
   ]
  },
  {
   "cell_type": "markdown",
   "metadata": {},
   "source": [
    "```ini\n",
    "chr = 1\n",
    "```\n"
   ]
  },
  {
   "cell_type": "markdown",
   "metadata": {},
   "source": [
    "So simple. Now, to select links in with either ends matches regular\n",
    "expression \\`\\`1\\'\\',"
   ]
  },
  {
   "cell_type": "markdown",
   "metadata": {},
   "source": [
    "```ini\n",
    "chr_1 = 1\n",
    "chr_2 = 1\n",
    "```\n"
   ]
  },
  {
   "cell_type": "markdown",
   "metadata": {},
   "source": [
    "The difference between these two cases is that in the first instance,\n",
    "since the link\\_parameter does not include a \\_1 or \\_2 suffix, the\n",
    "condition is applied to both ends of the link and both ends must pass.\n",
    "In the second case, each end is tested independently and the results are\n",
    "OR\\'ed together.\n",
    "\n",
    "If you want links where the first chromosome matches x or the second\n",
    "matches y,"
   ]
  },
  {
   "cell_type": "markdown",
   "metadata": {},
   "source": [
    "```ini\n",
    "chr_1 = x\n",
    "chr_2 = y\n",
    "```\n"
   ]
  },
  {
   "cell_type": "markdown",
   "metadata": {},
   "source": [
    "The test is (chr\\_1 match \\`\\`x\\'\\') OR (chr\\_2 match \\`\\`y\\'\\'). Note,\n",
    "however, that this set of rules requires that the first chromosome match\n",
    "\\`\\`x\\'\\' OR the second chromosome match \\`\\`y\\'\\'. It will fail if the\n",
    "first chromosome matches \\`\\`y\\'\\' and the second matches \\`\\`x\\'\\'. To\n",
    "match both possibilities, you might try"
   ]
  },
  {
   "cell_type": "markdown",
   "metadata": {},
   "source": [
    "```ini\n",
    "chr_1 = x;;y\n",
    "chr_2 = y;;x\n",
    "```\n"
   ]
  },
  {
   "cell_type": "markdown",
   "metadata": {},
   "source": [
    "In this case the test is (chr\\_1 match \\`\\`x\\'\\') OR (chr\\_1 match\n",
    "\\`\\`y\\'\\') OR (chr\\_2 match \\`\\`x\\'\\') OR (chr\\_2 match \\`\\`y\\'\\').\n",
    "\n",
    "If you are looking for links between x and y chromosomes, then you\n",
    "require the results of each condition to be AND\\'ed. For this, use IDs"
   ]
  },
  {
   "cell_type": "markdown",
   "metadata": {},
   "source": [
    "```ini\n",
    "chr_1 = [?r1]x\n",
    "chr_2 = [?r1]y\n",
    "```\n"
   ]
  },
  {
   "cell_type": "markdown",
   "metadata": {},
   "source": [
    "Both of these rules have ID=1 and are therefore grouped into a set.\n",
    "Match results within a set are AND\\'ed. Thus, the test is (chr\\_1 match\n",
    "\\`\\`x\\'\\') AND (chr\\_2 match \\`\\`y\\'\\'). If you want to match the other\n",
    "order too,"
   ]
  },
  {
   "cell_type": "markdown",
   "metadata": {},
   "source": [
    "```ini\n",
    "chr_1 = [?r1]x;;[?r2]y\n",
    "chr_2 = [?r1]y;;[?r2]x\n",
    "```\n"
   ]
  },
  {
   "cell_type": "markdown",
   "metadata": {},
   "source": [
    "In this example, there are two IDs. The rules with ID=0 match chr1 to\n",
    "\\`\\`x\\'\\' and chr2 to \\`\\`y\\'\\' and the rules with ID=1 match the\n",
    "converse (chr1 to \\`\\`y\\'\\' and chr2 to \\`\\`x\\'\\').\n",
    "\n",
    "Now let\\'s suppose we want links that are either cf1-hs6, cf14-hs7 or\n",
    "cfx-hsx. Here cf is a dog chromosome and hs is a human chromosome. The\n",
    "rule for this is"
   ]
  },
  {
   "cell_type": "markdown",
   "metadata": {},
   "source": [
    "```ini\n",
    "chr_1 = [?e1]cf1;;[?e2]cf14;;[?e3]cfx\n",
    "chr_2 = [?e1]hs6;;[?e2]hs7;;[?e3]hsx\n",
    "```\n"
   ]
  },
  {
   "cell_type": "markdown",
   "metadata": {},
   "source": [
    "You can add additional conditions without IDs to accept more links. For\n",
    "example, if you also wanted to add any links for which chr\\_1 was cf9 or\n",
    "for which chr\\_2 matched \\`\\`3\\'\\'"
   ]
  },
  {
   "cell_type": "markdown",
   "metadata": {},
   "source": [
    "```ini\n",
    "chr_1 = [?e1]cf1;;[?e2]cf14;;[?e3]cfx;;[?e]cf9\n",
    "chr_2 = [?e1]hs6;;[?e2]hs7;;[?e3]hsx;;3\n",
    "```\n"
   ]
  },
  {
   "cell_type": "markdown",
   "metadata": {},
   "source": [
    "Remember that \\[?r\\]3 is the same as 3, since the default condition type\n",
    "is a regular expression.\n",
    "\n",
    "You can take advantage of the \\`\\`!\\'\\' flag to negate rules to avoid\n",
    "chromosomes. For example, if you want links between cfx and any\n",
    "chromosome other than hsx"
   ]
  },
  {
   "cell_type": "markdown",
   "metadata": {},
   "source": [
    "```ini\n",
    "chr_1 = [?e1]cfx\n",
    "chr_2 = [?e1!]hsx\n",
    "```\n"
   ]
  },
  {
   "cell_type": "markdown",
   "metadata": {},
   "source": [
    "and here the test is (chr\\_1 is cfx) AND (chr\\_2 is not hsx).\n",
    "\n",
    "You can combine chr with chr\\_1/chr\\_2 rules"
   ]
  },
  {
   "cell_type": "markdown",
   "metadata": {},
   "source": [
    "```ini\n",
    "chr   = 2\n",
    "chr_1 = [?e1]cfx\n",
    "chr_2 = [?e1!]hsx\n",
    "```\n"
   ]
  },
  {
   "cell_type": "markdown",
   "metadata": {},
   "source": [
    "to produce the test ( (chr\\_1 is cfx) AND (chr\\_2 is not hsx) ) OR (\n",
    "chr\\_1 matches \\`\\`2\\'\\' AND chr\\_2 matches \\`\\`2\\'\\' ). Use \\`\\`chr\\'\\'\n",
    "as the parameter if you want to apply the same condition to both ends of\n",
    "th elink and chr\\_1 and chr\\_2 to apply different conditions.\n",
    "\n",
    "------------------------------------------------------------------------\n",
    "\n",
    "[Filtering by Position]{#Filtering_by_Position}\n",
    "-----------------------------------------------\n",
    "\n",
    "To test link position, use the parameters \\`\\`start\\'\\', \\`\\`end\\'\\' and\n",
    "\\`\\`span\\'\\'. Both \\`\\`start\\'\\' and \\`\\`end\\'\\' are ideal for testing\n",
    "with condition type \\< and \\>. To select links for which both ends start\n",
    "before 10,000,000"
   ]
  },
  {
   "cell_type": "markdown",
   "metadata": {},
   "source": [
    "```ini\n",
    "start = [?<]1e7\n",
    "# or\n",
    "start = [?<]10000000\n",
    "```\n"
   ]
  },
  {
   "cell_type": "markdown",
   "metadata": {},
   "source": [
    "to add another OR\\'ed condition to pass links with start values beyond\n",
    "100,000,000"
   ]
  },
  {
   "cell_type": "markdown",
   "metadata": {},
   "source": [
    "```ini\n",
    "start = [?<]1e7;;[?>]1e8\n",
    "```\n"
   ]
  },
  {
   "cell_type": "markdown",
   "metadata": {},
   "source": [
    "A more complex test for the \\`\\`start\\'\\' and \\`\\`end\\'\\' values can be\n",
    "leveled by using the \\`\\`s\\'\\' condition type, which tests for\n",
    "membership within a span. This rule"
   ]
  },
  {
   "cell_type": "markdown",
   "metadata": {},
   "source": [
    "```ini\n",
    "start = [?i]1e6-2e6,3e6-4e6\n",
    "```\n"
   ]
  },
  {
   "cell_type": "markdown",
   "metadata": {},
   "source": [
    "will pass links for which both ends are within 1-2Mb or 3-4Mb. Note that\n",
    "the \\`\\`,\\'\\' in this condition is part of the span and does not create\n",
    "a new condition. To have two conditions, use the ;; delimiter."
   ]
  },
  {
   "cell_type": "markdown",
   "metadata": {},
   "source": [
    "```ini\n",
    "start = [?i]1e6-2e6,3e6-4e6;;[?s]1e7-1.1e7,3e6-4e6\n",
    "```\n"
   ]
  },
  {
   "cell_type": "markdown",
   "metadata": {},
   "source": [
    "When using the \\`\\`span\\'\\' parameter, you should always use the\n",
    "\\`\\`s\\'\\' condition type. This will check whether the link span\n",
    "intersects the provided span."
   ]
  },
  {
   "cell_type": "markdown",
   "metadata": {},
   "source": [
    "```ini\n",
    "span = [?s]2e7-5e7\n",
    "```\n"
   ]
  },
  {
   "cell_type": "markdown",
   "metadata": {},
   "source": [
    "This will select all links whose spans (at both ends) intersect the\n",
    "coordinates 20-50Mb. To be more selective, use the \\_1 and \\_2 suffixes."
   ]
  },
  {
   "cell_type": "markdown",
   "metadata": {},
   "source": [
    "```ini\n",
    "span_1 = [?s1]2e7-5e7\n",
    "span_2 = [?s1]2e7-2.5e7\n",
    "```\n"
   ]
  },
  {
   "cell_type": "markdown",
   "metadata": {},
   "source": [
    "will select links joining 20-50Mb regions to 20-25Mb regions. An ID was\n",
    "required here to make the results AND\\'ed. To avoid certain regions, use\n",
    "the \\`\\`!\\'\\' flag"
   ]
  },
  {
   "cell_type": "markdown",
   "metadata": {},
   "source": [
    "```ini\n",
    "span = [?s!](-1e7\n",
    "```\n"
   ]
  },
  {
   "cell_type": "markdown",
   "metadata": {},
   "source": [
    "will avoid all links within the first 10Mb.\n",
    "\n",
    "------------------------------------------------------------------------\n",
    "\n",
    "[Filtering by Link Options]{#Filtering_by_Link_Options}\n",
    "-------------------------------------------------------\n",
    "\n",
    "Any link option such as \\`\\`color\\'\\', \\`\\`thickness\\'\\', or \\`\\`z\\'\\'\n",
    "can be tested in similar rules."
   ]
  },
  {
   "cell_type": "markdown",
   "metadata": {},
   "source": [
    "```ini\n",
    "# links with z value greater than 10\n",
    "z = [?>]10 \n",
    "```\n"
   ]
  },
  {
   "cell_type": "markdown",
   "metadata": {},
   "source": [
    "```ini\n",
    "# links with z value between 5 and 15\n",
    "z = [?s]5-15\n",
    "```\n"
   ]
  },
  {
   "cell_type": "markdown",
   "metadata": {},
   "source": [
    "------------------------------------------------------------------------\n",
    "\n",
    "[Mixing Conditions and IDs]{#Mixing_Conditions_and_IDs}\n",
    "-------------------------------------------------------\n",
    "\n",
    "You can write fairly complex rules by combining different link\n",
    "parameter, rule types and IDs.\n",
    "\n",
    "For example to apply the following filter"
   ]
  },
  {
   "cell_type": "markdown",
   "metadata": {},
   "source": [
    "```ini\n",
    "(\n",
    "between (hs1 and cf6) \n",
    "AND\n",
    "within 75-80 Mb on hs1\n",
    "AND \n",
    "larger than 5kb on hs1\n",
    ")\n",
    "```\n"
   ]
  },
  {
   "cell_type": "markdown",
   "metadata": {},
   "source": [
    "```ini\n",
    "OR\n",
    "```\n"
   ]
  },
  {
   "cell_type": "markdown",
   "metadata": {},
   "source": [
    "```ini\n",
    "(\n",
    "larger than 500kb on hs1\n",
    ")\n",
    "```\n"
   ]
  },
  {
   "cell_type": "markdown",
   "metadata": {},
   "source": [
    "use the following rules"
   ]
  },
  {
   "cell_type": "markdown",
   "metadata": {},
   "source": [
    "```ini\n",
    "chr_1   = [?e1]cf6\n",
    "chr_2   = [?e1]hs1\n",
    "span_2  = [?s1]75e6-80e6\n",
    "size_2  = [?>1]5e3;;[?>]500e3\n",
    "```\n"
   ]
  },
  {
   "cell_type": "markdown",
   "metadata": {},
   "source": [
    "------------------------------------------------------------------------\n",
    "\n",
    "[HISTORY]{#HISTORY}\n",
    "===================\n",
    "\n",
    "-   **[23 July 2008]{#item_23}**"
   ]
  },
  {
   "cell_type": "markdown",
   "metadata": {},
   "source": [
    "```ini\n",
    "Reworked rules and conditions to include TYPE and ID.\n",
    "```\n"
   ]
  },
  {
   "cell_type": "markdown",
   "metadata": {},
   "source": [
    "-   **[9 July 2008]{#item_9}**"
   ]
  },
  {
   "cell_type": "markdown",
   "metadata": {},
   "source": [
    "```ini\n",
    "Started and versioned.\n",
    "```\n"
   ]
  },
  {
   "cell_type": "markdown",
   "metadata": {},
   "source": [
    "------------------------------------------------------------------------\n",
    "\n",
    "[BUGS]{#BUGS}\n",
    "=============\n",
    "\n",
    "------------------------------------------------------------------------\n",
    "\n",
    "[AUTHOR]{#AUTHOR}\n",
    "=================\n",
    "\n",
    "Martin Krzywinski\n",
    "\n",
    "------------------------------------------------------------------------\n",
    "\n",
    "[CONTACT]{#CONTACT}\n",
    "==================="
   ]
  },
  {
   "cell_type": "markdown",
   "metadata": {},
   "source": [
    "```ini\n",
    "Martin Krzywinski\n",
    "Genome Sciences Centre\n",
    "Vancouver BC Canada\n",
    "www.bcgsc.ca\n",
    "martink@bcgsc.ca\n",
    "```\n"
   ]
  },
  {
   "cell_type": "markdown",
   "metadata": {},
   "source": [
    "----\n",
    "\n",
    "### Generating the plot produced by this example code\n",
    "\n",
    "\n",
    "The following two cells will generate the plot. The first cell adjusts the current working directory."
   ]
  },
  {
   "cell_type": "code",
   "execution_count": null,
   "metadata": {},
   "outputs": [],
   "source": [
    "%cd ../circos-tutorials-0.67/tutorials/9/4/"
   ]
  },
  {
   "cell_type": "code",
   "execution_count": null,
   "metadata": {},
   "outputs": [],
   "source": [
    "%%bash\n",
    "../../../../circos-0.69-6/bin/circos -conf circos.conf"
   ]
  },
  {
   "cell_type": "markdown",
   "metadata": {},
   "source": [
    "View the plot in this page using the following cell."
   ]
  },
  {
   "cell_type": "code",
   "execution_count": null,
   "metadata": {},
   "outputs": [],
   "source": [
    "from IPython.display import Image\n",
    "Image(\"circos.png\")"
   ]
  },
  {
   "cell_type": "markdown",
   "metadata": {},
   "source": [
    "----\n",
    "\n",
    "Continue on to the next part of the Helper Tools series by clicking [here &#10145;](HelperTools_Part5.ipynb).\n",
    "\n",
    "----"
   ]
  }
 ],
 "metadata": {},
 "nbformat": 4,
 "nbformat_minor": 2
}
