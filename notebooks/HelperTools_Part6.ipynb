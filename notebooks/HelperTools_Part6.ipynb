{
 "cells": [
  {
   "cell_type": "markdown",
   "metadata": {},
   "source": [
    "# Part 6 of Helper Tools: Generate Link Density Tracks\n",
    "\n",
    "This page is primarily based on the following page at the Circos documentation site:\n",
    "\n",
    "\n",
    "\n",
    "- [6. Generate Link Density Tracks](????????????)\n",
    "\n",
    "\n",
    "\n",
    "That page is found as part number 4 of the ??? part ['Helper Tools' section](http://circos.ca/documentation/tutorials/quick_start/) of [the larger set of Circos tutorials](http://circos.ca/documentation/tutorials/).\n",
    "\n",
    "\n",
    "\n",
    "Go back to Part 5 by clicking [here &#8592;](HelperTools_Part5.ipynb).\n",
    "\n",
    "\n",
    "\n",
    "----\n",
    "\n",
    "\n",
    "\n",
    "9 --- Helper Tools\n",
    "==================\n",
    "\n",
    "6. Generate Link Density Tracks\n",
    "-------------------------------\n",
    "\n",
    "::: {#menu4}\n",
    "[[Lesson](/documentation/tutorials/utilities/density_tracks/lesson){.clean}]{.active}\n",
    "[Images](/documentation/tutorials/utilities/density_tracks/images){.normal}\n",
    ":::\n",
    "\n",
    "script location\n",
    "---------------"
   ]
  },
  {
   "cell_type": "markdown",
   "metadata": {},
   "source": [
    "```ini\n",
    "tools/binlinks\n",
    "```\n"
   ]
  },
  {
   "cell_type": "markdown",
   "metadata": {},
   "source": [
    "script usage\n",
    "------------"
   ]
  },
  {
   "cell_type": "markdown",
   "metadata": {},
   "source": [
    "```ini\n",
    "> cd tools/binlinks\n",
    "# bin a link file by size of links on originating chromosome\n",
    "> bin/binlinks -links data/segdup.links.txt > data/histogram.txt\n",
    "# bin a link file by size of links on target chromosome\n",
    "> bin/binlinks -links data/segdup.links.txt -link_end 1 > data/histogram.txt\n",
    "# bin a link file by number of links on originating chromosomes\n",
    "> bin/binlinks -num -links data/segdup.links.txt > data/histogram.txt\n",
    "# color bin values by target chromosome\n",
    "> bin/binlinks -num -links data/segdup.links.txt -output_style 1 > data/histogram.txt\n",
    "# create stacked histogram data\n",
    "> bin/binlinks -num -links data/segdup.links.txt -output_style 3 > data/histogram.txt\n",
    "```\n"
   ]
  },
  {
   "cell_type": "markdown",
   "metadata": {},
   "source": [
    "Any values in the configuration file etc/binlinks.conf are overwritten\n",
    "with command-line parameters of the same name.\n",
    "\n",
    "details\n",
    "-------\n",
    "\n",
    "The purpose of this script is to generate data for histogram and\n",
    "highlight tracks that stores the number, size and consensus position of\n",
    "links. All chromosomes in the input link file are divided into bins\n",
    "(controlled by -bin\\_size), and link statistics are calculated on a\n",
    "bin-by-bin basis.\n",
    "\n",
    "For the purpose of this script that the first line of a link line pair\n",
    "is refered to as the originating position and the second line as the\n",
    "target position. Thus the link given by the lines"
   ]
  },
  {
   "cell_type": "markdown",
   "metadata": {},
   "source": [
    "```ini\n",
    "segdup04822 hs2 131691333 131718278\n",
    "segdup04822 hs18 14507744 14534120\n",
    "```\n"
   ]
  },
  {
   "cell_type": "markdown",
   "metadata": {},
   "source": [
    "has hs2 as the originating chromosome (or start of link) and hs18 as the\n",
    "target chromosome (or end of link). For your application, the links may\n",
    "be bidirectional (such as the segmental duplication used in this\n",
    "example), but the asymmetry of the start/end position is inherent from\n",
    "the format of the link data file.\n",
    "\n",
    "### counting link size\n",
    "\n",
    "The default values in the etc/binlinks.conf file make binlinks count the\n",
    "total size of links on the originating chromosomes."
   ]
  },
  {
   "cell_type": "markdown",
   "metadata": {},
   "source": [
    "```ini\n",
    "> bin/binlinks\n",
    "...\n",
    "hs14 18000000 18999999 1739544.0000\n",
    "hs14 19000000 19999999 816821.0000\n",
    "hs14 20000000 20999999 69080.0000\n",
    "...\n",
    "```\n"
   ]
  },
  {
   "cell_type": "markdown",
   "metadata": {},
   "source": [
    "For example, the links that originate in the bin hs14:14:18-19Mb add up\n",
    "to 1.739Mb. It\\'s important to realize that this sum is the sum of the\n",
    "start of the links (each link is composed of two spans - a start span on\n",
    "the originating chromosome and an end span on the target chromosome).\n",
    "\n",
    "You can use -link\\_end to tabulate the total size of the end spans for a\n",
    "bin."
   ]
  },
  {
   "cell_type": "markdown",
   "metadata": {},
   "source": [
    "```ini\n",
    "> bin/binlinks -link_end 1\n",
    "...\n",
    "hs14 18000000 18999999 2256283.0000\n",
    "hs14 19000000 19999999 807211.0000\n",
    "hs14 20000000 20999999 78425.0000\n",
    "...\n",
    "```\n"
   ]
  },
  {
   "cell_type": "markdown",
   "metadata": {},
   "source": [
    "In this case, the links that originate in the bin hs14:18-19Mb have end\n",
    "spans that total 2.256Mb.\n",
    "\n",
    "You can add both the start and end spans of the links in a bin using\n",
    "-link\\_end 2."
   ]
  },
  {
   "cell_type": "markdown",
   "metadata": {},
   "source": [
    "```ini\n",
    "> bin/binlinks -link_end 2\n",
    "...\n",
    "hs14 18000000 18999999 3995827.0000\n",
    "hs14 19000000 19999999 1624032.0000\n",
    "hs14 20000000 20999999 147505.0000\n",
    "...\n",
    "```\n"
   ]
  },
  {
   "cell_type": "markdown",
   "metadata": {},
   "source": [
    "Instead of the link span size, you can add up the number of links in a\n",
    "bin using -num. In this case, each bin that overlaps with the link start\n",
    "and end span will receive a +1 contribution from the link.\n",
    "\n",
    "Use -log to logarithmically scale the bin values.\n",
    "\n",
    "### applying target chromosome color to bin statistic\n",
    "\n",
    "Use -color\\_by\\_chr to add a color to each bin based on the consensus\n",
    "target chromosome (the chromosome receiving the largest contribution\n",
    "from the bin)."
   ]
  },
  {
   "cell_type": "markdown",
   "metadata": {},
   "source": [
    "```ini\n",
    "> bin/binlinks -color_by_chr\n",
    "...\n",
    "hs14 18000000 18999999 1739544.0000 fill_color=hs22\n",
    "hs14 19000000 19999999 816821.0000 fill_color=hs22\n",
    "hs14 20000000 20999999 69080.0000 fill_color=hs14\n",
    "...\n",
    "```\n"
   ]
  },
  {
   "cell_type": "markdown",
   "metadata": {},
   "source": [
    "### obtaining consensus chromosome statistics\n",
    "\n",
    "Typically you will have a large number of links that originate from each\n",
    "bin. Whereas default output style (-output\\_style 0) reports the total\n",
    "statistics for a bin, as described above, if you want to obtain\n",
    "statistics based on individual chromosomes, use the other output styles\n",
    "described below.\n",
    "\n",
    "For each bin, statistics for the consensus target chromosome (the\n",
    "chromosome with the largest contribution of links from the bin) is\n",
    "obtained with -output\\_style 1. The output is also annotated with the\n",
    "color of the consensus chromosome."
   ]
  },
  {
   "cell_type": "markdown",
   "metadata": {},
   "source": [
    "```ini\n",
    "> bin/binlinks -output_style 1\n",
    "...\n",
    "hs14 18000000 18999999 688034.0000 fill_color=hs22\n",
    "hs14 19000000 19999999 264389.0000 fill_color=hs22\n",
    "hs14 20000000 20999999 65213.0000 fill_color=hs14\n",
    "...\n",
    "```\n"
   ]
  },
  {
   "cell_type": "markdown",
   "metadata": {},
   "source": [
    "Note the difference between this output and the corresponding output\n",
    "using -output\\_style 0. In the present case, the largest fraction of\n",
    "links from hs14:18-19Mb terminate on hs22 and total 688kb.\n",
    "\n",
    "Whereas -output\\_style 1 shows you the statistic for all links in the\n",
    "bin and the color of the consensus target chromosome, -output\\_style 2\n",
    "gives a value for the bin for each target chromosome."
   ]
  },
  {
   "cell_type": "markdown",
   "metadata": {},
   "source": [
    "```ini\n",
    "> bin/binlinks -output_style 2\n",
    "hs14 18000000 18999999 688034.0000 fill_color=hs22\n",
    "hs14 18000000 18999999 303434.0000 fill_color=hs14\n",
    "hs14 18000000 18999999 257791.0000 fill_color=hs18\n",
    "hs14 18000000 18999999 235624.0000 fill_color=hs15\n",
    "hs14 18000000 18999999 218463.0000 fill_color=hs21\n",
    "hs14 18000000 18999999 18850.0000 fill_color=hs17\n",
    "hs14 18000000 18999999 17348.0000 fill_color=hs16\n",
    "hs14 18000000 18999999 0.0000 fill_color=hsx\n",
    "hs14 18000000 18999999 0.0000 fill_color=hsy\n",
    "hs14 18000000 18999999 0.0000 fill_color=hs1\n",
    "hs14 18000000 18999999 0.0000 fill_color=hs2\n",
    "hs14 18000000 18999999 0.0000 fill_color=hs3\n",
    "hs14 18000000 18999999 0.0000 fill_color=hs4\n",
    "hs14 18000000 18999999 0.0000 fill_color=hs5\n",
    "hs14 18000000 18999999 0.0000 fill_color=hs6\n",
    "hs14 18000000 18999999 0.0000 fill_color=hs7\n",
    "hs14 18000000 18999999 0.0000 fill_color=hs8\n",
    "hs14 18000000 18999999 0.0000 fill_color=hs9\n",
    "hs14 18000000 18999999 0.0000 fill_color=hs10\n",
    "hs14 18000000 18999999 0.0000 fill_color=hs11\n",
    "hs14 18000000 18999999 0.0000 fill_color=hs12\n",
    "hs14 18000000 18999999 0.0000 fill_color=hs13\n",
    "hs14 18000000 18999999 0.0000 fill_color=hs19\n",
    "hs14 18000000 18999999 0.0000 fill_color=hs20\n",
    "```\n"
   ]
  },
  {
   "cell_type": "markdown",
   "metadata": {},
   "source": [
    "The advantage of -output\\_style 2 is that it can be filtered for a\n",
    "chromosome of interest to determine its contribution to the links."
   ]
  },
  {
   "cell_type": "markdown",
   "metadata": {},
   "source": [
    "```ini\n",
    "> bin/binlinks -output_style 2 | grep =hs22\n",
    "...\n",
    "hs14 18000000 18999999 688034.0000 fill_color=hs22\n",
    "hs14 19000000 19999999 264389.0000 fill_color=hs22\n",
    "hs14 20000000 20999999 0.0000 fill_color=hs22\n",
    "...\n",
    "```\n"
   ]
  },
  {
   "cell_type": "markdown",
   "metadata": {},
   "source": [
    "### creating stacked histograms\n",
    "\n",
    "Finally, -output\\_style 3 generates track data for stacked histograms."
   ]
  },
  {
   "cell_type": "markdown",
   "metadata": {},
   "source": [
    "```ini\n",
    "> bin/binlinks -output_style 3\n",
    "fill_color=hsx,hsy,hs1,hs2,hs3,hs4,hs5,hs6,hs7,hs8,hs9,hs10,hs11,hs12,hs13,hs14,hs15,hs16,hs17,hs18,hs19,hs20,hs21,hs22\n",
    "...\n",
    "hs14 18000000 18999999 0.0000,0.0000,0.0000,0.0000,0.0000,0.0000,\n",
    "0.0000,0.0000,0.0000,0.0000,0.0000,0.0000,\n",
    "0.0000,0.0000,0.0000,303434.0000,235624.0000,\n",
    "17348.0000,18850.0000,257791.0000,0.0000,0.0000,\n",
    "218463.0000,688034.0000\n",
    "...\n",
    "```\n"
   ]
  },
  {
   "cell_type": "markdown",
   "metadata": {},
   "source": [
    "The data is written to STDOUT and the color list to STDERR, so you\n",
    "should redirect them appropriately."
   ]
  },
  {
   "cell_type": "markdown",
   "metadata": {},
   "source": [
    "```ini\n",
    "# redirect histogram values to a file and send STDERR to terminal - cut and paste \n",
    "# the color values into the histogram  block\n",
    "> bin/binlinks -output_style 3 > data.txt \n",
    "```\n"
   ]
  },
  {
   "cell_type": "markdown",
   "metadata": {},
   "source": [
    "The colors will be named after the target chromosomes. I typically use\n",
    "hsNNN for human chromosomes (to distinguish them from chromosomes of\n",
    "other species such as mouse (mmNNN), rat (rnNNN), and so on). However,\n",
    "chromosome colors are encoded with names chr1, chr2, chr3, and so on.\n",
    "You\\'ll need to either change (or add) color definitions in\n",
    "etc/colors.conf in the Circos distribution or rename the colors from\n",
    "CHRPREFIXNNN to chrNNN.\n",
    "\n",
    "\n",
    "\n",
    "\n",
    "----\n",
    "\n",
    "### Generating the plot produced by this example code\n",
    "\n",
    "\n",
    "The following two cells will generate the plot. The first cell adjusts the current working directory."
   ]
  },
  {
   "cell_type": "code",
   "execution_count": null,
   "metadata": {},
   "outputs": [],
   "source": [
    "%cd ../circos-tutorials-0.67/tutorials/9/6/"
   ]
  },
  {
   "cell_type": "code",
   "execution_count": null,
   "metadata": {},
   "outputs": [],
   "source": [
    "%%bash\n",
    "../../../../circos-0.69-6/bin/circos -conf circos.conf"
   ]
  },
  {
   "cell_type": "markdown",
   "metadata": {},
   "source": [
    "View the plot in this page using the following cell."
   ]
  },
  {
   "cell_type": "code",
   "execution_count": null,
   "metadata": {},
   "outputs": [],
   "source": [
    "from IPython.display import Image\n",
    "Image(\"circos.png\")"
   ]
  },
  {
   "cell_type": "markdown",
   "metadata": {},
   "source": [
    "----\n",
    "\n",
    "Continue on to the next part of the Helper Tools series by clicking [here &#10145;](HelperTools_Part7.ipynb).\n",
    "\n",
    "----"
   ]
  }
 ],
 "metadata": {},
 "nbformat": 4,
 "nbformat_minor": 2
}
