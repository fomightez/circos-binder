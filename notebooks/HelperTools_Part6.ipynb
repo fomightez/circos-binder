{
 "cells": [
  {
   "cell_type": "code",
   "execution_count": null,
   "metadata": {
    "hide_input": true,
    "inputHidden": true
   },
   "outputs": [
    {
     "data": {
      "text/html": [
       "<span style=\"color:red; font-family:Helvetica Neue, Helvetica, Arial, sans-serif; font-size:2em;\">An Exception was encountered at 'In [5]'.</span>"
      ]
     },
     "metadata": {},
     "output_type": "display_data"
    }
   ],
   "source": [
    "%%html\n",
    "<span style=\"color:red; font-family:Helvetica Neue, Helvetica, Arial, sans-serif; font-size:2em;\">An Exception was encountered at 'In [5]'.</span>"
   ]
  },
  {
   "cell_type": "code",
   "execution_count": 1,
   "metadata": {
    "papermill": {
     "duration": 0.021772,
     "end_time": "2019-04-09T17:58:43.498961",
     "exception": false,
     "start_time": "2019-04-09T17:58:43.477189",
     "status": "completed"
    },
    "tags": [
     "parameters"
    ]
   },
   "outputs": [],
   "source": [
    "#This cell is tagged parameters for running this template using Papermill to inject values to overwrite these.\n",
    "markdown = \"\"\n",
    "section = 99\n",
    "sub_pg = 99\n",
    "end_nb = False\n",
    "next_nb = \"\"\n"
   ]
  },
  {
   "cell_type": "code",
   "execution_count": 2,
   "metadata": {
    "papermill": {
     "duration": 0.029449,
     "end_time": "2019-04-09T17:58:43.537511",
     "exception": false,
     "start_time": "2019-04-09T17:58:43.508062",
     "status": "completed"
    },
    "tags": [
     "injected-parameters"
    ]
   },
   "outputs": [],
   "source": [
    "# Parameters\n",
    "markdown = \"\\n# Part 6 of Helper Tools: Generate Link Density Tracks\\n\\nThis page is primarily based on the following page at the Circos documentation site:\\n\\n\\n\\n- [6. Generate Link Density Tracks](????????????)\\n\\n\\n\\nThat page is found as part number 4 of the ??? part ['Helper Tools' section](http://circos.ca/documentation/tutorials/quick_start/) of [the larger set of Circos tutorials](http://circos.ca/documentation/tutorials/).\\n\\n\\n\\nGo back to Part 5 by clicking [here &#8592;](HelperTools_Part5.ipynb).\\n\\n\\n\\n----\\n\\n\\n\\n9 --- Helper Tools\\n==================\\n\\n6. Generate Link Density Tracks\\n-------------------------------\\n\\n::: {#menu4}\\n[[Lesson](/documentation/tutorials/utilities/density_tracks/lesson){.clean}]{.active}\\n[Images](/documentation/tutorials/utilities/density_tracks/images){.normal}\\n:::\\n\\nscript location\\n---------------\\n\\n```ini\\ntools/binlinks\\n```\\n\\nscript usage\\n------------\\n\\n```ini\\n> cd tools/binlinks\\n# bin a link file by size of links on originating chromosome\\n> bin/binlinks -links data/segdup.links.txt > data/histogram.txt\\n# bin a link file by size of links on target chromosome\\n> bin/binlinks -links data/segdup.links.txt -link_end 1 > data/histogram.txt\\n# bin a link file by number of links on originating chromosomes\\n> bin/binlinks -num -links data/segdup.links.txt > data/histogram.txt\\n# color bin values by target chromosome\\n> bin/binlinks -num -links data/segdup.links.txt -output_style 1 > data/histogram.txt\\n# create stacked histogram data\\n> bin/binlinks -num -links data/segdup.links.txt -output_style 3 > data/histogram.txt\\n```\\n\\nAny values in the configuration file etc/binlinks.conf are overwritten\\nwith command-line parameters of the same name.\\n\\ndetails\\n-------\\n\\nThe purpose of this script is to generate data for histogram and\\nhighlight tracks that stores the number, size and consensus position of\\nlinks. All chromosomes in the input link file are divided into bins\\n(controlled by -bin\\\\_size), and link statistics are calculated on a\\nbin-by-bin basis.\\n\\nFor the purpose of this script that the first line of a link line pair\\nis refered to as the originating position and the second line as the\\ntarget position. Thus the link given by the lines\\n\\n```ini\\nsegdup04822 hs2 131691333 131718278\\nsegdup04822 hs18 14507744 14534120\\n```\\n\\nhas hs2 as the originating chromosome (or start of link) and hs18 as the\\ntarget chromosome (or end of link). For your application, the links may\\nbe bidirectional (such as the segmental duplication used in this\\nexample), but the asymmetry of the start/end position is inherent from\\nthe format of the link data file.\\n\\n### counting link size\\n\\nThe default values in the etc/binlinks.conf file make binlinks count the\\ntotal size of links on the originating chromosomes.\\n\\n```ini\\n> bin/binlinks\\n...\\nhs14 18000000 18999999 1739544.0000\\nhs14 19000000 19999999 816821.0000\\nhs14 20000000 20999999 69080.0000\\n...\\n```\\n\\nFor example, the links that originate in the bin hs14:14:18-19Mb add up\\nto 1.739Mb. It\\\\'s important to realize that this sum is the sum of the\\nstart of the links (each link is composed of two spans - a start span on\\nthe originating chromosome and an end span on the target chromosome).\\n\\nYou can use -link\\\\_end to tabulate the total size of the end spans for a\\nbin.\\n\\n```ini\\n> bin/binlinks -link_end 1\\n...\\nhs14 18000000 18999999 2256283.0000\\nhs14 19000000 19999999 807211.0000\\nhs14 20000000 20999999 78425.0000\\n...\\n```\\n\\nIn this case, the links that originate in the bin hs14:18-19Mb have end\\nspans that total 2.256Mb.\\n\\nYou can add both the start and end spans of the links in a bin using\\n-link\\\\_end 2.\\n\\n```ini\\n> bin/binlinks -link_end 2\\n...\\nhs14 18000000 18999999 3995827.0000\\nhs14 19000000 19999999 1624032.0000\\nhs14 20000000 20999999 147505.0000\\n...\\n```\\n\\nInstead of the link span size, you can add up the number of links in a\\nbin using -num. In this case, each bin that overlaps with the link start\\nand end span will receive a +1 contribution from the link.\\n\\nUse -log to logarithmically scale the bin values.\\n\\n### applying target chromosome color to bin statistic\\n\\nUse -color\\\\_by\\\\_chr to add a color to each bin based on the consensus\\ntarget chromosome (the chromosome receiving the largest contribution\\nfrom the bin).\\n\\n```ini\\n> bin/binlinks -color_by_chr\\n...\\nhs14 18000000 18999999 1739544.0000 fill_color=hs22\\nhs14 19000000 19999999 816821.0000 fill_color=hs22\\nhs14 20000000 20999999 69080.0000 fill_color=hs14\\n...\\n```\\n\\n### obtaining consensus chromosome statistics\\n\\nTypically you will have a large number of links that originate from each\\nbin. Whereas default output style (-output\\\\_style 0) reports the total\\nstatistics for a bin, as described above, if you want to obtain\\nstatistics based on individual chromosomes, use the other output styles\\ndescribed below.\\n\\nFor each bin, statistics for the consensus target chromosome (the\\nchromosome with the largest contribution of links from the bin) is\\nobtained with -output\\\\_style 1. The output is also annotated with the\\ncolor of the consensus chromosome.\\n\\n```ini\\n> bin/binlinks -output_style 1\\n...\\nhs14 18000000 18999999 688034.0000 fill_color=hs22\\nhs14 19000000 19999999 264389.0000 fill_color=hs22\\nhs14 20000000 20999999 65213.0000 fill_color=hs14\\n...\\n```\\n\\nNote the difference between this output and the corresponding output\\nusing -output\\\\_style 0. In the present case, the largest fraction of\\nlinks from hs14:18-19Mb terminate on hs22 and total 688kb.\\n\\nWhereas -output\\\\_style 1 shows you the statistic for all links in the\\nbin and the color of the consensus target chromosome, -output\\\\_style 2\\ngives a value for the bin for each target chromosome.\\n\\n```ini\\n> bin/binlinks -output_style 2\\nhs14 18000000 18999999 688034.0000 fill_color=hs22\\nhs14 18000000 18999999 303434.0000 fill_color=hs14\\nhs14 18000000 18999999 257791.0000 fill_color=hs18\\nhs14 18000000 18999999 235624.0000 fill_color=hs15\\nhs14 18000000 18999999 218463.0000 fill_color=hs21\\nhs14 18000000 18999999 18850.0000 fill_color=hs17\\nhs14 18000000 18999999 17348.0000 fill_color=hs16\\nhs14 18000000 18999999 0.0000 fill_color=hsx\\nhs14 18000000 18999999 0.0000 fill_color=hsy\\nhs14 18000000 18999999 0.0000 fill_color=hs1\\nhs14 18000000 18999999 0.0000 fill_color=hs2\\nhs14 18000000 18999999 0.0000 fill_color=hs3\\nhs14 18000000 18999999 0.0000 fill_color=hs4\\nhs14 18000000 18999999 0.0000 fill_color=hs5\\nhs14 18000000 18999999 0.0000 fill_color=hs6\\nhs14 18000000 18999999 0.0000 fill_color=hs7\\nhs14 18000000 18999999 0.0000 fill_color=hs8\\nhs14 18000000 18999999 0.0000 fill_color=hs9\\nhs14 18000000 18999999 0.0000 fill_color=hs10\\nhs14 18000000 18999999 0.0000 fill_color=hs11\\nhs14 18000000 18999999 0.0000 fill_color=hs12\\nhs14 18000000 18999999 0.0000 fill_color=hs13\\nhs14 18000000 18999999 0.0000 fill_color=hs19\\nhs14 18000000 18999999 0.0000 fill_color=hs20\\n```\\n\\nThe advantage of -output\\\\_style 2 is that it can be filtered for a\\nchromosome of interest to determine its contribution to the links.\\n\\n```ini\\n> bin/binlinks -output_style 2 | grep =hs22\\n...\\nhs14 18000000 18999999 688034.0000 fill_color=hs22\\nhs14 19000000 19999999 264389.0000 fill_color=hs22\\nhs14 20000000 20999999 0.0000 fill_color=hs22\\n...\\n```\\n\\n### creating stacked histograms\\n\\nFinally, -output\\\\_style 3 generates track data for stacked histograms.\\n\\n```ini\\n> bin/binlinks -output_style 3\\nfill_color=hsx,hsy,hs1,hs2,hs3,hs4,hs5,hs6,hs7,hs8,hs9,hs10,hs11,hs12,hs13,hs14,hs15,hs16,hs17,hs18,hs19,hs20,hs21,hs22\\n...\\nhs14 18000000 18999999 0.0000,0.0000,0.0000,0.0000,0.0000,0.0000,\\n0.0000,0.0000,0.0000,0.0000,0.0000,0.0000,\\n0.0000,0.0000,0.0000,303434.0000,235624.0000,\\n17348.0000,18850.0000,257791.0000,0.0000,0.0000,\\n218463.0000,688034.0000\\n...\\n```\\n\\nThe data is written to STDOUT and the color list to STDERR, so you\\nshould redirect them appropriately.\\n\\n```ini\\n# redirect histogram values to a file and send STDERR to terminal - cut and paste \\n# the color values into the histogram  block\\n> bin/binlinks -output_style 3 > data.txt \\n```\\n\\nThe colors will be named after the target chromosomes. I typically use\\nhsNNN for human chromosomes (to distinguish them from chromosomes of\\nother species such as mouse (mmNNN), rat (rnNNN), and so on). However,\\nchromosome colors are encoded with names chr1, chr2, chr3, and so on.\\nYou\\\\'ll need to either change (or add) color definitions in\\netc/colors.conf in the Circos distribution or rename the colors from\\nCHRPREFIXNNN to chrNNN.\\n\\n\"\n",
    "section = 9\n",
    "sub_pg = 6\n",
    "end_nb = False\n",
    "next_nb = \"HelperTools_Part7.ipynb\"\n"
   ]
  },
  {
   "cell_type": "code",
   "execution_count": 3,
   "metadata": {
    "papermill": {
     "duration": 0.017295,
     "end_time": "2019-04-09T17:58:43.568641",
     "exception": false,
     "start_time": "2019-04-09T17:58:43.551346",
     "status": "completed"
    },
    "tags": []
   },
   "outputs": [
    {
     "name": "stdout",
     "output_type": "stream",
     "text": [
      "\n",
      "# Part 6 of Helper Tools: Generate Link Density Tracks\n",
      "\n",
      "This page is primarily based on the following page at the Circos documentation site:\n",
      "\n",
      "\n",
      "\n",
      "- [6. Generate Link Density Tracks](????????????)\n",
      "\n",
      "\n",
      "\n",
      "That page is found as part number 4 of the ??? part ['Helper Tools' section](http://circos.ca/documentation/tutorials/quick_start/) of [the larger set of Circos tutorials](http://circos.ca/documentation/tutorials/).\n",
      "\n",
      "\n",
      "\n",
      "Go back to Part 5 by clicking [here &#8592;](HelperTools_Part5.ipynb).\n",
      "\n",
      "\n",
      "\n",
      "----\n",
      "\n",
      "\n",
      "\n",
      "9 --- Helper Tools\n",
      "==================\n",
      "\n",
      "6. Generate Link Density Tracks\n",
      "-------------------------------\n",
      "\n",
      "::: {#menu4}\n",
      "[[Lesson](/documentation/tutorials/utilities/density_tracks/lesson){.clean}]{.active}\n",
      "[Images](/documentation/tutorials/utilities/density_tracks/images){.normal}\n",
      ":::\n",
      "\n",
      "script location\n",
      "---------------\n",
      "\n",
      "```ini\n",
      "tools/binlinks\n",
      "```\n",
      "\n",
      "script usage\n",
      "------------\n",
      "\n",
      "```ini\n",
      "> cd tools/binlinks\n",
      "# bin a link file by size of links on originating chromosome\n",
      "> bin/binlinks -links data/segdup.links.txt > data/histogram.txt\n",
      "# bin a link file by size of links on target chromosome\n",
      "> bin/binlinks -links data/segdup.links.txt -link_end 1 > data/histogram.txt\n",
      "# bin a link file by number of links on originating chromosomes\n",
      "> bin/binlinks -num -links data/segdup.links.txt > data/histogram.txt\n",
      "# color bin values by target chromosome\n",
      "> bin/binlinks -num -links data/segdup.links.txt -output_style 1 > data/histogram.txt\n",
      "# create stacked histogram data\n",
      "> bin/binlinks -num -links data/segdup.links.txt -output_style 3 > data/histogram.txt\n",
      "```\n",
      "\n",
      "Any values in the configuration file etc/binlinks.conf are overwritten\n",
      "with command-line parameters of the same name.\n",
      "\n",
      "details\n",
      "-------\n",
      "\n",
      "The purpose of this script is to generate data for histogram and\n",
      "highlight tracks that stores the number, size and consensus position of\n",
      "links. All chromosomes in the input link file are divided into bins\n",
      "(controlled by -bin\\_size), and link statistics are calculated on a\n",
      "bin-by-bin basis.\n",
      "\n",
      "For the purpose of this script that the first line of a link line pair\n",
      "is refered to as the originating position and the second line as the\n",
      "target position. Thus the link given by the lines\n",
      "\n",
      "```ini\n",
      "segdup04822 hs2 131691333 131718278\n",
      "segdup04822 hs18 14507744 14534120\n",
      "```\n",
      "\n",
      "has hs2 as the originating chromosome (or start of link) and hs18 as the\n",
      "target chromosome (or end of link). For your application, the links may\n",
      "be bidirectional (such as the segmental duplication used in this\n",
      "example), but the asymmetry of the start/end position is inherent from\n",
      "the format of the link data file.\n",
      "\n",
      "### counting link size\n",
      "\n",
      "The default values in the etc/binlinks.conf file make binlinks count the\n",
      "total size of links on the originating chromosomes.\n",
      "\n",
      "```ini\n",
      "> bin/binlinks\n",
      "...\n",
      "hs14 18000000 18999999 1739544.0000\n",
      "hs14 19000000 19999999 816821.0000\n",
      "hs14 20000000 20999999 69080.0000\n",
      "...\n",
      "```\n",
      "\n",
      "For example, the links that originate in the bin hs14:14:18-19Mb add up\n",
      "to 1.739Mb. It\\'s important to realize that this sum is the sum of the\n",
      "start of the links (each link is composed of two spans - a start span on\n",
      "the originating chromosome and an end span on the target chromosome).\n",
      "\n",
      "You can use -link\\_end to tabulate the total size of the end spans for a\n",
      "bin.\n",
      "\n",
      "```ini\n",
      "> bin/binlinks -link_end 1\n",
      "...\n",
      "hs14 18000000 18999999 2256283.0000\n",
      "hs14 19000000 19999999 807211.0000\n",
      "hs14 20000000 20999999 78425.0000\n",
      "...\n",
      "```\n",
      "\n",
      "In this case, the links that originate in the bin hs14:18-19Mb have end\n",
      "spans that total 2.256Mb.\n",
      "\n",
      "You can add both the start and end spans of the links in a bin using\n",
      "-link\\_end 2.\n",
      "\n",
      "```ini\n",
      "> bin/binlinks -link_end 2\n",
      "...\n",
      "hs14 18000000 18999999 3995827.0000\n",
      "hs14 19000000 19999999 1624032.0000\n",
      "hs14 20000000 20999999 147505.0000\n",
      "...\n",
      "```\n",
      "\n",
      "Instead of the link span size, you can add up the number of links in a\n",
      "bin using -num. In this case, each bin that overlaps with the link start\n",
      "and end span will receive a +1 contribution from the link.\n",
      "\n",
      "Use -log to logarithmically scale the bin values.\n",
      "\n",
      "### applying target chromosome color to bin statistic\n",
      "\n",
      "Use -color\\_by\\_chr to add a color to each bin based on the consensus\n",
      "target chromosome (the chromosome receiving the largest contribution\n",
      "from the bin).\n",
      "\n",
      "```ini\n",
      "> bin/binlinks -color_by_chr\n",
      "...\n",
      "hs14 18000000 18999999 1739544.0000 fill_color=hs22\n",
      "hs14 19000000 19999999 816821.0000 fill_color=hs22\n",
      "hs14 20000000 20999999 69080.0000 fill_color=hs14\n",
      "...\n",
      "```\n",
      "\n",
      "### obtaining consensus chromosome statistics\n",
      "\n",
      "Typically you will have a large number of links that originate from each\n",
      "bin. Whereas default output style (-output\\_style 0) reports the total\n",
      "statistics for a bin, as described above, if you want to obtain\n",
      "statistics based on individual chromosomes, use the other output styles\n",
      "described below.\n",
      "\n",
      "For each bin, statistics for the consensus target chromosome (the\n",
      "chromosome with the largest contribution of links from the bin) is\n",
      "obtained with -output\\_style 1. The output is also annotated with the\n",
      "color of the consensus chromosome.\n",
      "\n",
      "```ini\n",
      "> bin/binlinks -output_style 1\n",
      "...\n",
      "hs14 18000000 18999999 688034.0000 fill_color=hs22\n",
      "hs14 19000000 19999999 264389.0000 fill_color=hs22\n",
      "hs14 20000000 20999999 65213.0000 fill_color=hs14\n",
      "...\n",
      "```\n",
      "\n",
      "Note the difference between this output and the corresponding output\n",
      "using -output\\_style 0. In the present case, the largest fraction of\n",
      "links from hs14:18-19Mb terminate on hs22 and total 688kb.\n",
      "\n",
      "Whereas -output\\_style 1 shows you the statistic for all links in the\n",
      "bin and the color of the consensus target chromosome, -output\\_style 2\n",
      "gives a value for the bin for each target chromosome.\n",
      "\n",
      "```ini\n",
      "> bin/binlinks -output_style 2\n",
      "hs14 18000000 18999999 688034.0000 fill_color=hs22\n",
      "hs14 18000000 18999999 303434.0000 fill_color=hs14\n",
      "hs14 18000000 18999999 257791.0000 fill_color=hs18\n",
      "hs14 18000000 18999999 235624.0000 fill_color=hs15\n",
      "hs14 18000000 18999999 218463.0000 fill_color=hs21\n",
      "hs14 18000000 18999999 18850.0000 fill_color=hs17\n",
      "hs14 18000000 18999999 17348.0000 fill_color=hs16\n",
      "hs14 18000000 18999999 0.0000 fill_color=hsx\n",
      "hs14 18000000 18999999 0.0000 fill_color=hsy\n",
      "hs14 18000000 18999999 0.0000 fill_color=hs1\n",
      "hs14 18000000 18999999 0.0000 fill_color=hs2\n",
      "hs14 18000000 18999999 0.0000 fill_color=hs3\n",
      "hs14 18000000 18999999 0.0000 fill_color=hs4\n",
      "hs14 18000000 18999999 0.0000 fill_color=hs5\n",
      "hs14 18000000 18999999 0.0000 fill_color=hs6\n",
      "hs14 18000000 18999999 0.0000 fill_color=hs7\n",
      "hs14 18000000 18999999 0.0000 fill_color=hs8\n",
      "hs14 18000000 18999999 0.0000 fill_color=hs9\n",
      "hs14 18000000 18999999 0.0000 fill_color=hs10\n",
      "hs14 18000000 18999999 0.0000 fill_color=hs11\n",
      "hs14 18000000 18999999 0.0000 fill_color=hs12\n",
      "hs14 18000000 18999999 0.0000 fill_color=hs13\n",
      "hs14 18000000 18999999 0.0000 fill_color=hs19\n",
      "hs14 18000000 18999999 0.0000 fill_color=hs20\n",
      "```\n",
      "\n",
      "The advantage of -output\\_style 2 is that it can be filtered for a\n",
      "chromosome of interest to determine its contribution to the links.\n",
      "\n",
      "```ini\n",
      "> bin/binlinks -output_style 2 | grep =hs22\n",
      "...\n",
      "hs14 18000000 18999999 688034.0000 fill_color=hs22\n",
      "hs14 19000000 19999999 264389.0000 fill_color=hs22\n",
      "hs14 20000000 20999999 0.0000 fill_color=hs22\n",
      "...\n",
      "```\n",
      "\n",
      "### creating stacked histograms\n",
      "\n",
      "Finally, -output\\_style 3 generates track data for stacked histograms.\n",
      "\n",
      "```ini\n",
      "> bin/binlinks -output_style 3\n",
      "fill_color=hsx,hsy,hs1,hs2,hs3,hs4,hs5,hs6,hs7,hs8,hs9,hs10,hs11,hs12,hs13,hs14,hs15,hs16,hs17,hs18,hs19,hs20,hs21,hs22\n",
      "...\n",
      "hs14 18000000 18999999 0.0000,0.0000,0.0000,0.0000,0.0000,0.0000,\n",
      "0.0000,0.0000,0.0000,0.0000,0.0000,0.0000,\n",
      "0.0000,0.0000,0.0000,303434.0000,235624.0000,\n",
      "17348.0000,18850.0000,257791.0000,0.0000,0.0000,\n",
      "218463.0000,688034.0000\n",
      "...\n",
      "```\n",
      "\n",
      "The data is written to STDOUT and the color list to STDERR, so you\n",
      "should redirect them appropriately.\n",
      "\n",
      "```ini\n",
      "# redirect histogram values to a file and send STDERR to terminal - cut and paste \n",
      "# the color values into the histogram  block\n",
      "> bin/binlinks -output_style 3 > data.txt \n",
      "```\n",
      "\n",
      "The colors will be named after the target chromosomes. I typically use\n",
      "hsNNN for human chromosomes (to distinguish them from chromosomes of\n",
      "other species such as mouse (mmNNN), rat (rnNNN), and so on). However,\n",
      "chromosome colors are encoded with names chr1, chr2, chr3, and so on.\n",
      "You\\'ll need to either change (or add) color definitions in\n",
      "etc/colors.conf in the Circos distribution or rename the colors from\n",
      "CHRPREFIXNNN to chrNNN.\n",
      "\n",
      "\n"
     ]
    }
   ],
   "source": [
    "'''from IPython.display import Markdown, display\n",
    "def printmd(string):\n",
    "    display(Markdown(string))\n",
    "printmd(markdown)'''\n",
    "print(markdown) #use this because want to be able to edit the markdown and rendering it with `printmd` diables that"
   ]
  },
  {
   "cell_type": "markdown",
   "metadata": {
    "papermill": {
     "duration": 0.006575,
     "end_time": "2019-04-09T17:58:43.583435",
     "exception": false,
     "start_time": "2019-04-09T17:58:43.576860",
     "status": "completed"
    },
    "tags": []
   },
   "source": [
    "\n",
    "\n",
    "----"
   ]
  },
  {
   "cell_type": "markdown",
   "metadata": {
    "papermill": {
     "duration": 0.015138,
     "end_time": "2019-04-09T17:58:43.605411",
     "exception": false,
     "start_time": "2019-04-09T17:58:43.590273",
     "status": "completed"
    },
    "tags": []
   },
   "source": [
    "### Generating the plot produced by this example code\n",
    "\n",
    "The following two cells will generate the plot. The first cell adjusts the current working directory."
   ]
  },
  {
   "cell_type": "code",
   "execution_count": 4,
   "metadata": {
    "papermill": {
     "duration": 0.030998,
     "end_time": "2019-04-09T17:58:43.643390",
     "exception": false,
     "start_time": "2019-04-09T17:58:43.612392",
     "status": "completed"
    },
    "tags": []
   },
   "outputs": [
    {
     "name": "stdout",
     "output_type": "stream",
     "text": [
      "/home/jovyan/circos-tutorials-0.67/tutorials/9/6\n"
     ]
    }
   ],
   "source": [
    "%cd ../circos-tutorials-0.67/tutorials/{section}/{sub_pg}/"
   ]
  },
  {
   "cell_type": "code",
   "execution_count": 5,
   "metadata": {
    "papermill": {
     "duration": 1.495328,
     "end_time": "2019-04-09T17:58:45.149464",
     "exception": true,
     "start_time": "2019-04-09T17:58:43.654136",
     "status": "failed"
    },
    "tags": []
   },
   "outputs": [
    {
     "name": "stdout",
     "output_type": "stream",
     "text": [
      "debuggroup summary 0.40s welcome to circos v0.69-6 31 July 2017 on Perl 5.022000\n",
      "debuggroup summary 0.41s current working directory /home/jovyan/circos-tutorials-0.67/tutorials/9/6\n",
      "debuggroup summary 0.41s command ../../../../circos-0.69-6/bin/circos -conf circos.conf\n",
      "debuggroup summary 0.41s loading configuration from file circos.conf\n",
      "\n",
      "  *** CIRCOS ERROR ***\n",
      "\n",
      "      cwd: /home/jovyan/circos-tutorials-0.67/tutorials/9/6\n",
      "\n",
      "      command: ../../../../circos-0.69-6/bin/circos -conf circos.conf\n",
      "\n",
      "  CONFIGURATION FILE ERROR\n",
      "\n",
      "  Circos could not find the configuration file [circos.conf]. To run Circos, you\n",
      "  need to specify this file using the -conf flag. The configuration file\n",
      "  contains all the parameters that define the image, including input files,\n",
      "  image size, formatting, etc.\n",
      "\n",
      "  If you do not use the -conf flag, Circos will attempt to look for a file\n",
      "  circos.conf in several reasonable places such as . etc/ ../etc\n",
      "\n",
      "  To see where Circos looks for the file, use\n",
      "\n",
      "      circos -debug_flag io\n",
      "\n",
      "  To see how configuration files work, create the example image, whose\n",
      "  configuration and data are found in example/. From the Circos distribution\n",
      "  directory,\n",
      "\n",
      "      cd example\n",
      "\n",
      "      ../bin/circos -conf ./circos.conf\n",
      "\n",
      "  or use the 'run' script (UNIX only).\n",
      "\n",
      "  Configuration files are described here\n",
      "\n",
      "      http://circos.ca/tutorials/lessons/configuration/configuration_files/\n",
      "\n",
      "  and the use of command-line flags, such as -conf, is described here\n",
      "\n",
      "      http://circos.ca/tutorials/lessons/configuration/runtime_parameters/\n",
      "\n",
      "  Windows users unfamiliar with Perl should read\n",
      "\n",
      "      http://circos.ca/tutorials/lessons/configuration/unix_vs_windows/\n",
      "\n",
      "  This error can also be produced if supporting configuration files, such as\n",
      "  track defaults, cannot be read.\n",
      "\n",
      "  If you are having trouble debugging this error, first read the best practices\n",
      "  tutorial for helpful tips that address many common problems\n",
      "\n",
      "      http://www.circos.ca/documentation/tutorials/reference/best_practices\n",
      "\n",
      "  The debugging facility is helpful to figure out what's happening under the\n",
      "  hood\n",
      "\n",
      "      http://www.circos.ca/documentation/tutorials/configuration/debugging\n",
      "\n",
      "  If you're still stumped, get support in the Circos Google Group.\n",
      "\n",
      "      http://groups.google.com/group/circos-data-visualization\n",
      "\n",
      "  Please include this error, all your configuration, data files and the version\n",
      "  of Circos you're running (circos -v).Do not email me directly -- please use\n",
      "  the group.\n",
      "\n",
      "  Stack trace:\n"
     ]
    },
    {
     "name": "stderr",
     "output_type": "stream",
     "text": [
      "Use of uninitialized value in subroutine entry at /home/jovyan/circos-0.69-6/bin/../lib/Circos/Configuration.pm line 781.\n",
      " at /home/jovyan/circos-0.69-6/bin/../lib/Circos/Error.pm line 425.\n",
      "\tCircos::Error::fatal_error(\"configuration\", \"missing\", \"circos.conf\") called at /home/jovyan/circos-0.69-6/bin/../lib/Circos/Configuration.pm line 796\n",
      "\tCircos::Configuration::loadconfiguration(\"circos.conf\") called at /home/jovyan/circos-0.69-6/bin/../lib/Circos.pm line 148\n",
      "\tCircos::run(\"Circos\", \"_cwd\", \"/home/jovyan/circos-tutorials-0.67/tutorials/9/6\", \"_argv\", \"-conf circos.conf\", \"configfile\", \"circos.conf\") called at ../../../../circos-0.69-6/bin/circos line 536\n"
     ]
    },
    {
     "ename": "CalledProcessError",
     "evalue": "Command 'b'../../../../circos-0.69-6/bin/circos -conf circos.conf\\n'' returned non-zero exit status 255.",
     "output_type": "error",
     "traceback": [
      "\u001b[0;31m---------------------------------------------------------------------------\u001b[0m",
      "\u001b[0;31mCalledProcessError\u001b[0m                        Traceback (most recent call last)",
      "\u001b[0;32m<ipython-input-5-2ec00319581d>\u001b[0m in \u001b[0;36m<module>\u001b[0;34m\u001b[0m\n\u001b[0;32m----> 1\u001b[0;31m \u001b[0mget_ipython\u001b[0m\u001b[0;34m(\u001b[0m\u001b[0;34m)\u001b[0m\u001b[0;34m.\u001b[0m\u001b[0mrun_cell_magic\u001b[0m\u001b[0;34m(\u001b[0m\u001b[0;34m'bash'\u001b[0m\u001b[0;34m,\u001b[0m \u001b[0;34m''\u001b[0m\u001b[0;34m,\u001b[0m \u001b[0;34m'../../../../circos-0.69-6/bin/circos -conf circos.conf\\n'\u001b[0m\u001b[0;34m)\u001b[0m\u001b[0;34m\u001b[0m\u001b[0;34m\u001b[0m\u001b[0m\n\u001b[0m",
      "\u001b[0;32m/srv/conda/lib/python3.7/site-packages/IPython/core/interactiveshell.py\u001b[0m in \u001b[0;36mrun_cell_magic\u001b[0;34m(self, magic_name, line, cell)\u001b[0m\n\u001b[1;32m   2350\u001b[0m             \u001b[0;32mwith\u001b[0m \u001b[0mself\u001b[0m\u001b[0;34m.\u001b[0m\u001b[0mbuiltin_trap\u001b[0m\u001b[0;34m:\u001b[0m\u001b[0;34m\u001b[0m\u001b[0;34m\u001b[0m\u001b[0m\n\u001b[1;32m   2351\u001b[0m                 \u001b[0margs\u001b[0m \u001b[0;34m=\u001b[0m \u001b[0;34m(\u001b[0m\u001b[0mmagic_arg_s\u001b[0m\u001b[0;34m,\u001b[0m \u001b[0mcell\u001b[0m\u001b[0;34m)\u001b[0m\u001b[0;34m\u001b[0m\u001b[0;34m\u001b[0m\u001b[0m\n\u001b[0;32m-> 2352\u001b[0;31m                 \u001b[0mresult\u001b[0m \u001b[0;34m=\u001b[0m \u001b[0mfn\u001b[0m\u001b[0;34m(\u001b[0m\u001b[0;34m*\u001b[0m\u001b[0margs\u001b[0m\u001b[0;34m,\u001b[0m \u001b[0;34m**\u001b[0m\u001b[0mkwargs\u001b[0m\u001b[0;34m)\u001b[0m\u001b[0;34m\u001b[0m\u001b[0;34m\u001b[0m\u001b[0m\n\u001b[0m\u001b[1;32m   2353\u001b[0m             \u001b[0;32mreturn\u001b[0m \u001b[0mresult\u001b[0m\u001b[0;34m\u001b[0m\u001b[0;34m\u001b[0m\u001b[0m\n\u001b[1;32m   2354\u001b[0m \u001b[0;34m\u001b[0m\u001b[0m\n",
      "\u001b[0;32m/srv/conda/lib/python3.7/site-packages/IPython/core/magics/script.py\u001b[0m in \u001b[0;36mnamed_script_magic\u001b[0;34m(line, cell)\u001b[0m\n\u001b[1;32m    140\u001b[0m             \u001b[0;32melse\u001b[0m\u001b[0;34m:\u001b[0m\u001b[0;34m\u001b[0m\u001b[0;34m\u001b[0m\u001b[0m\n\u001b[1;32m    141\u001b[0m                 \u001b[0mline\u001b[0m \u001b[0;34m=\u001b[0m \u001b[0mscript\u001b[0m\u001b[0;34m\u001b[0m\u001b[0;34m\u001b[0m\u001b[0m\n\u001b[0;32m--> 142\u001b[0;31m             \u001b[0;32mreturn\u001b[0m \u001b[0mself\u001b[0m\u001b[0;34m.\u001b[0m\u001b[0mshebang\u001b[0m\u001b[0;34m(\u001b[0m\u001b[0mline\u001b[0m\u001b[0;34m,\u001b[0m \u001b[0mcell\u001b[0m\u001b[0;34m)\u001b[0m\u001b[0;34m\u001b[0m\u001b[0;34m\u001b[0m\u001b[0m\n\u001b[0m\u001b[1;32m    143\u001b[0m \u001b[0;34m\u001b[0m\u001b[0m\n\u001b[1;32m    144\u001b[0m         \u001b[0;31m# write a basic docstring:\u001b[0m\u001b[0;34m\u001b[0m\u001b[0;34m\u001b[0m\u001b[0;34m\u001b[0m\u001b[0m\n",
      "\u001b[0;32m</srv/conda/lib/python3.7/site-packages/decorator.py:decorator-gen-110>\u001b[0m in \u001b[0;36mshebang\u001b[0;34m(self, line, cell)\u001b[0m\n",
      "\u001b[0;32m/srv/conda/lib/python3.7/site-packages/IPython/core/magic.py\u001b[0m in \u001b[0;36m<lambda>\u001b[0;34m(f, *a, **k)\u001b[0m\n\u001b[1;32m    185\u001b[0m     \u001b[0;31m# but it's overkill for just that one bit of state.\u001b[0m\u001b[0;34m\u001b[0m\u001b[0;34m\u001b[0m\u001b[0;34m\u001b[0m\u001b[0m\n\u001b[1;32m    186\u001b[0m     \u001b[0;32mdef\u001b[0m \u001b[0mmagic_deco\u001b[0m\u001b[0;34m(\u001b[0m\u001b[0marg\u001b[0m\u001b[0;34m)\u001b[0m\u001b[0;34m:\u001b[0m\u001b[0;34m\u001b[0m\u001b[0;34m\u001b[0m\u001b[0m\n\u001b[0;32m--> 187\u001b[0;31m         \u001b[0mcall\u001b[0m \u001b[0;34m=\u001b[0m \u001b[0;32mlambda\u001b[0m \u001b[0mf\u001b[0m\u001b[0;34m,\u001b[0m \u001b[0;34m*\u001b[0m\u001b[0ma\u001b[0m\u001b[0;34m,\u001b[0m \u001b[0;34m**\u001b[0m\u001b[0mk\u001b[0m\u001b[0;34m:\u001b[0m \u001b[0mf\u001b[0m\u001b[0;34m(\u001b[0m\u001b[0;34m*\u001b[0m\u001b[0ma\u001b[0m\u001b[0;34m,\u001b[0m \u001b[0;34m**\u001b[0m\u001b[0mk\u001b[0m\u001b[0;34m)\u001b[0m\u001b[0;34m\u001b[0m\u001b[0;34m\u001b[0m\u001b[0m\n\u001b[0m\u001b[1;32m    188\u001b[0m \u001b[0;34m\u001b[0m\u001b[0m\n\u001b[1;32m    189\u001b[0m         \u001b[0;32mif\u001b[0m \u001b[0mcallable\u001b[0m\u001b[0;34m(\u001b[0m\u001b[0marg\u001b[0m\u001b[0;34m)\u001b[0m\u001b[0;34m:\u001b[0m\u001b[0;34m\u001b[0m\u001b[0;34m\u001b[0m\u001b[0m\n",
      "\u001b[0;32m/srv/conda/lib/python3.7/site-packages/IPython/core/magics/script.py\u001b[0m in \u001b[0;36mshebang\u001b[0;34m(self, line, cell)\u001b[0m\n\u001b[1;32m    243\u001b[0m             \u001b[0msys\u001b[0m\u001b[0;34m.\u001b[0m\u001b[0mstderr\u001b[0m\u001b[0;34m.\u001b[0m\u001b[0mflush\u001b[0m\u001b[0;34m(\u001b[0m\u001b[0;34m)\u001b[0m\u001b[0;34m\u001b[0m\u001b[0;34m\u001b[0m\u001b[0m\n\u001b[1;32m    244\u001b[0m         \u001b[0;32mif\u001b[0m \u001b[0margs\u001b[0m\u001b[0;34m.\u001b[0m\u001b[0mraise_error\u001b[0m \u001b[0;32mand\u001b[0m \u001b[0mp\u001b[0m\u001b[0;34m.\u001b[0m\u001b[0mreturncode\u001b[0m\u001b[0;34m!=\u001b[0m\u001b[0;36m0\u001b[0m\u001b[0;34m:\u001b[0m\u001b[0;34m\u001b[0m\u001b[0;34m\u001b[0m\u001b[0m\n\u001b[0;32m--> 245\u001b[0;31m             \u001b[0;32mraise\u001b[0m \u001b[0mCalledProcessError\u001b[0m\u001b[0;34m(\u001b[0m\u001b[0mp\u001b[0m\u001b[0;34m.\u001b[0m\u001b[0mreturncode\u001b[0m\u001b[0;34m,\u001b[0m \u001b[0mcell\u001b[0m\u001b[0;34m,\u001b[0m \u001b[0moutput\u001b[0m\u001b[0;34m=\u001b[0m\u001b[0mout\u001b[0m\u001b[0;34m,\u001b[0m \u001b[0mstderr\u001b[0m\u001b[0;34m=\u001b[0m\u001b[0merr\u001b[0m\u001b[0;34m)\u001b[0m\u001b[0;34m\u001b[0m\u001b[0;34m\u001b[0m\u001b[0m\n\u001b[0m\u001b[1;32m    246\u001b[0m \u001b[0;34m\u001b[0m\u001b[0m\n\u001b[1;32m    247\u001b[0m     \u001b[0;32mdef\u001b[0m \u001b[0m_run_script\u001b[0m\u001b[0;34m(\u001b[0m\u001b[0mself\u001b[0m\u001b[0;34m,\u001b[0m \u001b[0mp\u001b[0m\u001b[0;34m,\u001b[0m \u001b[0mcell\u001b[0m\u001b[0;34m,\u001b[0m \u001b[0mto_close\u001b[0m\u001b[0;34m)\u001b[0m\u001b[0;34m:\u001b[0m\u001b[0;34m\u001b[0m\u001b[0;34m\u001b[0m\u001b[0m\n",
      "\u001b[0;31mCalledProcessError\u001b[0m: Command 'b'../../../../circos-0.69-6/bin/circos -conf circos.conf\\n'' returned non-zero exit status 255."
     ]
    }
   ],
   "source": [
    "%%bash\n",
    "../../../../circos-0.69-6/bin/circos -conf circos.conf"
   ]
  },
  {
   "cell_type": "markdown",
   "metadata": {
    "papermill": {
     "duration": null,
     "end_time": null,
     "exception": null,
     "start_time": null,
     "status": "pending"
    },
    "tags": []
   },
   "source": [
    "View the plot in this page using the following cell."
   ]
  },
  {
   "cell_type": "code",
   "execution_count": null,
   "metadata": {
    "papermill": {
     "duration": null,
     "end_time": null,
     "exception": null,
     "start_time": null,
     "status": "pending"
    },
    "tags": []
   },
   "outputs": [],
   "source": [
    "from IPython.display import Image\n",
    "Image(\"circos.png\")"
   ]
  },
  {
   "cell_type": "markdown",
   "metadata": {
    "papermill": {
     "duration": null,
     "end_time": null,
     "exception": null,
     "start_time": null,
     "status": "pending"
    },
    "tags": []
   },
   "source": [
    "----"
   ]
  },
  {
   "cell_type": "code",
   "execution_count": null,
   "metadata": {
    "papermill": {
     "duration": null,
     "end_time": null,
     "exception": null,
     "start_time": null,
     "status": "pending"
    },
    "tags": []
   },
   "outputs": [],
   "source": [
    "next_md = (\"Continue on to the next part of the Quick Start series by clicking [here &#10145;]({})</font>.\".format(next_nb))\n",
    "if end_nb:\n",
    "    next_md = (\"End of tutorials.\")\n",
    "#printmd(next_md)\n",
    "print(next_md) #use this because want to be able to edit the markdown and rendering it with `printmd` diables that"
   ]
  },
  {
   "cell_type": "markdown",
   "metadata": {
    "papermill": {
     "duration": null,
     "end_time": null,
     "exception": null,
     "start_time": null,
     "status": "pending"
    },
    "tags": []
   },
   "source": [
    "----"
   ]
  }
 ],
 "metadata": {
  "celltoolbar": "Tags",
  "kernelspec": {
   "display_name": "Python 3",
   "language": "python",
   "name": "python3"
  },
  "language_info": {
   "codemirror_mode": {
    "name": "ipython",
    "version": 3
   },
   "file_extension": ".py",
   "mimetype": "text/x-python",
   "name": "python",
   "nbconvert_exporter": "python",
   "pygments_lexer": "ipython3",
   "version": "3.7.2"
  },
  "papermill": {
   "duration": 5.635449,
   "end_time": "2019-04-09T17:58:46.568578",
   "environment_variables": {},
   "exception": true,
   "input_path": "Papermill Template for Circos later tutorial notebooks.ipynb",
   "output_path": "HelperTools_Part6.ipynb",
   "parameters": {
    "end_nb": false,
    "markdown": "\n# Part 6 of Helper Tools: Generate Link Density Tracks\n\nThis page is primarily based on the following page at the Circos documentation site:\n\n\n\n- [6. Generate Link Density Tracks](????????????)\n\n\n\nThat page is found as part number 4 of the ??? part ['Helper Tools' section](http://circos.ca/documentation/tutorials/quick_start/) of [the larger set of Circos tutorials](http://circos.ca/documentation/tutorials/).\n\n\n\nGo back to Part 5 by clicking [here &#8592;](HelperTools_Part5.ipynb).\n\n\n\n----\n\n\n\n9 --- Helper Tools\n==================\n\n6. Generate Link Density Tracks\n-------------------------------\n\n::: {#menu4}\n[[Lesson](/documentation/tutorials/utilities/density_tracks/lesson){.clean}]{.active}\n[Images](/documentation/tutorials/utilities/density_tracks/images){.normal}\n:::\n\nscript location\n---------------\n\n```ini\ntools/binlinks\n```\n\nscript usage\n------------\n\n```ini\n> cd tools/binlinks\n# bin a link file by size of links on originating chromosome\n> bin/binlinks -links data/segdup.links.txt > data/histogram.txt\n# bin a link file by size of links on target chromosome\n> bin/binlinks -links data/segdup.links.txt -link_end 1 > data/histogram.txt\n# bin a link file by number of links on originating chromosomes\n> bin/binlinks -num -links data/segdup.links.txt > data/histogram.txt\n# color bin values by target chromosome\n> bin/binlinks -num -links data/segdup.links.txt -output_style 1 > data/histogram.txt\n# create stacked histogram data\n> bin/binlinks -num -links data/segdup.links.txt -output_style 3 > data/histogram.txt\n```\n\nAny values in the configuration file etc/binlinks.conf are overwritten\nwith command-line parameters of the same name.\n\ndetails\n-------\n\nThe purpose of this script is to generate data for histogram and\nhighlight tracks that stores the number, size and consensus position of\nlinks. All chromosomes in the input link file are divided into bins\n(controlled by -bin\\_size), and link statistics are calculated on a\nbin-by-bin basis.\n\nFor the purpose of this script that the first line of a link line pair\nis refered to as the originating position and the second line as the\ntarget position. Thus the link given by the lines\n\n```ini\nsegdup04822 hs2 131691333 131718278\nsegdup04822 hs18 14507744 14534120\n```\n\nhas hs2 as the originating chromosome (or start of link) and hs18 as the\ntarget chromosome (or end of link). For your application, the links may\nbe bidirectional (such as the segmental duplication used in this\nexample), but the asymmetry of the start/end position is inherent from\nthe format of the link data file.\n\n### counting link size\n\nThe default values in the etc/binlinks.conf file make binlinks count the\ntotal size of links on the originating chromosomes.\n\n```ini\n> bin/binlinks\n...\nhs14 18000000 18999999 1739544.0000\nhs14 19000000 19999999 816821.0000\nhs14 20000000 20999999 69080.0000\n...\n```\n\nFor example, the links that originate in the bin hs14:14:18-19Mb add up\nto 1.739Mb. It\\'s important to realize that this sum is the sum of the\nstart of the links (each link is composed of two spans - a start span on\nthe originating chromosome and an end span on the target chromosome).\n\nYou can use -link\\_end to tabulate the total size of the end spans for a\nbin.\n\n```ini\n> bin/binlinks -link_end 1\n...\nhs14 18000000 18999999 2256283.0000\nhs14 19000000 19999999 807211.0000\nhs14 20000000 20999999 78425.0000\n...\n```\n\nIn this case, the links that originate in the bin hs14:18-19Mb have end\nspans that total 2.256Mb.\n\nYou can add both the start and end spans of the links in a bin using\n-link\\_end 2.\n\n```ini\n> bin/binlinks -link_end 2\n...\nhs14 18000000 18999999 3995827.0000\nhs14 19000000 19999999 1624032.0000\nhs14 20000000 20999999 147505.0000\n...\n```\n\nInstead of the link span size, you can add up the number of links in a\nbin using -num. In this case, each bin that overlaps with the link start\nand end span will receive a +1 contribution from the link.\n\nUse -log to logarithmically scale the bin values.\n\n### applying target chromosome color to bin statistic\n\nUse -color\\_by\\_chr to add a color to each bin based on the consensus\ntarget chromosome (the chromosome receiving the largest contribution\nfrom the bin).\n\n```ini\n> bin/binlinks -color_by_chr\n...\nhs14 18000000 18999999 1739544.0000 fill_color=hs22\nhs14 19000000 19999999 816821.0000 fill_color=hs22\nhs14 20000000 20999999 69080.0000 fill_color=hs14\n...\n```\n\n### obtaining consensus chromosome statistics\n\nTypically you will have a large number of links that originate from each\nbin. Whereas default output style (-output\\_style 0) reports the total\nstatistics for a bin, as described above, if you want to obtain\nstatistics based on individual chromosomes, use the other output styles\ndescribed below.\n\nFor each bin, statistics for the consensus target chromosome (the\nchromosome with the largest contribution of links from the bin) is\nobtained with -output\\_style 1. The output is also annotated with the\ncolor of the consensus chromosome.\n\n```ini\n> bin/binlinks -output_style 1\n...\nhs14 18000000 18999999 688034.0000 fill_color=hs22\nhs14 19000000 19999999 264389.0000 fill_color=hs22\nhs14 20000000 20999999 65213.0000 fill_color=hs14\n...\n```\n\nNote the difference between this output and the corresponding output\nusing -output\\_style 0. In the present case, the largest fraction of\nlinks from hs14:18-19Mb terminate on hs22 and total 688kb.\n\nWhereas -output\\_style 1 shows you the statistic for all links in the\nbin and the color of the consensus target chromosome, -output\\_style 2\ngives a value for the bin for each target chromosome.\n\n```ini\n> bin/binlinks -output_style 2\nhs14 18000000 18999999 688034.0000 fill_color=hs22\nhs14 18000000 18999999 303434.0000 fill_color=hs14\nhs14 18000000 18999999 257791.0000 fill_color=hs18\nhs14 18000000 18999999 235624.0000 fill_color=hs15\nhs14 18000000 18999999 218463.0000 fill_color=hs21\nhs14 18000000 18999999 18850.0000 fill_color=hs17\nhs14 18000000 18999999 17348.0000 fill_color=hs16\nhs14 18000000 18999999 0.0000 fill_color=hsx\nhs14 18000000 18999999 0.0000 fill_color=hsy\nhs14 18000000 18999999 0.0000 fill_color=hs1\nhs14 18000000 18999999 0.0000 fill_color=hs2\nhs14 18000000 18999999 0.0000 fill_color=hs3\nhs14 18000000 18999999 0.0000 fill_color=hs4\nhs14 18000000 18999999 0.0000 fill_color=hs5\nhs14 18000000 18999999 0.0000 fill_color=hs6\nhs14 18000000 18999999 0.0000 fill_color=hs7\nhs14 18000000 18999999 0.0000 fill_color=hs8\nhs14 18000000 18999999 0.0000 fill_color=hs9\nhs14 18000000 18999999 0.0000 fill_color=hs10\nhs14 18000000 18999999 0.0000 fill_color=hs11\nhs14 18000000 18999999 0.0000 fill_color=hs12\nhs14 18000000 18999999 0.0000 fill_color=hs13\nhs14 18000000 18999999 0.0000 fill_color=hs19\nhs14 18000000 18999999 0.0000 fill_color=hs20\n```\n\nThe advantage of -output\\_style 2 is that it can be filtered for a\nchromosome of interest to determine its contribution to the links.\n\n```ini\n> bin/binlinks -output_style 2 | grep =hs22\n...\nhs14 18000000 18999999 688034.0000 fill_color=hs22\nhs14 19000000 19999999 264389.0000 fill_color=hs22\nhs14 20000000 20999999 0.0000 fill_color=hs22\n...\n```\n\n### creating stacked histograms\n\nFinally, -output\\_style 3 generates track data for stacked histograms.\n\n```ini\n> bin/binlinks -output_style 3\nfill_color=hsx,hsy,hs1,hs2,hs3,hs4,hs5,hs6,hs7,hs8,hs9,hs10,hs11,hs12,hs13,hs14,hs15,hs16,hs17,hs18,hs19,hs20,hs21,hs22\n...\nhs14 18000000 18999999 0.0000,0.0000,0.0000,0.0000,0.0000,0.0000,\n0.0000,0.0000,0.0000,0.0000,0.0000,0.0000,\n0.0000,0.0000,0.0000,303434.0000,235624.0000,\n17348.0000,18850.0000,257791.0000,0.0000,0.0000,\n218463.0000,688034.0000\n...\n```\n\nThe data is written to STDOUT and the color list to STDERR, so you\nshould redirect them appropriately.\n\n```ini\n# redirect histogram values to a file and send STDERR to terminal - cut and paste \n# the color values into the histogram  block\n> bin/binlinks -output_style 3 > data.txt \n```\n\nThe colors will be named after the target chromosomes. I typically use\nhsNNN for human chromosomes (to distinguish them from chromosomes of\nother species such as mouse (mmNNN), rat (rnNNN), and so on). However,\nchromosome colors are encoded with names chr1, chr2, chr3, and so on.\nYou\\'ll need to either change (or add) color definitions in\netc/colors.conf in the Circos distribution or rename the colors from\nCHRPREFIXNNN to chrNNN.\n\n",
    "next_nb": "HelperTools_Part7.ipynb",
    "section": 9,
    "sub_pg": 6
   },
   "start_time": "2019-04-09T17:58:40.933129",
   "version": "0.19.1"
  }
 },
 "nbformat": 4,
 "nbformat_minor": 2
}