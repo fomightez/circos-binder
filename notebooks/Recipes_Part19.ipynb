{
 "cells": [
  {
   "cell_type": "markdown",
   "metadata": {},
   "source": [
    "# Part 19 of Recipes: Cortical Maps\n",
    "\n",
    "This page is primarily based on the following page at the Circos documentation site:\n",
    "\n",
    "\n",
    "\n",
    "- [19. Cortical Maps](????????????)\n",
    "\n",
    "\n",
    "\n",
    "That page is found as part number 4 of the ??? part ['Recipes' section](http://circos.ca/documentation/tutorials/quick_start/) of [the larger set of Circos tutorials](http://circos.ca/documentation/tutorials/).\n",
    "\n",
    "\n",
    "\n",
    "Go back to Part 18 by clicking [here &#8592;](Recipes_Part18.ipynb).\n",
    "\n",
    "\n",
    "\n",
    "----\n",
    "\n",
    "\n",
    "\n",
    "8 --- Recipes\n",
    "=============\n",
    "\n",
    "19. Cortical Maps\n",
    "-----------------\n",
    "\n",
    "::: {#menu4}\n",
    "[[Lesson](/documentation/tutorials/recipes/cortical_maps/lesson){.clean}]{.active}\n",
    "[Images](/documentation/tutorials/recipes/cortical_maps/images){.normal}\n",
    "[Configuration](/documentation/tutorials/recipes/cortical_maps/configuration){.normal}\n",
    ":::\n",
    "\n",
    "In this example I will show you how to create maps of the brain\n",
    "connectome using Circos --- a *connectogram*. Images of this type have\n",
    "recently appeared in papers from the [Van Horn group at\n",
    "UCLA](http://ccb.loni.ucla.edu/about/ccb-organization/ccb-principal-investigators/john-van-horn-phd/).\n",
    "\n",
    "[Irimia A, Chambers MC, Torgerson CM [et al.]{.ref_etal}]{.ref_author}\n",
    "[2012]{.ref_year} [[Patient-tailored connectomics visualization for the\n",
    "assessment of white matter atrophy in traumatic brain\n",
    "injury](http://www.frontiersin.org/Journal/Abstract.aspx?s=772&name=neurotrauma&ART_DOI=10.3389/fneur.2012.00010)]{.ref_title}\n",
    "[Frontiers in Neurology]{.ref_journal} [3]{.ref_volume}\n",
    "\n",
    "[Irimia A, Chambers MC, Torgerson CM [et al.]{.ref_etal}]{.ref_author}\n",
    "[2012]{.ref_year} [[Circular representation of human cortical networks\n",
    "for subject and population-level connectomic\n",
    "visualization](http://www.ncbi.nlm.nih.gov/pubmed/22305988)]{.ref_title}\n",
    "[NeuroImage]{.ref_journal}.\n",
    "\n",
    "[Van Horn JD, Irimia A, Torgerson CM [et al.]{.ref_etal}]{.ref_author}\n",
    "[2012]{.ref_year} [[Mapping connectivity damage in the case of phineas\n",
    "gage](http://www.ncbi.nlm.nih.gov/pubmed/22616011)]{.ref_title} [PLoS\n",
    "One]{.ref_journal} [7]{.ref_volume}:[e37454]{.ref_pages}.\n",
    "\n",
    "Connectograms they have been used to illustrate the [damage suffered by\n",
    "Phineas Gage in his traumatic brain\n",
    "injury](http://www.guardian.co.uk/science/neurophilosophy/2012/may/16/neuroscience-psychology).\n",
    "\n",
    "### the connectogram\n",
    "\n",
    "The connectogram shows regions of the brain, their physical properties\n",
    "and connectivity.\n",
    "\n",
    "The image is divided into two halves --- the left and right hemisphere.\n",
    "Within each half, regions are grouped into lobes (frontal, temporal,\n",
    "occipital, etc.) from anterior (top of image) to posterior (bottom of\n",
    "image). Within each lobe, fine anatomical and functional divisions\n",
    "(parcelations) are shown as labeled colored segments. The label of each\n",
    "segment is an abbreviated code. For example, *SupPrCS* is the *superior\n",
    "part of the precentral sulcus*.\n",
    "\n",
    "The order and position of the parcelations is fixed across patients and\n",
    "composes a static coordinate system.\n",
    "\n",
    "For each patient, measures of the parcelations are shown as a series of\n",
    "heat maps. These measures depend on the specific data set and can\n",
    "include grey matter volume, surface area, cortical thickness, curvature\n",
    "and degree connectivity (e.g. Fig 4 in [Irimia et al,\n",
    "2012](http://www.frontiersin.org/Journal/Abstract.aspx?s=772&name=neurotrauma&ART_DOI=10.3389/fneur.2012.00010)).\n",
    "\n",
    "Within the center of the connectogram are the observed connections\n",
    "between parcelations, measured *in vivo* ([Human Connectome Project\n",
    "(HCP)](http://www.humanconnectomeproject.org/)).\n",
    "\n",
    "### data input\n",
    "\n",
    "This tutorial includes a script, `parsemap`{.syn-include} (see\n",
    "`tutorials/8/19` directory), which generates the data files to create a\n",
    "connectogram. This script requires the list of parcelations and,\n",
    "optionally, a list of connections between them.\n",
    "\n",
    "#### list of parcelations\n",
    "\n",
    "This file defines the parcelation region lobe and name, color,\n",
    "(`r g b`), and measures, `z1...z5`. You\\'ll find an example in\n",
    "`map.txt`. For this example, the measures data is random and the\n",
    "measures do not correspond to any specific property. The lobe,\n",
    "parcelation codes and colors are taken from [Irimia et al,\n",
    "2012](http://www.frontiersin.org/Journal/Abstract.aspx?s=772&name=neurotrauma&ART_DOI=10.3389/fneur.2012.00010)."
   ]
  },
  {
   "cell_type": "markdown",
   "metadata": {},
   "source": [
    "```ini\n",
    "# lobe parcelation r g b z1 z2 z3 z4 z5\n",
    "Fro TrFPoG/S 255 153 153 0.910094 0.265257 0.893188 0.220351 0.810623\n",
    "Fro FMarG/S 204 0 51 0.631798 0.571077 0.332158 0.104455 0.173531\n",
    "Fro MFS 255 153 51 0.502931 0.567394 0.854165 0.0401409 0.484983\n",
    "...\n",
    "Ins ALSHorp 0 255 204 0.426026 0.325782 0.104662 0.428916 0.101814\n",
    "Ins ACirInS 102 255 255 0.623148 0.6187 0.779997 0.488031 0.482945\n",
    "Ins ALSVerp 0 255 255 0.98955 0.925851 0.642174 0.747365 0.254355\n",
    "...\n",
    "Lim ACgG/S 255 255 180 0.399686 0.345312 0.201031 0.322008 0.377663\n",
    "Lim MACgG/S 255 240 191 0.336171 0.570686 0.437 0.87439 0.899756\n",
    "Lim SbCaG 255 153 200 0.643938 0.517941 0.894874 0.839202 0.77888\n",
    "...\n",
    "```\n"
   ]
  },
  {
   "cell_type": "markdown",
   "metadata": {},
   "source": [
    "The `parsemap` script uses the order of the parcelations in the file to\n",
    "determine their order in the image.\n",
    "\n",
    "This example uses 5 measures for each parcelation, but the\n",
    "`parsemap`{.syn-include} script will work if you don\\'t have any\n",
    "measures and are only drawing links between regions."
   ]
  },
  {
   "cell_type": "markdown",
   "metadata": {},
   "source": [
    "```ini\n",
    "# lobe parcelation r g b\n",
    "Fro TrFPoG/S 255 153 153\n",
    "Fro FMarG/S 204 0 51\n",
    "Fro MFS 255 153 51\n",
    "...\n",
    "```\n"
   ]
  },
  {
   "cell_type": "markdown",
   "metadata": {},
   "source": [
    "In this case, you\\'ll need to adjust `etc/circos.conf`{.syn-include} and\n",
    "remove mention of the heatmaps.\n",
    "\n",
    "#### list of connections\n",
    "\n",
    "The second file is the **list of connections** (see\n",
    "`map.links.txt`{.syn-include}), which looks like"
   ]
  },
  {
   "cell_type": "markdown",
   "metadata": {},
   "source": [
    "```ini\n",
    "# hemisphere parcelation hemisphere parcelation connection_type connection_score\n",
    "r InfFGOrp l PosCS 1 0.0229917613607071\n",
    "l BSt l SbOrS 1 0.213414893099078\n",
    "l TPl r Pu 0 0.26688626172767\n",
    "...\n",
    "```\n"
   ]
  },
  {
   "cell_type": "markdown",
   "metadata": {},
   "source": [
    "The connection type and score do not corespond to any specifc property.\n",
    "I have included them here to show you how to use rules in the Circos\n",
    "configuration file to change the way the connection links are drawn.\n",
    "\n",
    "Replace these two files with your data.\n",
    "\n",
    "You can move the `parsemap`{.syn-include} script to another location on\n",
    "your filesystem (e.g. `/usr/local/bin`{.syn-include}) if you plan on\n",
    "using it for other images."
   ]
  },
  {
   "cell_type": "markdown",
   "metadata": {},
   "source": [
    "```ini\n",
    "> cd /path/to/image\n",
    "> /usr/local/bin/parsemap -map map.txt -links map.links.txt\n",
    "```\n"
   ]
  },
  {
   "cell_type": "markdown",
   "metadata": {},
   "source": [
    "### Circos data files\n",
    "\n",
    "The `parsemap`{.syn-include} script generates the data files that are\n",
    "required to create the image.\n",
    "\n",
    "To create the data files, run the `parsemap`{.syn-include} script\n",
    "([Windows users should read this tutorial\n",
    "first](documentation/tutorials/configuration/unix_vs_windows/))"
   ]
  },
  {
   "cell_type": "markdown",
   "metadata": {},
   "source": [
    "```ini\n",
    "# create the configuration and data files\n",
    "> ./parsemap -map map.txt -links map.links.txt -debug\n",
    "...\n",
    "debug[1] wrote file etc/color.brain.conf\n",
    "debug[1] wrote file data/segments.txt\n",
    "debug[1] wrote file etc/segment.order.conf\n",
    "debug[1] wrote file data/structure.label.txt\n",
    "debug[1] wrote file data/measure.0.txt\n",
    "debug[1] wrote file data/measure.1.txt\n",
    "debug[1] wrote file data/measure.2.txt\n",
    "debug[1] wrote file data/measure.3.txt\n",
    "debug[1] wrote file data/measure.4.txt\n",
    "debug[1] wrote file data/links.txt\n",
    "```\n"
   ]
  },
  {
   "cell_type": "markdown",
   "metadata": {},
   "source": [
    "You\\'ll need to supply the remaining configuration files that define how\n",
    "the image is organized --- sample configuration can be found in `etc/`.\n",
    "These are `etc/circos.conf`, `etc/ideogram*conf`, `etc/ticks*conf` and\n",
    "`etc/bands.conf`.\n",
    "\n",
    "#### parcelation color\n",
    "\n",
    "The RGB colors for each parcelation were taken from Appendix 1 in\n",
    "[Irimia et al,\n",
    "2012](http://www.frontiersin.org/Journal/Abstract.aspx?s=772&name=neurotrauma&ART_DOI=10.3389/fneur.2012.00010)."
   ]
  },
  {
   "cell_type": "markdown",
   "metadata": {},
   "source": [
    "```ini\n",
    "# etc/color.brain.conf\n",
    "trfpogs = 255,153,153\n",
    "fmargs = 204,0,51\n",
    "mfs = 255,153,51\n",
    "lors = 102,0,0\n",
    "sbors = 255,51,102\n",
    "ors = 255,204,204\n",
    "rg = 255,204,153\n",
    "...\n",
    "```\n"
   ]
  },
  {
   "cell_type": "markdown",
   "metadata": {},
   "source": [
    "The colors are named after the parcelations, in lowercase form and\n",
    "without any non-word characters (e.g. `IntPS/TrPS` becomes `intpstrps`).\n",
    "\n",
    "#### lobe/parcelation axis\n",
    "\n",
    "The lobe and segment definitions are stored in the\n",
    "`data/segments.txt`{.syn-include} file.\n",
    "\n",
    "Here, you\\'ll have to remember that Circos was originally designed to\n",
    "display data in genomics, where the axes are typically chromosomes. The\n",
    "segments (lobes) take place of chromosomes and parcelations take place\n",
    "of cytogenetic bands, which are visual features on chromosomes.\n",
    "\n",
    "Each lobe gets a separate entry for the left and right hemisphere. Its\n",
    "size is determined by the number of parcelations, arbitrary sized at\n",
    "100."
   ]
  },
  {
   "cell_type": "markdown",
   "metadata": {},
   "source": [
    "```ini\n",
    "# left frontal lobe (fro-l)\n",
    "chr - fro-l Fro 0 2099 black\n",
    "# right frontal lobe (fro-r)\n",
    "chr - fro-r Fro 0 2099 black\n",
    "# left insula (ins-l)\n",
    "chr - ins-l Ins 0 799 black\n",
    "# right insula (ins-r)\n",
    "chr - ins-r Ins 0 799 black\n",
    "...\n",
    "```\n"
   ]
  },
  {
   "cell_type": "markdown",
   "metadata": {},
   "source": [
    "The `fro-l` field is the name of the Circos axis that corresponds to the\n",
    "lobe and `Fro` is its label. The last field is the color of the lobe,\n",
    "but we will not be using this because the lobe will be covered with\n",
    "colored parcelations.\n",
    "\n",
    "Parcelations are registered as bands within each lobe. Each line defines\n",
    "the parcelation as belonging to a specific Circos axis (e.g. lobe,\n",
    "`fro-l`) with a start/end position (e.g. 0, 99). The final field is the\n",
    "color of the parcelation, which was previously defined in\n",
    "`etc/color.brain.conf`{.syn-include}. The 3rd and 4th fields in a `band`\n",
    "definition are currently not being used by Circos (they exist for legacy\n",
    "reasons)."
   ]
  },
  {
   "cell_type": "markdown",
   "metadata": {},
   "source": [
    "```ini\n",
    "band fro-l TrFPoG/S TrFPoG/S 0 99 trfpogs\n",
    "band fro-l FMarG/S FMarG/S 100 199 fmargs\n",
    "...\n",
    "band ins-l ALSHorp ALSHorp 0 99 alshorp\n",
    "band ins-l ACirInS ACirInS 100 199 acirins\n",
    "band ins-l ALSVerp ALSVerp 200 299 alsverp\n",
    "...\n",
    "band lim-l ACgG/S ACgG/S 0 99 acggs\n",
    "band lim-l MACgG/S MACgG/S 100 199 macggs\n",
    "band lim-l SbCaG SbCaG 200 299 sbcag\n",
    "...\n",
    "```\n"
   ]
  },
  {
   "cell_type": "markdown",
   "metadata": {},
   "source": [
    "It\\'s important to note that the parcelations, defined as bands, are not\n",
    "directly referenced when plotting data. They are properties of the axis\n",
    "--- they are not used to identify positions. See the section on\n",
    "parcelation labels and measures below for an explanation.\n",
    "\n",
    "#### lobe order\n",
    "\n",
    "Once the lobes are defined, their order in the figure is determined by\n",
    "the `chromosomes_order` field. Again, the genomic origins of Circos show\n",
    "through."
   ]
  },
  {
   "cell_type": "markdown",
   "metadata": {},
   "source": [
    "```ini\n",
    "chromosomes_order = fro-r,ins-r,lim-r,tem-r,par-r,occ-r,sbc-r,ceb-r,bst,ceb-l,sbc-l,occ-l,par-l,tem-l,lim-l,ins-l,fro-l\n",
    "```\n"
   ]
  },
  {
   "cell_type": "markdown",
   "metadata": {},
   "source": [
    "By design, the brain stem lobe (bst) does not have a left and right\n",
    "version.\n",
    "\n",
    "#### parcelation labels\n",
    "\n",
    "Text labeling each parcelation is drawn as a text track. The input data\n",
    "for this is `data/structure.label.txt`{.syn-include},"
   ]
  },
  {
   "cell_type": "markdown",
   "metadata": {},
   "source": [
    "```ini\n",
    "fro-l 0 99 TrFPoG/S\n",
    "fro-l 100 199 FMarG/S\n",
    "fro-l 200 299 MFS\n",
    "...\n",
    "ins-l 0 99 ALSHorp\n",
    "ins-l 100 199 ACirInS\n",
    "ins-l 200 299 ALSVerp\n",
    "...\n",
    "lim-l 0 99 ACgG/S\n",
    "lim-l 100 199 MACgG/S\n",
    "lim-l 200 299 SbCaG\n",
    "...\n",
    "```\n"
   ]
  },
  {
   "cell_type": "markdown",
   "metadata": {},
   "source": [
    "The text track stores the name of the parcelation region *independently*\n",
    "of the parcelation definitions, which was stored as bands entries.\n",
    "Circos currently does not support showing the names of the bands\n",
    "directly --- you need to create a separate file with these labels and\n",
    "draw the labels using a data track.\n",
    "\n",
    "Notice that the positions of the labels is determined relative to the\n",
    "lobe, not the parcelation region (e.g. MFS is at position 200-299 on\n",
    "fro-l). This is a result of the fact that the lobe forms the coordinate\n",
    "axis, not the parcelation region. The region is just a visual feature on\n",
    "the axis and cannot be addressed directly.\n",
    "\n",
    "If you\\'re very keen, you might be asking: why not make each parcelation\n",
    "region into its own axis? Yes, this is possible, but if the figure was\n",
    "organized this way there would be no way of organizing the regions into\n",
    "higher-level structures (e.g. lobes). By making each axis a lobe, and\n",
    "dividing it into regions, we can later write rules that check whether a\n",
    "data point lies on a specific lobe.\n",
    "\n",
    "#### parcelation measures heat maps\n",
    "\n",
    "The measures for each parcelation are defined in\n",
    "`data/measure.*.txt`{.syn-include}"
   ]
  },
  {
   "cell_type": "markdown",
   "metadata": {},
   "source": [
    "```ini\n",
    "fro-l 0 99 0.910094\n",
    "fro-l 100 199 0.631798\n",
    "fro-l 200 299 0.502931\n",
    "...\n",
    "ins-l 0 99 0.426026\n",
    "ins-l 100 199 0.623148\n",
    "ins-l 200 299 0.989550\n",
    "...\n",
    "lim-l 0 99 0.399686\n",
    "lim-l 100 199 0.336171\n",
    "lim-l 200 299 0.643938\n",
    "```\n"
   ]
  },
  {
   "cell_type": "markdown",
   "metadata": {},
   "source": [
    "#### links\n",
    "\n",
    "Links are stored as connected pair of axis and coordinates."
   ]
  },
  {
   "cell_type": "markdown",
   "metadata": {},
   "source": [
    "```ini\n",
    "fro-r 700 799 par-l 300 399 type=1,score=0.022992\n",
    "bst 0 99 fro-l 400 499 type=1,score=0.213415\n",
    "tem-l 700 799 sbc-r 0 99 type=0,score=0.266886\n",
    "...\n",
    "```\n"
   ]
  },
  {
   "cell_type": "markdown",
   "metadata": {},
   "source": [
    "The `type` and `score` parameters annotate each link and can be\n",
    "referenced in rules to change the format of the link.\n",
    "\n",
    "### Circos configuration files\n",
    "\n",
    "The main configuration file is `etc/circos.conf`{.syn-include}. This\n",
    "file contains all of the parameters that define the position and content\n",
    "of elements in the image, such as axis position and data tracks. Using\n",
    "[\\<\\<include \\...\\>\\>]{.syn-include} directives in this file, content\n",
    "from other files can be imported.\n",
    "\n",
    "#### ideogram layout\n",
    "\n",
    "The axis segments (here, brain lobes) are called *ideograms* in Circos.\n",
    "This vocabular is derived from the term given to a graphical\n",
    "representation of a chromosome.\n",
    "\n",
    "The position, thickness and spacing of lobe ideograms is defined in\n",
    "`etc/ideogram.conf`{.syn-include}, which is imported using the\n",
    "[\\<\\<include ideogram.conf\\>\\>]{.syn-include} directive."
   ]
  },
  {
   "cell_type": "markdown",
   "metadata": {},
   "source": [
    "```ini\n",
    "# circos.conf\n",
    "<<include ideogram.conf>>\n",
    "```\n"
   ]
  },
  {
   "cell_type": "markdown",
   "metadata": {},
   "source": [
    "The `etc/ideogram.conf`{.syn-include} file is"
   ]
  },
  {
   "cell_type": "markdown",
   "metadata": {},
   "source": [
    "```ini\n",
    "# ideogram.conf\n",
    "<ideogram>\n",
    "```\n"
   ]
  },
  {
   "cell_type": "markdown",
   "metadata": {},
   "source": [
    "```ini\n",
    "<spacing>\n",
    "# spacing between lobes is 0.5% of figure circumference\n",
    "default = 0.005r\n",
    "<pairwise fro-l fro-r>\n",
    "# spacing between left and right frontal lobe ideogram (top center of image) is\n",
    "# 5x default - this provides room for legend\n",
    "spacing = 5r\n",
    "</pairwise>\n",
    "</spacing>\n",
    "```\n"
   ]
  },
  {
   "cell_type": "markdown",
   "metadata": {},
   "source": [
    "```ini\n",
    "# lobe thickness and position, included from file\n",
    "<<include ideogram.position.conf>>\n",
    "```\n"
   ]
  },
  {
   "cell_type": "markdown",
   "metadata": {},
   "source": [
    "```ini\n",
    "# lobe label size and format, included from file\n",
    "<<include ideogram.label.conf>>\n",
    "```\n"
   ]
  },
  {
   "cell_type": "markdown",
   "metadata": {},
   "source": [
    "```ini\n",
    "# parcelation colors, included from file\n",
    "<<include bands>>\n",
    "```\n"
   ]
  },
  {
   "cell_type": "markdown",
   "metadata": {},
   "source": [
    "```ini\n",
    "</ideogram>\n",
    "```\n"
   ]
  },
  {
   "cell_type": "markdown",
   "metadata": {},
   "source": [
    "The position and thickness of the lobe segments is imported from the\n",
    "`etc/ideogram.position.conf`{.syn-include} file. Storing parameters in\n",
    "multiple files makes the configuration more modular and allows you to\n",
    "reuse components of one figure in another."
   ]
  },
  {
   "cell_type": "markdown",
   "metadata": {},
   "source": [
    "```ini\n",
    "# ideogram.position.conf\n",
    "```\n"
   ]
  },
  {
   "cell_type": "markdown",
   "metadata": {},
   "source": [
    "```ini\n",
    "# position of the lobe axis segments, relative to radius of image\n",
    "radius           = 0.85r\n",
    "```\n"
   ]
  },
  {
   "cell_type": "markdown",
   "metadata": {},
   "source": [
    "```ini\n",
    "# thickness of lobe axis segments, in pixels\n",
    "thickness        = 75p\n",
    "```\n"
   ]
  },
  {
   "cell_type": "markdown",
   "metadata": {},
   "source": [
    "```ini\n",
    "# the color of each segment is \"black\" as defined in segments.txt - here we\n",
    "# don't want this color applied, so fill=no\n",
    "fill             = no\n",
    "```\n"
   ]
  },
  {
   "cell_type": "markdown",
   "metadata": {},
   "source": [
    "```ini\n",
    "# the segments have a 1 pixel outline\n",
    "stroke_thickness = 1\n",
    "stroke_color     = black\n",
    "```\n"
   ]
  },
  {
   "cell_type": "markdown",
   "metadata": {},
   "source": [
    "The position and format of labels for each lobe segment are specified in\n",
    "`etc/ideogram.label.conf`{.syn-include}."
   ]
  },
  {
   "cell_type": "markdown",
   "metadata": {},
   "source": [
    "```ini\n",
    "# ideogram.label.conf\n",
    "```\n"
   ]
  },
  {
   "cell_type": "markdown",
   "metadata": {},
   "source": [
    "```ini\n",
    "show_label       = yes\n",
    "# for a list of fonts, see etc/fonts.conf in Circos distribution\n",
    "label_font       = default\n",
    "```\n"
   ]
  },
  {
   "cell_type": "markdown",
   "metadata": {},
   "source": [
    "```ini\n",
    "# set the label position to be at edge of inscribed circle, less 30 pixels\n",
    "label_radius     = dims(image,radius)-30p\n",
    "label_size       = 24\n",
    "```\n"
   ]
  },
  {
   "cell_type": "markdown",
   "metadata": {},
   "source": [
    "```ini\n",
    "# labels can be parallel to axis segments, or perpendicular \n",
    "label_parallel   = yes\n",
    "```\n"
   ]
  },
  {
   "cell_type": "markdown",
   "metadata": {},
   "source": [
    "```ini\n",
    "# force upper case for labels\n",
    "label_case       = upper\n",
    "```\n"
   ]
  },
  {
   "cell_type": "markdown",
   "metadata": {},
   "source": [
    "Recall that the parcelation regions were defined as bands in the\n",
    "`data/segments.txt`{.syn-include} file. Here I toggle the display of the\n",
    "bands."
   ]
  },
  {
   "cell_type": "markdown",
   "metadata": {},
   "source": [
    "```ini\n",
    "# bands.conf\n",
    "```\n"
   ]
  },
  {
   "cell_type": "markdown",
   "metadata": {},
   "source": [
    "```ini\n",
    "show_bands            = yes\n",
    "```\n"
   ]
  },
  {
   "cell_type": "markdown",
   "metadata": {},
   "source": [
    "```ini\n",
    "# fill the bands with the color defined in segments.txt\n",
    "fill_bands            = yes\n",
    "```\n"
   ]
  },
  {
   "cell_type": "markdown",
   "metadata": {},
   "source": [
    "```ini\n",
    "# give the band an outline\n",
    "band_stroke_thickness = 1\n",
    "band_stroke_color     = black\n",
    "```\n"
   ]
  },
  {
   "cell_type": "markdown",
   "metadata": {},
   "source": [
    "```ini\n",
    "# 0 - fully opaque\n",
    "# 1 - least transparent\n",
    "# 5 - most transparent\n",
    "band_transparency     = 0\n",
    "```\n"
   ]
  },
  {
   "cell_type": "markdown",
   "metadata": {},
   "source": [
    "The axis progression of left hemisphere lobes is reversed, using a\n",
    "regular expression that selects all lobes whose names contain `-l`."
   ]
  },
  {
   "cell_type": "markdown",
   "metadata": {},
   "source": [
    "```ini\n",
    "chromosomes_reverse = /.*-l/\n",
    "```\n"
   ]
  },
  {
   "cell_type": "markdown",
   "metadata": {},
   "source": [
    "#### ticks\n",
    "\n",
    "The image contains a tick in the center of each paracelation region,\n",
    "together with a grid line that extends inward to the start of links.\n",
    "This is achieved with parameters defined in\n",
    "`etc/ticks.conf`{.syn-include}.\n",
    "\n",
    "First, recall that each parcelation region was made to be 100 units in\n",
    "size (in `data/segments.txt`{.syn-include}). This multiplier is\n",
    "arbitrary, but necessary because Circos works only with integer\n",
    "coordinates. Without the multiplier, it would not be possible to specify\n",
    "a position in the middle of the region.\n",
    "\n",
    "We also define the `chromosomes_units` to be 100"
   ]
  },
  {
   "cell_type": "markdown",
   "metadata": {},
   "source": [
    "```ini\n",
    "chromosomes_units = 100\n",
    "<<include ticks.conf>>\n",
    "```\n"
   ]
  },
  {
   "cell_type": "markdown",
   "metadata": {},
   "source": [
    "so that we can use this value as a short cut when defining ticks.\n",
    "\n",
    "Two groups of ticks are defined, spaced every `1u` (100) and every\n",
    "`0.5u` (50)."
   ]
  },
  {
   "cell_type": "markdown",
   "metadata": {},
   "source": [
    "```ini\n",
    "# ticks.conf\n",
    "```\n"
   ]
  },
  {
   "cell_type": "markdown",
   "metadata": {},
   "source": [
    "```ini\n",
    "show_ticks          = yes\n",
    "show_tick_labels    = yes\n",
    "show_grid           = yes\n",
    "```\n"
   ]
  },
  {
   "cell_type": "markdown",
   "metadata": {},
   "source": [
    "```ini\n",
    "<ticks>\n",
    "```\n"
   ]
  },
  {
   "cell_type": "markdown",
   "metadata": {},
   "source": [
    "```ini\n",
    "radius           = dims(ideogram,radius_outer)\n",
    "color            = black\n",
    "thickness        = 2p\n",
    "size             = 0\n",
    "```\n"
   ]
  },
  {
   "cell_type": "markdown",
   "metadata": {},
   "source": [
    "```ini\n",
    "<tick>\n",
    "# ticks for middle of parcelation region\n",
    "spacing        = 0.5u\n",
    "# length of tick, overwrites the default 0 value\n",
    "size           = 5p\n",
    "# will have a grid\n",
    "grid           = yes\n",
    "grid_color     = black\n",
    "grid_thickness = 1p\n",
    "# from inner edge of lobe axis segment to 0.825r\n",
    "grid_start     = 1r-conf(ideogram,thickness)\n",
    "grid_end       = 0.825r\n",
    "</tick>\n",
    "```\n"
   ]
  },
  {
   "cell_type": "markdown",
   "metadata": {},
   "source": [
    "```ini\n",
    "<tick>\n",
    "# 0.5u ticks defined above will also be shown at parcelation\n",
    "# boundaries because they are shown every 50 (50, 100, 150, 200,\n",
    "# ...). The 1u ticks (100, 200, ...) take precedence (because of\n",
    "# larger spacing) and act to suppress the 0.5u ticks (1u tick have\n",
    "# default size 0 and no grid).\n",
    "spacing        = 1u\n",
    "</tick>\n",
    "```\n"
   ]
  },
  {
   "cell_type": "markdown",
   "metadata": {},
   "source": [
    "```ini\n",
    "</ticks>\n",
    "```\n"
   ]
  },
  {
   "cell_type": "markdown",
   "metadata": {},
   "source": [
    "#### parcelation labels\n",
    "\n",
    "The parcelation labels are displayed as a text track."
   ]
  },
  {
   "cell_type": "markdown",
   "metadata": {},
   "source": [
    "```ini\n",
    "<plot>\n",
    "type       = text\n",
    "file       = data/structure.label.txt\n",
    "color      = black\n",
    "label_font = default\n",
    "label_size = 20\n",
    "r0         = 1r\n",
    "r1         = 1.5r\n",
    "rpadding   = 10p\n",
    "</plot>\n",
    "```\n"
   ]
  },
  {
   "cell_type": "markdown",
   "metadata": {},
   "source": [
    "#### parcelation heat maps\n",
    "\n",
    "Each parcelation has five properties, each displayed as a heat map. The\n",
    "heat maps are similarly formatted and are therefore patterened after a\n",
    "template. While it\\'s not required that you use a template in this case,\n",
    "it makes rearranging track positions easier and the configuration file\n",
    "tidier.\n",
    "\n",
    "A track template differs from a typical track only in that its parameter\n",
    "values depend on a dynamic variable. Typically, this variable is a\n",
    "counter---a variables whose values change in each [\\<plot\\>]{.syn-block}\n",
    "block.\n",
    "\n",
    "The heatmap template looks like this"
   ]
  },
  {
   "cell_type": "markdown",
   "metadata": {},
   "source": [
    "```ini\n",
    "# heatmap.conf\n",
    "<plot>\n",
    "type         = heatmap\n",
    "# use the value of the counter, via counter(heatmap), to determine the file\n",
    "# for this block\n",
    "#\n",
    "# 1st block: data/measure.0.txt\n",
    "# 2nd block: data/measure.1.txt\n",
    "# ...\n",
    "file         = data/measure.counter(heatmap).txt\n",
    "# use the value of the counter to select the color for the heat map\n",
    "# from the hm_colors configuration parameter\n",
    "color        = eval((split(\",\",\"conf(hm_colors)\"))[counter(heatmap)])\n",
    "# the counter value is used to derive the radial position of the track, from\n",
    "# hm_r (initial radial position), hm_w (track width) and hm_pad (track padding)\n",
    "# parameters\n",
    "r1           = eval(sprintf(\"%fr\",conf(hm_r)-counter(heatmap)*(conf(hm_w)+conf(hm_pad))))\n",
    "r0           = eval(sprintf(\"%fr\",conf(hm_r)-counter(heatmap)*(conf(hm_w)+conf(hm_pad))+conf(hm_w)))\n",
    "stroke_color = white\n",
    "stroke_thickness = 3\n",
    "</plot>\n",
    "```\n"
   ]
  },
  {
   "cell_type": "markdown",
   "metadata": {},
   "source": [
    "and is used in `etc/circos.conf`{.syn-include} like this"
   ]
  },
  {
   "cell_type": "markdown",
   "metadata": {},
   "source": [
    "```ini\n",
    "# define parameters used in the heatmap template\n",
    "hm_r      = 0.96  # radial position of first heat map\n",
    "hm_w      = 0.025 # heat map width\n",
    "hm_pad    = 0.005 # heat map padding\n",
    "```\n"
   ]
  },
  {
   "cell_type": "markdown",
   "metadata": {},
   "source": [
    "```ini\n",
    "# heat map track colors\n",
    "#           1st track  2nd track     3rd track    4th track   5th track\n",
    "#hm_colors = greys-4-seq,greys-4-seq,greys-4-seq,greys-4-seq,greys-4-seq\n",
    "hm_colors = reds-4-seq,oranges-4-seq,greens-4-seq,blues-4-seq,purples-4-seq\n",
    "```\n"
   ]
  },
  {
   "cell_type": "markdown",
   "metadata": {},
   "source": [
    "```ini\n",
    "<plots>\n",
    "```\n"
   ]
  },
  {
   "cell_type": "markdown",
   "metadata": {},
   "source": [
    "```ini\n",
    "<<include heatmap.conf>>\n",
    "<<include heatmap.conf>>\n",
    "<<include heatmap.conf>>\n",
    "<<include heatmap.conf>>\n",
    "<<include heatmap.conf>>\n",
    "```\n"
   ]
  },
  {
   "cell_type": "markdown",
   "metadata": {},
   "source": [
    "#### connectogram links\n",
    "\n",
    "Links are defined in a [\\<link\\>]{.syn-block} block."
   ]
  },
  {
   "cell_type": "markdown",
   "metadata": {},
   "source": [
    "```ini\n",
    "<links>\n",
    "<link>\n",
    "file   = data/links.txt\n",
    "radius = 0.825r \n",
    "```\n"
   ]
  },
  {
   "cell_type": "markdown",
   "metadata": {},
   "source": [
    "```ini\n",
    "bezier_radius = 0r\n",
    "bezier_radius_purity = 0.5\n",
    "crest         = 0.25\n",
    "thickness     = 2\n",
    "color         = black\n",
    "</link>\n",
    "</links>\n",
    "```\n"
   ]
  },
  {
   "cell_type": "markdown",
   "metadata": {},
   "source": [
    "The `radius` parameter defines the radial position of the link ends,\n",
    "while the `bezier_radius` defines the radial position of the control\n",
    "point used to draw the curve.\n",
    "\n",
    "The ancillary parameters, `crest` and `bezier_radius_purity`, affect the\n",
    "angle at which the links terminate and the control point radius for\n",
    "short links, respectively.\n",
    "\n",
    "#### link rules\n",
    "\n",
    "Recall that the link input data included two parameters, `type` and\n",
    "`score`. We can use [\\<rule\\>]{.syn-block} blocks to change how the\n",
    "links are formatted based on these parameters.\n",
    "\n",
    "Parameter values are referenced using `var()` and format values can be\n",
    "expressed as Perl code when passed through `eval()`."
   ]
  },
  {
   "cell_type": "markdown",
   "metadata": {},
   "source": [
    "```ini\n",
    "<rules>\n",
    "```\n"
   ]
  },
  {
   "cell_type": "markdown",
   "metadata": {},
   "source": [
    "```ini\n",
    "<rule>\n",
    "# this rule will apply to all links, since the condition is always true\n",
    "condition = 1\n",
    "# map the score [0,1] onto thickness [1,5]\n",
    "thickness = eval(remap_int(var(score),0,1,1,5))\n",
    "# force continued testing of rules - otherwise a rule that\n",
    "# passes a condition short-circuits further testing\n",
    "flow      = continue\n",
    "</rule>\n",
    "```\n"
   ]
  },
  {
   "cell_type": "markdown",
   "metadata": {},
   "source": [
    "```ini\n",
    "<rule>\n",
    "# select links with type=0\n",
    "condition = var(type) == 0\n",
    "# map the score [0,1] onto the colors greys-5-seq-1..greys-5-seq-5 \n",
    "color     = eval(sprintf(\"greys-5-seq-%d\",remap_int(var(score),0,1,1,5)))\n",
    "</rule>\n",
    "```\n"
   ]
  },
  {
   "cell_type": "markdown",
   "metadata": {},
   "source": [
    "```ini\n",
    "<rule>\n",
    "# select links with type=1\n",
    "condition = var(type) == 1\n",
    "# same as above, except use the reds Brewer palette\n",
    "color     = eval(sprintf(\"reds-5-seq-%d\",remap_int(var(score),0,1,1,5)))\n",
    "</rule>\n",
    "```\n"
   ]
  },
  {
   "cell_type": "markdown",
   "metadata": {},
   "source": [
    "```ini\n",
    "</rules>\n",
    "```\n"
   ]
  },
  {
   "cell_type": "markdown",
   "metadata": {},
   "source": [
    "### variants\n",
    "\n",
    "I\\'ve generated a couple of layout variants for the connectogram (see\n",
    "[images](images)) to give you an idea of other layouts.\n",
    "\n",
    "#### outward links for intra-lobe connections\n",
    "\n",
    "Link geometry can be changed with rules."
   ]
  },
  {
   "cell_type": "markdown",
   "metadata": {},
   "source": [
    "```ini\n",
    "<link>\n",
    "...\n",
    "# all links terminate further inward\n",
    "radius = 0.7r\n",
    "<rules>\n",
    "<rule>\n",
    "# links between the same lobes have the control point placed\n",
    "# further from the center than their ends (1r vs 0.7r), making\n",
    "# them curve outward\n",
    "condition = var(chr1) eq var(chr2)\n",
    "bezier_radius = 1r\n",
    "# slight separation between ends of outward and inward links (0.71r vs 0.7r)\n",
    "radius    = 0.71r\n",
    "# continue with other rules for these links\n",
    "flow      = continue\n",
    "</rule>\n",
    "...\n",
    "```\n"
   ]
  },
  {
   "cell_type": "markdown",
   "metadata": {},
   "source": [
    "#### focus on parcelation\n",
    "\n",
    "The second variant (see `etc.2/`{.syn-include} directory in this\n",
    "tutorial) has adjusted geometry to make the parcelation segments more\n",
    "central in the image. To do this, the ideogram radius is reduced"
   ]
  },
  {
   "cell_type": "markdown",
   "metadata": {},
   "source": [
    "```ini\n",
    "# ideogram.position.conf\n",
    "radius = 0.65r\n",
    "```\n"
   ]
  },
  {
   "cell_type": "markdown",
   "metadata": {},
   "source": [
    "Inter-lobe links point inward and terminate at the inner radius of the\n",
    "parcelation regions. Intra-lobe links point outward, and terminate at\n",
    "the outer radius."
   ]
  },
  {
   "cell_type": "markdown",
   "metadata": {},
   "source": [
    "```ini\n",
    "<rule>\n",
    "condition = var(chr1) eq var(chr2)\n",
    "bezier_radius = 1.25r\n",
    "radius    = dims(ideogram,radius_outer)\n",
    "flow      = continue\n",
    "</rule>\n",
    "```\n"
   ]
  },
  {
   "cell_type": "markdown",
   "metadata": {},
   "source": [
    "The heatmaps, being an annotation of the parcelation regions, are moved\n",
    "further out together with labels."
   ]
  },
  {
   "cell_type": "markdown",
   "metadata": {},
   "source": [
    "```ini\n",
    "# circos.conf\n",
    "...\n",
    "hm_r      = 1.3\n",
    "```\n"
   ]
  },
  {
   "cell_type": "markdown",
   "metadata": {},
   "source": [
    "The tick grid that connects the parcelation labels with segments is made\n",
    "lighter, to avoid interference with outward links."
   ]
  },
  {
   "cell_type": "markdown",
   "metadata": {},
   "source": [
    "```ini\n",
    "# ticks.conf\n",
    "```\n"
   ]
  },
  {
   "cell_type": "markdown",
   "metadata": {},
   "source": [
    "```ini\n",
    "<ticks>\n",
    "```\n"
   ]
  },
  {
   "cell_type": "markdown",
   "metadata": {},
   "source": [
    "```ini\n",
    "<tick>\n",
    "...\n",
    "grid_color     = black_a3\n",
    "</tick>\n",
    "```\n"
   ]
  },
  {
   "cell_type": "markdown",
   "metadata": {},
   "source": [
    "```ini\n",
    "</ticks>\n",
    "```\n"
   ]
  },
  {
   "cell_type": "markdown",
   "metadata": {},
   "source": [
    "----\n",
    "\n",
    "### Generating the plot produced by this example code\n",
    "\n",
    "\n",
    "The following two cells will generate the plot. The first cell adjusts the current working directory."
   ]
  },
  {
   "cell_type": "code",
   "execution_count": null,
   "metadata": {},
   "outputs": [],
   "source": [
    "%cd ../circos-tutorials-0.67/tutorials/8/19/"
   ]
  },
  {
   "cell_type": "code",
   "execution_count": null,
   "metadata": {},
   "outputs": [],
   "source": [
    "%%bash\n",
    "../../../../circos-0.69-6/bin/circos -conf circos.conf"
   ]
  },
  {
   "cell_type": "markdown",
   "metadata": {},
   "source": [
    "View the plot in this page using the following cell."
   ]
  },
  {
   "cell_type": "code",
   "execution_count": null,
   "metadata": {},
   "outputs": [],
   "source": [
    "from IPython.display import Image\n",
    "Image(\"circos.png\")"
   ]
  },
  {
   "cell_type": "markdown",
   "metadata": {},
   "source": [
    "----\n",
    "\n",
    "Continue on to the next part of the Recipes series by clicking [here &#10145;](Recipes_Part20.ipynb).\n",
    "\n",
    "----"
   ]
  }
 ],
 "metadata": {},
 "nbformat": 4,
 "nbformat_minor": 2
}
