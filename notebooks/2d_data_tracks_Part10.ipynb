{
 "cells": [
  {
   "cell_type": "markdown",
   "metadata": {},
   "source": [
    "# Part 10 of 2D Data Tracks: Glyphs --- Part II\n",
    "\n",
    "This page is primarily based on the following page at the Circos documentation site:\n",
    "\n",
    "\n",
    "\n",
    "- [10. Glyphs --- Part II](????????????)\n",
    "\n",
    "\n",
    "\n",
    "That page is found as part number 4 of the ??? part ['2D Data Tracks' section](http://circos.ca/documentation/tutorials/quick_start/) of [the larger set of Circos tutorials](http://circos.ca/documentation/tutorials/).\n",
    "\n",
    "\n",
    "\n",
    "Go back to Part 9 by clicking [here &#8592;](2d_data_tracks_Part9.ipynb).\n",
    "\n",
    "\n",
    "\n",
    "----\n",
    "\n",
    "\n",
    "\n",
    "6 --- 2D Data Tracks\n",
    "====================\n",
    "\n",
    "10. Glyphs --- Part II\n",
    "----------------------\n",
    "\n",
    "::: {#menu4}\n",
    "[[Lesson](/documentation/tutorials/2d_tracks/glyphs_2/lesson){.clean}]{.active}\n",
    "[Images](/documentation/tutorials/2d_tracks/glyphs_2/images){.normal}\n",
    "[Configuration](/documentation/tutorials/2d_tracks/glyphs_2/configuration){.normal}\n",
    ":::\n",
    "\n",
    "Modifying labels into symbols is ideal for making a general glyph\n",
    "tracks. For example, consider a list of genes\n",
    "(`data/6/genes.glyph.txt`{.syn-include})."
   ]
  },
  {
   "cell_type": "markdown",
   "metadata": {},
   "source": [
    "```ini\n",
    "...\n",
    "hs12 56428271 56432431 CDK4_cancer\n",
    "hs12 64504506 64595566 HMGA2_cancer\n",
    "hs12 64504506 64638901 P52926_cancer\n",
    "...\n",
    "hs10 108323411 108914282 SORCS1_omim\n",
    "hs10 111614513 111673192 XPNPEP1_omim\n",
    "hs10 111755715 111885310 ADD3_omim\n",
    "...\n",
    "hs7 139864688 139948811 DENND2A_other\n",
    "hs7 140019421 140041377 ADCK2_other\n",
    "hs7 140042949 140052913 NDUFB2_other\n",
    "...\n",
    "```\n"
   ]
  },
  {
   "cell_type": "markdown",
   "metadata": {},
   "source": [
    "I\\'ve added \\_cancer to those genes that are in the Cancer Census,\n",
    "\\_omim to any others that are in the OMIM list (disease-related), and\n",
    "\\_other to the remaining. Using the rules below, genes become glyphs\n",
    "colored by their names."
   ]
  },
  {
   "cell_type": "markdown",
   "metadata": {},
   "source": [
    "```ini\n",
    "<rules>\n",
    "```\n"
   ]
  },
  {
   "cell_type": "markdown",
   "metadata": {},
   "source": [
    "```ini\n",
    "flow = continue\n",
    "```\n"
   ]
  },
  {
   "cell_type": "markdown",
   "metadata": {},
   "source": [
    "```ini\n",
    "<rule>\n",
    "condition  = var(value) =~ /cancer/\n",
    "color      = red\n",
    "</rule>\n",
    "```\n"
   ]
  },
  {
   "cell_type": "markdown",
   "metadata": {},
   "source": [
    "```ini\n",
    "<rule>\n",
    "condition  = var(value) =~ /omim/\n",
    "color      = green\n",
    "</rule>\n",
    "```\n"
   ]
  },
  {
   "cell_type": "markdown",
   "metadata": {},
   "source": [
    "```ini\n",
    "<rule>\n",
    "condition  = var(value) =~ /other/\n",
    "color      = blue\n",
    "</rule>\n",
    "```\n"
   ]
  },
  {
   "cell_type": "markdown",
   "metadata": {},
   "source": [
    "```ini\n",
    "<rule>\n",
    "condition  = 1\n",
    "value      = N\n",
    "</rule>\n",
    "```\n"
   ]
  },
  {
   "cell_type": "markdown",
   "metadata": {},
   "source": [
    "```ini\n",
    "</rules>\n",
    "```\n"
   ]
  },
  {
   "cell_type": "markdown",
   "metadata": {},
   "source": [
    "Individual gene groups (cancer, omim, other) can be split into multiple\n",
    "tracks by setting a rule to hide all genes except one. For example, this\n",
    "track shows only the cancer genes outside the circle"
   ]
  },
  {
   "cell_type": "markdown",
   "metadata": {},
   "source": [
    "```ini\n",
    "<plot>\n",
    "```\n"
   ]
  },
  {
   "cell_type": "markdown",
   "metadata": {},
   "source": [
    "```ini\n",
    "r0 = 1r+10p\n",
    "r1 = 1r+200p\n",
    "color = red\n",
    "...\n",
    "```\n"
   ]
  },
  {
   "cell_type": "markdown",
   "metadata": {},
   "source": [
    "```ini\n",
    "<rules>\n",
    "```\n"
   ]
  },
  {
   "cell_type": "markdown",
   "metadata": {},
   "source": [
    "```ini\n",
    "<rule>\n",
    "condition  = var(value) !~ /cancer/\n",
    "# hide anything that doesn't match \"cancer\"\n",
    "show = no\n",
    "</rule>\n",
    "```\n"
   ]
  },
  {
   "cell_type": "markdown",
   "metadata": {},
   "source": [
    "```ini\n",
    "<rule>\n",
    "condition  = 1\n",
    "# circle\n",
    "value = N\n",
    "</rule>\n",
    "```\n"
   ]
  },
  {
   "cell_type": "markdown",
   "metadata": {},
   "source": [
    "```ini\n",
    "</rules>\n",
    "```\n"
   ]
  },
  {
   "cell_type": "markdown",
   "metadata": {},
   "source": [
    "```ini\n",
    "</plot>\n",
    "```\n"
   ]
  },
  {
   "cell_type": "markdown",
   "metadata": {},
   "source": [
    "### using glyphs to plot density\n",
    "\n",
    "Finally, let\\'s look at an example where the size of the glyph encodes\n",
    "density of data points. While Circos won\\'t calculate the density for\n",
    "you, you can pre-process your data and encode the density as the label\n",
    "size.\n",
    "\n",
    "In the `data/6/gene.density.txt`{.syn-include} file, the number of gene\n",
    "entries for each of cancer, omim and other groups (per Mb) is reported\n",
    "as the `label_size`."
   ]
  },
  {
   "cell_type": "markdown",
   "metadata": {},
   "source": [
    "```ini\n",
    "...\n",
    "hs1 3000000 3000000 cancer label_size=1\n",
    "hs1 6000000 6000000 cancer label_size=2\n",
    "...\n",
    "hs1 1000000 1000000 omim label_size=9\n",
    "hs1 2000000 2000000 omim label_size=14\n",
    "...\n",
    "hs1 1000000 1000000 other label_size=26\n",
    "hs1 2000000 2000000 other label_size=10\n",
    "...\n",
    "```\n"
   ]
  },
  {
   "cell_type": "markdown",
   "metadata": {},
   "source": [
    "Using a rule, you can remap the label\\_size to another value. The\n",
    "original label\\_size values range from 1p to 42p."
   ]
  },
  {
   "cell_type": "markdown",
   "metadata": {},
   "source": [
    "```ini\n",
    "# linear remap to [6,50]\n",
    "label_size = eval(remap_int(var(label_size),1,42,6,50))\n",
    "```\n"
   ]
  },
  {
   "cell_type": "markdown",
   "metadata": {},
   "source": [
    "```ini\n",
    "# ... with shallower increase\n",
    "label_size = eval(remap_int(sqrt(var(label_size)),1,sqrt(42),6,50))\n",
    "```\n"
   ]
  },
  {
   "cell_type": "markdown",
   "metadata": {},
   "source": [
    "```ini\n",
    "# ... with steeper increase\n",
    "label_size = eval(remap_int(var(label_size)**2,1,42**2,6,50))\n",
    "```\n"
   ]
  },
  {
   "cell_type": "markdown",
   "metadata": {},
   "source": [
    "----\n",
    "\n",
    "### Generating the plot produced by this example code\n",
    "\n",
    "\n",
    "The following two cells will generate the plot. The first cell adjusts the current working directory."
   ]
  },
  {
   "cell_type": "code",
   "execution_count": null,
   "metadata": {},
   "outputs": [],
   "source": [
    "%cd ../circos-tutorials-0.67/tutorials/6/10/"
   ]
  },
  {
   "cell_type": "code",
   "execution_count": null,
   "metadata": {},
   "outputs": [],
   "source": [
    "%%bash\n",
    "../../../../circos-0.69-6/bin/circos -conf circos.conf"
   ]
  },
  {
   "cell_type": "markdown",
   "metadata": {},
   "source": [
    "View the plot in this page using the following cell."
   ]
  },
  {
   "cell_type": "code",
   "execution_count": null,
   "metadata": {},
   "outputs": [],
   "source": [
    "from IPython.display import Image\n",
    "Image(\"circos.png\")"
   ]
  },
  {
   "cell_type": "markdown",
   "metadata": {},
   "source": [
    "----\n",
    "\n",
    "Continue on to the next part of the 2D Data Tracks series by clicking [here &#10145;](2d_data_tracks_Part11.ipynb).\n",
    "\n",
    "----"
   ]
  }
 ],
 "metadata": {},
 "nbformat": 4,
 "nbformat_minor": 2
}
