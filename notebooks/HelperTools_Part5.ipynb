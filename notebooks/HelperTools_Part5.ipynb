{
 "cells": [
  {
   "cell_type": "code",
   "execution_count": null,
   "metadata": {
    "hide_input": true,
    "inputHidden": true
   },
   "outputs": [
    {
     "data": {
      "text/html": [
       "<span style=\"color:red; font-family:Helvetica Neue, Helvetica, Arial, sans-serif; font-size:2em;\">An Exception was encountered at 'In [5]'.</span>"
      ]
     },
     "metadata": {},
     "output_type": "display_data"
    }
   ],
   "source": [
    "%%html\n",
    "<span style=\"color:red; font-family:Helvetica Neue, Helvetica, Arial, sans-serif; font-size:2em;\">An Exception was encountered at 'In [5]'.</span>"
   ]
  },
  {
   "cell_type": "code",
   "execution_count": 1,
   "metadata": {
    "papermill": {
     "duration": 0.017198,
     "end_time": "2019-04-08T02:49:17.860932",
     "exception": false,
     "start_time": "2019-04-08T02:49:17.843734",
     "status": "completed"
    },
    "tags": [
     "parameters"
    ]
   },
   "outputs": [],
   "source": [
    "#This cell is tagged parameters for running this template using Papermill to inject values to overwrite these.\n",
    "markdown = \"\"\n",
    "section = 99\n",
    "sub_pg = 99\n",
    "end_nb = False\n",
    "next_nb = \"\"\n"
   ]
  },
  {
   "cell_type": "code",
   "execution_count": 2,
   "metadata": {
    "papermill": {
     "duration": 0.016225,
     "end_time": "2019-04-08T02:49:17.883487",
     "exception": false,
     "start_time": "2019-04-08T02:49:17.867262",
     "status": "completed"
    },
    "tags": [
     "injected-parameters"
    ]
   },
   "outputs": [],
   "source": [
    "# Parameters\n",
    "markdown = \"\\n# Part 5 of Helper Tools: Visualizing Tabular Data\\n\\nThis page is primarily based on the following page at the Circos documentation site:\\n\\n\\n\\n- [5. Visualizing Tabular Data](????????????)\\n\\n\\n\\nThat page is found as part number 4 of the ??? part ['Helper Tools' section](http://circos.ca/documentation/tutorials/quick_start/) of [the larger set of Circos tutorials](http://circos.ca/documentation/tutorials/).\\n\\n\\n\\nGo back to Part 4 by clicking [here &#8592;](HelperTools_Part4.ipynb).\\n\\n\\n\\n----\\n\\n\\n\\n9 --- Helper Tools\\n==================\\n\\n5. Visualizing Tabular Data\\n---------------------------\\n\\n::: {#menu4}\\n[[Lesson](/documentation/tutorials/utilities/visualizing_tables/lesson){.clean}]{.active}\\n[Images](/documentation/tutorials/utilities/visualizing_tables/images){.normal}\\n:::\\n\\nmotivation\\n----------\\n\\nFor details about the methodology behind the use of Circos to visualize\\ntabular data, see the article [Visualizing Tabular\\nData](/presentations/articles/vis_tables1).\\n\\nFor an in-depth description of the configuration syntax for tableviewer\\nscript set, see [Visualizing Tabular Data - Part\\nII](/presentations/articles/vis_tables2).\\n\\nscript location\\n---------------\\n\\n    tools/tableviewer\\n\\nscript usage\\n------------\\n\\n    > cd tools/tableviewer\\n    # create an image of a basic sample table\\n    > ./makeimage-basic\\n    # create an image of a sample table with row/col order information\\n    > ./makeimage-ordered\\n    # create an image of a sample table with row/col order an color information\\n    > ./makeimage-ordered-colored\\n\\nThe tableviewer is composed of three parts\\n\\n-   make-table - creates a random table (helpful for debugging and\\n    exploration)\\n-   parse-table - parses a table into an intermediate state\\n-   make-conf - uses output of parse-table and creates Circos data files\\n    and configuration files\\n\\nTo get the full manpage, use -man.\\n\\n    > cd tools/tableviewer\\n    > bin/make-table -man\\n    > bin/parse-table -man\\n    > bin/make-conf -man\\n\\nAdjust the configuration files in etc/ to suit your needs.\\n\\ndetails\\n-------\\n\\nThe scripts in tableviewer/ (make-table, parse-table, make-conf)\\ngenerate a Circos image of tabular data. For more information about how\\ntabular data is represented, see the [online\\ntableviewer](http://mkweb.bcgsc.ca/tableviewer). The online version\\nlimits you to 15 columns and rows and with the scripts described here\\nyou can process tables of any size.\\n\\nThere are three scripts that compose the tableviewer package\\n\\n-   make-table - Create a table filled with random values. Useful when\\n    you need to debug or explore visualization for tables with specific\\n    properties. You don\\\\'t need this script if you only want to\\n    exclusively work with your own data.\\n-   parse-table - Parses a table file (your own or generated with\\n    make-table) and generates a parsed data stream that is used by\\n    make-conf\\n-   make-conf - Uses output of parse-table to create data files and\\n    configuration files used by Circos to visualize the table\\n\\n### make-table\\n\\nThis script is helpful to generate random data to test-drive the rest of\\nthe tableviewer package. For example, you can generate a small table\\n\\n    > bin/make-table -row 3 -brief\\n     lbl    A    B    C\\n       A   80  387  112\\n       B    1   30   61\\n       C   96  146   29\\n\\nor a large one\\n\\n    > bin/make-table -row 15 -brief\\n     lbl    A    B    C    D    E    F    G    H    I    J    K    L    M    N    O\\n       A  376   78  367   75   72  184  452  285  310  142  469  215  107  106   95\\n       B   38   33   36   55   53   68   77   35   59   20   52   36   19   23   19\\n       C  108   79  121   47  120   95   65   30   89  125   78   99   39  166   82\\n       D   90   78   77   63  153   35   97  133  213  129  137  159   40   65  100\\n       E   99   52  129  139  129   27   95  129   36   90   32   73   82  110  131\\n       F  145  162  104  121   84   67  125   98  146   11  156   62  153   72  167\\n       G   67  123   53   39    6  108   36   77  118   96   92   97  119  142  142\\n       H   55   74   92   33   77   43  109   39  166  182   92    1  115   91   85\\n       I  135  168  101   78   21   85   76   94  105   18  144  174  135  120  168\\n       J   98   94   32   76   44    9   45  133  132   42   64   29   57   92  141\\n       K   74   71  117   98  118   88  104   80  168  127   33   46    5  110   68\\n       L   65  179   54   73   93  110  123   81  156  109   58   72  131   59   76\\n       M   93   73   60  226   59   55  140  124  210  136   59   79   80  106  204\\n       N  143  150   92   67   94  239   48  125  214  119   84   76  121   72   92\\n       O  134  122   83  223  101   74  161  155  151  159  183  154   15   48  145\\n\\nYou can use -row and -col to independently set the number of rows and\\ncolumns in the table.\\n\\nBy using -unique, you can request that row and column labels are all\\ndifferent.\\n\\n    > bin/make-table -row 3 -brief -uniq\\n     lbl    D    E    F\\n       A  288   40  245\\n       B   52   52   33\\n       C  139   76   85\\n\\nUniquely labeled rows and columns generate an image in which each row\\nand column has its own segment, since segments are keyed by label. If\\nyour table represents relationships between a set of items, then\\nrow/column labels will be the same. However, if your table represents\\nrelationshpis between two disjoint sets, then the labels will be\\ndifferent.\\n\\nNotice that make-table creates output with a leading space in each line.\\nThe configuration file for make-table defines the precise format of the\\noutput line and here you can adjust the width of each field. When\\nparsing this output using parse-table (see below), you should always set\\nstrip\\\\_leading\\\\_space=yes (this is the default) in parse-table.conf so\\nthat any leading space in lines is removed.\\n\\n### parse-table\\n\\nThis script parses the table file and generates row, column, and cell\\nstatistics and data values that are subsequently used to create\\nconfiguration and input files using make-conf.\\n\\nThis part of the tableviewer suite is the most complex and has the\\nlargest number of configuration settings, since this is the script that\\ndetermines the position and color of all the elements in the final\\nimage.\\n\\nPlease read the etc/parse-table.conf configuration file for an\\nexplanation of what the parameters do. It\\\\'s likely that you will find\\nthe configuration file overwhelming at first - do not dispair! By\\nlearning how the elements of the configuration file affect the final\\nimage, you will be able to tweak the output image to best represent your\\ndata. You can control nearly every aspect of how the table is shown.\\nParameters such as col/row order can be either manually set (via order\\nrows and columns in the input file) or automatically determined (based\\non label value or row/column size).\\n\\nTo help you experiment, you should construct two simple tables using the\\nmake-table tool - one with unique labels and one with shared column/row\\nlabels\\n\\n    > bin/make-table -rows 5 -seed 123 -brief -uniq  > samples/table-basic-unique.txt\\n    > bin/make-table -rows 5 -seed 123 -brief        > samples/table-basic-shared.txt\\n\\nand then play with parse-table.conf settings as you draw each table\\n\\n    cat samples/table-unique.txt | bin/parse-table | bin/make-conf -dir data/\\n    ../../bin/circos -conf etc/circos.conf\\n\\nTake a look at the example images associated with this tutorial to get a\\nfeeling for the kind of variety that is possible.\\n\\n### make-conf\\n\\nThe only option to make-conf is the directory to which it should write\\nthe data files.\\n\\n    > cat samples/table-basic.txt | bin/parse-table | bin/make-conf -dir data/\\n\\nMake sure that paths in the etc/circos.conf file correctly reflect the\\nlocation to which the data files were written.\\n\\n\"\n",
    "section = 9\n",
    "sub_pg = 5\n",
    "end_nb = False\n",
    "next_nb = \"HelperTools_Part6.ipynb\"\n"
   ]
  },
  {
   "cell_type": "code",
   "execution_count": 3,
   "metadata": {
    "papermill": {
     "duration": 0.012432,
     "end_time": "2019-04-08T02:49:17.901621",
     "exception": false,
     "start_time": "2019-04-08T02:49:17.889189",
     "status": "completed"
    },
    "tags": []
   },
   "outputs": [
    {
     "name": "stdout",
     "output_type": "stream",
     "text": [
      "\n",
      "# Part 5 of Helper Tools: Visualizing Tabular Data\n",
      "\n",
      "This page is primarily based on the following page at the Circos documentation site:\n",
      "\n",
      "\n",
      "\n",
      "- [5. Visualizing Tabular Data](????????????)\n",
      "\n",
      "\n",
      "\n",
      "That page is found as part number 4 of the ??? part ['Helper Tools' section](http://circos.ca/documentation/tutorials/quick_start/) of [the larger set of Circos tutorials](http://circos.ca/documentation/tutorials/).\n",
      "\n",
      "\n",
      "\n",
      "Go back to Part 4 by clicking [here &#8592;](HelperTools_Part4.ipynb).\n",
      "\n",
      "\n",
      "\n",
      "----\n",
      "\n",
      "\n",
      "\n",
      "9 --- Helper Tools\n",
      "==================\n",
      "\n",
      "5. Visualizing Tabular Data\n",
      "---------------------------\n",
      "\n",
      "::: {#menu4}\n",
      "[[Lesson](/documentation/tutorials/utilities/visualizing_tables/lesson){.clean}]{.active}\n",
      "[Images](/documentation/tutorials/utilities/visualizing_tables/images){.normal}\n",
      ":::\n",
      "\n",
      "motivation\n",
      "----------\n",
      "\n",
      "For details about the methodology behind the use of Circos to visualize\n",
      "tabular data, see the article [Visualizing Tabular\n",
      "Data](/presentations/articles/vis_tables1).\n",
      "\n",
      "For an in-depth description of the configuration syntax for tableviewer\n",
      "script set, see [Visualizing Tabular Data - Part\n",
      "II](/presentations/articles/vis_tables2).\n",
      "\n",
      "script location\n",
      "---------------\n",
      "\n",
      "    tools/tableviewer\n",
      "\n",
      "script usage\n",
      "------------\n",
      "\n",
      "    > cd tools/tableviewer\n",
      "    # create an image of a basic sample table\n",
      "    > ./makeimage-basic\n",
      "    # create an image of a sample table with row/col order information\n",
      "    > ./makeimage-ordered\n",
      "    # create an image of a sample table with row/col order an color information\n",
      "    > ./makeimage-ordered-colored\n",
      "\n",
      "The tableviewer is composed of three parts\n",
      "\n",
      "-   make-table - creates a random table (helpful for debugging and\n",
      "    exploration)\n",
      "-   parse-table - parses a table into an intermediate state\n",
      "-   make-conf - uses output of parse-table and creates Circos data files\n",
      "    and configuration files\n",
      "\n",
      "To get the full manpage, use -man.\n",
      "\n",
      "    > cd tools/tableviewer\n",
      "    > bin/make-table -man\n",
      "    > bin/parse-table -man\n",
      "    > bin/make-conf -man\n",
      "\n",
      "Adjust the configuration files in etc/ to suit your needs.\n",
      "\n",
      "details\n",
      "-------\n",
      "\n",
      "The scripts in tableviewer/ (make-table, parse-table, make-conf)\n",
      "generate a Circos image of tabular data. For more information about how\n",
      "tabular data is represented, see the [online\n",
      "tableviewer](http://mkweb.bcgsc.ca/tableviewer). The online version\n",
      "limits you to 15 columns and rows and with the scripts described here\n",
      "you can process tables of any size.\n",
      "\n",
      "There are three scripts that compose the tableviewer package\n",
      "\n",
      "-   make-table - Create a table filled with random values. Useful when\n",
      "    you need to debug or explore visualization for tables with specific\n",
      "    properties. You don\\'t need this script if you only want to\n",
      "    exclusively work with your own data.\n",
      "-   parse-table - Parses a table file (your own or generated with\n",
      "    make-table) and generates a parsed data stream that is used by\n",
      "    make-conf\n",
      "-   make-conf - Uses output of parse-table to create data files and\n",
      "    configuration files used by Circos to visualize the table\n",
      "\n",
      "### make-table\n",
      "\n",
      "This script is helpful to generate random data to test-drive the rest of\n",
      "the tableviewer package. For example, you can generate a small table\n",
      "\n",
      "    > bin/make-table -row 3 -brief\n",
      "     lbl    A    B    C\n",
      "       A   80  387  112\n",
      "       B    1   30   61\n",
      "       C   96  146   29\n",
      "\n",
      "or a large one\n",
      "\n",
      "    > bin/make-table -row 15 -brief\n",
      "     lbl    A    B    C    D    E    F    G    H    I    J    K    L    M    N    O\n",
      "       A  376   78  367   75   72  184  452  285  310  142  469  215  107  106   95\n",
      "       B   38   33   36   55   53   68   77   35   59   20   52   36   19   23   19\n",
      "       C  108   79  121   47  120   95   65   30   89  125   78   99   39  166   82\n",
      "       D   90   78   77   63  153   35   97  133  213  129  137  159   40   65  100\n",
      "       E   99   52  129  139  129   27   95  129   36   90   32   73   82  110  131\n",
      "       F  145  162  104  121   84   67  125   98  146   11  156   62  153   72  167\n",
      "       G   67  123   53   39    6  108   36   77  118   96   92   97  119  142  142\n",
      "       H   55   74   92   33   77   43  109   39  166  182   92    1  115   91   85\n",
      "       I  135  168  101   78   21   85   76   94  105   18  144  174  135  120  168\n",
      "       J   98   94   32   76   44    9   45  133  132   42   64   29   57   92  141\n",
      "       K   74   71  117   98  118   88  104   80  168  127   33   46    5  110   68\n",
      "       L   65  179   54   73   93  110  123   81  156  109   58   72  131   59   76\n",
      "       M   93   73   60  226   59   55  140  124  210  136   59   79   80  106  204\n",
      "       N  143  150   92   67   94  239   48  125  214  119   84   76  121   72   92\n",
      "       O  134  122   83  223  101   74  161  155  151  159  183  154   15   48  145\n",
      "\n",
      "You can use -row and -col to independently set the number of rows and\n",
      "columns in the table.\n",
      "\n",
      "By using -unique, you can request that row and column labels are all\n",
      "different.\n",
      "\n",
      "    > bin/make-table -row 3 -brief -uniq\n",
      "     lbl    D    E    F\n",
      "       A  288   40  245\n",
      "       B   52   52   33\n",
      "       C  139   76   85\n",
      "\n",
      "Uniquely labeled rows and columns generate an image in which each row\n",
      "and column has its own segment, since segments are keyed by label. If\n",
      "your table represents relationships between a set of items, then\n",
      "row/column labels will be the same. However, if your table represents\n",
      "relationshpis between two disjoint sets, then the labels will be\n",
      "different.\n",
      "\n",
      "Notice that make-table creates output with a leading space in each line.\n",
      "The configuration file for make-table defines the precise format of the\n",
      "output line and here you can adjust the width of each field. When\n",
      "parsing this output using parse-table (see below), you should always set\n",
      "strip\\_leading\\_space=yes (this is the default) in parse-table.conf so\n",
      "that any leading space in lines is removed.\n",
      "\n",
      "### parse-table\n",
      "\n",
      "This script parses the table file and generates row, column, and cell\n",
      "statistics and data values that are subsequently used to create\n",
      "configuration and input files using make-conf.\n",
      "\n",
      "This part of the tableviewer suite is the most complex and has the\n",
      "largest number of configuration settings, since this is the script that\n",
      "determines the position and color of all the elements in the final\n",
      "image.\n",
      "\n",
      "Please read the etc/parse-table.conf configuration file for an\n",
      "explanation of what the parameters do. It\\'s likely that you will find\n",
      "the configuration file overwhelming at first - do not dispair! By\n",
      "learning how the elements of the configuration file affect the final\n",
      "image, you will be able to tweak the output image to best represent your\n",
      "data. You can control nearly every aspect of how the table is shown.\n",
      "Parameters such as col/row order can be either manually set (via order\n",
      "rows and columns in the input file) or automatically determined (based\n",
      "on label value or row/column size).\n",
      "\n",
      "To help you experiment, you should construct two simple tables using the\n",
      "make-table tool - one with unique labels and one with shared column/row\n",
      "labels\n",
      "\n",
      "    > bin/make-table -rows 5 -seed 123 -brief -uniq  > samples/table-basic-unique.txt\n",
      "    > bin/make-table -rows 5 -seed 123 -brief        > samples/table-basic-shared.txt\n",
      "\n",
      "and then play with parse-table.conf settings as you draw each table\n",
      "\n",
      "    cat samples/table-unique.txt | bin/parse-table | bin/make-conf -dir data/\n",
      "    ../../bin/circos -conf etc/circos.conf\n",
      "\n",
      "Take a look at the example images associated with this tutorial to get a\n",
      "feeling for the kind of variety that is possible.\n",
      "\n",
      "### make-conf\n",
      "\n",
      "The only option to make-conf is the directory to which it should write\n",
      "the data files.\n",
      "\n",
      "    > cat samples/table-basic.txt | bin/parse-table | bin/make-conf -dir data/\n",
      "\n",
      "Make sure that paths in the etc/circos.conf file correctly reflect the\n",
      "location to which the data files were written.\n",
      "\n",
      "\n"
     ]
    }
   ],
   "source": [
    "'''from IPython.display import Markdown, display\n",
    "def printmd(string):\n",
    "    display(Markdown(string))\n",
    "printmd(markdown)'''\n",
    "print(markdown) #use this because want to be able to edit the markdown and rendering it with `printmd` diables that"
   ]
  },
  {
   "cell_type": "markdown",
   "metadata": {
    "papermill": {
     "duration": 0.006379,
     "end_time": "2019-04-08T02:49:17.916273",
     "exception": false,
     "start_time": "2019-04-08T02:49:17.909894",
     "status": "completed"
    },
    "tags": []
   },
   "source": [
    "\n",
    "\n",
    "----"
   ]
  },
  {
   "cell_type": "markdown",
   "metadata": {
    "papermill": {
     "duration": 0.008206,
     "end_time": "2019-04-08T02:49:17.934461",
     "exception": false,
     "start_time": "2019-04-08T02:49:17.926255",
     "status": "completed"
    },
    "tags": []
   },
   "source": [
    "### Generating the plot produced by this example code\n",
    "\n",
    "The following two cells will generate the plot. The first cell adjusts the current working directory."
   ]
  },
  {
   "cell_type": "code",
   "execution_count": 4,
   "metadata": {
    "papermill": {
     "duration": 0.015311,
     "end_time": "2019-04-08T02:49:17.956680",
     "exception": false,
     "start_time": "2019-04-08T02:49:17.941369",
     "status": "completed"
    },
    "tags": []
   },
   "outputs": [
    {
     "name": "stdout",
     "output_type": "stream",
     "text": [
      "/home/jovyan/circos-tutorials-0.67/tutorials/9/5\n"
     ]
    }
   ],
   "source": [
    "%cd ../circos-tutorials-0.67/tutorials/{section}/{sub_pg}/"
   ]
  },
  {
   "cell_type": "code",
   "execution_count": 5,
   "metadata": {
    "papermill": {
     "duration": 0.638652,
     "end_time": "2019-04-08T02:49:18.602118",
     "exception": true,
     "start_time": "2019-04-08T02:49:17.963466",
     "status": "failed"
    },
    "tags": []
   },
   "outputs": [
    {
     "name": "stdout",
     "output_type": "stream",
     "text": [
      "debuggroup summary 0.20s welcome to circos v0.69-6 31 July 2017 on Perl 5.022000\n",
      "debuggroup summary 0.20s current working directory /home/jovyan/circos-tutorials-0.67/tutorials/9/5\n",
      "debuggroup summary 0.20s command ../../../../circos-0.69-6/bin/circos -conf circos.conf\n",
      "debuggroup summary 0.20s loading configuration from file circos.conf\n",
      "\n",
      "  *** CIRCOS ERROR ***\n",
      "\n",
      "      cwd: /home/jovyan/circos-tutorials-0.67/tutorials/9/5\n",
      "\n",
      "      command: ../../../../circos-0.69-6/bin/circos -conf circos.conf\n",
      "\n",
      "  CONFIGURATION FILE ERROR\n",
      "\n",
      "  Circos could not find the configuration file [circos.conf]. To run Circos, you\n",
      "  need to specify this file using the -conf flag. The configuration file\n",
      "  contains all the parameters that define the image, including input files,\n",
      "  image size, formatting, etc.\n",
      "\n",
      "  If you do not use the -conf flag, Circos will attempt to look for a file\n",
      "  circos.conf in several reasonable places such as . etc/ ../etc\n",
      "\n",
      "  To see where Circos looks for the file, use\n",
      "\n",
      "      circos -debug_flag io\n",
      "\n",
      "  To see how configuration files work, create the example image, whose\n",
      "  configuration and data are found in example/. From the Circos distribution\n",
      "  directory,\n",
      "\n",
      "      cd example\n",
      "\n",
      "      ../bin/circos -conf ./circos.conf\n",
      "\n",
      "  or use the 'run' script (UNIX only).\n",
      "\n",
      "  Configuration files are described here\n",
      "\n",
      "      http://circos.ca/tutorials/lessons/configuration/configuration_files/\n",
      "\n",
      "  and the use of command-line flags, such as -conf, is described here\n",
      "\n",
      "      http://circos.ca/tutorials/lessons/configuration/runtime_parameters/\n",
      "\n",
      "  Windows users unfamiliar with Perl should read\n",
      "\n",
      "      http://circos.ca/tutorials/lessons/configuration/unix_vs_windows/\n",
      "\n",
      "  This error can also be produced if supporting configuration files, such as\n",
      "  track defaults, cannot be read.\n",
      "\n",
      "  If you are having trouble debugging this error, first read the best practices\n",
      "  tutorial for helpful tips that address many common problems\n",
      "\n",
      "      http://www.circos.ca/documentation/tutorials/reference/best_practices\n",
      "\n",
      "  The debugging facility is helpful to figure out what's happening under the\n",
      "  hood\n",
      "\n",
      "      http://www.circos.ca/documentation/tutorials/configuration/debugging\n",
      "\n",
      "  If you're still stumped, get support in the Circos Google Group.\n",
      "\n",
      "      http://groups.google.com/group/circos-data-visualization\n",
      "\n",
      "  Please include this error, all your configuration, data files and the version\n",
      "  of Circos you're running (circos -v).Do not email me directly -- please use\n",
      "  the group.\n",
      "\n",
      "  Stack trace:\n"
     ]
    },
    {
     "name": "stderr",
     "output_type": "stream",
     "text": [
      "Use of uninitialized value in subroutine entry at /home/jovyan/circos-0.69-6/bin/../lib/Circos/Configuration.pm line 781.\n",
      " at /home/jovyan/circos-0.69-6/bin/../lib/Circos/Error.pm line 425.\n",
      "\tCircos::Error::fatal_error(\"configuration\", \"missing\", \"circos.conf\") called at /home/jovyan/circos-0.69-6/bin/../lib/Circos/Configuration.pm line 796\n",
      "\tCircos::Configuration::loadconfiguration(\"circos.conf\") called at /home/jovyan/circos-0.69-6/bin/../lib/Circos.pm line 148\n",
      "\tCircos::run(\"Circos\", \"configfile\", \"circos.conf\", \"_cwd\", \"/home/jovyan/circos-tutorials-0.67/tutorials/9/5\", \"_argv\", \"-conf circos.conf\") called at ../../../../circos-0.69-6/bin/circos line 536\n"
     ]
    },
    {
     "ename": "CalledProcessError",
     "evalue": "Command 'b'../../../../circos-0.69-6/bin/circos -conf circos.conf\\n'' returned non-zero exit status 255.",
     "output_type": "error",
     "traceback": [
      "\u001b[0;31m---------------------------------------------------------------------------\u001b[0m",
      "\u001b[0;31mCalledProcessError\u001b[0m                        Traceback (most recent call last)",
      "\u001b[0;32m<ipython-input-5-2ec00319581d>\u001b[0m in \u001b[0;36m<module>\u001b[0;34m\u001b[0m\n\u001b[0;32m----> 1\u001b[0;31m \u001b[0mget_ipython\u001b[0m\u001b[0;34m(\u001b[0m\u001b[0;34m)\u001b[0m\u001b[0;34m.\u001b[0m\u001b[0mrun_cell_magic\u001b[0m\u001b[0;34m(\u001b[0m\u001b[0;34m'bash'\u001b[0m\u001b[0;34m,\u001b[0m \u001b[0;34m''\u001b[0m\u001b[0;34m,\u001b[0m \u001b[0;34m'../../../../circos-0.69-6/bin/circos -conf circos.conf\\n'\u001b[0m\u001b[0;34m)\u001b[0m\u001b[0;34m\u001b[0m\u001b[0;34m\u001b[0m\u001b[0m\n\u001b[0m",
      "\u001b[0;32m/srv/conda/lib/python3.7/site-packages/IPython/core/interactiveshell.py\u001b[0m in \u001b[0;36mrun_cell_magic\u001b[0;34m(self, magic_name, line, cell)\u001b[0m\n\u001b[1;32m   2350\u001b[0m             \u001b[0;32mwith\u001b[0m \u001b[0mself\u001b[0m\u001b[0;34m.\u001b[0m\u001b[0mbuiltin_trap\u001b[0m\u001b[0;34m:\u001b[0m\u001b[0;34m\u001b[0m\u001b[0;34m\u001b[0m\u001b[0m\n\u001b[1;32m   2351\u001b[0m                 \u001b[0margs\u001b[0m \u001b[0;34m=\u001b[0m \u001b[0;34m(\u001b[0m\u001b[0mmagic_arg_s\u001b[0m\u001b[0;34m,\u001b[0m \u001b[0mcell\u001b[0m\u001b[0;34m)\u001b[0m\u001b[0;34m\u001b[0m\u001b[0;34m\u001b[0m\u001b[0m\n\u001b[0;32m-> 2352\u001b[0;31m                 \u001b[0mresult\u001b[0m \u001b[0;34m=\u001b[0m \u001b[0mfn\u001b[0m\u001b[0;34m(\u001b[0m\u001b[0;34m*\u001b[0m\u001b[0margs\u001b[0m\u001b[0;34m,\u001b[0m \u001b[0;34m**\u001b[0m\u001b[0mkwargs\u001b[0m\u001b[0;34m)\u001b[0m\u001b[0;34m\u001b[0m\u001b[0;34m\u001b[0m\u001b[0m\n\u001b[0m\u001b[1;32m   2353\u001b[0m             \u001b[0;32mreturn\u001b[0m \u001b[0mresult\u001b[0m\u001b[0;34m\u001b[0m\u001b[0;34m\u001b[0m\u001b[0m\n\u001b[1;32m   2354\u001b[0m \u001b[0;34m\u001b[0m\u001b[0m\n",
      "\u001b[0;32m/srv/conda/lib/python3.7/site-packages/IPython/core/magics/script.py\u001b[0m in \u001b[0;36mnamed_script_magic\u001b[0;34m(line, cell)\u001b[0m\n\u001b[1;32m    140\u001b[0m             \u001b[0;32melse\u001b[0m\u001b[0;34m:\u001b[0m\u001b[0;34m\u001b[0m\u001b[0;34m\u001b[0m\u001b[0m\n\u001b[1;32m    141\u001b[0m                 \u001b[0mline\u001b[0m \u001b[0;34m=\u001b[0m \u001b[0mscript\u001b[0m\u001b[0;34m\u001b[0m\u001b[0;34m\u001b[0m\u001b[0m\n\u001b[0;32m--> 142\u001b[0;31m             \u001b[0;32mreturn\u001b[0m \u001b[0mself\u001b[0m\u001b[0;34m.\u001b[0m\u001b[0mshebang\u001b[0m\u001b[0;34m(\u001b[0m\u001b[0mline\u001b[0m\u001b[0;34m,\u001b[0m \u001b[0mcell\u001b[0m\u001b[0;34m)\u001b[0m\u001b[0;34m\u001b[0m\u001b[0;34m\u001b[0m\u001b[0m\n\u001b[0m\u001b[1;32m    143\u001b[0m \u001b[0;34m\u001b[0m\u001b[0m\n\u001b[1;32m    144\u001b[0m         \u001b[0;31m# write a basic docstring:\u001b[0m\u001b[0;34m\u001b[0m\u001b[0;34m\u001b[0m\u001b[0;34m\u001b[0m\u001b[0m\n",
      "\u001b[0;32m</srv/conda/lib/python3.7/site-packages/decorator.py:decorator-gen-110>\u001b[0m in \u001b[0;36mshebang\u001b[0;34m(self, line, cell)\u001b[0m\n",
      "\u001b[0;32m/srv/conda/lib/python3.7/site-packages/IPython/core/magic.py\u001b[0m in \u001b[0;36m<lambda>\u001b[0;34m(f, *a, **k)\u001b[0m\n\u001b[1;32m    185\u001b[0m     \u001b[0;31m# but it's overkill for just that one bit of state.\u001b[0m\u001b[0;34m\u001b[0m\u001b[0;34m\u001b[0m\u001b[0;34m\u001b[0m\u001b[0m\n\u001b[1;32m    186\u001b[0m     \u001b[0;32mdef\u001b[0m \u001b[0mmagic_deco\u001b[0m\u001b[0;34m(\u001b[0m\u001b[0marg\u001b[0m\u001b[0;34m)\u001b[0m\u001b[0;34m:\u001b[0m\u001b[0;34m\u001b[0m\u001b[0;34m\u001b[0m\u001b[0m\n\u001b[0;32m--> 187\u001b[0;31m         \u001b[0mcall\u001b[0m \u001b[0;34m=\u001b[0m \u001b[0;32mlambda\u001b[0m \u001b[0mf\u001b[0m\u001b[0;34m,\u001b[0m \u001b[0;34m*\u001b[0m\u001b[0ma\u001b[0m\u001b[0;34m,\u001b[0m \u001b[0;34m**\u001b[0m\u001b[0mk\u001b[0m\u001b[0;34m:\u001b[0m \u001b[0mf\u001b[0m\u001b[0;34m(\u001b[0m\u001b[0;34m*\u001b[0m\u001b[0ma\u001b[0m\u001b[0;34m,\u001b[0m \u001b[0;34m**\u001b[0m\u001b[0mk\u001b[0m\u001b[0;34m)\u001b[0m\u001b[0;34m\u001b[0m\u001b[0;34m\u001b[0m\u001b[0m\n\u001b[0m\u001b[1;32m    188\u001b[0m \u001b[0;34m\u001b[0m\u001b[0m\n\u001b[1;32m    189\u001b[0m         \u001b[0;32mif\u001b[0m \u001b[0mcallable\u001b[0m\u001b[0;34m(\u001b[0m\u001b[0marg\u001b[0m\u001b[0;34m)\u001b[0m\u001b[0;34m:\u001b[0m\u001b[0;34m\u001b[0m\u001b[0;34m\u001b[0m\u001b[0m\n",
      "\u001b[0;32m/srv/conda/lib/python3.7/site-packages/IPython/core/magics/script.py\u001b[0m in \u001b[0;36mshebang\u001b[0;34m(self, line, cell)\u001b[0m\n\u001b[1;32m    243\u001b[0m             \u001b[0msys\u001b[0m\u001b[0;34m.\u001b[0m\u001b[0mstderr\u001b[0m\u001b[0;34m.\u001b[0m\u001b[0mflush\u001b[0m\u001b[0;34m(\u001b[0m\u001b[0;34m)\u001b[0m\u001b[0;34m\u001b[0m\u001b[0;34m\u001b[0m\u001b[0m\n\u001b[1;32m    244\u001b[0m         \u001b[0;32mif\u001b[0m \u001b[0margs\u001b[0m\u001b[0;34m.\u001b[0m\u001b[0mraise_error\u001b[0m \u001b[0;32mand\u001b[0m \u001b[0mp\u001b[0m\u001b[0;34m.\u001b[0m\u001b[0mreturncode\u001b[0m\u001b[0;34m!=\u001b[0m\u001b[0;36m0\u001b[0m\u001b[0;34m:\u001b[0m\u001b[0;34m\u001b[0m\u001b[0;34m\u001b[0m\u001b[0m\n\u001b[0;32m--> 245\u001b[0;31m             \u001b[0;32mraise\u001b[0m \u001b[0mCalledProcessError\u001b[0m\u001b[0;34m(\u001b[0m\u001b[0mp\u001b[0m\u001b[0;34m.\u001b[0m\u001b[0mreturncode\u001b[0m\u001b[0;34m,\u001b[0m \u001b[0mcell\u001b[0m\u001b[0;34m,\u001b[0m \u001b[0moutput\u001b[0m\u001b[0;34m=\u001b[0m\u001b[0mout\u001b[0m\u001b[0;34m,\u001b[0m \u001b[0mstderr\u001b[0m\u001b[0;34m=\u001b[0m\u001b[0merr\u001b[0m\u001b[0;34m)\u001b[0m\u001b[0;34m\u001b[0m\u001b[0;34m\u001b[0m\u001b[0m\n\u001b[0m\u001b[1;32m    246\u001b[0m \u001b[0;34m\u001b[0m\u001b[0m\n\u001b[1;32m    247\u001b[0m     \u001b[0;32mdef\u001b[0m \u001b[0m_run_script\u001b[0m\u001b[0;34m(\u001b[0m\u001b[0mself\u001b[0m\u001b[0;34m,\u001b[0m \u001b[0mp\u001b[0m\u001b[0;34m,\u001b[0m \u001b[0mcell\u001b[0m\u001b[0;34m,\u001b[0m \u001b[0mto_close\u001b[0m\u001b[0;34m)\u001b[0m\u001b[0;34m:\u001b[0m\u001b[0;34m\u001b[0m\u001b[0;34m\u001b[0m\u001b[0m\n",
      "\u001b[0;31mCalledProcessError\u001b[0m: Command 'b'../../../../circos-0.69-6/bin/circos -conf circos.conf\\n'' returned non-zero exit status 255."
     ]
    }
   ],
   "source": [
    "%%bash\n",
    "../../../../circos-0.69-6/bin/circos -conf circos.conf"
   ]
  },
  {
   "cell_type": "markdown",
   "metadata": {
    "papermill": {
     "duration": null,
     "end_time": null,
     "exception": null,
     "start_time": null,
     "status": "pending"
    },
    "tags": []
   },
   "source": [
    "View the plot in this page using the following cell."
   ]
  },
  {
   "cell_type": "code",
   "execution_count": null,
   "metadata": {
    "papermill": {
     "duration": null,
     "end_time": null,
     "exception": null,
     "start_time": null,
     "status": "pending"
    },
    "tags": []
   },
   "outputs": [],
   "source": [
    "from IPython.display import Image\n",
    "Image(\"circos.png\")"
   ]
  },
  {
   "cell_type": "markdown",
   "metadata": {
    "papermill": {
     "duration": null,
     "end_time": null,
     "exception": null,
     "start_time": null,
     "status": "pending"
    },
    "tags": []
   },
   "source": [
    "----"
   ]
  },
  {
   "cell_type": "code",
   "execution_count": null,
   "metadata": {
    "papermill": {
     "duration": null,
     "end_time": null,
     "exception": null,
     "start_time": null,
     "status": "pending"
    },
    "tags": []
   },
   "outputs": [],
   "source": [
    "next_md = (\"Continue on to the next part of the Quick Start series by clicking [here &#10145;]({})</font>.\".format(next_nb))\n",
    "if end_nb:\n",
    "    next_md = (\"End of tutorials.\")\n",
    "#printmd(next_md)\n",
    "print(next_md) #use this because want to be able to edit the markdown and rendering it with `printmd` diables that"
   ]
  },
  {
   "cell_type": "markdown",
   "metadata": {
    "papermill": {
     "duration": null,
     "end_time": null,
     "exception": null,
     "start_time": null,
     "status": "pending"
    },
    "tags": []
   },
   "source": [
    "----"
   ]
  }
 ],
 "metadata": {
  "celltoolbar": "Tags",
  "kernelspec": {
   "display_name": "Python 3",
   "language": "python",
   "name": "python3"
  },
  "language_info": {
   "codemirror_mode": {
    "name": "ipython",
    "version": 3
   },
   "file_extension": ".py",
   "mimetype": "text/x-python",
   "name": "python",
   "nbconvert_exporter": "python",
   "pygments_lexer": "ipython3",
   "version": "3.7.2"
  },
  "papermill": {
   "duration": 3.400644,
   "end_time": "2019-04-08T02:49:19.354104",
   "environment_variables": {},
   "exception": true,
   "input_path": "Papermill Template for Circos later tutorial notebooks.ipynb",
   "output_path": "HelperTools_Part5.ipynb",
   "parameters": {
    "end_nb": false,
    "markdown": "\n# Part 5 of Helper Tools: Visualizing Tabular Data\n\nThis page is primarily based on the following page at the Circos documentation site:\n\n\n\n- [5. Visualizing Tabular Data](????????????)\n\n\n\nThat page is found as part number 4 of the ??? part ['Helper Tools' section](http://circos.ca/documentation/tutorials/quick_start/) of [the larger set of Circos tutorials](http://circos.ca/documentation/tutorials/).\n\n\n\nGo back to Part 4 by clicking [here &#8592;](HelperTools_Part4.ipynb).\n\n\n\n----\n\n\n\n9 --- Helper Tools\n==================\n\n5. Visualizing Tabular Data\n---------------------------\n\n::: {#menu4}\n[[Lesson](/documentation/tutorials/utilities/visualizing_tables/lesson){.clean}]{.active}\n[Images](/documentation/tutorials/utilities/visualizing_tables/images){.normal}\n:::\n\nmotivation\n----------\n\nFor details about the methodology behind the use of Circos to visualize\ntabular data, see the article [Visualizing Tabular\nData](/presentations/articles/vis_tables1).\n\nFor an in-depth description of the configuration syntax for tableviewer\nscript set, see [Visualizing Tabular Data - Part\nII](/presentations/articles/vis_tables2).\n\nscript location\n---------------\n\n    tools/tableviewer\n\nscript usage\n------------\n\n    > cd tools/tableviewer\n    # create an image of a basic sample table\n    > ./makeimage-basic\n    # create an image of a sample table with row/col order information\n    > ./makeimage-ordered\n    # create an image of a sample table with row/col order an color information\n    > ./makeimage-ordered-colored\n\nThe tableviewer is composed of three parts\n\n-   make-table - creates a random table (helpful for debugging and\n    exploration)\n-   parse-table - parses a table into an intermediate state\n-   make-conf - uses output of parse-table and creates Circos data files\n    and configuration files\n\nTo get the full manpage, use -man.\n\n    > cd tools/tableviewer\n    > bin/make-table -man\n    > bin/parse-table -man\n    > bin/make-conf -man\n\nAdjust the configuration files in etc/ to suit your needs.\n\ndetails\n-------\n\nThe scripts in tableviewer/ (make-table, parse-table, make-conf)\ngenerate a Circos image of tabular data. For more information about how\ntabular data is represented, see the [online\ntableviewer](http://mkweb.bcgsc.ca/tableviewer). The online version\nlimits you to 15 columns and rows and with the scripts described here\nyou can process tables of any size.\n\nThere are three scripts that compose the tableviewer package\n\n-   make-table - Create a table filled with random values. Useful when\n    you need to debug or explore visualization for tables with specific\n    properties. You don\\'t need this script if you only want to\n    exclusively work with your own data.\n-   parse-table - Parses a table file (your own or generated with\n    make-table) and generates a parsed data stream that is used by\n    make-conf\n-   make-conf - Uses output of parse-table to create data files and\n    configuration files used by Circos to visualize the table\n\n### make-table\n\nThis script is helpful to generate random data to test-drive the rest of\nthe tableviewer package. For example, you can generate a small table\n\n    > bin/make-table -row 3 -brief\n     lbl    A    B    C\n       A   80  387  112\n       B    1   30   61\n       C   96  146   29\n\nor a large one\n\n    > bin/make-table -row 15 -brief\n     lbl    A    B    C    D    E    F    G    H    I    J    K    L    M    N    O\n       A  376   78  367   75   72  184  452  285  310  142  469  215  107  106   95\n       B   38   33   36   55   53   68   77   35   59   20   52   36   19   23   19\n       C  108   79  121   47  120   95   65   30   89  125   78   99   39  166   82\n       D   90   78   77   63  153   35   97  133  213  129  137  159   40   65  100\n       E   99   52  129  139  129   27   95  129   36   90   32   73   82  110  131\n       F  145  162  104  121   84   67  125   98  146   11  156   62  153   72  167\n       G   67  123   53   39    6  108   36   77  118   96   92   97  119  142  142\n       H   55   74   92   33   77   43  109   39  166  182   92    1  115   91   85\n       I  135  168  101   78   21   85   76   94  105   18  144  174  135  120  168\n       J   98   94   32   76   44    9   45  133  132   42   64   29   57   92  141\n       K   74   71  117   98  118   88  104   80  168  127   33   46    5  110   68\n       L   65  179   54   73   93  110  123   81  156  109   58   72  131   59   76\n       M   93   73   60  226   59   55  140  124  210  136   59   79   80  106  204\n       N  143  150   92   67   94  239   48  125  214  119   84   76  121   72   92\n       O  134  122   83  223  101   74  161  155  151  159  183  154   15   48  145\n\nYou can use -row and -col to independently set the number of rows and\ncolumns in the table.\n\nBy using -unique, you can request that row and column labels are all\ndifferent.\n\n    > bin/make-table -row 3 -brief -uniq\n     lbl    D    E    F\n       A  288   40  245\n       B   52   52   33\n       C  139   76   85\n\nUniquely labeled rows and columns generate an image in which each row\nand column has its own segment, since segments are keyed by label. If\nyour table represents relationships between a set of items, then\nrow/column labels will be the same. However, if your table represents\nrelationshpis between two disjoint sets, then the labels will be\ndifferent.\n\nNotice that make-table creates output with a leading space in each line.\nThe configuration file for make-table defines the precise format of the\noutput line and here you can adjust the width of each field. When\nparsing this output using parse-table (see below), you should always set\nstrip\\_leading\\_space=yes (this is the default) in parse-table.conf so\nthat any leading space in lines is removed.\n\n### parse-table\n\nThis script parses the table file and generates row, column, and cell\nstatistics and data values that are subsequently used to create\nconfiguration and input files using make-conf.\n\nThis part of the tableviewer suite is the most complex and has the\nlargest number of configuration settings, since this is the script that\ndetermines the position and color of all the elements in the final\nimage.\n\nPlease read the etc/parse-table.conf configuration file for an\nexplanation of what the parameters do. It\\'s likely that you will find\nthe configuration file overwhelming at first - do not dispair! By\nlearning how the elements of the configuration file affect the final\nimage, you will be able to tweak the output image to best represent your\ndata. You can control nearly every aspect of how the table is shown.\nParameters such as col/row order can be either manually set (via order\nrows and columns in the input file) or automatically determined (based\non label value or row/column size).\n\nTo help you experiment, you should construct two simple tables using the\nmake-table tool - one with unique labels and one with shared column/row\nlabels\n\n    > bin/make-table -rows 5 -seed 123 -brief -uniq  > samples/table-basic-unique.txt\n    > bin/make-table -rows 5 -seed 123 -brief        > samples/table-basic-shared.txt\n\nand then play with parse-table.conf settings as you draw each table\n\n    cat samples/table-unique.txt | bin/parse-table | bin/make-conf -dir data/\n    ../../bin/circos -conf etc/circos.conf\n\nTake a look at the example images associated with this tutorial to get a\nfeeling for the kind of variety that is possible.\n\n### make-conf\n\nThe only option to make-conf is the directory to which it should write\nthe data files.\n\n    > cat samples/table-basic.txt | bin/parse-table | bin/make-conf -dir data/\n\nMake sure that paths in the etc/circos.conf file correctly reflect the\nlocation to which the data files were written.\n\n",
    "next_nb": "HelperTools_Part6.ipynb",
    "section": 9,
    "sub_pg": 5
   },
   "start_time": "2019-04-08T02:49:15.953460",
   "version": "0.19.0"
  }
 },
 "nbformat": 4,
 "nbformat_minor": 2
}