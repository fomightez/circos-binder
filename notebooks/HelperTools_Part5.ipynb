{
 "cells": [
  {
   "cell_type": "markdown",
   "metadata": {},
   "source": [
    "# Part 5 of Helper Tools: Visualizing Tabular Data\n",
    "\n",
    "This page is primarily based on the following page at the Circos documentation site:\n",
    "\n",
    "\n",
    "\n",
    "- [5. Visualizing Tabular Data](????????????)\n",
    "\n",
    "\n",
    "\n",
    "That page is found as part number 4 of the ??? part ['Helper Tools' section](http://circos.ca/documentation/tutorials/quick_start/) of [the larger set of Circos tutorials](http://circos.ca/documentation/tutorials/).\n",
    "\n",
    "\n",
    "\n",
    "Go back to Part 4 by clicking [here &#8592;](HelperTools_Part4.ipynb).\n",
    "\n",
    "\n",
    "\n",
    "----\n",
    "\n",
    "\n",
    "\n",
    "9 --- Helper Tools\n",
    "==================\n",
    "\n",
    "5. Visualizing Tabular Data\n",
    "---------------------------\n",
    "\n",
    "::: {#menu4}\n",
    "[[Lesson](/documentation/tutorials/utilities/visualizing_tables/lesson){.clean}]{.active}\n",
    "[Images](/documentation/tutorials/utilities/visualizing_tables/images){.normal}\n",
    ":::\n",
    "\n",
    "motivation\n",
    "----------\n",
    "\n",
    "For details about the methodology behind the use of Circos to visualize\n",
    "tabular data, see the article [Visualizing Tabular\n",
    "Data](/presentations/articles/vis_tables1).\n",
    "\n",
    "For an in-depth description of the configuration syntax for tableviewer\n",
    "script set, see [Visualizing Tabular Data - Part\n",
    "II](/presentations/articles/vis_tables2).\n",
    "\n",
    "script location\n",
    "---------------"
   ]
  },
  {
   "cell_type": "markdown",
   "metadata": {},
   "source": [
    "```ini\n",
    "tools/tableviewer\n",
    "```\n"
   ]
  },
  {
   "cell_type": "markdown",
   "metadata": {},
   "source": [
    "script usage\n",
    "------------"
   ]
  },
  {
   "cell_type": "markdown",
   "metadata": {},
   "source": [
    "```ini\n",
    "> cd tools/tableviewer\n",
    "# create an image of a basic sample table\n",
    "> ./makeimage-basic\n",
    "# create an image of a sample table with row/col order information\n",
    "> ./makeimage-ordered\n",
    "# create an image of a sample table with row/col order an color information\n",
    "> ./makeimage-ordered-colored\n",
    "```\n"
   ]
  },
  {
   "cell_type": "markdown",
   "metadata": {},
   "source": [
    "The tableviewer is composed of three parts\n",
    "\n",
    "-   make-table - creates a random table (helpful for debugging and"
   ]
  },
  {
   "cell_type": "markdown",
   "metadata": {},
   "source": [
    "```ini\n",
    "exploration)\n",
    "```\n"
   ]
  },
  {
   "cell_type": "markdown",
   "metadata": {},
   "source": [
    "-   parse-table - parses a table into an intermediate state\n",
    "-   make-conf - uses output of parse-table and creates Circos data files"
   ]
  },
  {
   "cell_type": "markdown",
   "metadata": {},
   "source": [
    "```ini\n",
    "and configuration files\n",
    "```\n"
   ]
  },
  {
   "cell_type": "markdown",
   "metadata": {},
   "source": [
    "To get the full manpage, use -man."
   ]
  },
  {
   "cell_type": "markdown",
   "metadata": {},
   "source": [
    "```ini\n",
    "> cd tools/tableviewer\n",
    "> bin/make-table -man\n",
    "> bin/parse-table -man\n",
    "> bin/make-conf -man\n",
    "```\n"
   ]
  },
  {
   "cell_type": "markdown",
   "metadata": {},
   "source": [
    "Adjust the configuration files in etc/ to suit your needs.\n",
    "\n",
    "details\n",
    "-------\n",
    "\n",
    "The scripts in tableviewer/ (make-table, parse-table, make-conf)\n",
    "generate a Circos image of tabular data. For more information about how\n",
    "tabular data is represented, see the [online\n",
    "tableviewer](http://mkweb.bcgsc.ca/tableviewer). The online version\n",
    "limits you to 15 columns and rows and with the scripts described here\n",
    "you can process tables of any size.\n",
    "\n",
    "There are three scripts that compose the tableviewer package\n",
    "\n",
    "-   make-table - Create a table filled with random values. Useful when"
   ]
  },
  {
   "cell_type": "markdown",
   "metadata": {},
   "source": [
    "```ini\n",
    "you need to debug or explore visualization for tables with specific\n",
    "properties. You don\\'t need this script if you only want to\n",
    "exclusively work with your own data.\n",
    "```\n"
   ]
  },
  {
   "cell_type": "markdown",
   "metadata": {},
   "source": [
    "-   parse-table - Parses a table file (your own or generated with"
   ]
  },
  {
   "cell_type": "markdown",
   "metadata": {},
   "source": [
    "```ini\n",
    "make-table) and generates a parsed data stream that is used by\n",
    "make-conf\n",
    "```\n"
   ]
  },
  {
   "cell_type": "markdown",
   "metadata": {},
   "source": [
    "-   make-conf - Uses output of parse-table to create data files and"
   ]
  },
  {
   "cell_type": "markdown",
   "metadata": {},
   "source": [
    "```ini\n",
    "configuration files used by Circos to visualize the table\n",
    "```\n"
   ]
  },
  {
   "cell_type": "markdown",
   "metadata": {},
   "source": [
    "### make-table\n",
    "\n",
    "This script is helpful to generate random data to test-drive the rest of\n",
    "the tableviewer package. For example, you can generate a small table"
   ]
  },
  {
   "cell_type": "markdown",
   "metadata": {},
   "source": [
    "```ini\n",
    "> bin/make-table -row 3 -brief\n",
    "lbl    A    B    C\n",
    "A   80  387  112\n",
    "B    1   30   61\n",
    "C   96  146   29\n",
    "```\n"
   ]
  },
  {
   "cell_type": "markdown",
   "metadata": {},
   "source": [
    "or a large one"
   ]
  },
  {
   "cell_type": "markdown",
   "metadata": {},
   "source": [
    "```ini\n",
    "> bin/make-table -row 15 -brief\n",
    "lbl    A    B    C    D    E    F    G    H    I    J    K    L    M    N    O\n",
    "A  376   78  367   75   72  184  452  285  310  142  469  215  107  106   95\n",
    "B   38   33   36   55   53   68   77   35   59   20   52   36   19   23   19\n",
    "C  108   79  121   47  120   95   65   30   89  125   78   99   39  166   82\n",
    "D   90   78   77   63  153   35   97  133  213  129  137  159   40   65  100\n",
    "E   99   52  129  139  129   27   95  129   36   90   32   73   82  110  131\n",
    "F  145  162  104  121   84   67  125   98  146   11  156   62  153   72  167\n",
    "G   67  123   53   39    6  108   36   77  118   96   92   97  119  142  142\n",
    "H   55   74   92   33   77   43  109   39  166  182   92    1  115   91   85\n",
    "I  135  168  101   78   21   85   76   94  105   18  144  174  135  120  168\n",
    "J   98   94   32   76   44    9   45  133  132   42   64   29   57   92  141\n",
    "K   74   71  117   98  118   88  104   80  168  127   33   46    5  110   68\n",
    "L   65  179   54   73   93  110  123   81  156  109   58   72  131   59   76\n",
    "M   93   73   60  226   59   55  140  124  210  136   59   79   80  106  204\n",
    "N  143  150   92   67   94  239   48  125  214  119   84   76  121   72   92\n",
    "O  134  122   83  223  101   74  161  155  151  159  183  154   15   48  145\n",
    "```\n"
   ]
  },
  {
   "cell_type": "markdown",
   "metadata": {},
   "source": [
    "You can use -row and -col to independently set the number of rows and\n",
    "columns in the table.\n",
    "\n",
    "By using -unique, you can request that row and column labels are all\n",
    "different."
   ]
  },
  {
   "cell_type": "markdown",
   "metadata": {},
   "source": [
    "```ini\n",
    "> bin/make-table -row 3 -brief -uniq\n",
    "lbl    D    E    F\n",
    "A  288   40  245\n",
    "B   52   52   33\n",
    "C  139   76   85\n",
    "```\n"
   ]
  },
  {
   "cell_type": "markdown",
   "metadata": {},
   "source": [
    "Uniquely labeled rows and columns generate an image in which each row\n",
    "and column has its own segment, since segments are keyed by label. If\n",
    "your table represents relationships between a set of items, then\n",
    "row/column labels will be the same. However, if your table represents\n",
    "relationshpis between two disjoint sets, then the labels will be\n",
    "different.\n",
    "\n",
    "Notice that make-table creates output with a leading space in each line.\n",
    "The configuration file for make-table defines the precise format of the\n",
    "output line and here you can adjust the width of each field. When\n",
    "parsing this output using parse-table (see below), you should always set\n",
    "strip\\_leading\\_space=yes (this is the default) in parse-table.conf so\n",
    "that any leading space in lines is removed.\n",
    "\n",
    "### parse-table\n",
    "\n",
    "This script parses the table file and generates row, column, and cell\n",
    "statistics and data values that are subsequently used to create\n",
    "configuration and input files using make-conf.\n",
    "\n",
    "This part of the tableviewer suite is the most complex and has the\n",
    "largest number of configuration settings, since this is the script that\n",
    "determines the position and color of all the elements in the final\n",
    "image.\n",
    "\n",
    "Please read the etc/parse-table.conf configuration file for an\n",
    "explanation of what the parameters do. It\\'s likely that you will find\n",
    "the configuration file overwhelming at first - do not dispair! By\n",
    "learning how the elements of the configuration file affect the final\n",
    "image, you will be able to tweak the output image to best represent your\n",
    "data. You can control nearly every aspect of how the table is shown.\n",
    "Parameters such as col/row order can be either manually set (via order\n",
    "rows and columns in the input file) or automatically determined (based\n",
    "on label value or row/column size).\n",
    "\n",
    "To help you experiment, you should construct two simple tables using the\n",
    "make-table tool - one with unique labels and one with shared column/row\n",
    "labels"
   ]
  },
  {
   "cell_type": "markdown",
   "metadata": {},
   "source": [
    "```ini\n",
    "> bin/make-table -rows 5 -seed 123 -brief -uniq  > samples/table-basic-unique.txt\n",
    "> bin/make-table -rows 5 -seed 123 -brief        > samples/table-basic-shared.txt\n",
    "```\n"
   ]
  },
  {
   "cell_type": "markdown",
   "metadata": {},
   "source": [
    "and then play with parse-table.conf settings as you draw each table"
   ]
  },
  {
   "cell_type": "markdown",
   "metadata": {},
   "source": [
    "```ini\n",
    "cat samples/table-unique.txt | bin/parse-table | bin/make-conf -dir data/\n",
    "../../bin/circos -conf etc/circos.conf\n",
    "```\n"
   ]
  },
  {
   "cell_type": "markdown",
   "metadata": {},
   "source": [
    "Take a look at the example images associated with this tutorial to get a\n",
    "feeling for the kind of variety that is possible.\n",
    "\n",
    "### make-conf\n",
    "\n",
    "The only option to make-conf is the directory to which it should write\n",
    "the data files."
   ]
  },
  {
   "cell_type": "markdown",
   "metadata": {},
   "source": [
    "```ini\n",
    "> cat samples/table-basic.txt | bin/parse-table | bin/make-conf -dir data/\n",
    "```\n"
   ]
  },
  {
   "cell_type": "markdown",
   "metadata": {},
   "source": [
    "Make sure that paths in the etc/circos.conf file correctly reflect the\n",
    "location to which the data files were written.\n",
    "\n",
    "\n",
    "\n",
    "\n",
    "----\n",
    "\n",
    "### Generating the plot produced by this example code\n",
    "\n",
    "\n",
    "The following two cells will generate the plot. The first cell adjusts the current working directory."
   ]
  },
  {
   "cell_type": "code",
   "execution_count": null,
   "metadata": {},
   "outputs": [],
   "source": [
    "%cd ../circos-tutorials-0.67/tutorials/9/5/"
   ]
  },
  {
   "cell_type": "code",
   "execution_count": null,
   "metadata": {},
   "outputs": [],
   "source": [
    "%%bash\n",
    "../../../../circos-0.69-6/bin/circos -conf circos.conf"
   ]
  },
  {
   "cell_type": "markdown",
   "metadata": {},
   "source": [
    "View the plot in this page using the following cell."
   ]
  },
  {
   "cell_type": "code",
   "execution_count": null,
   "metadata": {},
   "outputs": [],
   "source": [
    "from IPython.display import Image\n",
    "Image(\"circos.png\")"
   ]
  },
  {
   "cell_type": "markdown",
   "metadata": {},
   "source": [
    "----\n",
    "\n",
    "Continue on to the next part of the Helper Tools series by clicking [here &#10145;](HelperTools_Part6.ipynb).\n",
    "\n",
    "----"
   ]
  }
 ],
 "metadata": {},
 "nbformat": 4,
 "nbformat_minor": 2
}
