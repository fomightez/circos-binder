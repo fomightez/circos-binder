{
 "cells": [
  {
   "cell_type": "code",
   "execution_count": null,
   "metadata": {
    "hide_input": true,
    "inputHidden": true
   },
   "outputs": [
    {
     "data": {
      "text/html": [
       "<span style=\"color:red; font-family:Helvetica Neue, Helvetica, Arial, sans-serif; font-size:2em;\">An Exception was encountered at 'In [5]'.</span>"
      ]
     },
     "metadata": {},
     "output_type": "display_data"
    }
   ],
   "source": [
    "%%html\n",
    "<span style=\"color:red; font-family:Helvetica Neue, Helvetica, Arial, sans-serif; font-size:2em;\">An Exception was encountered at 'In [5]'.</span>"
   ]
  },
  {
   "cell_type": "code",
   "execution_count": 1,
   "metadata": {
    "papermill": {
     "duration": 0.029541,
     "end_time": "2019-04-09T17:57:49.921743",
     "exception": false,
     "start_time": "2019-04-09T17:57:49.892202",
     "status": "completed"
    },
    "tags": [
     "parameters"
    ]
   },
   "outputs": [],
   "source": [
    "#This cell is tagged parameters for running this template using Papermill to inject values to overwrite these.\n",
    "markdown = \"\"\n",
    "section = 99\n",
    "sub_pg = 99\n",
    "end_nb = False\n",
    "next_nb = \"\"\n"
   ]
  },
  {
   "cell_type": "code",
   "execution_count": 2,
   "metadata": {
    "papermill": {
     "duration": 0.036073,
     "end_time": "2019-04-09T17:57:49.968035",
     "exception": false,
     "start_time": "2019-04-09T17:57:49.931962",
     "status": "completed"
    },
    "tags": [
     "injected-parameters"
    ]
   },
   "outputs": [],
   "source": [
    "# Parameters\n",
    "markdown = \"\\n# Part 1 of Helper Tools: Generating Random Link Data\\n\\nThis page is primarily based on the following page at the Circos documentation site:\\n\\n\\n\\n- [1. Generating Random Link Data](????????????)\\n\\n\\n\\nThat page is the first part of the ??? part ['Helper Tools' section](http://circos.ca/documentation/tutorials/quick_start/) of [the larger set of Circos tutorials](http://circos.ca/documentation/tutorials/).\\n\\n\\n\\nGo back to the end of the previous section by clicking [here &#8592;](Recipes_Part23.ipynb).\\n\\n\\n\\n----\\n\\n\\n\\n9 --- Helper Tools\\n==================\\n\\n1. Generating Random Link Data\\n------------------------------\\n\\n::: {#menu4}\\n[[Lesson](/documentation/tutorials/utilities/random_links/lesson){.clean}]{.active}\\n[Images](/documentation/tutorials/utilities/random_links/images){.normal}\\n:::\\n\\nscript location\\n---------------\\n\\n```ini\\ntools/randomlinks\\n```\\n\\nscript usage\\n------------\\n\\n```ini\\n> cd tools/randomlinks\\n> ./run\\nDone. Now look in data/links.txt.\\n```\\n\\nTo get the full manpage, use -man.\\n\\n```ini\\n> cd tools/randomlinks\\n> bin/randomlinks -man\\n```\\n\\nAdjust the configuration file etc/randomlinks.conf to suit your needs.\\n\\ndetails\\n-------\\n\\nThe purpose of this script is largely for debugging. If you don\\\\'t have\\nany link data, you can generate some random link relationships between\\nchrososomes sampled from a karyotype file.\\n\\nBias can be introduced into the placement of the random links through\\nrules that associate the number of links (average and standard deviation\\n- link copy number is sampled from a normal distribution) with a pair of\\nregular expressions that define chromosome pairs.\\n\\nFor example, the following ruleset\\n\\n```ini\\nrule = . . 2 0\\nrule = chr12 chr14 10 2\\nrule = chr15 chr20 r5\\n```\\n\\ndefines three rules. Rules are evaluated in increasing order of\\nspecificity. The first rule affects all chromosomes and sets the\\nbaseline number of links between any chromosome pair to 2 (avg=2,sd=0).\\nThe next rule defines the number of links between chr12 and chr14 to be\\navg=10 sd=2. The last rule sets the number of links between chr15 and\\nchr20 to be 5x the number defined by previous rules.\\n\\nThe configuration file (etc/randomlinks.conf) defines several rules that\\ncan get you started.\\n\\n![](/circos/images/circos-random.png)\\n\\nThese random links are a great input to other link-related tools like\\nbundlelinks and orderchr.\\n\\nrandomlinks manpage\\n-------------------\\n\\n[NAME](#name)\\n\\n[SYNOPSIS](#synopsis)\\n\\n[DESCRIPTION](#description)\\n\\n-   [Link Multiplicity Rules](#link_multiplicity_rules)\\n\\n[HISTORY](#history)\\n\\n[BUGS](#bugs)\\n\\n[AUTHOR](#author)\\n\\n[CONTACT](#contact)\\n\\n------------------------------------------------------------------------\\n\\n------------------------------------------------------------------------\\n\\n[NAME]{#name}\\n=============\\n\\nrandomlinks - generate a data file with random links between chromosomes\\n\\n------------------------------------------------------------------------\\n\\n[SYNOPSIS]{#synopsis}\\n=====================\\n\\n```ini\\nrandomlinks -karyotype KARYOTYPE_FILE \\n{-chr_rx REGEX } -size AVG[,SD] [-nointra] [-nointer]\\n```\\n\\n------------------------------------------------------------------------\\n\\n[DESCRIPTION]{#description}\\n===========================\\n\\nGenerate a Circos link file containing random links between chromosomes.\\nChromosomes are sampled from the karyotype file KARYOTYPE\\\\_FILE and\\noptionally further filtered using the regular expression REGEX.\\n\\nThe number of links between any two chromosome pairs is determined by\\nrules (see below). The size of the ends of each link is determined by\\nthe average and standard deviation values provided by -size. Links with\\nthick ends are best drawn as ribbons.\\n\\nIntrachromosomal links can be avoided using -nointra. Similiarly,\\ninterchromosomal links can be avoided using -nointer. The -nointer\\noption is much less useful.\\n\\n[Link Multiplicity Rules]{#link_multiplicity_rules}\\n---------------------------------------------------\\n\\nGiven a filtered set of chromosomes (first sampled from the\\nKARYOTYPE\\\\_FILE and then passed through the regular expression REGEX),\\nthe number of links joining any pair of chromosomes is determined by a\\nset of rules.\\n\\nEach rule contains two regular expressions, one for each of the\\nchromosomes in the pair, and these determine which pairs of chromosomes\\nthe rule will apply to.\\n\\nFor example, if the regular expressions are \\\\'.\\\\' and \\\\'.\\\\' then all\\nchromosome pairs are matched. However, if the regular expressions are\\n\\\\'.\\\\' and \\\\'chr10\\\\' then only pairs of chromosomes for which one\\ncontains chr10 are affected.\\n\\nIn addition to the regular expression selection filter, each rule\\ncontains either (a) avg/sd parameters used to generate a normally\\ndistributed random number which is used as the number of links between\\nthe selected chromosomes, or (b) a multiplier which is used to multiply\\nthe number of links as determined by a previous rule.\\n\\nOptionally, rules may contain a sampling parameter which determines how\\nfrequently the rule is applied.\\n\\nRules are applied in increasing order of specificity. Thus, rules that\\naffect the largest number of chromosome pairs are applied first,\\nfollowed by rules that affect fewer pairs.\\n\\nFor more details about the syntax of rules, see etc/randomlinks.conf.\\n\\n------------------------------------------------------------------------\\n\\n[HISTORY]{#history}\\n===================\\n\\n-   **[10 Feb 2009 v0.3]{#item_10_feb_2009_v0_2e3}**\\\\\\n-   **[7 Jul 2008 v0.2]{#item_7_jul_2008_v0_2e2}**\\\\\\n-   **[2 Jul 2008 v0.1]{#item_2_jul_2008_v0_2e1}**\\\\\\n\\n------------------------------------------------------------------------\\n\\n[BUGS]{#bugs}\\n=============\\n\\n------------------------------------------------------------------------\\n\\n[AUTHOR]{#author}\\n=================\\n\\nMartin Krzywinski\\n\\n------------------------------------------------------------------------\\n\\n[CONTACT]{#contact}\\n===================\\n\\n```ini\\nMartin Krzywinski\\nGenome Sciences Centre\\nVancouver BC Canada\\nwww.bcgsc.ca\\nmartink@bcgsc.ca\\n```\\n\\n\"\n",
    "section = 9\n",
    "sub_pg = 1\n",
    "end_nb = False\n",
    "next_nb = \"HelperTools_Part2.ipynb\"\n"
   ]
  },
  {
   "cell_type": "code",
   "execution_count": 3,
   "metadata": {
    "papermill": {
     "duration": 0.014848,
     "end_time": "2019-04-09T17:57:49.991328",
     "exception": false,
     "start_time": "2019-04-09T17:57:49.976480",
     "status": "completed"
    },
    "tags": []
   },
   "outputs": [
    {
     "name": "stdout",
     "output_type": "stream",
     "text": [
      "\n",
      "# Part 1 of Helper Tools: Generating Random Link Data\n",
      "\n",
      "This page is primarily based on the following page at the Circos documentation site:\n",
      "\n",
      "\n",
      "\n",
      "- [1. Generating Random Link Data](????????????)\n",
      "\n",
      "\n",
      "\n",
      "That page is the first part of the ??? part ['Helper Tools' section](http://circos.ca/documentation/tutorials/quick_start/) of [the larger set of Circos tutorials](http://circos.ca/documentation/tutorials/).\n",
      "\n",
      "\n",
      "\n",
      "Go back to the end of the previous section by clicking [here &#8592;](Recipes_Part23.ipynb).\n",
      "\n",
      "\n",
      "\n",
      "----\n",
      "\n",
      "\n",
      "\n",
      "9 --- Helper Tools\n",
      "==================\n",
      "\n",
      "1. Generating Random Link Data\n",
      "------------------------------\n",
      "\n",
      "::: {#menu4}\n",
      "[[Lesson](/documentation/tutorials/utilities/random_links/lesson){.clean}]{.active}\n",
      "[Images](/documentation/tutorials/utilities/random_links/images){.normal}\n",
      ":::\n",
      "\n",
      "script location\n",
      "---------------\n",
      "\n",
      "```ini\n",
      "tools/randomlinks\n",
      "```\n",
      "\n",
      "script usage\n",
      "------------\n",
      "\n",
      "```ini\n",
      "> cd tools/randomlinks\n",
      "> ./run\n",
      "Done. Now look in data/links.txt.\n",
      "```\n",
      "\n",
      "To get the full manpage, use -man.\n",
      "\n",
      "```ini\n",
      "> cd tools/randomlinks\n",
      "> bin/randomlinks -man\n",
      "```\n",
      "\n",
      "Adjust the configuration file etc/randomlinks.conf to suit your needs.\n",
      "\n",
      "details\n",
      "-------\n",
      "\n",
      "The purpose of this script is largely for debugging. If you don\\'t have\n",
      "any link data, you can generate some random link relationships between\n",
      "chrososomes sampled from a karyotype file.\n",
      "\n",
      "Bias can be introduced into the placement of the random links through\n",
      "rules that associate the number of links (average and standard deviation\n",
      "- link copy number is sampled from a normal distribution) with a pair of\n",
      "regular expressions that define chromosome pairs.\n",
      "\n",
      "For example, the following ruleset\n",
      "\n",
      "```ini\n",
      "rule = . . 2 0\n",
      "rule = chr12 chr14 10 2\n",
      "rule = chr15 chr20 r5\n",
      "```\n",
      "\n",
      "defines three rules. Rules are evaluated in increasing order of\n",
      "specificity. The first rule affects all chromosomes and sets the\n",
      "baseline number of links between any chromosome pair to 2 (avg=2,sd=0).\n",
      "The next rule defines the number of links between chr12 and chr14 to be\n",
      "avg=10 sd=2. The last rule sets the number of links between chr15 and\n",
      "chr20 to be 5x the number defined by previous rules.\n",
      "\n",
      "The configuration file (etc/randomlinks.conf) defines several rules that\n",
      "can get you started.\n",
      "\n",
      "![](/circos/images/circos-random.png)\n",
      "\n",
      "These random links are a great input to other link-related tools like\n",
      "bundlelinks and orderchr.\n",
      "\n",
      "randomlinks manpage\n",
      "-------------------\n",
      "\n",
      "[NAME](#name)\n",
      "\n",
      "[SYNOPSIS](#synopsis)\n",
      "\n",
      "[DESCRIPTION](#description)\n",
      "\n",
      "-   [Link Multiplicity Rules](#link_multiplicity_rules)\n",
      "\n",
      "[HISTORY](#history)\n",
      "\n",
      "[BUGS](#bugs)\n",
      "\n",
      "[AUTHOR](#author)\n",
      "\n",
      "[CONTACT](#contact)\n",
      "\n",
      "------------------------------------------------------------------------\n",
      "\n",
      "------------------------------------------------------------------------\n",
      "\n",
      "[NAME]{#name}\n",
      "=============\n",
      "\n",
      "randomlinks - generate a data file with random links between chromosomes\n",
      "\n",
      "------------------------------------------------------------------------\n",
      "\n",
      "[SYNOPSIS]{#synopsis}\n",
      "=====================\n",
      "\n",
      "```ini\n",
      "randomlinks -karyotype KARYOTYPE_FILE \n",
      "{-chr_rx REGEX } -size AVG[,SD] [-nointra] [-nointer]\n",
      "```\n",
      "\n",
      "------------------------------------------------------------------------\n",
      "\n",
      "[DESCRIPTION]{#description}\n",
      "===========================\n",
      "\n",
      "Generate a Circos link file containing random links between chromosomes.\n",
      "Chromosomes are sampled from the karyotype file KARYOTYPE\\_FILE and\n",
      "optionally further filtered using the regular expression REGEX.\n",
      "\n",
      "The number of links between any two chromosome pairs is determined by\n",
      "rules (see below). The size of the ends of each link is determined by\n",
      "the average and standard deviation values provided by -size. Links with\n",
      "thick ends are best drawn as ribbons.\n",
      "\n",
      "Intrachromosomal links can be avoided using -nointra. Similiarly,\n",
      "interchromosomal links can be avoided using -nointer. The -nointer\n",
      "option is much less useful.\n",
      "\n",
      "[Link Multiplicity Rules]{#link_multiplicity_rules}\n",
      "---------------------------------------------------\n",
      "\n",
      "Given a filtered set of chromosomes (first sampled from the\n",
      "KARYOTYPE\\_FILE and then passed through the regular expression REGEX),\n",
      "the number of links joining any pair of chromosomes is determined by a\n",
      "set of rules.\n",
      "\n",
      "Each rule contains two regular expressions, one for each of the\n",
      "chromosomes in the pair, and these determine which pairs of chromosomes\n",
      "the rule will apply to.\n",
      "\n",
      "For example, if the regular expressions are \\'.\\' and \\'.\\' then all\n",
      "chromosome pairs are matched. However, if the regular expressions are\n",
      "\\'.\\' and \\'chr10\\' then only pairs of chromosomes for which one\n",
      "contains chr10 are affected.\n",
      "\n",
      "In addition to the regular expression selection filter, each rule\n",
      "contains either (a) avg/sd parameters used to generate a normally\n",
      "distributed random number which is used as the number of links between\n",
      "the selected chromosomes, or (b) a multiplier which is used to multiply\n",
      "the number of links as determined by a previous rule.\n",
      "\n",
      "Optionally, rules may contain a sampling parameter which determines how\n",
      "frequently the rule is applied.\n",
      "\n",
      "Rules are applied in increasing order of specificity. Thus, rules that\n",
      "affect the largest number of chromosome pairs are applied first,\n",
      "followed by rules that affect fewer pairs.\n",
      "\n",
      "For more details about the syntax of rules, see etc/randomlinks.conf.\n",
      "\n",
      "------------------------------------------------------------------------\n",
      "\n",
      "[HISTORY]{#history}\n",
      "===================\n",
      "\n",
      "-   **[10 Feb 2009 v0.3]{#item_10_feb_2009_v0_2e3}**\\\n",
      "-   **[7 Jul 2008 v0.2]{#item_7_jul_2008_v0_2e2}**\\\n",
      "-   **[2 Jul 2008 v0.1]{#item_2_jul_2008_v0_2e1}**\\\n",
      "\n",
      "------------------------------------------------------------------------\n",
      "\n",
      "[BUGS]{#bugs}\n",
      "=============\n",
      "\n",
      "------------------------------------------------------------------------\n",
      "\n",
      "[AUTHOR]{#author}\n",
      "=================\n",
      "\n",
      "Martin Krzywinski\n",
      "\n",
      "------------------------------------------------------------------------\n",
      "\n",
      "[CONTACT]{#contact}\n",
      "===================\n",
      "\n",
      "```ini\n",
      "Martin Krzywinski\n",
      "Genome Sciences Centre\n",
      "Vancouver BC Canada\n",
      "www.bcgsc.ca\n",
      "martink@bcgsc.ca\n",
      "```\n",
      "\n",
      "\n"
     ]
    }
   ],
   "source": [
    "'''from IPython.display import Markdown, display\n",
    "def printmd(string):\n",
    "    display(Markdown(string))\n",
    "printmd(markdown)'''\n",
    "print(markdown) #use this because want to be able to edit the markdown and rendering it with `printmd` diables that"
   ]
  },
  {
   "cell_type": "markdown",
   "metadata": {
    "papermill": {
     "duration": 0.006695,
     "end_time": "2019-04-09T17:57:50.028240",
     "exception": false,
     "start_time": "2019-04-09T17:57:50.021545",
     "status": "completed"
    },
    "tags": []
   },
   "source": [
    "\n",
    "\n",
    "----"
   ]
  },
  {
   "cell_type": "markdown",
   "metadata": {
    "papermill": {
     "duration": 0.00683,
     "end_time": "2019-04-09T17:57:50.049377",
     "exception": false,
     "start_time": "2019-04-09T17:57:50.042547",
     "status": "completed"
    },
    "tags": []
   },
   "source": [
    "### Generating the plot produced by this example code\n",
    "\n",
    "The following two cells will generate the plot. The first cell adjusts the current working directory."
   ]
  },
  {
   "cell_type": "code",
   "execution_count": 4,
   "metadata": {
    "papermill": {
     "duration": 0.019052,
     "end_time": "2019-04-09T17:57:50.075472",
     "exception": false,
     "start_time": "2019-04-09T17:57:50.056420",
     "status": "completed"
    },
    "tags": []
   },
   "outputs": [
    {
     "name": "stdout",
     "output_type": "stream",
     "text": [
      "/home/jovyan/circos-tutorials-0.67/tutorials/9/1\n"
     ]
    }
   ],
   "source": [
    "%cd ../circos-tutorials-0.67/tutorials/{section}/{sub_pg}/"
   ]
  },
  {
   "cell_type": "code",
   "execution_count": 5,
   "metadata": {
    "papermill": {
     "duration": 1.454628,
     "end_time": "2019-04-09T17:57:51.537385",
     "exception": true,
     "start_time": "2019-04-09T17:57:50.082757",
     "status": "failed"
    },
    "tags": []
   },
   "outputs": [
    {
     "name": "stdout",
     "output_type": "stream",
     "text": [
      "debuggroup summary 0.41s welcome to circos v0.69-6 31 July 2017 on Perl 5.022000\n",
      "debuggroup summary 0.42s current working directory /home/jovyan/circos-tutorials-0.67/tutorials/9/1\n",
      "debuggroup summary 0.42s command ../../../../circos-0.69-6/bin/circos -conf circos.conf\n",
      "debuggroup summary 0.42s loading configuration from file circos.conf\n",
      "\n",
      "  *** CIRCOS ERROR ***\n",
      "\n",
      "      cwd: /home/jovyan/circos-tutorials-0.67/tutorials/9/1\n",
      "\n",
      "      command: ../../../../circos-0.69-6/bin/circos -conf circos.conf\n",
      "\n",
      "  CONFIGURATION FILE ERROR\n",
      "\n",
      "  Circos could not find the configuration file [circos.conf]. To run Circos, you\n",
      "  need to specify this file using the -conf flag. The configuration file\n",
      "  contains all the parameters that define the image, including input files,\n",
      "  image size, formatting, etc.\n",
      "\n",
      "  If you do not use the -conf flag, Circos will attempt to look for a file\n",
      "  circos.conf in several reasonable places such as . etc/ ../etc\n",
      "\n",
      "  To see where Circos looks for the file, use\n",
      "\n",
      "      circos -debug_flag io\n",
      "\n",
      "  To see how configuration files work, create the example image, whose\n",
      "  configuration and data are found in example/. From the Circos distribution\n",
      "  directory,\n",
      "\n",
      "      cd example\n",
      "\n",
      "      ../bin/circos -conf ./circos.conf\n",
      "\n",
      "  or use the 'run' script (UNIX only).\n",
      "\n",
      "  Configuration files are described here\n",
      "\n",
      "      http://circos.ca/tutorials/lessons/configuration/configuration_files/\n",
      "\n",
      "  and the use of command-line flags, such as -conf, is described here\n",
      "\n",
      "      http://circos.ca/tutorials/lessons/configuration/runtime_parameters/\n",
      "\n",
      "  Windows users unfamiliar with Perl should read\n",
      "\n",
      "      http://circos.ca/tutorials/lessons/configuration/unix_vs_windows/\n",
      "\n",
      "  This error can also be produced if supporting configuration files, such as\n",
      "  track defaults, cannot be read.\n",
      "\n",
      "  If you are having trouble debugging this error, first read the best practices\n",
      "  tutorial for helpful tips that address many common problems\n",
      "\n",
      "      http://www.circos.ca/documentation/tutorials/reference/best_practices\n",
      "\n",
      "  The debugging facility is helpful to figure out what's happening under the\n",
      "  hood\n",
      "\n",
      "      http://www.circos.ca/documentation/tutorials/configuration/debugging\n",
      "\n",
      "  If you're still stumped, get support in the Circos Google Group.\n",
      "\n",
      "      http://groups.google.com/group/circos-data-visualization\n",
      "\n",
      "  Please include this error, all your configuration, data files and the version\n",
      "  of Circos you're running (circos -v).Do not email me directly -- please use\n",
      "  the group.\n",
      "\n",
      "  Stack trace:\n"
     ]
    },
    {
     "name": "stderr",
     "output_type": "stream",
     "text": [
      "Use of uninitialized value in subroutine entry at /home/jovyan/circos-0.69-6/bin/../lib/Circos/Configuration.pm line 781.\n",
      " at /home/jovyan/circos-0.69-6/bin/../lib/Circos/Error.pm line 425.\n",
      "\tCircos::Error::fatal_error(\"configuration\", \"missing\", \"circos.conf\") called at /home/jovyan/circos-0.69-6/bin/../lib/Circos/Configuration.pm line 796\n",
      "\tCircos::Configuration::loadconfiguration(\"circos.conf\") called at /home/jovyan/circos-0.69-6/bin/../lib/Circos.pm line 148\n",
      "\tCircos::run(\"Circos\", \"_cwd\", \"/home/jovyan/circos-tutorials-0.67/tutorials/9/1\", \"configfile\", \"circos.conf\", \"_argv\", \"-conf circos.conf\") called at ../../../../circos-0.69-6/bin/circos line 536\n"
     ]
    },
    {
     "ename": "CalledProcessError",
     "evalue": "Command 'b'../../../../circos-0.69-6/bin/circos -conf circos.conf\\n'' returned non-zero exit status 255.",
     "output_type": "error",
     "traceback": [
      "\u001b[0;31m---------------------------------------------------------------------------\u001b[0m",
      "\u001b[0;31mCalledProcessError\u001b[0m                        Traceback (most recent call last)",
      "\u001b[0;32m<ipython-input-5-2ec00319581d>\u001b[0m in \u001b[0;36m<module>\u001b[0;34m\u001b[0m\n\u001b[0;32m----> 1\u001b[0;31m \u001b[0mget_ipython\u001b[0m\u001b[0;34m(\u001b[0m\u001b[0;34m)\u001b[0m\u001b[0;34m.\u001b[0m\u001b[0mrun_cell_magic\u001b[0m\u001b[0;34m(\u001b[0m\u001b[0;34m'bash'\u001b[0m\u001b[0;34m,\u001b[0m \u001b[0;34m''\u001b[0m\u001b[0;34m,\u001b[0m \u001b[0;34m'../../../../circos-0.69-6/bin/circos -conf circos.conf\\n'\u001b[0m\u001b[0;34m)\u001b[0m\u001b[0;34m\u001b[0m\u001b[0;34m\u001b[0m\u001b[0m\n\u001b[0m",
      "\u001b[0;32m/srv/conda/lib/python3.7/site-packages/IPython/core/interactiveshell.py\u001b[0m in \u001b[0;36mrun_cell_magic\u001b[0;34m(self, magic_name, line, cell)\u001b[0m\n\u001b[1;32m   2350\u001b[0m             \u001b[0;32mwith\u001b[0m \u001b[0mself\u001b[0m\u001b[0;34m.\u001b[0m\u001b[0mbuiltin_trap\u001b[0m\u001b[0;34m:\u001b[0m\u001b[0;34m\u001b[0m\u001b[0;34m\u001b[0m\u001b[0m\n\u001b[1;32m   2351\u001b[0m                 \u001b[0margs\u001b[0m \u001b[0;34m=\u001b[0m \u001b[0;34m(\u001b[0m\u001b[0mmagic_arg_s\u001b[0m\u001b[0;34m,\u001b[0m \u001b[0mcell\u001b[0m\u001b[0;34m)\u001b[0m\u001b[0;34m\u001b[0m\u001b[0;34m\u001b[0m\u001b[0m\n\u001b[0;32m-> 2352\u001b[0;31m                 \u001b[0mresult\u001b[0m \u001b[0;34m=\u001b[0m \u001b[0mfn\u001b[0m\u001b[0;34m(\u001b[0m\u001b[0;34m*\u001b[0m\u001b[0margs\u001b[0m\u001b[0;34m,\u001b[0m \u001b[0;34m**\u001b[0m\u001b[0mkwargs\u001b[0m\u001b[0;34m)\u001b[0m\u001b[0;34m\u001b[0m\u001b[0;34m\u001b[0m\u001b[0m\n\u001b[0m\u001b[1;32m   2353\u001b[0m             \u001b[0;32mreturn\u001b[0m \u001b[0mresult\u001b[0m\u001b[0;34m\u001b[0m\u001b[0;34m\u001b[0m\u001b[0m\n\u001b[1;32m   2354\u001b[0m \u001b[0;34m\u001b[0m\u001b[0m\n",
      "\u001b[0;32m/srv/conda/lib/python3.7/site-packages/IPython/core/magics/script.py\u001b[0m in \u001b[0;36mnamed_script_magic\u001b[0;34m(line, cell)\u001b[0m\n\u001b[1;32m    140\u001b[0m             \u001b[0;32melse\u001b[0m\u001b[0;34m:\u001b[0m\u001b[0;34m\u001b[0m\u001b[0;34m\u001b[0m\u001b[0m\n\u001b[1;32m    141\u001b[0m                 \u001b[0mline\u001b[0m \u001b[0;34m=\u001b[0m \u001b[0mscript\u001b[0m\u001b[0;34m\u001b[0m\u001b[0;34m\u001b[0m\u001b[0m\n\u001b[0;32m--> 142\u001b[0;31m             \u001b[0;32mreturn\u001b[0m \u001b[0mself\u001b[0m\u001b[0;34m.\u001b[0m\u001b[0mshebang\u001b[0m\u001b[0;34m(\u001b[0m\u001b[0mline\u001b[0m\u001b[0;34m,\u001b[0m \u001b[0mcell\u001b[0m\u001b[0;34m)\u001b[0m\u001b[0;34m\u001b[0m\u001b[0;34m\u001b[0m\u001b[0m\n\u001b[0m\u001b[1;32m    143\u001b[0m \u001b[0;34m\u001b[0m\u001b[0m\n\u001b[1;32m    144\u001b[0m         \u001b[0;31m# write a basic docstring:\u001b[0m\u001b[0;34m\u001b[0m\u001b[0;34m\u001b[0m\u001b[0;34m\u001b[0m\u001b[0m\n",
      "\u001b[0;32m</srv/conda/lib/python3.7/site-packages/decorator.py:decorator-gen-110>\u001b[0m in \u001b[0;36mshebang\u001b[0;34m(self, line, cell)\u001b[0m\n",
      "\u001b[0;32m/srv/conda/lib/python3.7/site-packages/IPython/core/magic.py\u001b[0m in \u001b[0;36m<lambda>\u001b[0;34m(f, *a, **k)\u001b[0m\n\u001b[1;32m    185\u001b[0m     \u001b[0;31m# but it's overkill for just that one bit of state.\u001b[0m\u001b[0;34m\u001b[0m\u001b[0;34m\u001b[0m\u001b[0;34m\u001b[0m\u001b[0m\n\u001b[1;32m    186\u001b[0m     \u001b[0;32mdef\u001b[0m \u001b[0mmagic_deco\u001b[0m\u001b[0;34m(\u001b[0m\u001b[0marg\u001b[0m\u001b[0;34m)\u001b[0m\u001b[0;34m:\u001b[0m\u001b[0;34m\u001b[0m\u001b[0;34m\u001b[0m\u001b[0m\n\u001b[0;32m--> 187\u001b[0;31m         \u001b[0mcall\u001b[0m \u001b[0;34m=\u001b[0m \u001b[0;32mlambda\u001b[0m \u001b[0mf\u001b[0m\u001b[0;34m,\u001b[0m \u001b[0;34m*\u001b[0m\u001b[0ma\u001b[0m\u001b[0;34m,\u001b[0m \u001b[0;34m**\u001b[0m\u001b[0mk\u001b[0m\u001b[0;34m:\u001b[0m \u001b[0mf\u001b[0m\u001b[0;34m(\u001b[0m\u001b[0;34m*\u001b[0m\u001b[0ma\u001b[0m\u001b[0;34m,\u001b[0m \u001b[0;34m**\u001b[0m\u001b[0mk\u001b[0m\u001b[0;34m)\u001b[0m\u001b[0;34m\u001b[0m\u001b[0;34m\u001b[0m\u001b[0m\n\u001b[0m\u001b[1;32m    188\u001b[0m \u001b[0;34m\u001b[0m\u001b[0m\n\u001b[1;32m    189\u001b[0m         \u001b[0;32mif\u001b[0m \u001b[0mcallable\u001b[0m\u001b[0;34m(\u001b[0m\u001b[0marg\u001b[0m\u001b[0;34m)\u001b[0m\u001b[0;34m:\u001b[0m\u001b[0;34m\u001b[0m\u001b[0;34m\u001b[0m\u001b[0m\n",
      "\u001b[0;32m/srv/conda/lib/python3.7/site-packages/IPython/core/magics/script.py\u001b[0m in \u001b[0;36mshebang\u001b[0;34m(self, line, cell)\u001b[0m\n\u001b[1;32m    243\u001b[0m             \u001b[0msys\u001b[0m\u001b[0;34m.\u001b[0m\u001b[0mstderr\u001b[0m\u001b[0;34m.\u001b[0m\u001b[0mflush\u001b[0m\u001b[0;34m(\u001b[0m\u001b[0;34m)\u001b[0m\u001b[0;34m\u001b[0m\u001b[0;34m\u001b[0m\u001b[0m\n\u001b[1;32m    244\u001b[0m         \u001b[0;32mif\u001b[0m \u001b[0margs\u001b[0m\u001b[0;34m.\u001b[0m\u001b[0mraise_error\u001b[0m \u001b[0;32mand\u001b[0m \u001b[0mp\u001b[0m\u001b[0;34m.\u001b[0m\u001b[0mreturncode\u001b[0m\u001b[0;34m!=\u001b[0m\u001b[0;36m0\u001b[0m\u001b[0;34m:\u001b[0m\u001b[0;34m\u001b[0m\u001b[0;34m\u001b[0m\u001b[0m\n\u001b[0;32m--> 245\u001b[0;31m             \u001b[0;32mraise\u001b[0m \u001b[0mCalledProcessError\u001b[0m\u001b[0;34m(\u001b[0m\u001b[0mp\u001b[0m\u001b[0;34m.\u001b[0m\u001b[0mreturncode\u001b[0m\u001b[0;34m,\u001b[0m \u001b[0mcell\u001b[0m\u001b[0;34m,\u001b[0m \u001b[0moutput\u001b[0m\u001b[0;34m=\u001b[0m\u001b[0mout\u001b[0m\u001b[0;34m,\u001b[0m \u001b[0mstderr\u001b[0m\u001b[0;34m=\u001b[0m\u001b[0merr\u001b[0m\u001b[0;34m)\u001b[0m\u001b[0;34m\u001b[0m\u001b[0;34m\u001b[0m\u001b[0m\n\u001b[0m\u001b[1;32m    246\u001b[0m \u001b[0;34m\u001b[0m\u001b[0m\n\u001b[1;32m    247\u001b[0m     \u001b[0;32mdef\u001b[0m \u001b[0m_run_script\u001b[0m\u001b[0;34m(\u001b[0m\u001b[0mself\u001b[0m\u001b[0;34m,\u001b[0m \u001b[0mp\u001b[0m\u001b[0;34m,\u001b[0m \u001b[0mcell\u001b[0m\u001b[0;34m,\u001b[0m \u001b[0mto_close\u001b[0m\u001b[0;34m)\u001b[0m\u001b[0;34m:\u001b[0m\u001b[0;34m\u001b[0m\u001b[0;34m\u001b[0m\u001b[0m\n",
      "\u001b[0;31mCalledProcessError\u001b[0m: Command 'b'../../../../circos-0.69-6/bin/circos -conf circos.conf\\n'' returned non-zero exit status 255."
     ]
    }
   ],
   "source": [
    "%%bash\n",
    "../../../../circos-0.69-6/bin/circos -conf circos.conf"
   ]
  },
  {
   "cell_type": "markdown",
   "metadata": {
    "papermill": {
     "duration": null,
     "end_time": null,
     "exception": null,
     "start_time": null,
     "status": "pending"
    },
    "tags": []
   },
   "source": [
    "View the plot in this page using the following cell."
   ]
  },
  {
   "cell_type": "code",
   "execution_count": null,
   "metadata": {
    "papermill": {
     "duration": null,
     "end_time": null,
     "exception": null,
     "start_time": null,
     "status": "pending"
    },
    "tags": []
   },
   "outputs": [],
   "source": [
    "from IPython.display import Image\n",
    "Image(\"circos.png\")"
   ]
  },
  {
   "cell_type": "markdown",
   "metadata": {
    "papermill": {
     "duration": null,
     "end_time": null,
     "exception": null,
     "start_time": null,
     "status": "pending"
    },
    "tags": []
   },
   "source": [
    "----"
   ]
  },
  {
   "cell_type": "code",
   "execution_count": null,
   "metadata": {
    "papermill": {
     "duration": null,
     "end_time": null,
     "exception": null,
     "start_time": null,
     "status": "pending"
    },
    "tags": []
   },
   "outputs": [],
   "source": [
    "next_md = (\"Continue on to the next part of the Quick Start series by clicking [here &#10145;]({})</font>.\".format(next_nb))\n",
    "if end_nb:\n",
    "    next_md = (\"End of tutorials.\")\n",
    "#printmd(next_md)\n",
    "print(next_md) #use this because want to be able to edit the markdown and rendering it with `printmd` diables that"
   ]
  },
  {
   "cell_type": "markdown",
   "metadata": {
    "papermill": {
     "duration": null,
     "end_time": null,
     "exception": null,
     "start_time": null,
     "status": "pending"
    },
    "tags": []
   },
   "source": [
    "----"
   ]
  }
 ],
 "metadata": {
  "celltoolbar": "Tags",
  "kernelspec": {
   "display_name": "Python 3",
   "language": "python",
   "name": "python3"
  },
  "language_info": {
   "codemirror_mode": {
    "name": "ipython",
    "version": 3
   },
   "file_extension": ".py",
   "mimetype": "text/x-python",
   "name": "python",
   "nbconvert_exporter": "python",
   "pygments_lexer": "ipython3",
   "version": "3.7.2"
  },
  "papermill": {
   "duration": 5.766938,
   "end_time": "2019-04-09T17:57:53.210498",
   "environment_variables": {},
   "exception": true,
   "input_path": "Papermill Template for Circos later tutorial notebooks.ipynb",
   "output_path": "HelperTools_Part1.ipynb",
   "parameters": {
    "end_nb": false,
    "markdown": "\n# Part 1 of Helper Tools: Generating Random Link Data\n\nThis page is primarily based on the following page at the Circos documentation site:\n\n\n\n- [1. Generating Random Link Data](????????????)\n\n\n\nThat page is the first part of the ??? part ['Helper Tools' section](http://circos.ca/documentation/tutorials/quick_start/) of [the larger set of Circos tutorials](http://circos.ca/documentation/tutorials/).\n\n\n\nGo back to the end of the previous section by clicking [here &#8592;](Recipes_Part23.ipynb).\n\n\n\n----\n\n\n\n9 --- Helper Tools\n==================\n\n1. Generating Random Link Data\n------------------------------\n\n::: {#menu4}\n[[Lesson](/documentation/tutorials/utilities/random_links/lesson){.clean}]{.active}\n[Images](/documentation/tutorials/utilities/random_links/images){.normal}\n:::\n\nscript location\n---------------\n\n```ini\ntools/randomlinks\n```\n\nscript usage\n------------\n\n```ini\n> cd tools/randomlinks\n> ./run\nDone. Now look in data/links.txt.\n```\n\nTo get the full manpage, use -man.\n\n```ini\n> cd tools/randomlinks\n> bin/randomlinks -man\n```\n\nAdjust the configuration file etc/randomlinks.conf to suit your needs.\n\ndetails\n-------\n\nThe purpose of this script is largely for debugging. If you don\\'t have\nany link data, you can generate some random link relationships between\nchrososomes sampled from a karyotype file.\n\nBias can be introduced into the placement of the random links through\nrules that associate the number of links (average and standard deviation\n- link copy number is sampled from a normal distribution) with a pair of\nregular expressions that define chromosome pairs.\n\nFor example, the following ruleset\n\n```ini\nrule = . . 2 0\nrule = chr12 chr14 10 2\nrule = chr15 chr20 r5\n```\n\ndefines three rules. Rules are evaluated in increasing order of\nspecificity. The first rule affects all chromosomes and sets the\nbaseline number of links between any chromosome pair to 2 (avg=2,sd=0).\nThe next rule defines the number of links between chr12 and chr14 to be\navg=10 sd=2. The last rule sets the number of links between chr15 and\nchr20 to be 5x the number defined by previous rules.\n\nThe configuration file (etc/randomlinks.conf) defines several rules that\ncan get you started.\n\n![](/circos/images/circos-random.png)\n\nThese random links are a great input to other link-related tools like\nbundlelinks and orderchr.\n\nrandomlinks manpage\n-------------------\n\n[NAME](#name)\n\n[SYNOPSIS](#synopsis)\n\n[DESCRIPTION](#description)\n\n-   [Link Multiplicity Rules](#link_multiplicity_rules)\n\n[HISTORY](#history)\n\n[BUGS](#bugs)\n\n[AUTHOR](#author)\n\n[CONTACT](#contact)\n\n------------------------------------------------------------------------\n\n------------------------------------------------------------------------\n\n[NAME]{#name}\n=============\n\nrandomlinks - generate a data file with random links between chromosomes\n\n------------------------------------------------------------------------\n\n[SYNOPSIS]{#synopsis}\n=====================\n\n```ini\nrandomlinks -karyotype KARYOTYPE_FILE \n{-chr_rx REGEX } -size AVG[,SD] [-nointra] [-nointer]\n```\n\n------------------------------------------------------------------------\n\n[DESCRIPTION]{#description}\n===========================\n\nGenerate a Circos link file containing random links between chromosomes.\nChromosomes are sampled from the karyotype file KARYOTYPE\\_FILE and\noptionally further filtered using the regular expression REGEX.\n\nThe number of links between any two chromosome pairs is determined by\nrules (see below). The size of the ends of each link is determined by\nthe average and standard deviation values provided by -size. Links with\nthick ends are best drawn as ribbons.\n\nIntrachromosomal links can be avoided using -nointra. Similiarly,\ninterchromosomal links can be avoided using -nointer. The -nointer\noption is much less useful.\n\n[Link Multiplicity Rules]{#link_multiplicity_rules}\n---------------------------------------------------\n\nGiven a filtered set of chromosomes (first sampled from the\nKARYOTYPE\\_FILE and then passed through the regular expression REGEX),\nthe number of links joining any pair of chromosomes is determined by a\nset of rules.\n\nEach rule contains two regular expressions, one for each of the\nchromosomes in the pair, and these determine which pairs of chromosomes\nthe rule will apply to.\n\nFor example, if the regular expressions are \\'.\\' and \\'.\\' then all\nchromosome pairs are matched. However, if the regular expressions are\n\\'.\\' and \\'chr10\\' then only pairs of chromosomes for which one\ncontains chr10 are affected.\n\nIn addition to the regular expression selection filter, each rule\ncontains either (a) avg/sd parameters used to generate a normally\ndistributed random number which is used as the number of links between\nthe selected chromosomes, or (b) a multiplier which is used to multiply\nthe number of links as determined by a previous rule.\n\nOptionally, rules may contain a sampling parameter which determines how\nfrequently the rule is applied.\n\nRules are applied in increasing order of specificity. Thus, rules that\naffect the largest number of chromosome pairs are applied first,\nfollowed by rules that affect fewer pairs.\n\nFor more details about the syntax of rules, see etc/randomlinks.conf.\n\n------------------------------------------------------------------------\n\n[HISTORY]{#history}\n===================\n\n-   **[10 Feb 2009 v0.3]{#item_10_feb_2009_v0_2e3}**\\\n-   **[7 Jul 2008 v0.2]{#item_7_jul_2008_v0_2e2}**\\\n-   **[2 Jul 2008 v0.1]{#item_2_jul_2008_v0_2e1}**\\\n\n------------------------------------------------------------------------\n\n[BUGS]{#bugs}\n=============\n\n------------------------------------------------------------------------\n\n[AUTHOR]{#author}\n=================\n\nMartin Krzywinski\n\n------------------------------------------------------------------------\n\n[CONTACT]{#contact}\n===================\n\n```ini\nMartin Krzywinski\nGenome Sciences Centre\nVancouver BC Canada\nwww.bcgsc.ca\nmartink@bcgsc.ca\n```\n\n",
    "next_nb": "HelperTools_Part2.ipynb",
    "section": 9,
    "sub_pg": 1
   },
   "start_time": "2019-04-09T17:57:47.443560",
   "version": "0.19.1"
  }
 },
 "nbformat": 4,
 "nbformat_minor": 2
}