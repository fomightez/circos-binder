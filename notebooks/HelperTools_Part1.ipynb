{
 "cells": [
  {
   "cell_type": "markdown",
   "metadata": {},
   "source": [
    "# Part 1 of Helper Tools: Generating Random Link Data\n",
    "\n",
    "This page is primarily based on the following page at the Circos documentation site:\n",
    "\n",
    "\n",
    "\n",
    "- [1. Generating Random Link Data](????????????)\n",
    "\n",
    "\n",
    "\n",
    "That page is the first part of the ??? part ['Helper Tools' section](http://circos.ca/documentation/tutorials/quick_start/) of [the larger set of Circos tutorials](http://circos.ca/documentation/tutorials/).\n",
    "\n",
    "\n",
    "\n",
    "Go back to the end of the previous section by clicking [here &#8592;](Recipes_Part23.ipynb).\n",
    "\n",
    "\n",
    "\n",
    "----\n",
    "\n",
    "\n",
    "\n",
    "9 --- Helper Tools\n",
    "==================\n",
    "\n",
    "1. Generating Random Link Data\n",
    "------------------------------\n",
    "\n",
    "::: {#menu4}\n",
    "[[Lesson](/documentation/tutorials/utilities/random_links/lesson){.clean}]{.active}\n",
    "[Images](/documentation/tutorials/utilities/random_links/images){.normal}\n",
    ":::\n",
    "\n",
    "script location\n",
    "---------------"
   ]
  },
  {
   "cell_type": "markdown",
   "metadata": {},
   "source": [
    "```ini\n",
    "tools/randomlinks\n",
    "```\n"
   ]
  },
  {
   "cell_type": "markdown",
   "metadata": {},
   "source": [
    "script usage\n",
    "------------"
   ]
  },
  {
   "cell_type": "markdown",
   "metadata": {},
   "source": [
    "```ini\n",
    "> cd tools/randomlinks\n",
    "> ./run\n",
    "Done. Now look in data/links.txt.\n",
    "```\n"
   ]
  },
  {
   "cell_type": "markdown",
   "metadata": {},
   "source": [
    "To get the full manpage, use -man."
   ]
  },
  {
   "cell_type": "markdown",
   "metadata": {},
   "source": [
    "```ini\n",
    "> cd tools/randomlinks\n",
    "> bin/randomlinks -man\n",
    "```\n"
   ]
  },
  {
   "cell_type": "markdown",
   "metadata": {},
   "source": [
    "Adjust the configuration file etc/randomlinks.conf to suit your needs.\n",
    "\n",
    "details\n",
    "-------\n",
    "\n",
    "The purpose of this script is largely for debugging. If you don\\'t have\n",
    "any link data, you can generate some random link relationships between\n",
    "chrososomes sampled from a karyotype file.\n",
    "\n",
    "Bias can be introduced into the placement of the random links through\n",
    "rules that associate the number of links (average and standard deviation\n",
    "- link copy number is sampled from a normal distribution) with a pair of\n",
    "regular expressions that define chromosome pairs.\n",
    "\n",
    "For example, the following ruleset"
   ]
  },
  {
   "cell_type": "markdown",
   "metadata": {},
   "source": [
    "```ini\n",
    "rule = . . 2 0\n",
    "rule = chr12 chr14 10 2\n",
    "rule = chr15 chr20 r5\n",
    "```\n"
   ]
  },
  {
   "cell_type": "markdown",
   "metadata": {},
   "source": [
    "defines three rules. Rules are evaluated in increasing order of\n",
    "specificity. The first rule affects all chromosomes and sets the\n",
    "baseline number of links between any chromosome pair to 2 (avg=2,sd=0).\n",
    "The next rule defines the number of links between chr12 and chr14 to be\n",
    "avg=10 sd=2. The last rule sets the number of links between chr15 and\n",
    "chr20 to be 5x the number defined by previous rules.\n",
    "\n",
    "The configuration file (etc/randomlinks.conf) defines several rules that\n",
    "can get you started.\n",
    "\n",
    "![](/circos/images/circos-random.png)\n",
    "\n",
    "These random links are a great input to other link-related tools like\n",
    "bundlelinks and orderchr.\n",
    "\n",
    "randomlinks manpage\n",
    "-------------------\n",
    "\n",
    "[NAME](#name)\n",
    "\n",
    "[SYNOPSIS](#synopsis)\n",
    "\n",
    "[DESCRIPTION](#description)\n",
    "\n",
    "-   [Link Multiplicity Rules](#link_multiplicity_rules)\n",
    "\n",
    "[HISTORY](#history)\n",
    "\n",
    "[BUGS](#bugs)\n",
    "\n",
    "[AUTHOR](#author)\n",
    "\n",
    "[CONTACT](#contact)\n",
    "\n",
    "------------------------------------------------------------------------\n",
    "\n",
    "------------------------------------------------------------------------\n",
    "\n",
    "[NAME]{#name}\n",
    "=============\n",
    "\n",
    "randomlinks - generate a data file with random links between chromosomes\n",
    "\n",
    "------------------------------------------------------------------------\n",
    "\n",
    "[SYNOPSIS]{#synopsis}\n",
    "====================="
   ]
  },
  {
   "cell_type": "markdown",
   "metadata": {},
   "source": [
    "```ini\n",
    "randomlinks -karyotype KARYOTYPE_FILE \n",
    "{-chr_rx REGEX } -size AVG[,SD] [-nointra] [-nointer]\n",
    "```\n"
   ]
  },
  {
   "cell_type": "markdown",
   "metadata": {},
   "source": [
    "------------------------------------------------------------------------\n",
    "\n",
    "[DESCRIPTION]{#description}\n",
    "===========================\n",
    "\n",
    "Generate a Circos link file containing random links between chromosomes.\n",
    "Chromosomes are sampled from the karyotype file KARYOTYPE\\_FILE and\n",
    "optionally further filtered using the regular expression REGEX.\n",
    "\n",
    "The number of links between any two chromosome pairs is determined by\n",
    "rules (see below). The size of the ends of each link is determined by\n",
    "the average and standard deviation values provided by -size. Links with\n",
    "thick ends are best drawn as ribbons.\n",
    "\n",
    "Intrachromosomal links can be avoided using -nointra. Similiarly,\n",
    "interchromosomal links can be avoided using -nointer. The -nointer\n",
    "option is much less useful.\n",
    "\n",
    "[Link Multiplicity Rules]{#link_multiplicity_rules}\n",
    "---------------------------------------------------\n",
    "\n",
    "Given a filtered set of chromosomes (first sampled from the\n",
    "KARYOTYPE\\_FILE and then passed through the regular expression REGEX),\n",
    "the number of links joining any pair of chromosomes is determined by a\n",
    "set of rules.\n",
    "\n",
    "Each rule contains two regular expressions, one for each of the\n",
    "chromosomes in the pair, and these determine which pairs of chromosomes\n",
    "the rule will apply to.\n",
    "\n",
    "For example, if the regular expressions are \\'.\\' and \\'.\\' then all\n",
    "chromosome pairs are matched. However, if the regular expressions are\n",
    "\\'.\\' and \\'chr10\\' then only pairs of chromosomes for which one\n",
    "contains chr10 are affected.\n",
    "\n",
    "In addition to the regular expression selection filter, each rule\n",
    "contains either (a) avg/sd parameters used to generate a normally\n",
    "distributed random number which is used as the number of links between\n",
    "the selected chromosomes, or (b) a multiplier which is used to multiply\n",
    "the number of links as determined by a previous rule.\n",
    "\n",
    "Optionally, rules may contain a sampling parameter which determines how\n",
    "frequently the rule is applied.\n",
    "\n",
    "Rules are applied in increasing order of specificity. Thus, rules that\n",
    "affect the largest number of chromosome pairs are applied first,\n",
    "followed by rules that affect fewer pairs.\n",
    "\n",
    "For more details about the syntax of rules, see etc/randomlinks.conf.\n",
    "\n",
    "------------------------------------------------------------------------\n",
    "\n",
    "[HISTORY]{#history}\n",
    "===================\n",
    "\n",
    "-   **[10 Feb 2009 v0.3]{#item_10_feb_2009_v0_2e3}**\\\n",
    "-   **[7 Jul 2008 v0.2]{#item_7_jul_2008_v0_2e2}**\\\n",
    "-   **[2 Jul 2008 v0.1]{#item_2_jul_2008_v0_2e1}**\\\n",
    "\n",
    "------------------------------------------------------------------------\n",
    "\n",
    "[BUGS]{#bugs}\n",
    "=============\n",
    "\n",
    "------------------------------------------------------------------------\n",
    "\n",
    "[AUTHOR]{#author}\n",
    "=================\n",
    "\n",
    "Martin Krzywinski\n",
    "\n",
    "------------------------------------------------------------------------\n",
    "\n",
    "[CONTACT]{#contact}\n",
    "==================="
   ]
  },
  {
   "cell_type": "markdown",
   "metadata": {},
   "source": [
    "```ini\n",
    "Martin Krzywinski\n",
    "Genome Sciences Centre\n",
    "Vancouver BC Canada\n",
    "www.bcgsc.ca\n",
    "martink@bcgsc.ca\n",
    "```\n"
   ]
  },
  {
   "cell_type": "markdown",
   "metadata": {},
   "source": [
    "----\n",
    "\n",
    "### Generating the plot produced by this example code\n",
    "\n",
    "\n",
    "The following two cells will generate the plot. The first cell adjusts the current working directory."
   ]
  },
  {
   "cell_type": "code",
   "execution_count": null,
   "metadata": {},
   "outputs": [],
   "source": [
    "%cd ../circos-tutorials-0.67/tutorials/9/1/"
   ]
  },
  {
   "cell_type": "code",
   "execution_count": null,
   "metadata": {},
   "outputs": [],
   "source": [
    "%%bash\n",
    "../../../../circos-0.69-6/bin/circos -conf circos.conf"
   ]
  },
  {
   "cell_type": "markdown",
   "metadata": {},
   "source": [
    "View the plot in this page using the following cell."
   ]
  },
  {
   "cell_type": "code",
   "execution_count": null,
   "metadata": {},
   "outputs": [],
   "source": [
    "from IPython.display import Image\n",
    "Image(\"circos.png\")"
   ]
  },
  {
   "cell_type": "markdown",
   "metadata": {},
   "source": [
    "----\n",
    "\n",
    "Continue on to the next part of the Helper Tools series by clicking [here &#10145;](HelperTools_Part2.ipynb).\n",
    "\n",
    "----"
   ]
  }
 ],
 "metadata": {},
 "nbformat": 4,
 "nbformat_minor": 2
}
