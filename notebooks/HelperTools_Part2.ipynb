{
 "cells": [
  {
   "cell_type": "markdown",
   "metadata": {},
   "source": [
    "# Part 2 of Helper Tools: Reordering Ideograms to Minimize Overlap\n",
    "\n",
    "This page is primarily based on the following page at the Circos documentation site:\n",
    "\n",
    "\n",
    "\n",
    "- [2. Reordering Ideograms to Minimize Overlap](????????????)\n",
    "\n",
    "\n",
    "\n",
    "That page is found as part number 4 of the ??? part ['Helper Tools' section](http://circos.ca/documentation/tutorials/quick_start/) of [the larger set of Circos tutorials](http://circos.ca/documentation/tutorials/).\n",
    "\n",
    "\n",
    "\n",
    "Go back to Part 1 by clicking [here &#8592;](HelperTools_Part1.ipynb).\n",
    "\n",
    "\n",
    "\n",
    "----\n",
    "\n",
    "\n",
    "\n",
    "9 --- Helper Tools\n",
    "==================\n",
    "\n",
    "2. Reordering Ideograms to Minimize Overlap\n",
    "-------------------------------------------\n",
    "\n",
    "::: {#menu4}\n",
    "[[Lesson](/documentation/tutorials/utilities/minimize_crossing/lesson){.clean}]{.active}\n",
    "[Images](/documentation/tutorials/utilities/minimize_crossing/images){.normal}\n",
    ":::\n",
    "\n",
    "script location\n",
    "---------------"
   ]
  },
  {
   "cell_type": "markdown",
   "metadata": {},
   "source": [
    "```ini\n",
    "tools/orderchr\n",
    "```\n"
   ]
  },
  {
   "cell_type": "markdown",
   "metadata": {},
   "source": [
    "script usage\n",
    "------------"
   ]
  },
  {
   "cell_type": "markdown",
   "metadata": {},
   "source": [
    "```ini\n",
    "> cd tools/orderchr\n",
    "> ./run\n",
    "...\n",
    "improvement(minimize) orig 1164 final 124 change 89.35%\n",
    "chromosomes_order = chr9,chr5,chr15,chr16,chr18,chr14,chr3,chr20,chr7,chr8,chr10,chr4,chr12,chr6,chr2,chr17,chr1,chr19,chr13,chr11\n",
    "```\n"
   ]
  },
  {
   "cell_type": "markdown",
   "metadata": {},
   "source": [
    "The final line reported by the script provides the suggested\n",
    "chromosomes\\_order - copy this line into the circos.conf file.\n",
    "\n",
    "To get the full manpage, use -man."
   ]
  },
  {
   "cell_type": "markdown",
   "metadata": {},
   "source": [
    "```ini\n",
    "> cd tools/orderchr\n",
    "> bin/orderchr -man\n",
    "```\n"
   ]
  },
  {
   "cell_type": "markdown",
   "metadata": {},
   "source": [
    "Adjust the configuration file etc/orderchr.conf to suit your needs.\n",
    "\n",
    "You can generate link data randomly using the randomlinks tool.\n",
    "\n",
    "details\n",
    "-------\n",
    "\n",
    "The script minimizes (or maximizes) the link cross score, which is a\n",
    "quantity that estimates the number of links that cross in the image. The\n",
    "link score is influenced solely by the start and end position\n",
    "(chromosome and coordinate) of each link. The score is an estimate\n",
    "because the link geometry (Bezier curve settings) are not taken into\n",
    "account. The link score does not include any crossing between\n",
    "intra-chromosomal links, since no amount of chromosome shuffling can\n",
    "mitigate these crossings.\n",
    "\n",
    "The script is currently not capable of working with chromosome ranges\n",
    "and axis breaks. In other words, you cannot optimize layout of\n",
    "chromosomes which have been broken into components (e.g. chr2-\\>\n",
    "chr2a:0-10Mb, chr2b:20-30Mb, chr2c:30-40Mb, etc). If you want to use\n",
    "axis breaks, you\\'ll have to create new chromosomes (e.g., chr2a, chr2b,\n",
    "chr2c, \\...) that represent the components of the original chromosome\n",
    "(chr2) and adjust the karyotype and link data file accordingly.\n",
    "\n",
    "Given a set of links L, sorted by angular position of link start, the\n",
    "link cross score is given by\n",
    "\n",
    "![](/circos/images/eq-crossing.png)\n",
    "\n",
    "where the terms are as follows. Each link pair (i,j) (angular position\n",
    "of start of link i is greater than that of j) contributes +1 to the\n",
    "crossing score if the links cross. Whether they cross is determined by\n",
    "the position of the angular positions of the links\\' start/end\n",
    "positions. The links are deemed to cross if the angular positions are\n",
    "interleaved.\n",
    "\n",
    "![](/circos/images/circos-cross.png)\n",
    "\n",
    "### deterministic optimization\n",
    "\n",
    "One of the ways in which Circos\\'s links can be effectively used to\n",
    "visualize alignment data between two related structures. These\n",
    "structures could be two genomes, or two similar regions of the same\n",
    "genome, or even two physically different representations of the same\n",
    "structure (e.g. a fingerprint map and sequence assembly).\n",
    "\n",
    "![](/circos/images/circos-cross-02.png)\n",
    "\n",
    "When a Circos is used to show alignments, it is very helpful to have the\n",
    "chromosomes ordered in such a way as to reduce link crossing.\n",
    "Chromosomes should be ordered so that any link crossing is an indication\n",
    "of real differences in the underlying structures.\n",
    "\n",
    "For example, consider [this image](#img1) which shows a comparison\n",
    "between two sets of structures, arbitrarily named chromosomes a1,a2,\\...\n",
    "and b1,b2,\\... It is obvious that most of the data relate one of the\n",
    "\\\"b\\\" structures to many \\\"a\\\" structures. For example, these type of\n",
    "data sets are common when comparing a single contiguous structure (e.g.\n",
    "chromsome sequence assembly, supercontig, etc) to many smaller\n",
    "structures (e.g., resequencing contigs). However, because the\n",
    "chromosomes a\\* and b\\* are not well ordered, a lot of the links cross\n",
    "and it is not possible to determine whether the crossing is due to the\n",
    "order or to irreducible (i.e., leading to crossings that cannot be\n",
    "mitigated by rearrangement) differences in the chromosomes.\n",
    "\n",
    "This kind of link relationships can be deconvoluted by using the\n",
    "deterministic optimization component of the orderchr script. This\n",
    "optimization reorders chromosomes based on degree of connectivity. Given\n",
    "one chromosome, all chromosomes connected to it are placed immediately\n",
    "after it, in decreasing order of the number of shared links. The [result\n",
    "of this shuffling](#img2) quickly produces a view of the data that is\n",
    "less cluttered.\n",
    "\n",
    "When applying the deterministic optimization, it is helpful to place all\n",
    "the chromosomes from one set first (e.g. all the b\\* chromosomes) to\n",
    "straighten the links ([example](#img2)). Even though more links cross in\n",
    "the [right panel of this example](#img2), it is easier to spot\n",
    "block-level differences. Initial order is controlled using\n",
    "-init\\_order\\* parameters.\n",
    "\n",
    "![](/circos/images/circos-cross-03.png)\n",
    "\n",
    "This optimization is termed \\\"deterministic\\\" because the algorithm\n",
    "always produces the same layout, and in part, to contrast the other type\n",
    "of optimization, which is stochastic (read below). The order created by\n",
    "the deterministic optimization is suitable as input to the stochastic\n",
    "optimization routine, and for this reason the deterministic ordering is\n",
    "refered to as \\\"warmup\\\" in the documentation and configuration of\n",
    "orderchr.\n",
    "\n",
    "### stochastic optimization\n",
    "\n",
    "The stochastic routine uses simulated annealing (SA) to derive an\n",
    "chromosome layout that minimizes (or maximizes) the link score function.\n",
    "The best solution is not guaranteed, however, and I encourage you to run\n",
    "the simulation several times to determine the convergence of the\n",
    "solution. Ideally, all instances of the simulation should return layouts\n",
    "whose score is very similar (e.g. with in 1-2%).\n",
    "\n",
    "The stochastic routine can be initialized with the order from the\n",
    "deterministic optimization, or initialized with an arbitrary order. The\n",
    "-init\\_order\\* parameters control the order. Furthermore, certain\n",
    "chromosomes can be forced to remain static during the shuffling using\n",
    "-static\\* parameters. This is helpful when you wish to keep the order of\n",
    "certain structures fixed.\n",
    "\n",
    "In [this example image](#img4), I show the same link data with six\n",
    "different chromosome layouts. The link score function is shown in the\n",
    "center of the image.\n",
    "\n",
    "Depending on the nature of the data, you may not be able to\n",
    "significantly reduce link crossing. When the majority of your\n",
    "chromosomes are highly inter-connected, then any order results in a lot\n",
    "of crossings. The link crossing score in the [above example](#img4)\n",
    "could be reduced from 835 to 262, a 70% improvement. However, in this\n",
    "[segmental duplication data set](#img5), the score cannot be reduced by\n",
    "more than about 50%.\n",
    "\n",
    "orderchr manpage\n",
    "----------------\n",
    "\n",
    "-   [NAME](#NAME)\n",
    "-   [SYNOPSIS](#SYNOPSIS)\n",
    "-   [DESCRIPTION](#DESCRIPTION)\n",
    "-   [DEFINING WHICH CHROMOSOMES TO"
   ]
  },
  {
   "cell_type": "markdown",
   "metadata": {},
   "source": [
    "```ini\n",
    "SHUFFLE](#DEFINING_WHICH_CHROMOSOMES_TO_SH)\n",
    "-   [MODE 1 - shuffle set defined by link\n",
    "data](#MODE_1_shuffle_set_defined_by_)\n",
    "-   [MODE 2 - shuffle set defined by\n",
    "file](#MODE_2_shuffle_set_defined_by_)\n",
    "-   [MODE 3 - shuffle set defined by regular\n",
    "expression](#MODE_3_shuffle_set_defined_by_)\n",
    "-   [MODE 4 - shuffle set defined by\n",
    "list](#MODE_4_shuffle_set_defined_by_)\n",
    "-   [MODE 5 - multimode](#MODE_5_multimode)\n",
    "```\n"
   ]
  },
  {
   "cell_type": "markdown",
   "metadata": {},
   "source": [
    "-   [DEFINING INITIAL ORDER](#DEFINING_INITIAL_ORDER)\n",
    "-   [DEFINING WHICH CHROMOSOMES TO REMAIN"
   ]
  },
  {
   "cell_type": "markdown",
   "metadata": {},
   "source": [
    "```ini\n",
    "ANCHORED](#DEFINING_WHICH_CHROMOSOMES_TO_RE)\n",
    "```\n"
   ]
  },
  {
   "cell_type": "markdown",
   "metadata": {},
   "source": [
    "-   [CONTROLING THE OPTIMIZATION](#CONTROLING_THE_OPTIMIZATION)"
   ]
  },
  {
   "cell_type": "markdown",
   "metadata": {},
   "source": [
    "```ini\n",
    "-   [Warmup Round](#Warmup_Round)\n",
    "-   [Stochastic Optimization Round](#Stochastic_Optimization_Round)\n",
    "```\n"
   ]
  },
  {
   "cell_type": "markdown",
   "metadata": {},
   "source": [
    "-   [SIMULATED ANNEALING](#SIMULATED_ANNEALING)"
   ]
  },
  {
   "cell_type": "markdown",
   "metadata": {},
   "source": [
    "```ini\n",
    "-   [iterations](#iterations)\n",
    "-   [max\\_flips, min\\_flips](#max_flips_min_flips)\n",
    "-   [temp0](#temp0)\n",
    "-   [optimize = minimize\\|maximize](#optimize_minimize_maximize)\n",
    "```\n"
   ]
  },
  {
   "cell_type": "markdown",
   "metadata": {},
   "source": [
    "-   [SIMULATION SCHEDULE](#SIMULATION_SCHEDULE)"
   ]
  },
  {
   "cell_type": "markdown",
   "metadata": {},
   "source": [
    "```ini\n",
    "-   [No Warmup, Single Stochastic\n",
    "Round](#No_Warmup_Single_Stochastic_Rou)\n",
    "-   [No Warmup, Multiple Stochastic\n",
    "Rounds](#No_Warmup_Multiple_Stochastic_R)\n",
    "-   [Warmup, Multiple Stochastic\n",
    "Rounds](#Warmup_Multiple_Stochastic_Roun)\n",
    "```\n"
   ]
  },
  {
   "cell_type": "markdown",
   "metadata": {},
   "source": [
    "-   [HISTORY](#HISTORY)\n",
    "-   [BUGS](#BUGS)\n",
    "-   [AUTHOR](#AUTHOR)\n",
    "-   [CONTACT](#CONTACT)\n",
    "\n",
    "------------------------------------------------------------------------\n",
    "\n",
    "------------------------------------------------------------------------\n",
    "\n",
    "[NAME]{#NAME}\n",
    "=============\n",
    "\n",
    "orderchr - determine a chromosome order to minimize cross-over of links\n",
    "\n",
    "------------------------------------------------------------------------\n",
    "\n",
    "[SYNOPSIS]{#SYNOPSIS}\n",
    "====================="
   ]
  },
  {
   "cell_type": "markdown",
   "metadata": {},
   "source": [
    "```ini\n",
    "orderchr -links linkfile.txt \n",
    "-karyotype karyotype.txt \n",
    "{ -shuffle_file chrs_to_shuffle.txt | -shuffle LIST | -shuffle_rx REGEX_LIST } \n",
    "{-static LIST} {-static_rx REGEX_LIST}\n",
    "{-init_order LIST} {-init_order_rx REGEX_LIST}\n",
    "```\n"
   ]
  },
  {
   "cell_type": "markdown",
   "metadata": {},
   "source": [
    "------------------------------------------------------------------------\n",
    "\n",
    "[DESCRIPTION]{#DESCRIPTION}\n",
    "===========================\n",
    "\n",
    "By examining the frequencies of chromosome-chromosome relationships\n",
    "defined in the link file, this script suggests a new order for\n",
    "chromosomes that results in fewer cross-overs between links. Simulated\n",
    "annealing is used to optimize the chromosome order (read below about\n",
    "parameters). Run the simulation a couple of times to check convergence\n",
    "(finding a global minimum is not guaranteed).\n",
    "\n",
    "------------------------------------------------------------------------\n",
    "\n",
    "[DEFINING WHICH CHROMOSOMES TO SHUFFLE]{#DEFINING_WHICH_CHROMOSOMES_TO_SH}\n",
    "==========================================================================\n",
    "\n",
    "The set of chromosomes to shuffle is specified by either (a) link data,\n",
    "whereby all chromosomes that have links are subject to shuffling (b)\n",
    "-shuffle\\_file, whereby only those chromosomes listed in the file are\n",
    "shuffled (c) -shuffle, whereby the set of chromosomes to shuffle is\n",
    "specified by a list, and (d) -shuffle\\_rx, whereby only those\n",
    "chromosomes that match a regular expression are shuffled. Any chromosome\n",
    "that is not identified by one of these methods does not participate in\n",
    "the shuffling process. Specifically, any links to/from such chromosomes\n",
    "are not considered when minimizing link crossing.\n",
    "\n",
    "------------------------------------------------------------------------\n",
    "\n",
    "[MODE 1 - shuffle set defined by link data]{#MODE_1_shuffle_set_defined_by_}\n",
    "----------------------------------------------------------------------------"
   ]
  },
  {
   "cell_type": "markdown",
   "metadata": {},
   "source": [
    "```ini\n",
    "> orderchr -links linkfile.txt\n",
    "```\n"
   ]
  },
  {
   "cell_type": "markdown",
   "metadata": {},
   "source": [
    "All chromosomes mentioned in the -links file will be subject to\n",
    "reordering. The initial order will be taken from order of appearance in\n",
    "the karyotype file.\n",
    "\n",
    "------------------------------------------------------------------------\n",
    "\n",
    "[MODE 2 - shuffle set defined by file]{#MODE_2_shuffle_set_defined_by_}\n",
    "-----------------------------------------------------------------------"
   ]
  },
  {
   "cell_type": "markdown",
   "metadata": {},
   "source": [
    "```ini\n",
    "> orderchr -links linkfile.txt -shuffle_file chrs_to_shuffle.txt\n",
    "```\n"
   ]
  },
  {
   "cell_type": "markdown",
   "metadata": {},
   "source": [
    "The set of chromosomes to shuffle is given in the -shuffle\\_file file,\n",
    "which contains one chromosome per line. For example"
   ]
  },
  {
   "cell_type": "markdown",
   "metadata": {},
   "source": [
    "```ini\n",
    "> cat chrs_to_shuffle.txt\n",
    "chr1\n",
    "chr5\n",
    "chr12\n",
    "chr17\n",
    "...\n",
    "```\n"
   ]
  },
  {
   "cell_type": "markdown",
   "metadata": {},
   "source": [
    "The initial order will be taken from order of appearance in the file.\n",
    "\n",
    "------------------------------------------------------------------------\n",
    "\n",
    "[MODE 3 - shuffle set defined by regular expression]{#MODE_3_shuffle_set_defined_by_}\n",
    "-------------------------------------------------------------------------------------"
   ]
  },
  {
   "cell_type": "markdown",
   "metadata": {},
   "source": [
    "```ini\n",
    "> orderchr -links linkfile.txt -shuffle_rx chr1\n",
    "```\n"
   ]
  },
  {
   "cell_type": "markdown",
   "metadata": {},
   "source": [
    "Same as MODE 1, except that chromosome list will be filtered using the\n",
    "regular expression and only those chromosomes that match the regular\n",
    "expression are shuffled.\n",
    "\n",
    "In this example, chromosomes matching \\`\\`chr1\\'\\' will be shuffled\n",
    "(e.g. chr1, chr10, chr11, etc).\n",
    "\n",
    "------------------------------------------------------------------------\n",
    "\n",
    "[MODE 4 - shuffle set defined by list]{#MODE_4_shuffle_set_defined_by_}\n",
    "-----------------------------------------------------------------------"
   ]
  },
  {
   "cell_type": "markdown",
   "metadata": {},
   "source": [
    "```ini\n",
    "> orderchr -links linkfile.txt -shuffle chr1,chr2,chr6,chr7,chr10\n",
    "```\n"
   ]
  },
  {
   "cell_type": "markdown",
   "metadata": {},
   "source": [
    "Same as MODE 3, except that chromosomes are specified by a list.\n",
    "\n",
    "In this example, chromosomes chr1,chr2,chr6,chr7, and chr10 will be\n",
    "shuffled.\n",
    "\n",
    "------------------------------------------------------------------------\n",
    "\n",
    "[MODE 5 - multimode]{#MODE_5_multimode}\n",
    "---------------------------------------\n",
    "\n",
    "You can combine -shuffle\\_file, -shuffle\\_rx and -shuffle to additively\n",
    "define the shuffle list.\n",
    "\n",
    "------------------------------------------------------------------------\n",
    "\n",
    "[DEFINING INITIAL ORDER]{#DEFINING_INITIAL_ORDER}\n",
    "=================================================\n",
    "\n",
    "The initial order of chromosomes can be defined in two ways. First, the\n",
    "method that is used to specify which chromosomes to shuffle will dictate\n",
    "the initial order. Modes 1 and 2 (see above) use the order of\n",
    "chromosomes as they appear in the karyotype file. Mode 3 (see above)\n",
    "uses the order from the shuffle file.\n",
    "\n",
    "You can override the initial order using the -init\\_order parameter. The\n",
    "value of this parameter is expected to a comma-delimited list of\n",
    "chromosomes, which may be the full set or a subset of chromosomes.\n",
    "\n",
    "For example, if the entire set of chromosomes to shuffle is chr1..chr5,\n",
    "then you can specify the initial order which explicitly orders each\n",
    "chromosome"
   ]
  },
  {
   "cell_type": "markdown",
   "metadata": {},
   "source": [
    "```ini\n",
    "-init_order chr2,chr5,chr1,chr3,chr4\n",
    "```\n"
   ]
  },
  {
   "cell_type": "markdown",
   "metadata": {},
   "source": [
    "or just a subset"
   ]
  },
  {
   "cell_type": "markdown",
   "metadata": {},
   "source": [
    "```ini\n",
    "-init_order chr2,chr5\n",
    "```\n"
   ]
  },
  {
   "cell_type": "markdown",
   "metadata": {},
   "source": [
    "In the latter case, the final order will be"
   ]
  },
  {
   "cell_type": "markdown",
   "metadata": {},
   "source": [
    "```ini\n",
    "{ chr2,chr5 } , { chr1,chr3,chr4 }\n",
    "```\n"
   ]
  },
  {
   "cell_type": "markdown",
   "metadata": {},
   "source": [
    "comprised of two order groups: leading group of chromosomes as ordered\n",
    "by -init\\_order and a group of remaining chromosomes, in order of\n",
    "appearance as set by parameters in the section DEFINING WHICH\n",
    "CHROMOSOMES TO SHUFFLE.\n",
    "\n",
    "If a chromosome mentioned in -init\\_order is not a candidate for\n",
    "shuffling, its mention in the order string will be ignored.\n",
    "\n",
    "The option -init\\_order\\_rx works just like -init\\_order, except that\n",
    "the list a list of regular expressions rather than chromsome names. For\n",
    "example,"
   ]
  },
  {
   "cell_type": "markdown",
   "metadata": {},
   "source": [
    "```ini\n",
    "-init_order chr1,chr2\n",
    "```\n"
   ]
  },
  {
   "cell_type": "markdown",
   "metadata": {},
   "source": [
    "is equivalent to"
   ]
  },
  {
   "cell_type": "markdown",
   "metadata": {},
   "source": [
    "```ini\n",
    "-init_order { chrs matching /chr1/ },{ chrs matching /chr2/ }\n",
    "```\n"
   ]
  },
  {
   "cell_type": "markdown",
   "metadata": {},
   "source": [
    "and for the canonical human genome with standard order this would be"
   ]
  },
  {
   "cell_type": "markdown",
   "metadata": {},
   "source": [
    "```ini\n",
    "-init_order chr1,chr10,chr11,chr2,chr20,chr21,chr22\n",
    "```\n"
   ]
  },
  {
   "cell_type": "markdown",
   "metadata": {},
   "source": [
    "Since this is a subset of chromosomes, the final initial order will be\n",
    "automatically completed by chromosomes from the karyotype file that were\n",
    "not explicitly ordered"
   ]
  },
  {
   "cell_type": "markdown",
   "metadata": {},
   "source": [
    "```ini\n",
    "chr1, chr10, chr11, chr2, chr20, chr21, chr22, chr3..chr9, chr12..chr19, chrX, chrY\n",
    "```\n"
   ]
  },
  {
   "cell_type": "markdown",
   "metadata": {},
   "source": [
    "If both -init\\_order\\_rx and -init\\_order are defined, order is\n",
    "initially defined by -init\\_order\\_rx and then refined using\n",
    "-init\\_order. Thus"
   ]
  },
  {
   "cell_type": "markdown",
   "metadata": {},
   "source": [
    "```ini\n",
    "-init_order chr10,chr20,chrx -init_order_rx chr1,chr2\n",
    "```\n"
   ]
  },
  {
   "cell_type": "markdown",
   "metadata": {},
   "source": [
    "will result in"
   ]
  },
  {
   "cell_type": "markdown",
   "metadata": {},
   "source": [
    "```ini\n",
    "chr10, chr20, chrx, chr1, chr11, chr2, chr21, chr22, chr3..chr9, chr12..chr19 ,chrY\n",
    "```\n"
   ]
  },
  {
   "cell_type": "markdown",
   "metadata": {},
   "source": [
    "------------------------------------------------------------------------\n",
    "\n",
    "[DEFINING WHICH CHROMOSOMES TO REMAIN ANCHORED]{#DEFINING_WHICH_CHROMOSOMES_TO_RE}\n",
    "==================================================================================\n",
    "\n",
    "After the set of chromosomes to shuffle has been defined, and the\n",
    "initial order has been set, you can define a subset of chromosomes to\n",
    "remain in the same order (static) throughout the shuffling process.\n",
    "\n",
    "The difference between a chromosome (a) not being part of a shuffle set\n",
    "and (b) being part of a shuffle set, but remain static, is that in the\n",
    "former, links to chromosomes do not play a role in the ordering process\n",
    "whereas in the latter case links to these chromosomes contribute to the\n",
    "shuffle score. Thus, chromosomes which are static have all non-static\n",
    "chromosomes shuffled around them in order to minimize link crossover.\n",
    "\n",
    "Defining static chromosomes is done by a comma-delimited list of regular\n",
    "expressions"
   ]
  },
  {
   "cell_type": "markdown",
   "metadata": {},
   "source": [
    "```ini\n",
    "> orderchr -links linkfile.txt -static_rx chr1\n",
    "```\n"
   ]
  },
  {
   "cell_type": "markdown",
   "metadata": {},
   "source": [
    "In this example, all chromosomes matching the regular expression chr1\n",
    "will not have their order adjusted. Any links to/from these chromosomes\n",
    "will contribute to the total link crossing score, but the chromosomes\n",
    "themselves will not be moved. For example, if the original order of\n",
    "chromosomes is"
   ]
  },
  {
   "cell_type": "markdown",
   "metadata": {},
   "source": [
    "```ini\n",
    "chr1,chr2,chr3,chr10,chr11,chr20,chr21\n",
    "```\n"
   ]
  },
  {
   "cell_type": "markdown",
   "metadata": {},
   "source": [
    "then any shuffle solution will have the order"
   ]
  },
  {
   "cell_type": "markdown",
   "metadata": {},
   "source": [
    "```ini\n",
    "chr1,-,-,chr10,chr11,-,-\n",
    "```\n"
   ]
  },
  {
   "cell_type": "markdown",
   "metadata": {},
   "source": [
    "with chr1, chr10 and chr11 remaining fixed.\n",
    "\n",
    "To define multiple regular expressions, use a list of regular\n",
    "expressions."
   ]
  },
  {
   "cell_type": "markdown",
   "metadata": {},
   "source": [
    "```ini\n",
    "> orderchr -links linkfile.txt -static_rx chr1,x,y\n",
    "```\n"
   ]
  },
  {
   "cell_type": "markdown",
   "metadata": {},
   "source": [
    "Like with -init\\_order, you can use the chromosome names to define\n",
    "static entries using -static."
   ]
  },
  {
   "cell_type": "markdown",
   "metadata": {},
   "source": [
    "```ini\n",
    "-static chr1,chr2,chr3\n",
    "```\n"
   ]
  },
  {
   "cell_type": "markdown",
   "metadata": {},
   "source": [
    "will keep chromosomes chr1, chr2 and chr3 always in the same position.\n",
    "You can combine -static\\_rx and -static"
   ]
  },
  {
   "cell_type": "markdown",
   "metadata": {},
   "source": [
    "```ini\n",
    "-static_rx chr1,chr2 -static chrx,chry\n",
    "```\n"
   ]
  },
  {
   "cell_type": "markdown",
   "metadata": {},
   "source": [
    "in which case all chromosomes that match either the regular expressions\n",
    "defined by -static\\_rx or the names defined by -static will be kept in\n",
    "the same position during shuffling.\n",
    "\n",
    "------------------------------------------------------------------------\n",
    "\n",
    "[CONTROLING THE OPTIMIZATION]{#CONTROLING_THE_OPTIMIZATION}\n",
    "===========================================================\n",
    "\n",
    "The order optimization process comprises one or more rounds. Each round\n",
    "is defined by a \\<round\\> block in the \\<simulation\\> block"
   ]
  },
  {
   "cell_type": "markdown",
   "metadata": {},
   "source": [
    "```ini\n",
    "<simulation>\n",
    "<round>\n",
    "# settings for round 1\n",
    "</round>\n",
    "<round>\n",
    "# settings for round 2\n",
    "</round>\n",
    "...\n",
    "</simulation>\n",
    "```\n"
   ]
  },
  {
   "cell_type": "markdown",
   "metadata": {},
   "source": [
    "A round can be either a warmup (read below), or a full simulated\n",
    "annealing process (read below). The outcome of the warmup is\n",
    "deterministic, and thus the warmup should only be used as the first\n",
    "(optional) round.\n",
    "\n",
    "------------------------------------------------------------------------\n",
    "\n",
    "[Warmup Round]{#Warmup_Round}\n",
    "-----------------------------\n",
    "\n",
    "During the warmup round, the initial order of the chromosomes is defined\n",
    "based on the degree of connectivity between chromosome pairs.\n",
    "\n",
    "This warmup is most suited for data sets in which most relationships\n",
    "between chromosomes are many-to-one (e.g., chromosome A has links to\n",
    "many chromosomes B,C,D,\\... but each of B,C,D generally only links to\n",
    "A). Many-to-one data sets are common for alignments (e.g. chr A\n",
    "corresponds to the chromosome whereas and points to ctg A, B, C, \\...\n",
    "all sequence contigs that map to disjoint regions on chr A).\n",
    "\n",
    "The warmup algorithm is as follows. The chromosome (chrA) with the most\n",
    "links is selected first and used to initialize the new order. A list of\n",
    "all links to chrA is created, grouped by chromosome, and sorted based on\n",
    "the average position of the link on chrA. Chromosomes are added to the\n",
    "new order based on descending order of grouped link position. Once all\n",
    "chromosomes are placed, the next unplaced chromosome with the most links\n",
    "is selected and the process continues until all chromosomes are placed.\n",
    "\n",
    "The warmup is deterministic - it will result in the same order each\n",
    "time. It is insensitive to the initial order, or values of -static and\n",
    "-static\\_rx."
   ]
  },
  {
   "cell_type": "markdown",
   "metadata": {},
   "source": [
    "```ini\n",
    "<round>\n",
    "warmup = yes\n",
    "</round>\n",
    "```\n"
   ]
  },
  {
   "cell_type": "markdown",
   "metadata": {},
   "source": [
    "------------------------------------------------------------------------\n",
    "\n",
    "[Stochastic Optimization Round]{#Stochastic_Optimization_Round}\n",
    "---------------------------------------------------------------\n",
    "\n",
    "After the optional warmup round, all other rounds should be of\n",
    "stochastic type (this is the default round type, if warmup=yes is not\n",
    "set).\n",
    "\n",
    "Parameters for the round are defined as follows"
   ]
  },
  {
   "cell_type": "markdown",
   "metadata": {},
   "source": [
    "```ini\n",
    "<round>\n",
    "iterations = 1000\n",
    "max_flips  = 10\n",
    "min_flips  = 2\n",
    "temp0      = 0.01\n",
    "<round>\n",
    "```\n"
   ]
  },
  {
   "cell_type": "markdown",
   "metadata": {},
   "source": [
    "For the details of each parameter, read the section below. You can set\n",
    "parameter values to be relative to values of the previous round by\n",
    "prefixing the parameter with \\`\\`r\\'\\'. For example,"
   ]
  },
  {
   "cell_type": "markdown",
   "metadata": {},
   "source": [
    "```ini\n",
    "<round>\n",
    "iterations = 1000\n",
    "...\n",
    "temp0      = 0.01\n",
    "<round>\n",
    "```\n"
   ]
  },
  {
   "cell_type": "markdown",
   "metadata": {},
   "source": [
    "```ini\n",
    "<round>\n",
    "iterations = r2\n",
    "...\n",
    "temp0      = r0.5\n",
    "<round>\n",
    "```\n"
   ]
  },
  {
   "cell_type": "markdown",
   "metadata": {},
   "source": [
    "```ini\n",
    "<round>\n",
    "iterations = r2\n",
    "...\n",
    "temp0      = r0.5\n",
    "<round>\n",
    "```\n"
   ]
  },
  {
   "cell_type": "markdown",
   "metadata": {},
   "source": [
    "defines three rounds. The first round has 1000 iterations with\n",
    "temp0=0.01. The second round has 2x iterations (2000) and a value of\n",
    "temp0 of 0.5\\*0.01=0.005. The third round has again 2x iterations (4000)\n",
    "and temp0 of 0.5\\*0.005=0.0025.\n",
    "\n",
    "Relative parameter values are very useful for additional rounds when the\n",
    "transition probability is decreased (temp0 is lowered). You can decrease\n",
    "temp0 in relative steps, without needing to remember what the previous\n",
    "value was. This allows you to create a multi-round optimization schedule\n",
    "with all parameter defined in a single place (first round).\n",
    "\n",
    "The solution at the end of a round is used as the initial order for the\n",
    "next round.\n",
    "\n",
    "------------------------------------------------------------------------\n",
    "\n",
    "[SIMULATED ANNEALING]{#SIMULATED_ANNEALING}\n",
    "===========================================\n",
    "\n",
    "This method is an optimization method that encourages the discovery of a\n",
    "global minimum by traversing the space of solutions with a small (and\n",
    "decreasing as simulation runs) chance of visiting less desirable\n",
    "solutions.\n",
    "\n",
    "There are three parameters that control the optimization.\n",
    "\n",
    "------------------------------------------------------------------------\n",
    "\n",
    "[iterations]{#iterations}\n",
    "-------------------------\n",
    "\n",
    "The number of iterations to perform. At each iteration, the current\n",
    "solution is randomly modified and either accepted or rejected.\n",
    "\n",
    "------------------------------------------------------------------------\n",
    "\n",
    "[max\\_flips, min\\_flips]{#max_flips_min_flips}\n",
    "----------------------------------------------\n",
    "\n",
    "The optimization run is split into max\\_flips-min\\_flips+1 equal-sized\n",
    "intervals. During each iterval, the number of random chromosome pair\n",
    "swaps in the solution is given by"
   ]
  },
  {
   "cell_type": "markdown",
   "metadata": {},
   "source": [
    "```ini\n",
    "min_flips + (max_flips-min_flips)*(1-t)\n",
    "```\n"
   ]
  },
  {
   "cell_type": "markdown",
   "metadata": {},
   "source": [
    "where t is a relative round completion time t=0..1 at the current\n",
    "iteration.\n",
    "\n",
    "For example, if max\\_flips is 5 and min\\_flips is 2 and iterations=1000.\n",
    "Then the number of random pair swaps is"
   ]
  },
  {
   "cell_type": "markdown",
   "metadata": {},
   "source": [
    "```ini\n",
    "iteration 1-249    5\n",
    "iteration 250-499  4\n",
    "iteration 500-749  3\n",
    "iteration 750-1000 2\n",
    "```\n"
   ]
  },
  {
   "cell_type": "markdown",
   "metadata": {},
   "source": [
    "I suggest starting with a value that corresponds to 5% of the\n",
    "chromosomes. For example, if you have 100 chromosomes, use max\\_flips=5\n",
    "to start. It\\'s also a good idea to set min\\_flips=1 for the last round\n",
    "to avoid abandoning the solution (remember that in simulated annealing\n",
    "it is possible to discard a solution for a worse solution).\n",
    "\n",
    "------------------------------------------------------------------------\n",
    "\n",
    "[temp0]{#temp0}\n",
    "---------------\n",
    "\n",
    "This parameter determines the probability of a transition to a less\n",
    "desirable solution. The transition probability is"
   ]
  },
  {
   "cell_type": "markdown",
   "metadata": {},
   "source": [
    "```ini\n",
    "p(dE) = temp0*exp( - dE/t )\n",
    "```\n"
   ]
  },
  {
   "cell_type": "markdown",
   "metadata": {},
   "source": [
    "where t=1..0 over the length of the simulation and dE is the relative\n",
    "change in the desirability of two solutions.\n",
    "\n",
    "If temp0=1, then the probability of accepting a solution that is 10%\n",
    "worse (e.g. dE=0.1) is"
   ]
  },
  {
   "cell_type": "markdown",
   "metadata": {},
   "source": [
    "```ini\n",
    "p(0.1) = exp (-0.1/1)   = 90%    at start of simulation\n",
    "= exp (-0.1/0.5) = 82%    half way through simulation\n",
    "= exp (-0.1/0.1) = 37%    90% of the way through simulation\n",
    "```\n"
   ]
  },
  {
   "cell_type": "markdown",
   "metadata": {},
   "source": [
    "By lowering temp0, you lower the probability of transition to a less\n",
    "desirable solution.\n",
    "\n",
    "Do not adjust temp0 unless you feel that the simulation is (a) not\n",
    "traversing the solution space sufficiently - in which case make temp0\n",
    "larger or (b) too many low-quality solutions are accepted - in which\n",
    "case make temp0 smaller.\n",
    "\n",
    "------------------------------------------------------------------------\n",
    "\n",
    "[optimize = minimize\\|maximize]{#optimize_minimize_maximize}\n",
    "------------------------------------------------------------\n",
    "\n",
    "Most of the time you\\'ll want to adjust the chromosome order in a way to\n",
    "minimize the number of crossing links. However, you can set to maximize\n",
    "the number of crossing links by setting"
   ]
  },
  {
   "cell_type": "markdown",
   "metadata": {},
   "source": [
    "```ini\n",
    "optimize = maximize\n",
    "```\n"
   ]
  },
  {
   "cell_type": "markdown",
   "metadata": {},
   "source": [
    "------------------------------------------------------------------------\n",
    "\n",
    "[SIMULATION SCHEDULE]{#SIMULATION_SCHEDULE}\n",
    "===========================================\n",
    "\n",
    "------------------------------------------------------------------------\n",
    "\n",
    "[No Warmup, Single Stochastic Round]{#No_Warmup_Single_Stochastic_Rou}\n",
    "----------------------------------------------------------------------"
   ]
  },
  {
   "cell_type": "markdown",
   "metadata": {},
   "source": [
    "```ini\n",
    "<simulation>\n",
    "<round>\n",
    "iterations = 1000\n",
    "max_flips  = 10 # or set this to ~5% of your chromosomes\n",
    "min_flips  = 1\n",
    "temp0      = 0.01\n",
    "</round>\n",
    "</simulation>\n",
    "```\n"
   ]
  },
  {
   "cell_type": "markdown",
   "metadata": {},
   "source": [
    "------------------------------------------------------------------------\n",
    "\n",
    "[No Warmup, Multiple Stochastic Rounds]{#No_Warmup_Multiple_Stochastic_R}\n",
    "-------------------------------------------------------------------------\n",
    "\n",
    "The purpose of rounds 2 and 3 is to successively decrease the transition\n",
    "probability to worse solutions and also decrease the degree to which\n",
    "successive candidate solutions vary from the current solution. In these\n",
    "rounds, a more careful search is carried out around the solution\n",
    "provided in round 1."
   ]
  },
  {
   "cell_type": "markdown",
   "metadata": {},
   "source": [
    "```ini\n",
    "<simulation>\n",
    "<round>\n",
    "iterations = 1000\n",
    "max_flips  = 10 # or set this to ~5% of your chromosomes\n",
    "min_flips  = 1\n",
    "temp0      = 0.01\n",
    "</round>\n",
    "</simulation>\n",
    "<simulation>\n",
    "<round>\n",
    "iterations = r2    # 2000\n",
    "max_flips  = 2\n",
    "min_flips  = 1\n",
    "temp0      = r0.5  # 0.005\n",
    "</round>\n",
    "<round>\n",
    "iterations = r2    # 4000\n",
    "max_flips  = 1\n",
    "min_flips  = 1\n",
    "temp0      = r0.1 # 0.0005\n",
    "</round>\n",
    "</simulation>\n",
    "```\n"
   ]
  },
  {
   "cell_type": "markdown",
   "metadata": {},
   "source": [
    "------------------------------------------------------------------------\n",
    "\n",
    "[Warmup, Multiple Stochastic Rounds]{#Warmup_Multiple_Stochastic_Roun}\n",
    "----------------------------------------------------------------------"
   ]
  },
  {
   "cell_type": "markdown",
   "metadata": {},
   "source": [
    "```ini\n",
    "<simulation>\n",
    "<round>\n",
    "warmup = yes\n",
    "</round>\n",
    "<round>\n",
    "iterations = 1000\n",
    "max_flips  = 10 # or set this to ~5% of your chromosomes\n",
    "min_flips  = 1\n",
    "temp0      = 0.01\n",
    "</round>\n",
    "</simulation>\n",
    "<simulation>\n",
    "<round>\n",
    "iterations = r2    # 2000\n",
    "max_flips  = 2\n",
    "min_flips  = 1\n",
    "temp0      = r0.5  # 0.005\n",
    "</round>\n",
    "<round>\n",
    "iterations = r2    # 4000\n",
    "max_flips  = 1\n",
    "min_flips  = 1\n",
    "temp0      = r0.1 # 0.0005\n",
    "</round>\n",
    "</simulation>\n",
    "```\n"
   ]
  },
  {
   "cell_type": "markdown",
   "metadata": {},
   "source": [
    "------------------------------------------------------------------------\n",
    "\n",
    "[HISTORY]{#HISTORY}\n",
    "===================\n",
    "\n",
    "-   **[14 July 2008]{#item_14}**"
   ]
  },
  {
   "cell_type": "markdown",
   "metadata": {},
   "source": [
    "```ini\n",
    "Expanded documentation and added \\_rx parameters.\n",
    "```\n"
   ]
  },
  {
   "cell_type": "markdown",
   "metadata": {},
   "source": [
    "-   **[8 July 2008]{#item_8}**"
   ]
  },
  {
   "cell_type": "markdown",
   "metadata": {},
   "source": [
    "```ini\n",
    "Started and versioned.\n",
    "```\n"
   ]
  },
  {
   "cell_type": "markdown",
   "metadata": {},
   "source": [
    "------------------------------------------------------------------------\n",
    "\n",
    "[BUGS]{#BUGS}\n",
    "=============\n",
    "\n",
    "------------------------------------------------------------------------\n",
    "\n",
    "[AUTHOR]{#AUTHOR}\n",
    "=================\n",
    "\n",
    "Martin Krzywinski\n",
    "\n",
    "------------------------------------------------------------------------\n",
    "\n",
    "[CONTACT]{#CONTACT}\n",
    "==================="
   ]
  },
  {
   "cell_type": "markdown",
   "metadata": {},
   "source": [
    "```ini\n",
    "Martin Krzywinski\n",
    "Genome Sciences Centre\n",
    "Vancouver BC Canada\n",
    "www.bcgsc.ca\n",
    "martink@bcgsc.ca\n",
    "```\n"
   ]
  },
  {
   "cell_type": "markdown",
   "metadata": {},
   "source": [
    "----\n",
    "\n",
    "### Generating the plot produced by this example code\n",
    "\n",
    "\n",
    "The following two cells will generate the plot. The first cell adjusts the current working directory."
   ]
  },
  {
   "cell_type": "code",
   "execution_count": null,
   "metadata": {},
   "outputs": [],
   "source": [
    "%cd ../circos-tutorials-0.67/tutorials/9/2/"
   ]
  },
  {
   "cell_type": "code",
   "execution_count": null,
   "metadata": {},
   "outputs": [],
   "source": [
    "%%bash\n",
    "../../../../circos-0.69-6/bin/circos -conf circos.conf"
   ]
  },
  {
   "cell_type": "markdown",
   "metadata": {},
   "source": [
    "View the plot in this page using the following cell."
   ]
  },
  {
   "cell_type": "code",
   "execution_count": null,
   "metadata": {},
   "outputs": [],
   "source": [
    "from IPython.display import Image\n",
    "Image(\"circos.png\")"
   ]
  },
  {
   "cell_type": "markdown",
   "metadata": {},
   "source": [
    "----\n",
    "\n",
    "Continue on to the next part of the Helper Tools series by clicking [here &#10145;](HelperTools_Part3.ipynb).\n",
    "\n",
    "----"
   ]
  }
 ],
 "metadata": {},
 "nbformat": 4,
 "nbformat_minor": 2
}
