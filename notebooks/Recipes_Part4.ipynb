{
 "cells": [
  {
   "cell_type": "code",
   "execution_count": null,
   "metadata": {
    "hide_input": true,
    "inputHidden": true
   },
   "outputs": [
    {
     "data": {
      "text/html": [
       "<span style=\"color:red; font-family:Helvetica Neue, Helvetica, Arial, sans-serif; font-size:2em;\">An Exception was encountered at 'In [5]'.</span>"
      ]
     },
     "metadata": {},
     "output_type": "display_data"
    }
   ],
   "source": [
    "%%html\n",
    "<span style=\"color:red; font-family:Helvetica Neue, Helvetica, Arial, sans-serif; font-size:2em;\">An Exception was encountered at 'In [5]'.</span>"
   ]
  },
  {
   "cell_type": "code",
   "execution_count": 1,
   "metadata": {
    "papermill": {
     "duration": 0.032453,
     "end_time": "2019-04-09T17:51:44.587779",
     "exception": false,
     "start_time": "2019-04-09T17:51:44.555326",
     "status": "completed"
    },
    "tags": [
     "parameters"
    ]
   },
   "outputs": [],
   "source": [
    "#This cell is tagged parameters for running this template using Papermill to inject values to overwrite these.\n",
    "markdown = \"\"\n",
    "section = 99\n",
    "sub_pg = 99\n",
    "end_nb = False\n",
    "next_nb = \"\"\n"
   ]
  },
  {
   "cell_type": "code",
   "execution_count": 2,
   "metadata": {
    "papermill": {
     "duration": 0.021713,
     "end_time": "2019-04-09T17:51:44.618069",
     "exception": false,
     "start_time": "2019-04-09T17:51:44.596356",
     "status": "completed"
    },
    "tags": [
     "injected-parameters"
    ]
   },
   "outputs": [],
   "source": [
    "# Parameters\n",
    "markdown = \"\\n# Part 4 of Recipes: Image Maps\\n\\nThis page is primarily based on the following page at the Circos documentation site:\\n\\n\\n\\n- [4. Image Maps](????????????)\\n\\n\\n\\nThat page is found as part number 4 of the ??? part ['Recipes' section](http://circos.ca/documentation/tutorials/quick_start/) of [the larger set of Circos tutorials](http://circos.ca/documentation/tutorials/).\\n\\n\\n\\nGo back to Part 3 by clicking [here &#8592;](Recipes_Part3.ipynb).\\n\\n\\n\\n----\\n\\n\\n\\n8 --- Recipes\\n=============\\n\\n4. Image Maps\\n-------------\\n\\nHTML image maps are now fully implemented and described in [Tutorial\\n10](?tutorials&id=10).\\n\\n\"\n",
    "section = 8\n",
    "sub_pg = 4\n",
    "end_nb = False\n",
    "next_nb = \"Recipes_Part5.ipynb\"\n"
   ]
  },
  {
   "cell_type": "code",
   "execution_count": 3,
   "metadata": {
    "papermill": {
     "duration": 0.022241,
     "end_time": "2019-04-09T17:51:44.662852",
     "exception": false,
     "start_time": "2019-04-09T17:51:44.640611",
     "status": "completed"
    },
    "tags": []
   },
   "outputs": [
    {
     "name": "stdout",
     "output_type": "stream",
     "text": [
      "\n",
      "# Part 4 of Recipes: Image Maps\n",
      "\n",
      "This page is primarily based on the following page at the Circos documentation site:\n",
      "\n",
      "\n",
      "\n",
      "- [4. Image Maps](????????????)\n",
      "\n",
      "\n",
      "\n",
      "That page is found as part number 4 of the ??? part ['Recipes' section](http://circos.ca/documentation/tutorials/quick_start/) of [the larger set of Circos tutorials](http://circos.ca/documentation/tutorials/).\n",
      "\n",
      "\n",
      "\n",
      "Go back to Part 3 by clicking [here &#8592;](Recipes_Part3.ipynb).\n",
      "\n",
      "\n",
      "\n",
      "----\n",
      "\n",
      "\n",
      "\n",
      "8 --- Recipes\n",
      "=============\n",
      "\n",
      "4. Image Maps\n",
      "-------------\n",
      "\n",
      "HTML image maps are now fully implemented and described in [Tutorial\n",
      "10](?tutorials&id=10).\n",
      "\n",
      "\n"
     ]
    }
   ],
   "source": [
    "'''from IPython.display import Markdown, display\n",
    "def printmd(string):\n",
    "    display(Markdown(string))\n",
    "printmd(markdown)'''\n",
    "print(markdown) #use this because want to be able to edit the markdown and rendering it with `printmd` diables that"
   ]
  },
  {
   "cell_type": "markdown",
   "metadata": {
    "papermill": {
     "duration": 0.006578,
     "end_time": "2019-04-09T17:51:44.676576",
     "exception": false,
     "start_time": "2019-04-09T17:51:44.669998",
     "status": "completed"
    },
    "tags": []
   },
   "source": [
    "\n",
    "\n",
    "----"
   ]
  },
  {
   "cell_type": "markdown",
   "metadata": {
    "papermill": {
     "duration": 0.006667,
     "end_time": "2019-04-09T17:51:44.689372",
     "exception": false,
     "start_time": "2019-04-09T17:51:44.682705",
     "status": "completed"
    },
    "tags": []
   },
   "source": [
    "### Generating the plot produced by this example code\n",
    "\n",
    "The following two cells will generate the plot. The first cell adjusts the current working directory."
   ]
  },
  {
   "cell_type": "code",
   "execution_count": 4,
   "metadata": {
    "papermill": {
     "duration": 0.016236,
     "end_time": "2019-04-09T17:51:44.711620",
     "exception": false,
     "start_time": "2019-04-09T17:51:44.695384",
     "status": "completed"
    },
    "tags": []
   },
   "outputs": [
    {
     "name": "stdout",
     "output_type": "stream",
     "text": [
      "/home/jovyan/circos-tutorials-0.67/tutorials/8/4\n"
     ]
    }
   ],
   "source": [
    "%cd ../circos-tutorials-0.67/tutorials/{section}/{sub_pg}/"
   ]
  },
  {
   "cell_type": "code",
   "execution_count": 5,
   "metadata": {
    "papermill": {
     "duration": 1.773035,
     "end_time": "2019-04-09T17:51:46.491852",
     "exception": true,
     "start_time": "2019-04-09T17:51:44.718817",
     "status": "failed"
    },
    "tags": []
   },
   "outputs": [
    {
     "name": "stdout",
     "output_type": "stream",
     "text": [
      "debuggroup summary 0.38s welcome to circos v0.69-6 31 July 2017 on Perl 5.022000\n",
      "debuggroup summary 0.38s current working directory /home/jovyan/circos-tutorials-0.67/tutorials/8/4\n",
      "debuggroup summary 0.38s command ../../../../circos-0.69-6/bin/circos -conf circos.conf\n",
      "debuggroup summary 0.38s loading configuration from file circos.conf\n",
      "\n",
      "  *** CIRCOS ERROR ***\n",
      "\n",
      "      cwd: /home/jovyan/circos-tutorials-0.67/tutorials/8/4\n",
      "\n",
      "      command: ../../../../circos-0.69-6/bin/circos -conf circos.conf\n",
      "\n",
      "  CONFIGURATION FILE ERROR\n",
      "\n",
      "  Circos could not find the configuration file [circos.conf]. To run Circos, you\n",
      "  need to specify this file using the -conf flag. The configuration file\n",
      "  contains all the parameters that define the image, including input files,\n",
      "  image size, formatting, etc.\n",
      "\n",
      "  If you do not use the -conf flag, Circos will attempt to look for a file\n",
      "  circos.conf in several reasonable places such as . etc/ ../etc\n",
      "\n",
      "  To see where Circos looks for the file, use\n",
      "\n",
      "      circos -debug_flag io\n",
      "\n",
      "  To see how configuration files work, create the example image, whose\n",
      "  configuration and data are found in example/. From the Circos distribution\n",
      "  directory,\n",
      "\n",
      "      cd example\n",
      "\n",
      "      ../bin/circos -conf ./circos.conf\n",
      "\n",
      "  or use the 'run' script (UNIX only).\n",
      "\n",
      "  Configuration files are described here\n",
      "\n",
      "      http://circos.ca/tutorials/lessons/configuration/configuration_files/\n",
      "\n",
      "  and the use of command-line flags, such as -conf, is described here\n",
      "\n",
      "      http://circos.ca/tutorials/lessons/configuration/runtime_parameters/\n",
      "\n",
      "  Windows users unfamiliar with Perl should read\n",
      "\n",
      "      http://circos.ca/tutorials/lessons/configuration/unix_vs_windows/\n",
      "\n",
      "  This error can also be produced if supporting configuration files, such as\n",
      "  track defaults, cannot be read.\n",
      "\n",
      "  If you are having trouble debugging this error, first read the best practices\n",
      "  tutorial for helpful tips that address many common problems\n",
      "\n",
      "      http://www.circos.ca/documentation/tutorials/reference/best_practices\n",
      "\n",
      "  The debugging facility is helpful to figure out what's happening under the\n",
      "  hood\n",
      "\n",
      "      http://www.circos.ca/documentation/tutorials/configuration/debugging\n",
      "\n",
      "  If you're still stumped, get support in the Circos Google Group.\n",
      "\n",
      "      http://groups.google.com/group/circos-data-visualization\n",
      "\n",
      "  Please include this error, all your configuration, data files and the version\n",
      "  of Circos you're running (circos -v).Do not email me directly -- please use\n",
      "  the group.\n",
      "\n",
      "  Stack trace:\n"
     ]
    },
    {
     "name": "stderr",
     "output_type": "stream",
     "text": [
      "Use of uninitialized value in subroutine entry at /home/jovyan/circos-0.69-6/bin/../lib/Circos/Configuration.pm line 781.\n",
      " at /home/jovyan/circos-0.69-6/bin/../lib/Circos/Error.pm line 425.\n",
      "\tCircos::Error::fatal_error(\"configuration\", \"missing\", \"circos.conf\") called at /home/jovyan/circos-0.69-6/bin/../lib/Circos/Configuration.pm line 796\n",
      "\tCircos::Configuration::loadconfiguration(\"circos.conf\") called at /home/jovyan/circos-0.69-6/bin/../lib/Circos.pm line 148\n",
      "\tCircos::run(\"Circos\", \"_cwd\", \"/home/jovyan/circos-tutorials-0.67/tutorials/8/4\", \"_argv\", \"-conf circos.conf\", \"configfile\", \"circos.conf\") called at ../../../../circos-0.69-6/bin/circos line 536\n"
     ]
    },
    {
     "ename": "CalledProcessError",
     "evalue": "Command 'b'../../../../circos-0.69-6/bin/circos -conf circos.conf\\n'' returned non-zero exit status 255.",
     "output_type": "error",
     "traceback": [
      "\u001b[0;31m---------------------------------------------------------------------------\u001b[0m",
      "\u001b[0;31mCalledProcessError\u001b[0m                        Traceback (most recent call last)",
      "\u001b[0;32m<ipython-input-5-2ec00319581d>\u001b[0m in \u001b[0;36m<module>\u001b[0;34m\u001b[0m\n\u001b[0;32m----> 1\u001b[0;31m \u001b[0mget_ipython\u001b[0m\u001b[0;34m(\u001b[0m\u001b[0;34m)\u001b[0m\u001b[0;34m.\u001b[0m\u001b[0mrun_cell_magic\u001b[0m\u001b[0;34m(\u001b[0m\u001b[0;34m'bash'\u001b[0m\u001b[0;34m,\u001b[0m \u001b[0;34m''\u001b[0m\u001b[0;34m,\u001b[0m \u001b[0;34m'../../../../circos-0.69-6/bin/circos -conf circos.conf\\n'\u001b[0m\u001b[0;34m)\u001b[0m\u001b[0;34m\u001b[0m\u001b[0;34m\u001b[0m\u001b[0m\n\u001b[0m",
      "\u001b[0;32m/srv/conda/lib/python3.7/site-packages/IPython/core/interactiveshell.py\u001b[0m in \u001b[0;36mrun_cell_magic\u001b[0;34m(self, magic_name, line, cell)\u001b[0m\n\u001b[1;32m   2350\u001b[0m             \u001b[0;32mwith\u001b[0m \u001b[0mself\u001b[0m\u001b[0;34m.\u001b[0m\u001b[0mbuiltin_trap\u001b[0m\u001b[0;34m:\u001b[0m\u001b[0;34m\u001b[0m\u001b[0;34m\u001b[0m\u001b[0m\n\u001b[1;32m   2351\u001b[0m                 \u001b[0margs\u001b[0m \u001b[0;34m=\u001b[0m \u001b[0;34m(\u001b[0m\u001b[0mmagic_arg_s\u001b[0m\u001b[0;34m,\u001b[0m \u001b[0mcell\u001b[0m\u001b[0;34m)\u001b[0m\u001b[0;34m\u001b[0m\u001b[0;34m\u001b[0m\u001b[0m\n\u001b[0;32m-> 2352\u001b[0;31m                 \u001b[0mresult\u001b[0m \u001b[0;34m=\u001b[0m \u001b[0mfn\u001b[0m\u001b[0;34m(\u001b[0m\u001b[0;34m*\u001b[0m\u001b[0margs\u001b[0m\u001b[0;34m,\u001b[0m \u001b[0;34m**\u001b[0m\u001b[0mkwargs\u001b[0m\u001b[0;34m)\u001b[0m\u001b[0;34m\u001b[0m\u001b[0;34m\u001b[0m\u001b[0m\n\u001b[0m\u001b[1;32m   2353\u001b[0m             \u001b[0;32mreturn\u001b[0m \u001b[0mresult\u001b[0m\u001b[0;34m\u001b[0m\u001b[0;34m\u001b[0m\u001b[0m\n\u001b[1;32m   2354\u001b[0m \u001b[0;34m\u001b[0m\u001b[0m\n",
      "\u001b[0;32m/srv/conda/lib/python3.7/site-packages/IPython/core/magics/script.py\u001b[0m in \u001b[0;36mnamed_script_magic\u001b[0;34m(line, cell)\u001b[0m\n\u001b[1;32m    140\u001b[0m             \u001b[0;32melse\u001b[0m\u001b[0;34m:\u001b[0m\u001b[0;34m\u001b[0m\u001b[0;34m\u001b[0m\u001b[0m\n\u001b[1;32m    141\u001b[0m                 \u001b[0mline\u001b[0m \u001b[0;34m=\u001b[0m \u001b[0mscript\u001b[0m\u001b[0;34m\u001b[0m\u001b[0;34m\u001b[0m\u001b[0m\n\u001b[0;32m--> 142\u001b[0;31m             \u001b[0;32mreturn\u001b[0m \u001b[0mself\u001b[0m\u001b[0;34m.\u001b[0m\u001b[0mshebang\u001b[0m\u001b[0;34m(\u001b[0m\u001b[0mline\u001b[0m\u001b[0;34m,\u001b[0m \u001b[0mcell\u001b[0m\u001b[0;34m)\u001b[0m\u001b[0;34m\u001b[0m\u001b[0;34m\u001b[0m\u001b[0m\n\u001b[0m\u001b[1;32m    143\u001b[0m \u001b[0;34m\u001b[0m\u001b[0m\n\u001b[1;32m    144\u001b[0m         \u001b[0;31m# write a basic docstring:\u001b[0m\u001b[0;34m\u001b[0m\u001b[0;34m\u001b[0m\u001b[0;34m\u001b[0m\u001b[0m\n",
      "\u001b[0;32m</srv/conda/lib/python3.7/site-packages/decorator.py:decorator-gen-110>\u001b[0m in \u001b[0;36mshebang\u001b[0;34m(self, line, cell)\u001b[0m\n",
      "\u001b[0;32m/srv/conda/lib/python3.7/site-packages/IPython/core/magic.py\u001b[0m in \u001b[0;36m<lambda>\u001b[0;34m(f, *a, **k)\u001b[0m\n\u001b[1;32m    185\u001b[0m     \u001b[0;31m# but it's overkill for just that one bit of state.\u001b[0m\u001b[0;34m\u001b[0m\u001b[0;34m\u001b[0m\u001b[0;34m\u001b[0m\u001b[0m\n\u001b[1;32m    186\u001b[0m     \u001b[0;32mdef\u001b[0m \u001b[0mmagic_deco\u001b[0m\u001b[0;34m(\u001b[0m\u001b[0marg\u001b[0m\u001b[0;34m)\u001b[0m\u001b[0;34m:\u001b[0m\u001b[0;34m\u001b[0m\u001b[0;34m\u001b[0m\u001b[0m\n\u001b[0;32m--> 187\u001b[0;31m         \u001b[0mcall\u001b[0m \u001b[0;34m=\u001b[0m \u001b[0;32mlambda\u001b[0m \u001b[0mf\u001b[0m\u001b[0;34m,\u001b[0m \u001b[0;34m*\u001b[0m\u001b[0ma\u001b[0m\u001b[0;34m,\u001b[0m \u001b[0;34m**\u001b[0m\u001b[0mk\u001b[0m\u001b[0;34m:\u001b[0m \u001b[0mf\u001b[0m\u001b[0;34m(\u001b[0m\u001b[0;34m*\u001b[0m\u001b[0ma\u001b[0m\u001b[0;34m,\u001b[0m \u001b[0;34m**\u001b[0m\u001b[0mk\u001b[0m\u001b[0;34m)\u001b[0m\u001b[0;34m\u001b[0m\u001b[0;34m\u001b[0m\u001b[0m\n\u001b[0m\u001b[1;32m    188\u001b[0m \u001b[0;34m\u001b[0m\u001b[0m\n\u001b[1;32m    189\u001b[0m         \u001b[0;32mif\u001b[0m \u001b[0mcallable\u001b[0m\u001b[0;34m(\u001b[0m\u001b[0marg\u001b[0m\u001b[0;34m)\u001b[0m\u001b[0;34m:\u001b[0m\u001b[0;34m\u001b[0m\u001b[0;34m\u001b[0m\u001b[0m\n",
      "\u001b[0;32m/srv/conda/lib/python3.7/site-packages/IPython/core/magics/script.py\u001b[0m in \u001b[0;36mshebang\u001b[0;34m(self, line, cell)\u001b[0m\n\u001b[1;32m    243\u001b[0m             \u001b[0msys\u001b[0m\u001b[0;34m.\u001b[0m\u001b[0mstderr\u001b[0m\u001b[0;34m.\u001b[0m\u001b[0mflush\u001b[0m\u001b[0;34m(\u001b[0m\u001b[0;34m)\u001b[0m\u001b[0;34m\u001b[0m\u001b[0;34m\u001b[0m\u001b[0m\n\u001b[1;32m    244\u001b[0m         \u001b[0;32mif\u001b[0m \u001b[0margs\u001b[0m\u001b[0;34m.\u001b[0m\u001b[0mraise_error\u001b[0m \u001b[0;32mand\u001b[0m \u001b[0mp\u001b[0m\u001b[0;34m.\u001b[0m\u001b[0mreturncode\u001b[0m\u001b[0;34m!=\u001b[0m\u001b[0;36m0\u001b[0m\u001b[0;34m:\u001b[0m\u001b[0;34m\u001b[0m\u001b[0;34m\u001b[0m\u001b[0m\n\u001b[0;32m--> 245\u001b[0;31m             \u001b[0;32mraise\u001b[0m \u001b[0mCalledProcessError\u001b[0m\u001b[0;34m(\u001b[0m\u001b[0mp\u001b[0m\u001b[0;34m.\u001b[0m\u001b[0mreturncode\u001b[0m\u001b[0;34m,\u001b[0m \u001b[0mcell\u001b[0m\u001b[0;34m,\u001b[0m \u001b[0moutput\u001b[0m\u001b[0;34m=\u001b[0m\u001b[0mout\u001b[0m\u001b[0;34m,\u001b[0m \u001b[0mstderr\u001b[0m\u001b[0;34m=\u001b[0m\u001b[0merr\u001b[0m\u001b[0;34m)\u001b[0m\u001b[0;34m\u001b[0m\u001b[0;34m\u001b[0m\u001b[0m\n\u001b[0m\u001b[1;32m    246\u001b[0m \u001b[0;34m\u001b[0m\u001b[0m\n\u001b[1;32m    247\u001b[0m     \u001b[0;32mdef\u001b[0m \u001b[0m_run_script\u001b[0m\u001b[0;34m(\u001b[0m\u001b[0mself\u001b[0m\u001b[0;34m,\u001b[0m \u001b[0mp\u001b[0m\u001b[0;34m,\u001b[0m \u001b[0mcell\u001b[0m\u001b[0;34m,\u001b[0m \u001b[0mto_close\u001b[0m\u001b[0;34m)\u001b[0m\u001b[0;34m:\u001b[0m\u001b[0;34m\u001b[0m\u001b[0;34m\u001b[0m\u001b[0m\n",
      "\u001b[0;31mCalledProcessError\u001b[0m: Command 'b'../../../../circos-0.69-6/bin/circos -conf circos.conf\\n'' returned non-zero exit status 255."
     ]
    }
   ],
   "source": [
    "%%bash\n",
    "../../../../circos-0.69-6/bin/circos -conf circos.conf"
   ]
  },
  {
   "cell_type": "markdown",
   "metadata": {
    "papermill": {
     "duration": null,
     "end_time": null,
     "exception": null,
     "start_time": null,
     "status": "pending"
    },
    "tags": []
   },
   "source": [
    "View the plot in this page using the following cell."
   ]
  },
  {
   "cell_type": "code",
   "execution_count": null,
   "metadata": {
    "papermill": {
     "duration": null,
     "end_time": null,
     "exception": null,
     "start_time": null,
     "status": "pending"
    },
    "tags": []
   },
   "outputs": [],
   "source": [
    "from IPython.display import Image\n",
    "Image(\"circos.png\")"
   ]
  },
  {
   "cell_type": "markdown",
   "metadata": {
    "papermill": {
     "duration": null,
     "end_time": null,
     "exception": null,
     "start_time": null,
     "status": "pending"
    },
    "tags": []
   },
   "source": [
    "----"
   ]
  },
  {
   "cell_type": "code",
   "execution_count": null,
   "metadata": {
    "papermill": {
     "duration": null,
     "end_time": null,
     "exception": null,
     "start_time": null,
     "status": "pending"
    },
    "tags": []
   },
   "outputs": [],
   "source": [
    "next_md = (\"Continue on to the next part of the Quick Start series by clicking [here &#10145;]({})</font>.\".format(next_nb))\n",
    "if end_nb:\n",
    "    next_md = (\"End of tutorials.\")\n",
    "#printmd(next_md)\n",
    "print(next_md) #use this because want to be able to edit the markdown and rendering it with `printmd` diables that"
   ]
  },
  {
   "cell_type": "markdown",
   "metadata": {
    "papermill": {
     "duration": null,
     "end_time": null,
     "exception": null,
     "start_time": null,
     "status": "pending"
    },
    "tags": []
   },
   "source": [
    "----"
   ]
  }
 ],
 "metadata": {
  "celltoolbar": "Tags",
  "kernelspec": {
   "display_name": "Python 3",
   "language": "python",
   "name": "python3"
  },
  "language_info": {
   "codemirror_mode": {
    "name": "ipython",
    "version": 3
   },
   "file_extension": ".py",
   "mimetype": "text/x-python",
   "name": "python",
   "nbconvert_exporter": "python",
   "pygments_lexer": "ipython3",
   "version": "3.7.2"
  },
  "papermill": {
   "duration": 5.688792,
   "end_time": "2019-04-09T17:51:47.346439",
   "environment_variables": {},
   "exception": true,
   "input_path": "Papermill Template for Circos later tutorial notebooks.ipynb",
   "output_path": "Recipes_Part4.ipynb",
   "parameters": {
    "end_nb": false,
    "markdown": "\n# Part 4 of Recipes: Image Maps\n\nThis page is primarily based on the following page at the Circos documentation site:\n\n\n\n- [4. Image Maps](????????????)\n\n\n\nThat page is found as part number 4 of the ??? part ['Recipes' section](http://circos.ca/documentation/tutorials/quick_start/) of [the larger set of Circos tutorials](http://circos.ca/documentation/tutorials/).\n\n\n\nGo back to Part 3 by clicking [here &#8592;](Recipes_Part3.ipynb).\n\n\n\n----\n\n\n\n8 --- Recipes\n=============\n\n4. Image Maps\n-------------\n\nHTML image maps are now fully implemented and described in [Tutorial\n10](?tutorials&id=10).\n\n",
    "next_nb": "Recipes_Part5.ipynb",
    "section": 8,
    "sub_pg": 4
   },
   "start_time": "2019-04-09T17:51:41.657647",
   "version": "0.19.1"
  }
 },
 "nbformat": 4,
 "nbformat_minor": 2
}